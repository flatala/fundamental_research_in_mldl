{
 "cells": [
  {
   "cell_type": "code",
   "execution_count": 1,
   "id": "803dfc49",
   "metadata": {},
   "outputs": [],
   "source": [
    "import torch, torchvision\n",
    "from torchvision.transforms import functional as TF\n",
    "from PIL import Image\n",
    "import numpy as np\n",
    "import cv2, os\n",
    "from pathlib import Path\n",
    "from tqdm import tqdm\n",
    "import shutil, itertools\n",
    "\n",
    "device = \"cuda\" if torch.cuda.is_available() else \"cpu\""
   ]
  },
  {
   "cell_type": "markdown",
   "id": "7d1db543-bd39-404c-b277-8c2fb0a2b3ba",
   "metadata": {
    "jp-MarkdownHeadingCollapsed": true
   },
   "source": [
    "## Human Masking Images"
   ]
  },
  {
   "cell_type": "code",
   "execution_count": 2,
   "id": "6d64fa52",
   "metadata": {},
   "outputs": [
    {
     "name": "stderr",
     "output_type": "stream",
     "text": [
      "Downloading: \"https://download.pytorch.org/models/maskrcnn_resnet50_fpn_coco-bf2d0c1e.pth\" to /root/.cache/torch/hub/checkpoints/maskrcnn_resnet50_fpn_coco-bf2d0c1e.pth\n"
     ]
    },
    {
     "data": {
      "application/vnd.jupyter.widget-view+json": {
       "model_id": "8ff97ffa0b14407abd9f49a0e96eac07",
       "version_major": 2,
       "version_minor": 0
      },
      "text/plain": [
       "  0%|          | 0.00/170M [00:00<?, ?B/s]"
      ]
     },
     "metadata": {},
     "output_type": "display_data"
    },
    {
     "data": {
      "text/plain": [
       "MaskRCNN(\n",
       "  (transform): GeneralizedRCNNTransform(\n",
       "      Normalize(mean=[0.485, 0.456, 0.406], std=[0.229, 0.224, 0.225])\n",
       "      Resize(min_size=(800,), max_size=1333, mode='bilinear')\n",
       "  )\n",
       "  (backbone): BackboneWithFPN(\n",
       "    (body): IntermediateLayerGetter(\n",
       "      (conv1): Conv2d(3, 64, kernel_size=(7, 7), stride=(2, 2), padding=(3, 3), bias=False)\n",
       "      (bn1): FrozenBatchNorm2d(64, eps=0.0)\n",
       "      (relu): ReLU(inplace=True)\n",
       "      (maxpool): MaxPool2d(kernel_size=3, stride=2, padding=1, dilation=1, ceil_mode=False)\n",
       "      (layer1): Sequential(\n",
       "        (0): Bottleneck(\n",
       "          (conv1): Conv2d(64, 64, kernel_size=(1, 1), stride=(1, 1), bias=False)\n",
       "          (bn1): FrozenBatchNorm2d(64, eps=0.0)\n",
       "          (conv2): Conv2d(64, 64, kernel_size=(3, 3), stride=(1, 1), padding=(1, 1), bias=False)\n",
       "          (bn2): FrozenBatchNorm2d(64, eps=0.0)\n",
       "          (conv3): Conv2d(64, 256, kernel_size=(1, 1), stride=(1, 1), bias=False)\n",
       "          (bn3): FrozenBatchNorm2d(256, eps=0.0)\n",
       "          (relu): ReLU(inplace=True)\n",
       "          (downsample): Sequential(\n",
       "            (0): Conv2d(64, 256, kernel_size=(1, 1), stride=(1, 1), bias=False)\n",
       "            (1): FrozenBatchNorm2d(256, eps=0.0)\n",
       "          )\n",
       "        )\n",
       "        (1): Bottleneck(\n",
       "          (conv1): Conv2d(256, 64, kernel_size=(1, 1), stride=(1, 1), bias=False)\n",
       "          (bn1): FrozenBatchNorm2d(64, eps=0.0)\n",
       "          (conv2): Conv2d(64, 64, kernel_size=(3, 3), stride=(1, 1), padding=(1, 1), bias=False)\n",
       "          (bn2): FrozenBatchNorm2d(64, eps=0.0)\n",
       "          (conv3): Conv2d(64, 256, kernel_size=(1, 1), stride=(1, 1), bias=False)\n",
       "          (bn3): FrozenBatchNorm2d(256, eps=0.0)\n",
       "          (relu): ReLU(inplace=True)\n",
       "        )\n",
       "        (2): Bottleneck(\n",
       "          (conv1): Conv2d(256, 64, kernel_size=(1, 1), stride=(1, 1), bias=False)\n",
       "          (bn1): FrozenBatchNorm2d(64, eps=0.0)\n",
       "          (conv2): Conv2d(64, 64, kernel_size=(3, 3), stride=(1, 1), padding=(1, 1), bias=False)\n",
       "          (bn2): FrozenBatchNorm2d(64, eps=0.0)\n",
       "          (conv3): Conv2d(64, 256, kernel_size=(1, 1), stride=(1, 1), bias=False)\n",
       "          (bn3): FrozenBatchNorm2d(256, eps=0.0)\n",
       "          (relu): ReLU(inplace=True)\n",
       "        )\n",
       "      )\n",
       "      (layer2): Sequential(\n",
       "        (0): Bottleneck(\n",
       "          (conv1): Conv2d(256, 128, kernel_size=(1, 1), stride=(1, 1), bias=False)\n",
       "          (bn1): FrozenBatchNorm2d(128, eps=0.0)\n",
       "          (conv2): Conv2d(128, 128, kernel_size=(3, 3), stride=(2, 2), padding=(1, 1), bias=False)\n",
       "          (bn2): FrozenBatchNorm2d(128, eps=0.0)\n",
       "          (conv3): Conv2d(128, 512, kernel_size=(1, 1), stride=(1, 1), bias=False)\n",
       "          (bn3): FrozenBatchNorm2d(512, eps=0.0)\n",
       "          (relu): ReLU(inplace=True)\n",
       "          (downsample): Sequential(\n",
       "            (0): Conv2d(256, 512, kernel_size=(1, 1), stride=(2, 2), bias=False)\n",
       "            (1): FrozenBatchNorm2d(512, eps=0.0)\n",
       "          )\n",
       "        )\n",
       "        (1): Bottleneck(\n",
       "          (conv1): Conv2d(512, 128, kernel_size=(1, 1), stride=(1, 1), bias=False)\n",
       "          (bn1): FrozenBatchNorm2d(128, eps=0.0)\n",
       "          (conv2): Conv2d(128, 128, kernel_size=(3, 3), stride=(1, 1), padding=(1, 1), bias=False)\n",
       "          (bn2): FrozenBatchNorm2d(128, eps=0.0)\n",
       "          (conv3): Conv2d(128, 512, kernel_size=(1, 1), stride=(1, 1), bias=False)\n",
       "          (bn3): FrozenBatchNorm2d(512, eps=0.0)\n",
       "          (relu): ReLU(inplace=True)\n",
       "        )\n",
       "        (2): Bottleneck(\n",
       "          (conv1): Conv2d(512, 128, kernel_size=(1, 1), stride=(1, 1), bias=False)\n",
       "          (bn1): FrozenBatchNorm2d(128, eps=0.0)\n",
       "          (conv2): Conv2d(128, 128, kernel_size=(3, 3), stride=(1, 1), padding=(1, 1), bias=False)\n",
       "          (bn2): FrozenBatchNorm2d(128, eps=0.0)\n",
       "          (conv3): Conv2d(128, 512, kernel_size=(1, 1), stride=(1, 1), bias=False)\n",
       "          (bn3): FrozenBatchNorm2d(512, eps=0.0)\n",
       "          (relu): ReLU(inplace=True)\n",
       "        )\n",
       "        (3): Bottleneck(\n",
       "          (conv1): Conv2d(512, 128, kernel_size=(1, 1), stride=(1, 1), bias=False)\n",
       "          (bn1): FrozenBatchNorm2d(128, eps=0.0)\n",
       "          (conv2): Conv2d(128, 128, kernel_size=(3, 3), stride=(1, 1), padding=(1, 1), bias=False)\n",
       "          (bn2): FrozenBatchNorm2d(128, eps=0.0)\n",
       "          (conv3): Conv2d(128, 512, kernel_size=(1, 1), stride=(1, 1), bias=False)\n",
       "          (bn3): FrozenBatchNorm2d(512, eps=0.0)\n",
       "          (relu): ReLU(inplace=True)\n",
       "        )\n",
       "      )\n",
       "      (layer3): Sequential(\n",
       "        (0): Bottleneck(\n",
       "          (conv1): Conv2d(512, 256, kernel_size=(1, 1), stride=(1, 1), bias=False)\n",
       "          (bn1): FrozenBatchNorm2d(256, eps=0.0)\n",
       "          (conv2): Conv2d(256, 256, kernel_size=(3, 3), stride=(2, 2), padding=(1, 1), bias=False)\n",
       "          (bn2): FrozenBatchNorm2d(256, eps=0.0)\n",
       "          (conv3): Conv2d(256, 1024, kernel_size=(1, 1), stride=(1, 1), bias=False)\n",
       "          (bn3): FrozenBatchNorm2d(1024, eps=0.0)\n",
       "          (relu): ReLU(inplace=True)\n",
       "          (downsample): Sequential(\n",
       "            (0): Conv2d(512, 1024, kernel_size=(1, 1), stride=(2, 2), bias=False)\n",
       "            (1): FrozenBatchNorm2d(1024, eps=0.0)\n",
       "          )\n",
       "        )\n",
       "        (1): Bottleneck(\n",
       "          (conv1): Conv2d(1024, 256, kernel_size=(1, 1), stride=(1, 1), bias=False)\n",
       "          (bn1): FrozenBatchNorm2d(256, eps=0.0)\n",
       "          (conv2): Conv2d(256, 256, kernel_size=(3, 3), stride=(1, 1), padding=(1, 1), bias=False)\n",
       "          (bn2): FrozenBatchNorm2d(256, eps=0.0)\n",
       "          (conv3): Conv2d(256, 1024, kernel_size=(1, 1), stride=(1, 1), bias=False)\n",
       "          (bn3): FrozenBatchNorm2d(1024, eps=0.0)\n",
       "          (relu): ReLU(inplace=True)\n",
       "        )\n",
       "        (2): Bottleneck(\n",
       "          (conv1): Conv2d(1024, 256, kernel_size=(1, 1), stride=(1, 1), bias=False)\n",
       "          (bn1): FrozenBatchNorm2d(256, eps=0.0)\n",
       "          (conv2): Conv2d(256, 256, kernel_size=(3, 3), stride=(1, 1), padding=(1, 1), bias=False)\n",
       "          (bn2): FrozenBatchNorm2d(256, eps=0.0)\n",
       "          (conv3): Conv2d(256, 1024, kernel_size=(1, 1), stride=(1, 1), bias=False)\n",
       "          (bn3): FrozenBatchNorm2d(1024, eps=0.0)\n",
       "          (relu): ReLU(inplace=True)\n",
       "        )\n",
       "        (3): Bottleneck(\n",
       "          (conv1): Conv2d(1024, 256, kernel_size=(1, 1), stride=(1, 1), bias=False)\n",
       "          (bn1): FrozenBatchNorm2d(256, eps=0.0)\n",
       "          (conv2): Conv2d(256, 256, kernel_size=(3, 3), stride=(1, 1), padding=(1, 1), bias=False)\n",
       "          (bn2): FrozenBatchNorm2d(256, eps=0.0)\n",
       "          (conv3): Conv2d(256, 1024, kernel_size=(1, 1), stride=(1, 1), bias=False)\n",
       "          (bn3): FrozenBatchNorm2d(1024, eps=0.0)\n",
       "          (relu): ReLU(inplace=True)\n",
       "        )\n",
       "        (4): Bottleneck(\n",
       "          (conv1): Conv2d(1024, 256, kernel_size=(1, 1), stride=(1, 1), bias=False)\n",
       "          (bn1): FrozenBatchNorm2d(256, eps=0.0)\n",
       "          (conv2): Conv2d(256, 256, kernel_size=(3, 3), stride=(1, 1), padding=(1, 1), bias=False)\n",
       "          (bn2): FrozenBatchNorm2d(256, eps=0.0)\n",
       "          (conv3): Conv2d(256, 1024, kernel_size=(1, 1), stride=(1, 1), bias=False)\n",
       "          (bn3): FrozenBatchNorm2d(1024, eps=0.0)\n",
       "          (relu): ReLU(inplace=True)\n",
       "        )\n",
       "        (5): Bottleneck(\n",
       "          (conv1): Conv2d(1024, 256, kernel_size=(1, 1), stride=(1, 1), bias=False)\n",
       "          (bn1): FrozenBatchNorm2d(256, eps=0.0)\n",
       "          (conv2): Conv2d(256, 256, kernel_size=(3, 3), stride=(1, 1), padding=(1, 1), bias=False)\n",
       "          (bn2): FrozenBatchNorm2d(256, eps=0.0)\n",
       "          (conv3): Conv2d(256, 1024, kernel_size=(1, 1), stride=(1, 1), bias=False)\n",
       "          (bn3): FrozenBatchNorm2d(1024, eps=0.0)\n",
       "          (relu): ReLU(inplace=True)\n",
       "        )\n",
       "      )\n",
       "      (layer4): Sequential(\n",
       "        (0): Bottleneck(\n",
       "          (conv1): Conv2d(1024, 512, kernel_size=(1, 1), stride=(1, 1), bias=False)\n",
       "          (bn1): FrozenBatchNorm2d(512, eps=0.0)\n",
       "          (conv2): Conv2d(512, 512, kernel_size=(3, 3), stride=(2, 2), padding=(1, 1), bias=False)\n",
       "          (bn2): FrozenBatchNorm2d(512, eps=0.0)\n",
       "          (conv3): Conv2d(512, 2048, kernel_size=(1, 1), stride=(1, 1), bias=False)\n",
       "          (bn3): FrozenBatchNorm2d(2048, eps=0.0)\n",
       "          (relu): ReLU(inplace=True)\n",
       "          (downsample): Sequential(\n",
       "            (0): Conv2d(1024, 2048, kernel_size=(1, 1), stride=(2, 2), bias=False)\n",
       "            (1): FrozenBatchNorm2d(2048, eps=0.0)\n",
       "          )\n",
       "        )\n",
       "        (1): Bottleneck(\n",
       "          (conv1): Conv2d(2048, 512, kernel_size=(1, 1), stride=(1, 1), bias=False)\n",
       "          (bn1): FrozenBatchNorm2d(512, eps=0.0)\n",
       "          (conv2): Conv2d(512, 512, kernel_size=(3, 3), stride=(1, 1), padding=(1, 1), bias=False)\n",
       "          (bn2): FrozenBatchNorm2d(512, eps=0.0)\n",
       "          (conv3): Conv2d(512, 2048, kernel_size=(1, 1), stride=(1, 1), bias=False)\n",
       "          (bn3): FrozenBatchNorm2d(2048, eps=0.0)\n",
       "          (relu): ReLU(inplace=True)\n",
       "        )\n",
       "        (2): Bottleneck(\n",
       "          (conv1): Conv2d(2048, 512, kernel_size=(1, 1), stride=(1, 1), bias=False)\n",
       "          (bn1): FrozenBatchNorm2d(512, eps=0.0)\n",
       "          (conv2): Conv2d(512, 512, kernel_size=(3, 3), stride=(1, 1), padding=(1, 1), bias=False)\n",
       "          (bn2): FrozenBatchNorm2d(512, eps=0.0)\n",
       "          (conv3): Conv2d(512, 2048, kernel_size=(1, 1), stride=(1, 1), bias=False)\n",
       "          (bn3): FrozenBatchNorm2d(2048, eps=0.0)\n",
       "          (relu): ReLU(inplace=True)\n",
       "        )\n",
       "      )\n",
       "    )\n",
       "    (fpn): FeaturePyramidNetwork(\n",
       "      (inner_blocks): ModuleList(\n",
       "        (0): Conv2dNormActivation(\n",
       "          (0): Conv2d(256, 256, kernel_size=(1, 1), stride=(1, 1))\n",
       "        )\n",
       "        (1): Conv2dNormActivation(\n",
       "          (0): Conv2d(512, 256, kernel_size=(1, 1), stride=(1, 1))\n",
       "        )\n",
       "        (2): Conv2dNormActivation(\n",
       "          (0): Conv2d(1024, 256, kernel_size=(1, 1), stride=(1, 1))\n",
       "        )\n",
       "        (3): Conv2dNormActivation(\n",
       "          (0): Conv2d(2048, 256, kernel_size=(1, 1), stride=(1, 1))\n",
       "        )\n",
       "      )\n",
       "      (layer_blocks): ModuleList(\n",
       "        (0): Conv2dNormActivation(\n",
       "          (0): Conv2d(256, 256, kernel_size=(3, 3), stride=(1, 1), padding=(1, 1))\n",
       "        )\n",
       "        (1): Conv2dNormActivation(\n",
       "          (0): Conv2d(256, 256, kernel_size=(3, 3), stride=(1, 1), padding=(1, 1))\n",
       "        )\n",
       "        (2): Conv2dNormActivation(\n",
       "          (0): Conv2d(256, 256, kernel_size=(3, 3), stride=(1, 1), padding=(1, 1))\n",
       "        )\n",
       "        (3): Conv2dNormActivation(\n",
       "          (0): Conv2d(256, 256, kernel_size=(3, 3), stride=(1, 1), padding=(1, 1))\n",
       "        )\n",
       "      )\n",
       "      (extra_blocks): LastLevelMaxPool()\n",
       "    )\n",
       "  )\n",
       "  (rpn): RegionProposalNetwork(\n",
       "    (anchor_generator): AnchorGenerator()\n",
       "    (head): RPNHead(\n",
       "      (conv): Sequential(\n",
       "        (0): Conv2dNormActivation(\n",
       "          (0): Conv2d(256, 256, kernel_size=(3, 3), stride=(1, 1), padding=(1, 1))\n",
       "          (1): ReLU(inplace=True)\n",
       "        )\n",
       "      )\n",
       "      (cls_logits): Conv2d(256, 3, kernel_size=(1, 1), stride=(1, 1))\n",
       "      (bbox_pred): Conv2d(256, 12, kernel_size=(1, 1), stride=(1, 1))\n",
       "    )\n",
       "  )\n",
       "  (roi_heads): RoIHeads(\n",
       "    (box_roi_pool): MultiScaleRoIAlign(featmap_names=['0', '1', '2', '3'], output_size=(7, 7), sampling_ratio=2)\n",
       "    (box_head): TwoMLPHead(\n",
       "      (fc6): Linear(in_features=12544, out_features=1024, bias=True)\n",
       "      (fc7): Linear(in_features=1024, out_features=1024, bias=True)\n",
       "    )\n",
       "    (box_predictor): FastRCNNPredictor(\n",
       "      (cls_score): Linear(in_features=1024, out_features=91, bias=True)\n",
       "      (bbox_pred): Linear(in_features=1024, out_features=364, bias=True)\n",
       "    )\n",
       "    (mask_roi_pool): MultiScaleRoIAlign(featmap_names=['0', '1', '2', '3'], output_size=(14, 14), sampling_ratio=2)\n",
       "    (mask_head): MaskRCNNHeads(\n",
       "      (0): Conv2dNormActivation(\n",
       "        (0): Conv2d(256, 256, kernel_size=(3, 3), stride=(1, 1), padding=(1, 1))\n",
       "        (1): ReLU(inplace=True)\n",
       "      )\n",
       "      (1): Conv2dNormActivation(\n",
       "        (0): Conv2d(256, 256, kernel_size=(3, 3), stride=(1, 1), padding=(1, 1))\n",
       "        (1): ReLU(inplace=True)\n",
       "      )\n",
       "      (2): Conv2dNormActivation(\n",
       "        (0): Conv2d(256, 256, kernel_size=(3, 3), stride=(1, 1), padding=(1, 1))\n",
       "        (1): ReLU(inplace=True)\n",
       "      )\n",
       "      (3): Conv2dNormActivation(\n",
       "        (0): Conv2d(256, 256, kernel_size=(3, 3), stride=(1, 1), padding=(1, 1))\n",
       "        (1): ReLU(inplace=True)\n",
       "      )\n",
       "    )\n",
       "    (mask_predictor): MaskRCNNPredictor(\n",
       "      (conv5_mask): ConvTranspose2d(256, 256, kernel_size=(2, 2), stride=(2, 2))\n",
       "      (relu): ReLU(inplace=True)\n",
       "      (mask_fcn_logits): Conv2d(256, 91, kernel_size=(1, 1), stride=(1, 1))\n",
       "    )\n",
       "  )\n",
       ")"
      ]
     },
     "execution_count": 2,
     "metadata": {},
     "output_type": "execute_result"
    }
   ],
   "source": [
    "# Load COCO-pre-trained Mask R-CNN\n",
    "model = torchvision.models.detection.maskrcnn_resnet50_fpn(weights=\"DEFAULT\")\n",
    "model.to(device).eval()"
   ]
  },
  {
   "cell_type": "code",
   "execution_count": 3,
   "id": "ddfe582d",
   "metadata": {},
   "outputs": [],
   "source": [
    "@torch.inference_mode()\n",
    "def mask_humans_pil(\n",
    "    img: Image.Image,\n",
    "    score_thresh: float = 0.5,\n",
    "    fill_mode: str = \"mean\",   # \"mean\" | \"black\" | \"gray\"\n",
    "):\n",
    "    \"\"\"\n",
    "    Return a copy of `img` where every pixel inside a detected person\n",
    "    is replaced by the frame average (paper-style) or a solid colour.\n",
    "    \"\"\"\n",
    "    tensor = TF.to_tensor(img).to(device).unsqueeze(0)        # 1×3×H×W\n",
    "    out = model(tensor)[0]                                    # dict\n",
    "\n",
    "    keep = (out[\"labels\"] == 1) & (out[\"scores\"] > score_thresh)\n",
    "    if keep.sum() == 0:\n",
    "        return img.copy()                                     # no humans\n",
    "\n",
    "    # Union of all person masks\n",
    "    masks = (out[\"masks\"][keep, 0].sigmoid() > 0.5).any(0)    # H×W bool\n",
    "    mask_np = masks.cpu().numpy()\n",
    "\n",
    "    arr = np.array(img)\n",
    "    if fill_mode == \"mean\":\n",
    "        fill_value = arr.mean(axis=(0, 1), keepdims=True).astype(arr.dtype)\n",
    "    elif fill_mode == \"gray\":\n",
    "        fill_value = np.array([127, 127, 127], dtype=arr.dtype)\n",
    "    else:  # \"black\"\n",
    "        fill_value = 0\n",
    "    arr[mask_np] = fill_value\n",
    "    return Image.fromarray(arr)\n"
   ]
  },
  {
   "cell_type": "code",
   "execution_count": 38,
   "id": "d177b14b",
   "metadata": {},
   "outputs": [],
   "source": [
    "from itertools import islice\n",
    "\n",
    "def chunks(iterable, n):\n",
    "    \"Yield successive n-sized lists from iterable\"\n",
    "    it = iter(iterable)\n",
    "    while True:\n",
    "        batch = list(islice(it, n))\n",
    "        if not batch:\n",
    "            break\n",
    "        yield batch\n",
    "\n",
    "def mask_folder_batch(\n",
    "    in_root: str | Path,\n",
    "    out_root: str | Path,\n",
    "    *,\n",
    "    ext=\".jpg\",\n",
    "    score_thresh=0.5,\n",
    "    batch_size=4,\n",
    "    recursive=True,\n",
    "    clear_out=True,\n",
    "    fill_mode=\"mean\",           # mean / black / gray\n",
    "):\n",
    "    \"\"\"\n",
    "    Same API as mask_folder, but runs Mask R-CNN on <batch_size> frames\n",
    "    at once for higher throughput.\n",
    "    \"\"\"\n",
    "    in_root, out_root = Path(in_root), Path(out_root)\n",
    "    if clear_out and out_root.exists():\n",
    "        shutil.rmtree(out_root)\n",
    "\n",
    "    pattern = f\"**/*{ext}\" if recursive else f\"*{ext}\"\n",
    "    files = sorted(in_root.glob(pattern))\n",
    "    print(f\"{len(files)} frame(s) found → processing in batches of {batch_size}\")\n",
    "\n",
    "    for batch_paths in tqdm(list(chunks(files, batch_size))):\n",
    "        # -------- 1. load & stack tensors ------------------------------------\n",
    "        imgs_pil   = [Image.open(p).convert(\"RGB\") for p in batch_paths]\n",
    "        tensors    = [TF.to_tensor(im) for im in imgs_pil]\n",
    "        tensor_cat = torch.stack(tensors).to(device)          # B×3×H×W\n",
    "\n",
    "        # -------- 2. forward pass -------------------------------------------\n",
    "        with torch.inference_mode():\n",
    "            outs = model(tensor_cat)\n",
    "\n",
    "        # -------- 3. post-process each frame in the batch -------------------\n",
    "        for src_path, img, out in zip(batch_paths, imgs_pil, outs):\n",
    "            keep = (out[\"labels\"] == 1) & (out[\"scores\"] > score_thresh)\n",
    "            if keep.sum() == 0:\n",
    "                img_masked = img\n",
    "            else:\n",
    "                masks = (out[\"masks\"][keep, 0].sigmoid() > 0.5).any(0).cpu().numpy()\n",
    "                arr = np.array(img)\n",
    "                if fill_mode == \"mean\":\n",
    "                    fill_val = arr.mean(axis=(0, 1), keepdims=True).astype(arr.dtype)\n",
    "                elif fill_mode == \"gray\":\n",
    "                    fill_val = np.array([127, 127, 127], dtype=arr.dtype)\n",
    "                else:  # black\n",
    "                    fill_val = 0\n",
    "                arr[masks] = fill_val\n",
    "                img_masked = Image.fromarray(arr)\n",
    "\n",
    "            dst = out_root / src_path.relative_to(in_root)\n",
    "            dst.parent.mkdir(parents=True, exist_ok=True)\n",
    "            img_masked.save(dst)\n"
   ]
  },
  {
   "cell_type": "code",
   "execution_count": 39,
   "id": "7e0ba2e7-2c2b-47a0-a524-d7c51315b1e4",
   "metadata": {},
   "outputs": [
    {
     "name": "stdout",
     "output_type": "stream",
     "text": [
      "23795 frame(s) found → processing in batches of 8\n"
     ]
    },
    {
     "data": {
      "application/vnd.jupyter.widget-view+json": {
       "model_id": "e3205246a6e24388adb4444300bd313d",
       "version_major": 2,
       "version_minor": 0
      },
      "text/plain": [
       "  0%|          | 0/2975 [00:00<?, ?it/s]"
      ]
     },
     "metadata": {},
     "output_type": "display_data"
    },
    {
     "ename": "KeyboardInterrupt",
     "evalue": "",
     "output_type": "error",
     "traceback": [
      "\u001b[0;31m---------------------------------------------------------------------------\u001b[0m",
      "\u001b[0;31mKeyboardInterrupt\u001b[0m                         Traceback (most recent call last)",
      "Cell \u001b[0;32mIn[39], line 4\u001b[0m\n\u001b[1;32m      1\u001b[0m in_root  \u001b[38;5;241m=\u001b[39m \u001b[38;5;124m\"\u001b[39m\u001b[38;5;124mdatasets/UCF-101-JPG/Archery/\u001b[39m\u001b[38;5;124m\"\u001b[39m            \u001b[38;5;66;03m# e.g. \".../train_frames\"\u001b[39;00m\n\u001b[1;32m      2\u001b[0m out_root \u001b[38;5;241m=\u001b[39m \u001b[38;5;124m\"\u001b[39m\u001b[38;5;124mmasking/\u001b[39m\u001b[38;5;124m\"\u001b[39m          \u001b[38;5;66;03m# e.g. \".../train_frames_masked\"\u001b[39;00m\n\u001b[0;32m----> 4\u001b[0m \u001b[43mmask_folder_batch\u001b[49m\u001b[43m(\u001b[49m\n\u001b[1;32m      5\u001b[0m \u001b[43m    \u001b[49m\u001b[43min_root\u001b[49m\u001b[43m,\u001b[49m\n\u001b[1;32m      6\u001b[0m \u001b[43m    \u001b[49m\u001b[43mout_root\u001b[49m\u001b[43m,\u001b[49m\n\u001b[1;32m      7\u001b[0m \u001b[43m    \u001b[49m\u001b[43mbatch_size\u001b[49m\u001b[43m \u001b[49m\u001b[38;5;241;43m=\u001b[39;49m\u001b[43m \u001b[49m\u001b[38;5;241;43m8\u001b[39;49m\u001b[43m,\u001b[49m\u001b[43m     \u001b[49m\u001b[38;5;66;43;03m# tune for your GPU\u001b[39;49;00m\n\u001b[1;32m      8\u001b[0m \u001b[43m    \u001b[49m\u001b[43mscore_thresh\u001b[49m\u001b[43m \u001b[49m\u001b[38;5;241;43m=\u001b[39;49m\u001b[43m \u001b[49m\u001b[38;5;241;43m0.55\u001b[39;49m\n\u001b[1;32m      9\u001b[0m \u001b[43m)\u001b[49m\n",
      "Cell \u001b[0;32mIn[38], line 43\u001b[0m, in \u001b[0;36mmask_folder_batch\u001b[0;34m(in_root, out_root, ext, score_thresh, batch_size, recursive, clear_out, fill_mode)\u001b[0m\n\u001b[1;32m     41\u001b[0m \u001b[38;5;66;03m# -------- 2. forward pass -------------------------------------------\u001b[39;00m\n\u001b[1;32m     42\u001b[0m \u001b[38;5;28;01mwith\u001b[39;00m torch\u001b[38;5;241m.\u001b[39minference_mode():\n\u001b[0;32m---> 43\u001b[0m     outs \u001b[38;5;241m=\u001b[39m \u001b[43mmodel\u001b[49m\u001b[43m(\u001b[49m\u001b[43mtensor_cat\u001b[49m\u001b[43m)\u001b[49m\n\u001b[1;32m     45\u001b[0m \u001b[38;5;66;03m# -------- 3. post-process each frame in the batch -------------------\u001b[39;00m\n\u001b[1;32m     46\u001b[0m \u001b[38;5;28;01mfor\u001b[39;00m src_path, img, out \u001b[38;5;129;01min\u001b[39;00m \u001b[38;5;28mzip\u001b[39m(batch_paths, imgs_pil, outs):\n",
      "File \u001b[0;32m/opt/conda/lib/python3.10/site-packages/torch/nn/modules/module.py:1194\u001b[0m, in \u001b[0;36mModule._call_impl\u001b[0;34m(self, *input, **kwargs)\u001b[0m\n\u001b[1;32m   1190\u001b[0m \u001b[38;5;66;03m# If we don't have any hooks, we want to skip the rest of the logic in\u001b[39;00m\n\u001b[1;32m   1191\u001b[0m \u001b[38;5;66;03m# this function, and just call forward.\u001b[39;00m\n\u001b[1;32m   1192\u001b[0m \u001b[38;5;28;01mif\u001b[39;00m \u001b[38;5;129;01mnot\u001b[39;00m (\u001b[38;5;28mself\u001b[39m\u001b[38;5;241m.\u001b[39m_backward_hooks \u001b[38;5;129;01mor\u001b[39;00m \u001b[38;5;28mself\u001b[39m\u001b[38;5;241m.\u001b[39m_forward_hooks \u001b[38;5;129;01mor\u001b[39;00m \u001b[38;5;28mself\u001b[39m\u001b[38;5;241m.\u001b[39m_forward_pre_hooks \u001b[38;5;129;01mor\u001b[39;00m _global_backward_hooks\n\u001b[1;32m   1193\u001b[0m         \u001b[38;5;129;01mor\u001b[39;00m _global_forward_hooks \u001b[38;5;129;01mor\u001b[39;00m _global_forward_pre_hooks):\n\u001b[0;32m-> 1194\u001b[0m     \u001b[38;5;28;01mreturn\u001b[39;00m \u001b[43mforward_call\u001b[49m\u001b[43m(\u001b[49m\u001b[38;5;241;43m*\u001b[39;49m\u001b[38;5;28;43minput\u001b[39;49m\u001b[43m,\u001b[49m\u001b[43m \u001b[49m\u001b[38;5;241;43m*\u001b[39;49m\u001b[38;5;241;43m*\u001b[39;49m\u001b[43mkwargs\u001b[49m\u001b[43m)\u001b[49m\n\u001b[1;32m   1195\u001b[0m \u001b[38;5;66;03m# Do not call functions when jit is used\u001b[39;00m\n\u001b[1;32m   1196\u001b[0m full_backward_hooks, non_full_backward_hooks \u001b[38;5;241m=\u001b[39m [], []\n",
      "File \u001b[0;32m/opt/conda/lib/python3.10/site-packages/torchvision/models/detection/generalized_rcnn.py:104\u001b[0m, in \u001b[0;36mGeneralizedRCNN.forward\u001b[0;34m(self, images, targets)\u001b[0m\n\u001b[1;32m    102\u001b[0m \u001b[38;5;28;01mif\u001b[39;00m \u001b[38;5;28misinstance\u001b[39m(features, torch\u001b[38;5;241m.\u001b[39mTensor):\n\u001b[1;32m    103\u001b[0m     features \u001b[38;5;241m=\u001b[39m OrderedDict([(\u001b[38;5;124m\"\u001b[39m\u001b[38;5;124m0\u001b[39m\u001b[38;5;124m\"\u001b[39m, features)])\n\u001b[0;32m--> 104\u001b[0m proposals, proposal_losses \u001b[38;5;241m=\u001b[39m \u001b[38;5;28;43mself\u001b[39;49m\u001b[38;5;241;43m.\u001b[39;49m\u001b[43mrpn\u001b[49m\u001b[43m(\u001b[49m\u001b[43mimages\u001b[49m\u001b[43m,\u001b[49m\u001b[43m \u001b[49m\u001b[43mfeatures\u001b[49m\u001b[43m,\u001b[49m\u001b[43m \u001b[49m\u001b[43mtargets\u001b[49m\u001b[43m)\u001b[49m\n\u001b[1;32m    105\u001b[0m detections, detector_losses \u001b[38;5;241m=\u001b[39m \u001b[38;5;28mself\u001b[39m\u001b[38;5;241m.\u001b[39mroi_heads(features, proposals, images\u001b[38;5;241m.\u001b[39mimage_sizes, targets)\n\u001b[1;32m    106\u001b[0m detections \u001b[38;5;241m=\u001b[39m \u001b[38;5;28mself\u001b[39m\u001b[38;5;241m.\u001b[39mtransform\u001b[38;5;241m.\u001b[39mpostprocess(detections, images\u001b[38;5;241m.\u001b[39mimage_sizes, original_image_sizes)  \u001b[38;5;66;03m# type: ignore[operator]\u001b[39;00m\n",
      "File \u001b[0;32m/opt/conda/lib/python3.10/site-packages/torch/nn/modules/module.py:1194\u001b[0m, in \u001b[0;36mModule._call_impl\u001b[0;34m(self, *input, **kwargs)\u001b[0m\n\u001b[1;32m   1190\u001b[0m \u001b[38;5;66;03m# If we don't have any hooks, we want to skip the rest of the logic in\u001b[39;00m\n\u001b[1;32m   1191\u001b[0m \u001b[38;5;66;03m# this function, and just call forward.\u001b[39;00m\n\u001b[1;32m   1192\u001b[0m \u001b[38;5;28;01mif\u001b[39;00m \u001b[38;5;129;01mnot\u001b[39;00m (\u001b[38;5;28mself\u001b[39m\u001b[38;5;241m.\u001b[39m_backward_hooks \u001b[38;5;129;01mor\u001b[39;00m \u001b[38;5;28mself\u001b[39m\u001b[38;5;241m.\u001b[39m_forward_hooks \u001b[38;5;129;01mor\u001b[39;00m \u001b[38;5;28mself\u001b[39m\u001b[38;5;241m.\u001b[39m_forward_pre_hooks \u001b[38;5;129;01mor\u001b[39;00m _global_backward_hooks\n\u001b[1;32m   1193\u001b[0m         \u001b[38;5;129;01mor\u001b[39;00m _global_forward_hooks \u001b[38;5;129;01mor\u001b[39;00m _global_forward_pre_hooks):\n\u001b[0;32m-> 1194\u001b[0m     \u001b[38;5;28;01mreturn\u001b[39;00m \u001b[43mforward_call\u001b[49m\u001b[43m(\u001b[49m\u001b[38;5;241;43m*\u001b[39;49m\u001b[38;5;28;43minput\u001b[39;49m\u001b[43m,\u001b[49m\u001b[43m \u001b[49m\u001b[38;5;241;43m*\u001b[39;49m\u001b[38;5;241;43m*\u001b[39;49m\u001b[43mkwargs\u001b[49m\u001b[43m)\u001b[49m\n\u001b[1;32m   1195\u001b[0m \u001b[38;5;66;03m# Do not call functions when jit is used\u001b[39;00m\n\u001b[1;32m   1196\u001b[0m full_backward_hooks, non_full_backward_hooks \u001b[38;5;241m=\u001b[39m [], []\n",
      "File \u001b[0;32m/opt/conda/lib/python3.10/site-packages/torchvision/models/detection/rpn.py:370\u001b[0m, in \u001b[0;36mRegionProposalNetwork.forward\u001b[0;34m(self, images, features, targets)\u001b[0m\n\u001b[1;32m    366\u001b[0m objectness, pred_bbox_deltas \u001b[38;5;241m=\u001b[39m concat_box_prediction_layers(objectness, pred_bbox_deltas)\n\u001b[1;32m    367\u001b[0m \u001b[38;5;66;03m# apply pred_bbox_deltas to anchors to obtain the decoded proposals\u001b[39;00m\n\u001b[1;32m    368\u001b[0m \u001b[38;5;66;03m# note that we detach the deltas because Faster R-CNN do not backprop through\u001b[39;00m\n\u001b[1;32m    369\u001b[0m \u001b[38;5;66;03m# the proposals\u001b[39;00m\n\u001b[0;32m--> 370\u001b[0m proposals \u001b[38;5;241m=\u001b[39m \u001b[38;5;28;43mself\u001b[39;49m\u001b[38;5;241;43m.\u001b[39;49m\u001b[43mbox_coder\u001b[49m\u001b[38;5;241;43m.\u001b[39;49m\u001b[43mdecode\u001b[49m\u001b[43m(\u001b[49m\u001b[43mpred_bbox_deltas\u001b[49m\u001b[38;5;241;43m.\u001b[39;49m\u001b[43mdetach\u001b[49m\u001b[43m(\u001b[49m\u001b[43m)\u001b[49m\u001b[43m,\u001b[49m\u001b[43m \u001b[49m\u001b[43manchors\u001b[49m\u001b[43m)\u001b[49m\n\u001b[1;32m    371\u001b[0m proposals \u001b[38;5;241m=\u001b[39m proposals\u001b[38;5;241m.\u001b[39mview(num_images, \u001b[38;5;241m-\u001b[39m\u001b[38;5;241m1\u001b[39m, \u001b[38;5;241m4\u001b[39m)\n\u001b[1;32m    372\u001b[0m boxes, scores \u001b[38;5;241m=\u001b[39m \u001b[38;5;28mself\u001b[39m\u001b[38;5;241m.\u001b[39mfilter_proposals(proposals, objectness, images\u001b[38;5;241m.\u001b[39mimage_sizes, num_anchors_per_level)\n",
      "File \u001b[0;32m/opt/conda/lib/python3.10/site-packages/torchvision/models/detection/_utils.py:178\u001b[0m, in \u001b[0;36mBoxCoder.decode\u001b[0;34m(self, rel_codes, boxes)\u001b[0m\n\u001b[1;32m    176\u001b[0m \u001b[38;5;28;01mif\u001b[39;00m box_sum \u001b[38;5;241m>\u001b[39m \u001b[38;5;241m0\u001b[39m:\n\u001b[1;32m    177\u001b[0m     rel_codes \u001b[38;5;241m=\u001b[39m rel_codes\u001b[38;5;241m.\u001b[39mreshape(box_sum, \u001b[38;5;241m-\u001b[39m\u001b[38;5;241m1\u001b[39m)\n\u001b[0;32m--> 178\u001b[0m pred_boxes \u001b[38;5;241m=\u001b[39m \u001b[38;5;28;43mself\u001b[39;49m\u001b[38;5;241;43m.\u001b[39;49m\u001b[43mdecode_single\u001b[49m\u001b[43m(\u001b[49m\u001b[43mrel_codes\u001b[49m\u001b[43m,\u001b[49m\u001b[43m \u001b[49m\u001b[43mconcat_boxes\u001b[49m\u001b[43m)\u001b[49m\n\u001b[1;32m    179\u001b[0m \u001b[38;5;28;01mif\u001b[39;00m box_sum \u001b[38;5;241m>\u001b[39m \u001b[38;5;241m0\u001b[39m:\n\u001b[1;32m    180\u001b[0m     pred_boxes \u001b[38;5;241m=\u001b[39m pred_boxes\u001b[38;5;241m.\u001b[39mreshape(box_sum, \u001b[38;5;241m-\u001b[39m\u001b[38;5;241m1\u001b[39m, \u001b[38;5;241m4\u001b[39m)\n",
      "File \u001b[0;32m/opt/conda/lib/python3.10/site-packages/torchvision/models/detection/_utils.py:216\u001b[0m, in \u001b[0;36mBoxCoder.decode_single\u001b[0;34m(self, rel_codes, boxes)\u001b[0m\n\u001b[1;32m    213\u001b[0m pred_h \u001b[38;5;241m=\u001b[39m torch\u001b[38;5;241m.\u001b[39mexp(dh) \u001b[38;5;241m*\u001b[39m heights[:, \u001b[38;5;28;01mNone\u001b[39;00m]\n\u001b[1;32m    215\u001b[0m \u001b[38;5;66;03m# Distance from center to box's corner.\u001b[39;00m\n\u001b[0;32m--> 216\u001b[0m c_to_c_h \u001b[38;5;241m=\u001b[39m \u001b[43mtorch\u001b[49m\u001b[38;5;241;43m.\u001b[39;49m\u001b[43mtensor\u001b[49m\u001b[43m(\u001b[49m\u001b[38;5;241;43m0.5\u001b[39;49m\u001b[43m,\u001b[49m\u001b[43m \u001b[49m\u001b[43mdtype\u001b[49m\u001b[38;5;241;43m=\u001b[39;49m\u001b[43mpred_ctr_y\u001b[49m\u001b[38;5;241;43m.\u001b[39;49m\u001b[43mdtype\u001b[49m\u001b[43m,\u001b[49m\u001b[43m \u001b[49m\u001b[43mdevice\u001b[49m\u001b[38;5;241;43m=\u001b[39;49m\u001b[43mpred_h\u001b[49m\u001b[38;5;241;43m.\u001b[39;49m\u001b[43mdevice\u001b[49m\u001b[43m)\u001b[49m \u001b[38;5;241m*\u001b[39m pred_h\n\u001b[1;32m    217\u001b[0m c_to_c_w \u001b[38;5;241m=\u001b[39m torch\u001b[38;5;241m.\u001b[39mtensor(\u001b[38;5;241m0.5\u001b[39m, dtype\u001b[38;5;241m=\u001b[39mpred_ctr_x\u001b[38;5;241m.\u001b[39mdtype, device\u001b[38;5;241m=\u001b[39mpred_w\u001b[38;5;241m.\u001b[39mdevice) \u001b[38;5;241m*\u001b[39m pred_w\n\u001b[1;32m    219\u001b[0m pred_boxes1 \u001b[38;5;241m=\u001b[39m pred_ctr_x \u001b[38;5;241m-\u001b[39m c_to_c_w\n",
      "\u001b[0;31mKeyboardInterrupt\u001b[0m: "
     ]
    }
   ],
   "source": [
    "in_root  = \"datasets/UCF-101-JPG/Archery/\"            # e.g. \".../train_frames\"\n",
    "out_root = \"masking/\"          # e.g. \".../train_frames_masked\"\n",
    "\n",
    "mask_folder_batch(\n",
    "    in_root,\n",
    "    out_root,\n",
    "    batch_size = 8,     # tune for your GPU\n",
    "    score_thresh = 0.55\n",
    ")"
   ]
  },
  {
   "cell_type": "code",
   "execution_count": 3,
   "id": "9d8ca6ab-5570-4c56-a404-2b72289f48e7",
   "metadata": {},
   "outputs": [],
   "source": [
    "# ── 0. Setup ────────────────────────────────────────────────────────────────\n",
    "import torch, torchvision, time, shutil, queue, threading\n",
    "from torchvision.io import read_file, decode_jpeg, write_jpeg\n",
    "from pathlib import Path\n",
    "from torch.utils.data import Dataset, DataLoader\n",
    "from tqdm.auto import tqdm\n",
    "\n",
    "device = \"cuda\" if torch.cuda.is_available() else \"cpu\"\n",
    "\n",
    "# ── 1. Fast JPEG -> Tensor on the GPU (nvJPEG) ──────────────────────────────\n",
    "class FrameDS(Dataset):\n",
    "    def __init__(self, root, ext=\".jpg\"):\n",
    "        self.paths = sorted(Path(root).rglob(f\"*{ext}\"))\n",
    "    def __len__(self): return len(self.paths)\n",
    "    def __getitem__(self, idx):\n",
    "        p   = self.paths[idx]\n",
    "        buf = read_file(str(p))                                   # raw bytes\n",
    "        img = decode_jpeg(buf, device=device).float() / 255       # C×H×W\n",
    "        return img, str(p)\n",
    "\n",
    "# ── 2. Mask-R-CNN (person only) in half precision ──────────────────────────\n",
    "model = torchvision.models.detection.maskrcnn_resnet50_fpn(weights=\"DEFAULT\")\n",
    "model.to(device).eval()\n",
    "\n",
    "@torch.inference_mode()\n",
    "def mask_batch(batch_imgs, score=0.5):\n",
    "    with torch.cuda.amp.autocast(dtype=torch.float16):\n",
    "        outs = model(batch_imgs)\n",
    "\n",
    "    rect_masks = []\n",
    "    for out, im in zip(outs, batch_imgs):\n",
    "        keep = (out[\"labels\"] == 1) & (out[\"scores\"] > score)\n",
    "        if keep.sum() == 0:\n",
    "            rect_masks.append(None)\n",
    "            continue\n",
    "\n",
    "        H, W = im.shape[-2:]\n",
    "        m = torch.zeros((H, W), dtype=torch.bool, device=im.device)\n",
    "        for box in out[\"boxes\"][keep]:\n",
    "            x1, y1, x2, y2 = box.round().to(torch.long)\n",
    "            x1, y1 = x1.clamp(0, W - 1), y1.clamp(0, H - 1)\n",
    "            x2, y2 = x2.clamp(0, W - 1), y2.clamp(0, H - 1)\n",
    "            m[y1:y2 + 1, x1:x2 + 1] = True\n",
    "        rect_masks.append(m)\n",
    "    return rect_masks\n",
    "\n",
    "# ── 3. Async disk writer (so saving doesn’t block the GPU) ─────────────────\n",
    "def writer_thread(q, out_root):\n",
    "    while True:\n",
    "        item = q.get()\n",
    "        if item is None: break\n",
    "        img, src_path = item\n",
    "        dst = out_root / Path(src_path).relative_to(in_root)\n",
    "        dst.parent.mkdir(parents=True, exist_ok=True)\n",
    "        # uint8 tensor expected by write_jpeg\n",
    "        write_jpeg((img.clamp(0,1)*255).byte().cpu(), str(dst), quality=95)\n",
    "        q.task_done()\n",
    "\n",
    "# ── 4. One-liner “train-loop” that ties it all together ────────────────────\n",
    "def mask_folder_gpu(in_root, out_root,\n",
    "                    batch_size=8, workers=4, score=0.5):\n",
    "\n",
    "    ds  = FrameDS(in_root)\n",
    "    dl  = DataLoader(ds, batch_size=batch_size, num_workers=workers,\n",
    "                     pin_memory=False, shuffle=False, drop_last=False)\n",
    "\n",
    "    if out_root.exists(): shutil.rmtree(out_root)\n",
    "    q = queue.Queue(maxsize=32)\n",
    "    th = threading.Thread(target=writer_thread, args=(q, out_root), daemon=True)\n",
    "    th.start()\n",
    "\n",
    "    t0 = time.time()\n",
    "    for imgs, paths in tqdm(dl, total=len(dl)):\n",
    "        imgs = imgs.to(device, non_blocking=True)\n",
    "        masks = mask_batch(list(imgs), score)\n",
    "\n",
    "        # fill on GPU\n",
    "        for i, m in enumerate(masks):\n",
    "            if m is not None:\n",
    "                mean        = imgs[i].mean(dim=(1, 2), keepdim=True)   # (3,1,1)\n",
    "                mean_pixel  = mean.view(3)        # (3,)\n",
    "                mean_pixel  = mean_pixel[:, None] # (3,1)  ← add axis so (3,1) → (3,N)\n",
    "                imgs[i][:, m] = mean_pixel        # OK\n",
    "        # enqueue for compression + write\n",
    "        for im, p in zip(imgs, paths): q.put((im, p))\n",
    "\n",
    "    q.join(); q.put(None); th.join()\n",
    "    print(f\"Done in {(time.time()-t0):.1f}s → {len(ds)/(time.time()-t0):.1f} fps\")"
   ]
  },
  {
   "cell_type": "code",
   "execution_count": 5,
   "id": "c527cc3e-7eb1-42c6-88fe-d8d78b97858a",
   "metadata": {},
   "outputs": [
    {
     "data": {
      "application/vnd.jupyter.widget-view+json": {
       "model_id": "419a9d865ed549f6acb0dd4853c8cb57",
       "version_major": 2,
       "version_minor": 0
      },
      "text/plain": [
       "  0%|          | 0/2975 [00:00<?, ?it/s]"
      ]
     },
     "metadata": {},
     "output_type": "display_data"
    },
    {
     "name": "stdout",
     "output_type": "stream",
     "text": [
      "Done in 647.5s → 36.8 fps\n"
     ]
    }
   ],
   "source": [
    "# ── 5. Run it ───────────────────────────────────────────────────────────────\n",
    "in_root  = Path(\"datasets/UCF-101-JPG/Archery/\")            # e.g. \".../train_frames\"\n",
    "out_root = Path(\"masking/\")          # e.g. \".../train_frames_masked\"\n",
    "\n",
    "mask_folder_gpu(in_root, \n",
    "                out_root,\n",
    "                batch_size=8,   # ↑ until you hit ~90 % GPU util or OOM\n",
    "                workers=0,      # CPU threads that prefetch & decode bytes\n",
    "                score=0.2)"
   ]
  },
  {
   "cell_type": "markdown",
   "id": "50f7ab05-279f-4ce9-b898-ff06cb518f82",
   "metadata": {
    "jp-MarkdownHeadingCollapsed": true
   },
   "source": [
    "## Dummy Numpy Mask"
   ]
  },
  {
   "cell_type": "code",
   "execution_count": 104,
   "id": "62330211-3934-4a0b-873e-68d63ecb8c59",
   "metadata": {},
   "outputs": [
    {
     "data": {
      "application/vnd.jupyter.widget-view+json": {
       "model_id": "4efe2280f2454ec8a4a0b3bcea42dbf4",
       "version_major": 2,
       "version_minor": 0
      },
      "text/plain": [
       "class:   0%|          | 0/102 [00:00<?, ?it/s]"
      ]
     },
     "metadata": {},
     "output_type": "display_data"
    },
    {
     "data": {
      "application/vnd.jupyter.widget-view+json": {
       "model_id": "91b741dad2d64521bfda52819cae7bec",
       "version_major": 2,
       "version_minor": 0
      },
      "text/plain": [
       "ApplyEyeMakeup:   0%|          | 0/145 [00:00<?, ?it/s]"
      ]
     },
     "metadata": {},
     "output_type": "display_data"
    },
    {
     "data": {
      "application/vnd.jupyter.widget-view+json": {
       "model_id": "c746985e1b9d4e73a1c1d6abf23fa6b4",
       "version_major": 2,
       "version_minor": 0
      },
      "text/plain": [
       "ApplyLipstick:   0%|          | 0/114 [00:00<?, ?it/s]"
      ]
     },
     "metadata": {},
     "output_type": "display_data"
    },
    {
     "data": {
      "application/vnd.jupyter.widget-view+json": {
       "model_id": "76b84a9577b24e3b8b392813d8dc53de",
       "version_major": 2,
       "version_minor": 0
      },
      "text/plain": [
       "Archery:   0%|          | 0/145 [00:00<?, ?it/s]"
      ]
     },
     "metadata": {},
     "output_type": "display_data"
    },
    {
     "data": {
      "application/vnd.jupyter.widget-view+json": {
       "model_id": "07ee667dd5df42a7837dfe5b94a167d5",
       "version_major": 2,
       "version_minor": 0
      },
      "text/plain": [
       "BabyCrawling:   0%|          | 0/132 [00:00<?, ?it/s]"
      ]
     },
     "metadata": {},
     "output_type": "display_data"
    },
    {
     "data": {
      "application/vnd.jupyter.widget-view+json": {
       "model_id": "be26767b14704914a1b1c515aba875a3",
       "version_major": 2,
       "version_minor": 0
      },
      "text/plain": [
       "BalanceBeam:   0%|          | 0/108 [00:00<?, ?it/s]"
      ]
     },
     "metadata": {},
     "output_type": "display_data"
    },
    {
     "data": {
      "application/vnd.jupyter.widget-view+json": {
       "model_id": "c2cb9657ad024397b01b19a340ba81bb",
       "version_major": 2,
       "version_minor": 0
      },
      "text/plain": [
       "BandMarching:   0%|          | 0/155 [00:00<?, ?it/s]"
      ]
     },
     "metadata": {},
     "output_type": "display_data"
    },
    {
     "data": {
      "application/vnd.jupyter.widget-view+json": {
       "model_id": "c97f3633327548458723dcf8878361a2",
       "version_major": 2,
       "version_minor": 0
      },
      "text/plain": [
       "BaseballPitch:   0%|          | 0/150 [00:00<?, ?it/s]"
      ]
     },
     "metadata": {},
     "output_type": "display_data"
    },
    {
     "data": {
      "application/vnd.jupyter.widget-view+json": {
       "model_id": "81b49ba2e6354302b9512e9f418125d8",
       "version_major": 2,
       "version_minor": 0
      },
      "text/plain": [
       "Basketball:   0%|          | 0/134 [00:00<?, ?it/s]"
      ]
     },
     "metadata": {},
     "output_type": "display_data"
    },
    {
     "data": {
      "application/vnd.jupyter.widget-view+json": {
       "model_id": "d6b5c949c531418693daace4ce7660a8",
       "version_major": 2,
       "version_minor": 0
      },
      "text/plain": [
       "BasketballDunk:   0%|          | 0/131 [00:00<?, ?it/s]"
      ]
     },
     "metadata": {},
     "output_type": "display_data"
    },
    {
     "data": {
      "application/vnd.jupyter.widget-view+json": {
       "model_id": "c6f04601c8904ba79c8ab8ce31ef4830",
       "version_major": 2,
       "version_minor": 0
      },
      "text/plain": [
       "BenchPress:   0%|          | 0/160 [00:00<?, ?it/s]"
      ]
     },
     "metadata": {},
     "output_type": "display_data"
    },
    {
     "data": {
      "application/vnd.jupyter.widget-view+json": {
       "model_id": "df9dc930c77449c1a347ee4b1dc1f5f8",
       "version_major": 2,
       "version_minor": 0
      },
      "text/plain": [
       "Biking:   0%|          | 0/134 [00:00<?, ?it/s]"
      ]
     },
     "metadata": {},
     "output_type": "display_data"
    },
    {
     "data": {
      "application/vnd.jupyter.widget-view+json": {
       "model_id": "fc3d2e2a17bd4aa7bd3f97d7bafedcf8",
       "version_major": 2,
       "version_minor": 0
      },
      "text/plain": [
       "Billiards:   0%|          | 0/150 [00:00<?, ?it/s]"
      ]
     },
     "metadata": {},
     "output_type": "display_data"
    },
    {
     "data": {
      "application/vnd.jupyter.widget-view+json": {
       "model_id": "a3a3eae5ef7f448181389e2921f5514c",
       "version_major": 2,
       "version_minor": 0
      },
      "text/plain": [
       "BlowDryHair:   0%|          | 0/131 [00:00<?, ?it/s]"
      ]
     },
     "metadata": {},
     "output_type": "display_data"
    },
    {
     "data": {
      "application/vnd.jupyter.widget-view+json": {
       "model_id": "249dccea09114c49a306d8cec8e7121d",
       "version_major": 2,
       "version_minor": 0
      },
      "text/plain": [
       "BlowingCandles:   0%|          | 0/109 [00:00<?, ?it/s]"
      ]
     },
     "metadata": {},
     "output_type": "display_data"
    },
    {
     "data": {
      "application/vnd.jupyter.widget-view+json": {
       "model_id": "f5abe0a17bec42b0b47d68cdc2ad9186",
       "version_major": 2,
       "version_minor": 0
      },
      "text/plain": [
       "BodyWeightSquats:   0%|          | 0/112 [00:00<?, ?it/s]"
      ]
     },
     "metadata": {},
     "output_type": "display_data"
    },
    {
     "data": {
      "application/vnd.jupyter.widget-view+json": {
       "model_id": "660c3e555a6f452f947c0e0f26c124b5",
       "version_major": 2,
       "version_minor": 0
      },
      "text/plain": [
       "Bowling:   0%|          | 0/155 [00:00<?, ?it/s]"
      ]
     },
     "metadata": {},
     "output_type": "display_data"
    },
    {
     "data": {
      "application/vnd.jupyter.widget-view+json": {
       "model_id": "e880208837da4b8193982c180fe5a45e",
       "version_major": 2,
       "version_minor": 0
      },
      "text/plain": [
       "BoxingPunchingBag:   0%|          | 0/163 [00:00<?, ?it/s]"
      ]
     },
     "metadata": {},
     "output_type": "display_data"
    },
    {
     "data": {
      "application/vnd.jupyter.widget-view+json": {
       "model_id": "3e0fae2211a2419688564a1af5cfbc00",
       "version_major": 2,
       "version_minor": 0
      },
      "text/plain": [
       "BoxingSpeedBag:   0%|          | 0/134 [00:00<?, ?it/s]"
      ]
     },
     "metadata": {},
     "output_type": "display_data"
    },
    {
     "data": {
      "application/vnd.jupyter.widget-view+json": {
       "model_id": "e70b72e08d26419e9407c121955ac089",
       "version_major": 2,
       "version_minor": 0
      },
      "text/plain": [
       "BreastStroke:   0%|          | 0/101 [00:00<?, ?it/s]"
      ]
     },
     "metadata": {},
     "output_type": "display_data"
    },
    {
     "data": {
      "application/vnd.jupyter.widget-view+json": {
       "model_id": "2618c86ca4164670a1e623542125e094",
       "version_major": 2,
       "version_minor": 0
      },
      "text/plain": [
       "BrushingTeeth:   0%|          | 0/131 [00:00<?, ?it/s]"
      ]
     },
     "metadata": {},
     "output_type": "display_data"
    },
    {
     "data": {
      "application/vnd.jupyter.widget-view+json": {
       "model_id": "5605df6de20e4165926ad9ebea9f15e4",
       "version_major": 2,
       "version_minor": 0
      },
      "text/plain": [
       "CleanAndJerk:   0%|          | 0/112 [00:00<?, ?it/s]"
      ]
     },
     "metadata": {},
     "output_type": "display_data"
    },
    {
     "data": {
      "application/vnd.jupyter.widget-view+json": {
       "model_id": "45b0aa8985db4c039572275967725855",
       "version_major": 2,
       "version_minor": 0
      },
      "text/plain": [
       "CliffDiving:   0%|          | 0/138 [00:00<?, ?it/s]"
      ]
     },
     "metadata": {},
     "output_type": "display_data"
    },
    {
     "data": {
      "application/vnd.jupyter.widget-view+json": {
       "model_id": "8ce94bbf1cbb444a857031156c3cad32",
       "version_major": 2,
       "version_minor": 0
      },
      "text/plain": [
       "CricketBowling:   0%|          | 0/139 [00:00<?, ?it/s]"
      ]
     },
     "metadata": {},
     "output_type": "display_data"
    },
    {
     "data": {
      "application/vnd.jupyter.widget-view+json": {
       "model_id": "f3b53ad7919a408ebd565db72cdfba00",
       "version_major": 2,
       "version_minor": 0
      },
      "text/plain": [
       "CricketShot:   0%|          | 0/167 [00:00<?, ?it/s]"
      ]
     },
     "metadata": {},
     "output_type": "display_data"
    },
    {
     "data": {
      "application/vnd.jupyter.widget-view+json": {
       "model_id": "afdd74a7ed9c433a83f6c23b52d6cabe",
       "version_major": 2,
       "version_minor": 0
      },
      "text/plain": [
       "CuttingInKitchen:   0%|          | 0/110 [00:00<?, ?it/s]"
      ]
     },
     "metadata": {},
     "output_type": "display_data"
    },
    {
     "data": {
      "application/vnd.jupyter.widget-view+json": {
       "model_id": "f0277fcc7fc545f6b12aa2f8aec5a8ec",
       "version_major": 2,
       "version_minor": 0
      },
      "text/plain": [
       "Diving:   0%|          | 0/150 [00:00<?, ?it/s]"
      ]
     },
     "metadata": {},
     "output_type": "display_data"
    },
    {
     "data": {
      "application/vnd.jupyter.widget-view+json": {
       "model_id": "a5c134e9e3c2440686483c37d68e6e3c",
       "version_major": 2,
       "version_minor": 0
      },
      "text/plain": [
       "Drumming:   0%|          | 0/161 [00:00<?, ?it/s]"
      ]
     },
     "metadata": {},
     "output_type": "display_data"
    },
    {
     "data": {
      "application/vnd.jupyter.widget-view+json": {
       "model_id": "937f42dd61a54df8bb9f4669d73a7956",
       "version_major": 2,
       "version_minor": 0
      },
      "text/plain": [
       "Fencing:   0%|          | 0/111 [00:00<?, ?it/s]"
      ]
     },
     "metadata": {},
     "output_type": "display_data"
    },
    {
     "data": {
      "application/vnd.jupyter.widget-view+json": {
       "model_id": "51743ca17f9e47c28f5486db6303e3ac",
       "version_major": 2,
       "version_minor": 0
      },
      "text/plain": [
       "FieldHockeyPenalty:   0%|          | 0/126 [00:00<?, ?it/s]"
      ]
     },
     "metadata": {},
     "output_type": "display_data"
    },
    {
     "data": {
      "application/vnd.jupyter.widget-view+json": {
       "model_id": "8a505b99a354407685670384381fdb29",
       "version_major": 2,
       "version_minor": 0
      },
      "text/plain": [
       "FloorGymnastics:   0%|          | 0/125 [00:00<?, ?it/s]"
      ]
     },
     "metadata": {},
     "output_type": "display_data"
    },
    {
     "data": {
      "application/vnd.jupyter.widget-view+json": {
       "model_id": "19b087c54eb04edbb09f94f7759dbb2e",
       "version_major": 2,
       "version_minor": 0
      },
      "text/plain": [
       "FrisbeeCatch:   0%|          | 0/126 [00:00<?, ?it/s]"
      ]
     },
     "metadata": {},
     "output_type": "display_data"
    },
    {
     "data": {
      "application/vnd.jupyter.widget-view+json": {
       "model_id": "2c303593bbf844678f58dee3fca0cf40",
       "version_major": 2,
       "version_minor": 0
      },
      "text/plain": [
       "FrontCrawl:   0%|          | 0/137 [00:00<?, ?it/s]"
      ]
     },
     "metadata": {},
     "output_type": "display_data"
    },
    {
     "data": {
      "application/vnd.jupyter.widget-view+json": {
       "model_id": "2fbbddc889a8462e940ab33460b38f32",
       "version_major": 2,
       "version_minor": 0
      },
      "text/plain": [
       "GolfSwing:   0%|          | 0/139 [00:00<?, ?it/s]"
      ]
     },
     "metadata": {},
     "output_type": "display_data"
    },
    {
     "data": {
      "application/vnd.jupyter.widget-view+json": {
       "model_id": "5230dc84345a4276a7ea63a3ce470577",
       "version_major": 2,
       "version_minor": 0
      },
      "text/plain": [
       "Haircut:   0%|          | 0/130 [00:00<?, ?it/s]"
      ]
     },
     "metadata": {},
     "output_type": "display_data"
    },
    {
     "data": {
      "application/vnd.jupyter.widget-view+json": {
       "model_id": "c2e4a32fdcc74394b2fc1e489fa1d36d",
       "version_major": 2,
       "version_minor": 0
      },
      "text/plain": [
       "HammerThrow:   0%|          | 0/150 [00:00<?, ?it/s]"
      ]
     },
     "metadata": {},
     "output_type": "display_data"
    },
    {
     "data": {
      "application/vnd.jupyter.widget-view+json": {
       "model_id": "c2f032f8e4ab4ca586dedd0009f1eec7",
       "version_major": 2,
       "version_minor": 0
      },
      "text/plain": [
       "Hammering:   0%|          | 0/140 [00:00<?, ?it/s]"
      ]
     },
     "metadata": {},
     "output_type": "display_data"
    },
    {
     "data": {
      "application/vnd.jupyter.widget-view+json": {
       "model_id": "ea194559794547839cade023a1e38ab5",
       "version_major": 2,
       "version_minor": 0
      },
      "text/plain": [
       "HandstandPushups:   0%|          | 0/128 [00:00<?, ?it/s]"
      ]
     },
     "metadata": {},
     "output_type": "display_data"
    },
    {
     "data": {
      "application/vnd.jupyter.widget-view+json": {
       "model_id": "7bda766e6fc04e13a451283d19fb9ae2",
       "version_major": 2,
       "version_minor": 0
      },
      "text/plain": [
       "HandstandWalking:   0%|          | 0/111 [00:00<?, ?it/s]"
      ]
     },
     "metadata": {},
     "output_type": "display_data"
    },
    {
     "data": {
      "application/vnd.jupyter.widget-view+json": {
       "model_id": "a5204f103a1e495598d194c228f059ec",
       "version_major": 2,
       "version_minor": 0
      },
      "text/plain": [
       "HeadMassage:   0%|          | 0/147 [00:00<?, ?it/s]"
      ]
     },
     "metadata": {},
     "output_type": "display_data"
    },
    {
     "data": {
      "application/vnd.jupyter.widget-view+json": {
       "model_id": "8481cb9093c149938047834e8b7581b4",
       "version_major": 2,
       "version_minor": 0
      },
      "text/plain": [
       "HighJump:   0%|          | 0/123 [00:00<?, ?it/s]"
      ]
     },
     "metadata": {},
     "output_type": "display_data"
    },
    {
     "data": {
      "application/vnd.jupyter.widget-view+json": {
       "model_id": "cd92be0a207249e28cd87ef573761625",
       "version_major": 2,
       "version_minor": 0
      },
      "text/plain": [
       "HorseRace:   0%|          | 0/124 [00:00<?, ?it/s]"
      ]
     },
     "metadata": {},
     "output_type": "display_data"
    },
    {
     "data": {
      "application/vnd.jupyter.widget-view+json": {
       "model_id": "d10d3b4b8398416688f19b70ccbae6a9",
       "version_major": 2,
       "version_minor": 0
      },
      "text/plain": [
       "HorseRiding:   0%|          | 0/164 [00:00<?, ?it/s]"
      ]
     },
     "metadata": {},
     "output_type": "display_data"
    },
    {
     "data": {
      "application/vnd.jupyter.widget-view+json": {
       "model_id": "b3622b586ad74583b1f295148707cc7e",
       "version_major": 2,
       "version_minor": 0
      },
      "text/plain": [
       "HulaHoop:   0%|          | 0/125 [00:00<?, ?it/s]"
      ]
     },
     "metadata": {},
     "output_type": "display_data"
    },
    {
     "data": {
      "application/vnd.jupyter.widget-view+json": {
       "model_id": "39e654ef9e3e48b2b5600636a0abb85d",
       "version_major": 2,
       "version_minor": 0
      },
      "text/plain": [
       "IceDancing:   0%|          | 0/158 [00:00<?, ?it/s]"
      ]
     },
     "metadata": {},
     "output_type": "display_data"
    },
    {
     "data": {
      "application/vnd.jupyter.widget-view+json": {
       "model_id": "4310a1a887ea4ea1ab9a85977c6da4ba",
       "version_major": 2,
       "version_minor": 0
      },
      "text/plain": [
       "JavelinThrow:   0%|          | 0/117 [00:00<?, ?it/s]"
      ]
     },
     "metadata": {},
     "output_type": "display_data"
    },
    {
     "data": {
      "application/vnd.jupyter.widget-view+json": {
       "model_id": "9d98ca31e80e4d1386c5f2ea33c44aed",
       "version_major": 2,
       "version_minor": 0
      },
      "text/plain": [
       "JugglingBalls:   0%|          | 0/121 [00:00<?, ?it/s]"
      ]
     },
     "metadata": {},
     "output_type": "display_data"
    },
    {
     "data": {
      "application/vnd.jupyter.widget-view+json": {
       "model_id": "11fd4ed8a92e453e8a3620bbb7f2741c",
       "version_major": 2,
       "version_minor": 0
      },
      "text/plain": [
       "JumpRope:   0%|          | 0/144 [00:00<?, ?it/s]"
      ]
     },
     "metadata": {},
     "output_type": "display_data"
    },
    {
     "data": {
      "application/vnd.jupyter.widget-view+json": {
       "model_id": "87c5770b261f4bb593c2752faf3d4ed3",
       "version_major": 2,
       "version_minor": 0
      },
      "text/plain": [
       "JumpingJack:   0%|          | 0/123 [00:00<?, ?it/s]"
      ]
     },
     "metadata": {},
     "output_type": "display_data"
    },
    {
     "data": {
      "application/vnd.jupyter.widget-view+json": {
       "model_id": "7f7e6c620c07442c831e98fbc7457843",
       "version_major": 2,
       "version_minor": 0
      },
      "text/plain": [
       "Kayaking:   0%|          | 0/141 [00:00<?, ?it/s]"
      ]
     },
     "metadata": {},
     "output_type": "display_data"
    },
    {
     "data": {
      "application/vnd.jupyter.widget-view+json": {
       "model_id": "627ba28aed4b4d0e90fee30aa070ecb5",
       "version_major": 2,
       "version_minor": 0
      },
      "text/plain": [
       "Knitting:   0%|          | 0/123 [00:00<?, ?it/s]"
      ]
     },
     "metadata": {},
     "output_type": "display_data"
    },
    {
     "data": {
      "application/vnd.jupyter.widget-view+json": {
       "model_id": "9ac3880ef71e4279b521fa8d68a75f2a",
       "version_major": 2,
       "version_minor": 0
      },
      "text/plain": [
       "LongJump:   0%|          | 0/131 [00:00<?, ?it/s]"
      ]
     },
     "metadata": {},
     "output_type": "display_data"
    },
    {
     "data": {
      "application/vnd.jupyter.widget-view+json": {
       "model_id": "9e6edfa46ba64a80996071bc6db7e03d",
       "version_major": 2,
       "version_minor": 0
      },
      "text/plain": [
       "Lunges:   0%|          | 0/127 [00:00<?, ?it/s]"
      ]
     },
     "metadata": {},
     "output_type": "display_data"
    },
    {
     "data": {
      "application/vnd.jupyter.widget-view+json": {
       "model_id": "483024c373064030b55981e1504839bb",
       "version_major": 2,
       "version_minor": 0
      },
      "text/plain": [
       "MilitaryParade:   0%|          | 0/125 [00:00<?, ?it/s]"
      ]
     },
     "metadata": {},
     "output_type": "display_data"
    },
    {
     "data": {
      "application/vnd.jupyter.widget-view+json": {
       "model_id": "7a58aa7dda3641a8a60775381b6dcc7d",
       "version_major": 2,
       "version_minor": 0
      },
      "text/plain": [
       "Mixing:   0%|          | 0/136 [00:00<?, ?it/s]"
      ]
     },
     "metadata": {},
     "output_type": "display_data"
    },
    {
     "data": {
      "application/vnd.jupyter.widget-view+json": {
       "model_id": "ab171ff5a4e14a5caa2574fa81429032",
       "version_major": 2,
       "version_minor": 0
      },
      "text/plain": [
       "MoppingFloor:   0%|          | 0/110 [00:00<?, ?it/s]"
      ]
     },
     "metadata": {},
     "output_type": "display_data"
    },
    {
     "data": {
      "application/vnd.jupyter.widget-view+json": {
       "model_id": "53ef02608813462183888e4db4071179",
       "version_major": 2,
       "version_minor": 0
      },
      "text/plain": [
       "Nunchucks:   0%|          | 0/132 [00:00<?, ?it/s]"
      ]
     },
     "metadata": {},
     "output_type": "display_data"
    },
    {
     "data": {
      "application/vnd.jupyter.widget-view+json": {
       "model_id": "d1e042c07d434ed9a8ed7d80c0f70031",
       "version_major": 2,
       "version_minor": 0
      },
      "text/plain": [
       "ParallelBars:   0%|          | 0/114 [00:00<?, ?it/s]"
      ]
     },
     "metadata": {},
     "output_type": "display_data"
    },
    {
     "data": {
      "application/vnd.jupyter.widget-view+json": {
       "model_id": "93b50449b3554a1180314da74f4e8018",
       "version_major": 2,
       "version_minor": 0
      },
      "text/plain": [
       "PizzaTossing:   0%|          | 0/113 [00:00<?, ?it/s]"
      ]
     },
     "metadata": {},
     "output_type": "display_data"
    },
    {
     "data": {
      "application/vnd.jupyter.widget-view+json": {
       "model_id": "939802d0691d4b378d0d0a4d917343ae",
       "version_major": 2,
       "version_minor": 0
      },
      "text/plain": [
       "PlayingCello:   0%|          | 0/164 [00:00<?, ?it/s]"
      ]
     },
     "metadata": {},
     "output_type": "display_data"
    },
    {
     "data": {
      "application/vnd.jupyter.widget-view+json": {
       "model_id": "a0ae63c8d8f44a79b9fd7a010edf7134",
       "version_major": 2,
       "version_minor": 0
      },
      "text/plain": [
       "PlayingDaf:   0%|          | 0/151 [00:00<?, ?it/s]"
      ]
     },
     "metadata": {},
     "output_type": "display_data"
    },
    {
     "data": {
      "application/vnd.jupyter.widget-view+json": {
       "model_id": "239347d94d8343b9bd1002099418086a",
       "version_major": 2,
       "version_minor": 0
      },
      "text/plain": [
       "PlayingDhol:   0%|          | 0/164 [00:00<?, ?it/s]"
      ]
     },
     "metadata": {},
     "output_type": "display_data"
    },
    {
     "data": {
      "application/vnd.jupyter.widget-view+json": {
       "model_id": "3b114de5e4124bbfb5b3a8be1e823dce",
       "version_major": 2,
       "version_minor": 0
      },
      "text/plain": [
       "PlayingFlute:   0%|          | 0/155 [00:00<?, ?it/s]"
      ]
     },
     "metadata": {},
     "output_type": "display_data"
    },
    {
     "data": {
      "application/vnd.jupyter.widget-view+json": {
       "model_id": "10c6e9009bfc478d9176ed7ad424cb6c",
       "version_major": 2,
       "version_minor": 0
      },
      "text/plain": [
       "PlayingGuitar:   0%|          | 0/160 [00:00<?, ?it/s]"
      ]
     },
     "metadata": {},
     "output_type": "display_data"
    },
    {
     "data": {
      "application/vnd.jupyter.widget-view+json": {
       "model_id": "47e6187218964bef9562dc449f8f9b47",
       "version_major": 2,
       "version_minor": 0
      },
      "text/plain": [
       "PlayingPiano:   0%|          | 0/105 [00:00<?, ?it/s]"
      ]
     },
     "metadata": {},
     "output_type": "display_data"
    },
    {
     "data": {
      "application/vnd.jupyter.widget-view+json": {
       "model_id": "3079679da71940c5bd2e9f8a0a4c71d2",
       "version_major": 2,
       "version_minor": 0
      },
      "text/plain": [
       "PlayingSitar:   0%|          | 0/157 [00:00<?, ?it/s]"
      ]
     },
     "metadata": {},
     "output_type": "display_data"
    },
    {
     "data": {
      "application/vnd.jupyter.widget-view+json": {
       "model_id": "78c8fdc6a80d485293e48bcf092941c2",
       "version_major": 2,
       "version_minor": 0
      },
      "text/plain": [
       "PlayingTabla:   0%|          | 0/111 [00:00<?, ?it/s]"
      ]
     },
     "metadata": {},
     "output_type": "display_data"
    },
    {
     "data": {
      "application/vnd.jupyter.widget-view+json": {
       "model_id": "f1dcb4ea206649a69dd2da83c376ebb8",
       "version_major": 2,
       "version_minor": 0
      },
      "text/plain": [
       "PlayingViolin:   0%|          | 0/100 [00:00<?, ?it/s]"
      ]
     },
     "metadata": {},
     "output_type": "display_data"
    },
    {
     "data": {
      "application/vnd.jupyter.widget-view+json": {
       "model_id": "2963bb19afa3482da2d6a61655ba79e5",
       "version_major": 2,
       "version_minor": 0
      },
      "text/plain": [
       "PoleVault:   0%|          | 0/149 [00:00<?, ?it/s]"
      ]
     },
     "metadata": {},
     "output_type": "display_data"
    },
    {
     "data": {
      "application/vnd.jupyter.widget-view+json": {
       "model_id": "20c9b7f2759349d0ba834a0368cf7596",
       "version_major": 2,
       "version_minor": 0
      },
      "text/plain": [
       "PommelHorse:   0%|          | 0/123 [00:00<?, ?it/s]"
      ]
     },
     "metadata": {},
     "output_type": "display_data"
    },
    {
     "data": {
      "application/vnd.jupyter.widget-view+json": {
       "model_id": "5368de5178b94ec98bb0ea75aff88d41",
       "version_major": 2,
       "version_minor": 0
      },
      "text/plain": [
       "PullUps:   0%|          | 0/100 [00:00<?, ?it/s]"
      ]
     },
     "metadata": {},
     "output_type": "display_data"
    },
    {
     "data": {
      "application/vnd.jupyter.widget-view+json": {
       "model_id": "129ced620a72452791ddcff791638801",
       "version_major": 2,
       "version_minor": 0
      },
      "text/plain": [
       "Punch:   0%|          | 0/160 [00:00<?, ?it/s]"
      ]
     },
     "metadata": {},
     "output_type": "display_data"
    },
    {
     "data": {
      "application/vnd.jupyter.widget-view+json": {
       "model_id": "b59287ced8d24b1a902f277146e03a24",
       "version_major": 2,
       "version_minor": 0
      },
      "text/plain": [
       "PushUps:   0%|          | 0/102 [00:00<?, ?it/s]"
      ]
     },
     "metadata": {},
     "output_type": "display_data"
    },
    {
     "data": {
      "application/vnd.jupyter.widget-view+json": {
       "model_id": "482a54fabc7746559ca60e4df8405f21",
       "version_major": 2,
       "version_minor": 0
      },
      "text/plain": [
       "Rafting:   0%|          | 0/111 [00:00<?, ?it/s]"
      ]
     },
     "metadata": {},
     "output_type": "display_data"
    },
    {
     "data": {
      "application/vnd.jupyter.widget-view+json": {
       "model_id": "8156c23128bf46ba97246215cc6839c1",
       "version_major": 2,
       "version_minor": 0
      },
      "text/plain": [
       "RockClimbingIndoor:   0%|          | 0/144 [00:00<?, ?it/s]"
      ]
     },
     "metadata": {},
     "output_type": "display_data"
    },
    {
     "data": {
      "application/vnd.jupyter.widget-view+json": {
       "model_id": "778912cb13c549668900ec9b9307282e",
       "version_major": 2,
       "version_minor": 0
      },
      "text/plain": [
       "RopeClimbing:   0%|          | 0/119 [00:00<?, ?it/s]"
      ]
     },
     "metadata": {},
     "output_type": "display_data"
    },
    {
     "data": {
      "application/vnd.jupyter.widget-view+json": {
       "model_id": "042dacdb7b134de1bd1acb2bbf7f13f7",
       "version_major": 2,
       "version_minor": 0
      },
      "text/plain": [
       "Rowing:   0%|          | 0/137 [00:00<?, ?it/s]"
      ]
     },
     "metadata": {},
     "output_type": "display_data"
    },
    {
     "data": {
      "application/vnd.jupyter.widget-view+json": {
       "model_id": "3790949938cb429593fdc391608facee",
       "version_major": 2,
       "version_minor": 0
      },
      "text/plain": [
       "SalsaSpin:   0%|          | 0/133 [00:00<?, ?it/s]"
      ]
     },
     "metadata": {},
     "output_type": "display_data"
    },
    {
     "data": {
      "application/vnd.jupyter.widget-view+json": {
       "model_id": "51d11f674b2a418cb29e6adcb20edef1",
       "version_major": 2,
       "version_minor": 0
      },
      "text/plain": [
       "ShavingBeard:   0%|          | 0/161 [00:00<?, ?it/s]"
      ]
     },
     "metadata": {},
     "output_type": "display_data"
    },
    {
     "data": {
      "application/vnd.jupyter.widget-view+json": {
       "model_id": "80bfeea5f7c54319a583a032c5f62f62",
       "version_major": 2,
       "version_minor": 0
      },
      "text/plain": [
       "Shotput:   0%|          | 0/144 [00:00<?, ?it/s]"
      ]
     },
     "metadata": {},
     "output_type": "display_data"
    },
    {
     "data": {
      "application/vnd.jupyter.widget-view+json": {
       "model_id": "60658d0f241442f38e018b3c4348fea4",
       "version_major": 2,
       "version_minor": 0
      },
      "text/plain": [
       "SkateBoarding:   0%|          | 0/120 [00:00<?, ?it/s]"
      ]
     },
     "metadata": {},
     "output_type": "display_data"
    },
    {
     "data": {
      "application/vnd.jupyter.widget-view+json": {
       "model_id": "a9f38272af5f4bcb80cd7caae17a5711",
       "version_major": 2,
       "version_minor": 0
      },
      "text/plain": [
       "Skiing:   0%|          | 0/135 [00:00<?, ?it/s]"
      ]
     },
     "metadata": {},
     "output_type": "display_data"
    },
    {
     "data": {
      "application/vnd.jupyter.widget-view+json": {
       "model_id": "e26aca51cdfa4f2d92904165799007a4",
       "version_major": 2,
       "version_minor": 0
      },
      "text/plain": [
       "Skijet:   0%|          | 0/100 [00:00<?, ?it/s]"
      ]
     },
     "metadata": {},
     "output_type": "display_data"
    },
    {
     "data": {
      "application/vnd.jupyter.widget-view+json": {
       "model_id": "aea27d9d777f47dc85aa52cefd166325",
       "version_major": 2,
       "version_minor": 0
      },
      "text/plain": [
       "SkyDiving:   0%|          | 0/110 [00:00<?, ?it/s]"
      ]
     },
     "metadata": {},
     "output_type": "display_data"
    },
    {
     "data": {
      "application/vnd.jupyter.widget-view+json": {
       "model_id": "7436a851532b46fdbe9e80e0c57a75c0",
       "version_major": 2,
       "version_minor": 0
      },
      "text/plain": [
       "SoccerJuggling:   0%|          | 0/147 [00:00<?, ?it/s]"
      ]
     },
     "metadata": {},
     "output_type": "display_data"
    },
    {
     "data": {
      "application/vnd.jupyter.widget-view+json": {
       "model_id": "8bc8ce5341884471961eda0e0e706ac6",
       "version_major": 2,
       "version_minor": 0
      },
      "text/plain": [
       "SoccerPenalty:   0%|          | 0/137 [00:00<?, ?it/s]"
      ]
     },
     "metadata": {},
     "output_type": "display_data"
    },
    {
     "data": {
      "application/vnd.jupyter.widget-view+json": {
       "model_id": "675cdd5ea94149dbbe03351186bdedce",
       "version_major": 2,
       "version_minor": 0
      },
      "text/plain": [
       "StillRings:   0%|          | 0/112 [00:00<?, ?it/s]"
      ]
     },
     "metadata": {},
     "output_type": "display_data"
    },
    {
     "data": {
      "application/vnd.jupyter.widget-view+json": {
       "model_id": "749761359b6746cbb3ee3433e12e1457",
       "version_major": 2,
       "version_minor": 0
      },
      "text/plain": [
       "SumoWrestling:   0%|          | 0/116 [00:00<?, ?it/s]"
      ]
     },
     "metadata": {},
     "output_type": "display_data"
    },
    {
     "data": {
      "application/vnd.jupyter.widget-view+json": {
       "model_id": "41200815b3fa424b9906140731127b0a",
       "version_major": 2,
       "version_minor": 0
      },
      "text/plain": [
       "Surfing:   0%|          | 0/126 [00:00<?, ?it/s]"
      ]
     },
     "metadata": {},
     "output_type": "display_data"
    },
    {
     "data": {
      "application/vnd.jupyter.widget-view+json": {
       "model_id": "6e30fbb698ea49759da139294d401320",
       "version_major": 2,
       "version_minor": 0
      },
      "text/plain": [
       "Swing:   0%|          | 0/131 [00:00<?, ?it/s]"
      ]
     },
     "metadata": {},
     "output_type": "display_data"
    },
    {
     "data": {
      "application/vnd.jupyter.widget-view+json": {
       "model_id": "fa74ec41568f4ed9b94aaf511a48bab7",
       "version_major": 2,
       "version_minor": 0
      },
      "text/plain": [
       "TableTennisShot:   0%|          | 0/140 [00:00<?, ?it/s]"
      ]
     },
     "metadata": {},
     "output_type": "display_data"
    },
    {
     "data": {
      "application/vnd.jupyter.widget-view+json": {
       "model_id": "0e65b6ac0fd1467eb4915287c7c9d345",
       "version_major": 2,
       "version_minor": 0
      },
      "text/plain": [
       "TaiChi:   0%|          | 0/100 [00:00<?, ?it/s]"
      ]
     },
     "metadata": {},
     "output_type": "display_data"
    },
    {
     "data": {
      "application/vnd.jupyter.widget-view+json": {
       "model_id": "4a4467df954b4c46a0422518d56ea0d6",
       "version_major": 2,
       "version_minor": 0
      },
      "text/plain": [
       "TennisSwing:   0%|          | 0/166 [00:00<?, ?it/s]"
      ]
     },
     "metadata": {},
     "output_type": "display_data"
    },
    {
     "data": {
      "application/vnd.jupyter.widget-view+json": {
       "model_id": "4fe41dbe704049488cf177fd74abdbcc",
       "version_major": 2,
       "version_minor": 0
      },
      "text/plain": [
       "ThrowDiscus:   0%|          | 0/130 [00:00<?, ?it/s]"
      ]
     },
     "metadata": {},
     "output_type": "display_data"
    },
    {
     "data": {
      "application/vnd.jupyter.widget-view+json": {
       "model_id": "efbf4131c7964c2b9aca9525e85394bf",
       "version_major": 2,
       "version_minor": 0
      },
      "text/plain": [
       "TrampolineJumping:   0%|          | 0/119 [00:00<?, ?it/s]"
      ]
     },
     "metadata": {},
     "output_type": "display_data"
    },
    {
     "data": {
      "application/vnd.jupyter.widget-view+json": {
       "model_id": "57d2184f8af047e2a767b3b9ef8d26b0",
       "version_major": 2,
       "version_minor": 0
      },
      "text/plain": [
       "Typing:   0%|          | 0/136 [00:00<?, ?it/s]"
      ]
     },
     "metadata": {},
     "output_type": "display_data"
    },
    {
     "data": {
      "application/vnd.jupyter.widget-view+json": {
       "model_id": "ec2ddcd5cddc405eacdb06fea9aef465",
       "version_major": 2,
       "version_minor": 0
      },
      "text/plain": [
       "UnevenBars:   0%|          | 0/104 [00:00<?, ?it/s]"
      ]
     },
     "metadata": {},
     "output_type": "display_data"
    },
    {
     "data": {
      "application/vnd.jupyter.widget-view+json": {
       "model_id": "90e199aa8091468090e2879dd8733692",
       "version_major": 2,
       "version_minor": 0
      },
      "text/plain": [
       "VolleyballSpiking:   0%|          | 0/116 [00:00<?, ?it/s]"
      ]
     },
     "metadata": {},
     "output_type": "display_data"
    },
    {
     "data": {
      "application/vnd.jupyter.widget-view+json": {
       "model_id": "94b287a3bf4f4e0d93ad4bf6eb9aa1d8",
       "version_major": 2,
       "version_minor": 0
      },
      "text/plain": [
       "WalkingWithDog:   0%|          | 0/123 [00:00<?, ?it/s]"
      ]
     },
     "metadata": {},
     "output_type": "display_data"
    },
    {
     "data": {
      "application/vnd.jupyter.widget-view+json": {
       "model_id": "e42a3383f6c4426e8f4df506539b03cd",
       "version_major": 2,
       "version_minor": 0
      },
      "text/plain": [
       "WallPushups:   0%|          | 0/130 [00:00<?, ?it/s]"
      ]
     },
     "metadata": {},
     "output_type": "display_data"
    },
    {
     "data": {
      "application/vnd.jupyter.widget-view+json": {
       "model_id": "98e5eb3368364675a095dc68b3b1f81c",
       "version_major": 2,
       "version_minor": 0
      },
      "text/plain": [
       "WritingOnBoard:   0%|          | 0/152 [00:00<?, ?it/s]"
      ]
     },
     "metadata": {},
     "output_type": "display_data"
    },
    {
     "data": {
      "application/vnd.jupyter.widget-view+json": {
       "model_id": "31307bdc61dd4839babaec6b4f73275e",
       "version_major": 2,
       "version_minor": 0
      },
      "text/plain": [
       "YoYo:   0%|          | 0/128 [00:00<?, ?it/s]"
      ]
     },
     "metadata": {},
     "output_type": "display_data"
    },
    {
     "name": "stdout",
     "output_type": "stream",
     "text": [
      "✅  Dummy detection file written → dummy_detections.npy\n"
     ]
    }
   ],
   "source": [
    "# %%\n",
    "\"\"\"\n",
    "Generate a dummy detection .npy file that mirrors the real directory tree,\n",
    "ignoring hidden folders, but this time using *larger* random bounding boxes.\n",
    "\"\"\"\n",
    "\n",
    "import numpy as np\n",
    "from pathlib import Path\n",
    "from tqdm.auto import tqdm\n",
    "\n",
    "# ─── config ───────────────────────────────────────────\n",
    "video_root   = Path(\"datasets/UCF-101-JPG\")          # class/video/frame.jpg tree\n",
    "out_file     = Path(\"dummy_detections.npy\")          # output file\n",
    "seed         = 42\n",
    "max_boxes    = 3\n",
    "\n",
    "# If you know your real resolution, set it here.\n",
    "# (Purely for generating boxes; the file structure is independent of this.)\n",
    "img_w, img_h = 320, 240\n",
    "\n",
    "# Size range for boxes *relative to* frame size\n",
    "BOX_MIN_FRAC = 0.10          # 10 % of width/height\n",
    "BOX_MAX_FRAC = 0.50          # 50 % of width/height  ← bigger than before\n",
    "\n",
    "np.random.seed(seed)\n",
    "\n",
    "# ─── helper ───────────────────────────────────────────\n",
    "def is_hidden(p: Path) -> bool:\n",
    "    return p.name.startswith('.') or 'ipynb_checkpoints' in p.name\n",
    "\n",
    "def random_boxes(n: int) -> np.ndarray:\n",
    "    \"\"\"\n",
    "    Return (n,5) float32 array of random boxes:\n",
    "    (x1, y1, x2, y2, score) clipped to image bounds.\n",
    "\n",
    "    Box width/height ∈ [BOX_MIN_FRAC, BOX_MAX_FRAC] × image_(w|h)\n",
    "    \"\"\"\n",
    "    if n == 0:\n",
    "        return np.zeros((0, 5), dtype=np.float32)\n",
    "\n",
    "    # random top-left corner\n",
    "    x1 = np.random.uniform(0, img_w * (1 - BOX_MIN_FRAC), size=n)\n",
    "    y1 = np.random.uniform(0, img_h * (1 - BOX_MIN_FRAC), size=n)\n",
    "\n",
    "    # random width / height (now wider range → bigger boxes)\n",
    "    widths  = np.random.uniform(img_w * BOX_MIN_FRAC, img_w * BOX_MAX_FRAC, size=n)\n",
    "    heights = np.random.uniform(img_h * BOX_MIN_FRAC, img_h * BOX_MAX_FRAC, size=n)\n",
    "\n",
    "    # ensure boxes stay inside frame\n",
    "    x2 = np.clip(x1 + widths,  0, img_w)\n",
    "    y2 = np.clip(y1 + heights, 0, img_h)\n",
    "\n",
    "    scores = np.random.uniform(0.3, 1.0, size=n)      # plausible confidence\n",
    "    return np.stack([x1, y1, x2, y2, scores], axis=1).astype(np.float32)\n",
    "\n",
    "# ─── build nested dict ───────────────────────────────\n",
    "all_dets = {}\n",
    "\n",
    "for class_dir in tqdm(sorted(video_root.iterdir()), desc=\"class\"):\n",
    "    if not class_dir.is_dir() or is_hidden(class_dir):\n",
    "        continue\n",
    "    cls_name = class_dir.name\n",
    "    all_dets[cls_name] = {}\n",
    "\n",
    "    for vid_dir in tqdm(sorted(class_dir.iterdir()), leave=False, desc=cls_name):\n",
    "        if not vid_dir.is_dir() or is_hidden(vid_dir):\n",
    "            continue\n",
    "        vid11 = vid_dir.name\n",
    "        all_dets[cls_name][vid11] = {}\n",
    "\n",
    "        frames = sorted(vid_dir.glob(\"*.jpg\"))\n",
    "        for idx, _ in enumerate(frames, start=1):          # frame indices are 1-based\n",
    "            n = np.random.randint(0, max_boxes + 1)        # 0…max_boxes boxes\n",
    "            all_dets[cls_name][vid11][idx] = {\"human_boxes\": random_boxes(n)}\n",
    "\n",
    "# ─── save ────────────────────────────────────────────\n",
    "np.save(out_file, all_dets, allow_pickle=True)\n",
    "print(f\"✅  Dummy detection file written → {out_file}\")\n"
   ]
  },
  {
   "cell_type": "markdown",
   "id": "9fd75842-879d-45ae-87fa-55fd59dc880e",
   "metadata": {},
   "source": [
    "## Numpy mask"
   ]
  },
  {
   "cell_type": "code",
   "execution_count": 2,
   "id": "b161fbe7-f432-4e4f-94a1-4fb2ff043351",
   "metadata": {},
   "outputs": [
    {
     "name": "stdout",
     "output_type": "stream",
     "text": [
      "🔧  Initialising Mask R-CNN on 'cuda'\n"
     ]
    },
    {
     "data": {
      "application/vnd.jupyter.widget-view+json": {
       "model_id": "2a98f98d794e45d9bbffa392aa80526e",
       "version_major": 2,
       "version_minor": 0
      },
      "text/plain": [
       "class:   0%|          | 0/102 [00:00<?, ?it/s]"
      ]
     },
     "metadata": {},
     "output_type": "display_data"
    },
    {
     "name": "stdout",
     "output_type": "stream",
     "text": [
      "\n",
      "📂  Class [Archery] — 145 video folders\n"
     ]
    },
    {
     "data": {
      "application/vnd.jupyter.widget-view+json": {
       "model_id": "dbd13c802a084d7ba63569418c1c489a",
       "version_major": 2,
       "version_minor": 0
      },
      "text/plain": [
       "Archery:   0%|          | 0/145 [00:00<?, ?it/s]"
      ]
     },
     "metadata": {},
     "output_type": "display_data"
    },
    {
     "name": "stdout",
     "output_type": "stream",
     "text": [
      "  🎞  Video [v_Archery_g01_c01] — 131 frames\n",
      "     ▸ batch     0-31    — kept 54 boxes\n",
      "         GPU mem: 22.5 GB / 25.3 GB used\n",
      "         GPU mem: 22.5 GB / 25.3 GB used\n",
      "  ⏱  Finished video in 3.5s (≈26.3 ms per frame)\n",
      "  🎞  Video [v_Archery_g01_c02] — 142 frames\n",
      "     ▸ batch     0-31    — kept 36 boxes\n",
      "         GPU mem: 22.5 GB / 25.3 GB used\n",
      "         GPU mem: 22.5 GB / 25.3 GB used\n",
      "  ⏱  Finished video in 3.9s (≈27.5 ms per frame)\n",
      "  🎞  Video [v_Archery_g01_c03] — 158 frames\n",
      "     ▸ batch     0-31    — kept 67 boxes\n",
      "         GPU mem: 22.5 GB / 25.3 GB used\n",
      "         GPU mem: 22.5 GB / 25.3 GB used\n",
      "         GPU mem: 22.5 GB / 25.3 GB used\n",
      "  ⏱  Finished video in 4.6s (≈29.4 ms per frame)\n",
      "  🎞  Video [v_Archery_g01_c04] — 125 frames\n",
      "     ▸ batch     0-31    — kept 65 boxes\n",
      "         GPU mem: 22.5 GB / 25.3 GB used\n",
      "         GPU mem: 22.5 GB / 25.3 GB used\n",
      "  ⏱  Finished video in 3.6s (≈28.7 ms per frame)\n",
      "  🎞  Video [v_Archery_g01_c05] — 135 frames\n",
      "     ▸ batch     0-31    — kept 96 boxes\n",
      "         GPU mem: 22.5 GB / 25.3 GB used\n",
      "         GPU mem: 22.5 GB / 25.3 GB used\n",
      "  ⏱  Finished video in 3.7s (≈27.1 ms per frame)\n",
      "  🎞  Video [v_Archery_g01_c06] — 108 frames\n",
      "     ▸ batch     0-31    — kept 80 boxes\n",
      "         GPU mem: 22.5 GB / 25.3 GB used\n",
      "         GPU mem: 22.5 GB / 25.3 GB used\n",
      "  ⏱  Finished video in 3.1s (≈28.3 ms per frame)\n",
      "  🎞  Video [v_Archery_g01_c07] — 143 frames\n",
      "     ▸ batch     0-31    — kept 66 boxes\n",
      "         GPU mem: 22.5 GB / 25.3 GB used\n",
      "         GPU mem: 22.5 GB / 25.3 GB used\n",
      "  ⏱  Finished video in 3.6s (≈25.2 ms per frame)\n",
      "  🎞  Video [v_Archery_g02_c01] — 158 frames\n",
      "     ▸ batch     0-31    — kept 116 boxes\n",
      "         GPU mem: 22.5 GB / 25.3 GB used\n",
      "         GPU mem: 22.5 GB / 25.3 GB used\n",
      "         GPU mem: 22.5 GB / 25.3 GB used\n",
      "  ⏱  Finished video in 4.3s (≈27.0 ms per frame)\n",
      "  🎞  Video [v_Archery_g02_c02] — 160 frames\n",
      "     ▸ batch     0-31    — kept 73 boxes\n",
      "         GPU mem: 22.5 GB / 25.3 GB used\n",
      "         GPU mem: 22.5 GB / 25.3 GB used\n",
      "         GPU mem: 22.5 GB / 25.3 GB used\n",
      "  ⏱  Finished video in 4.2s (≈26.0 ms per frame)\n",
      "  🎞  Video [v_Archery_g02_c03] — 138 frames\n",
      "     ▸ batch     0-31    — kept 87 boxes\n",
      "         GPU mem: 22.5 GB / 25.3 GB used\n",
      "         GPU mem: 22.5 GB / 25.3 GB used\n",
      "  ⏱  Finished video in 3.6s (≈26.0 ms per frame)\n",
      "  🎞  Video [v_Archery_g02_c04] — 109 frames\n",
      "     ▸ batch     0-31    — kept 69 boxes\n",
      "         GPU mem: 22.5 GB / 25.3 GB used\n",
      "         GPU mem: 22.5 GB / 25.3 GB used\n",
      "  ⏱  Finished video in 2.8s (≈25.4 ms per frame)\n",
      "  🎞  Video [v_Archery_g02_c05] — 127 frames\n",
      "     ▸ batch     0-31    — kept 61 boxes\n",
      "         GPU mem: 22.5 GB / 25.3 GB used\n",
      "         GPU mem: 22.5 GB / 25.3 GB used\n",
      "  ⏱  Finished video in 3.5s (≈27.5 ms per frame)\n",
      "  🎞  Video [v_Archery_g02_c06] — 113 frames\n",
      "     ▸ batch     0-31    — kept 109 boxes\n",
      "         GPU mem: 22.5 GB / 25.3 GB used\n",
      "         GPU mem: 22.5 GB / 25.3 GB used\n",
      "  ⏱  Finished video in 3.0s (≈26.2 ms per frame)\n",
      "  🎞  Video [v_Archery_g02_c07] — 166 frames\n",
      "     ▸ batch     0-31    — kept 85 boxes\n",
      "         GPU mem: 22.5 GB / 25.3 GB used\n",
      "         GPU mem: 22.5 GB / 25.3 GB used\n",
      "         GPU mem: 22.5 GB / 25.3 GB used\n",
      "     ▸ batch   160-165   — kept 13 boxes\n",
      "  ⏱  Finished video in 4.3s (≈26.0 ms per frame)\n",
      "  🎞  Video [v_Archery_g03_c01] — 151 frames\n",
      "     ▸ batch     0-31    — kept 37 boxes\n",
      "         GPU mem: 22.5 GB / 25.3 GB used\n",
      "         GPU mem: 22.5 GB / 25.3 GB used\n",
      "         GPU mem: 22.5 GB / 25.3 GB used\n",
      "  ⏱  Finished video in 3.5s (≈22.9 ms per frame)\n",
      "  🎞  Video [v_Archery_g03_c02] — 177 frames\n",
      "     ▸ batch     0-31    — kept 101 boxes\n",
      "         GPU mem: 22.5 GB / 25.3 GB used\n",
      "         GPU mem: 22.5 GB / 25.3 GB used\n",
      "         GPU mem: 22.5 GB / 25.3 GB used\n",
      "     ▸ batch   160-176   — kept 49 boxes\n",
      "  ⏱  Finished video in 4.5s (≈25.7 ms per frame)\n",
      "  🎞  Video [v_Archery_g03_c03] — 126 frames\n",
      "     ▸ batch     0-31    — kept 170 boxes\n",
      "         GPU mem: 22.5 GB / 25.3 GB used\n",
      "         GPU mem: 22.5 GB / 25.3 GB used\n",
      "  ⏱  Finished video in 3.1s (≈24.7 ms per frame)\n",
      "  🎞  Video [v_Archery_g03_c04] — 139 frames\n",
      "     ▸ batch     0-31    — kept 156 boxes\n",
      "         GPU mem: 22.5 GB / 25.3 GB used\n",
      "         GPU mem: 22.5 GB / 25.3 GB used\n",
      "  ⏱  Finished video in 3.6s (≈25.9 ms per frame)\n",
      "  🎞  Video [v_Archery_g03_c05] — 125 frames\n",
      "     ▸ batch     0-31    — kept 69 boxes\n",
      "         GPU mem: 22.5 GB / 25.3 GB used\n",
      "         GPU mem: 22.5 GB / 25.3 GB used\n",
      "  ⏱  Finished video in 3.5s (≈27.9 ms per frame)\n",
      "  🎞  Video [v_Archery_g04_c01] — 165 frames\n",
      "     ▸ batch     0-31    — kept 80 boxes\n",
      "         GPU mem: 22.5 GB / 25.3 GB used\n",
      "         GPU mem: 22.5 GB / 25.3 GB used\n",
      "         GPU mem: 22.5 GB / 25.3 GB used\n",
      "     ▸ batch   160-164   — kept 11 boxes\n",
      "  ⏱  Finished video in 4.2s (≈25.4 ms per frame)\n",
      "  🎞  Video [v_Archery_g04_c02] — 173 frames\n",
      "     ▸ batch     0-31    — kept 60 boxes\n",
      "         GPU mem: 22.5 GB / 25.3 GB used\n",
      "         GPU mem: 22.5 GB / 25.3 GB used\n",
      "         GPU mem: 22.5 GB / 25.3 GB used\n",
      "     ▸ batch   160-172   — kept 32 boxes\n",
      "  ⏱  Finished video in 4.5s (≈26.0 ms per frame)\n",
      "  🎞  Video [v_Archery_g04_c03] — 140 frames\n",
      "     ▸ batch     0-31    — kept 78 boxes\n",
      "         GPU mem: 22.5 GB / 25.3 GB used\n",
      "         GPU mem: 22.5 GB / 25.3 GB used\n",
      "  ⏱  Finished video in 3.6s (≈25.8 ms per frame)\n",
      "  🎞  Video [v_Archery_g04_c04] — 135 frames\n",
      "     ▸ batch     0-31    — kept 89 boxes\n",
      "         GPU mem: 22.5 GB / 25.3 GB used\n",
      "         GPU mem: 22.5 GB / 25.3 GB used\n",
      "  ⏱  Finished video in 3.4s (≈24.8 ms per frame)\n",
      "  🎞  Video [v_Archery_g04_c05] — 149 frames\n",
      "     ▸ batch     0-31    — kept 96 boxes\n",
      "         GPU mem: 22.5 GB / 25.3 GB used\n",
      "         GPU mem: 22.5 GB / 25.3 GB used\n",
      "  ⏱  Finished video in 3.8s (≈25.4 ms per frame)\n",
      "  🎞  Video [v_Archery_g05_c01] — 456 frames\n",
      "     ▸ batch     0-31    — kept 57 boxes\n",
      "         GPU mem: 22.5 GB / 25.3 GB used\n",
      "         GPU mem: 22.5 GB / 25.3 GB used\n",
      "         GPU mem: 22.5 GB / 25.3 GB used\n",
      "     ▸ batch   160-191   — kept 61 boxes\n",
      "         GPU mem: 22.5 GB / 25.3 GB used\n",
      "         GPU mem: 22.5 GB / 25.3 GB used\n",
      "         GPU mem: 22.5 GB / 25.3 GB used\n",
      "     ▸ batch   320-351   — kept 9 boxes\n",
      "         GPU mem: 22.5 GB / 25.3 GB used\n",
      "         GPU mem: 22.5 GB / 25.3 GB used\n",
      "         GPU mem: 22.5 GB / 25.3 GB used\n",
      "  ⏱  Finished video in 11.0s (≈24.1 ms per frame)\n",
      "  🎞  Video [v_Archery_g05_c02] — 558 frames\n",
      "     ▸ batch     0-31    — kept 54 boxes\n",
      "         GPU mem: 22.5 GB / 25.3 GB used\n",
      "         GPU mem: 22.5 GB / 25.3 GB used\n",
      "         GPU mem: 22.5 GB / 25.3 GB used\n",
      "     ▸ batch   160-191   — kept 121 boxes\n",
      "         GPU mem: 22.5 GB / 25.3 GB used\n",
      "         GPU mem: 22.5 GB / 25.3 GB used\n",
      "         GPU mem: 22.5 GB / 25.3 GB used\n",
      "     ▸ batch   320-351   — kept 20 boxes\n",
      "         GPU mem: 22.5 GB / 25.3 GB used\n",
      "         GPU mem: 22.5 GB / 25.3 GB used\n",
      "         GPU mem: 22.5 GB / 25.3 GB used\n",
      "     ▸ batch   480-511   — kept 35 boxes\n",
      "         GPU mem: 22.5 GB / 25.3 GB used\n",
      "         GPU mem: 22.5 GB / 25.3 GB used\n",
      "  ⏱  Finished video in 13.3s (≈23.9 ms per frame)\n",
      "  🎞  Video [v_Archery_g05_c03] — 489 frames\n",
      "     ▸ batch     0-31    — kept 47 boxes\n",
      "         GPU mem: 22.5 GB / 25.3 GB used\n",
      "         GPU mem: 22.5 GB / 25.3 GB used\n",
      "         GPU mem: 22.5 GB / 25.3 GB used\n",
      "     ▸ batch   160-191   — kept 63 boxes\n",
      "         GPU mem: 22.5 GB / 25.3 GB used\n",
      "         GPU mem: 22.5 GB / 25.3 GB used\n",
      "         GPU mem: 22.5 GB / 25.3 GB used\n",
      "     ▸ batch   320-351   — kept 35 boxes\n",
      "         GPU mem: 22.5 GB / 25.3 GB used\n",
      "         GPU mem: 22.5 GB / 25.3 GB used\n",
      "         GPU mem: 22.5 GB / 25.3 GB used\n",
      "     ▸ batch   480-488   — kept 32 boxes\n",
      "  ⏱  Finished video in 11.7s (≈23.9 ms per frame)\n",
      "  🎞  Video [v_Archery_g05_c04] — 52 frames\n",
      "     ▸ batch     0-31    — kept 141 boxes\n",
      "         GPU mem: 22.5 GB / 25.3 GB used\n",
      "  ⏱  Finished video in 1.3s (≈25.8 ms per frame)\n",
      "  🎞  Video [v_Archery_g05_c05] — 197 frames\n",
      "     ▸ batch     0-31    — kept 82 boxes\n",
      "         GPU mem: 22.5 GB / 25.3 GB used\n",
      "         GPU mem: 22.5 GB / 25.3 GB used\n",
      "         GPU mem: 22.5 GB / 25.3 GB used\n",
      "     ▸ batch   160-191   — kept 138 boxes\n",
      "  ⏱  Finished video in 4.9s (≈25.1 ms per frame)\n",
      "  🎞  Video [v_Archery_g06_c01] — 81 frames\n",
      "     ▸ batch     0-31    — kept 126 boxes\n",
      "         GPU mem: 22.5 GB / 25.3 GB used\n",
      "  ⏱  Finished video in 2.1s (≈25.7 ms per frame)\n",
      "  🎞  Video [v_Archery_g06_c02] — 116 frames\n",
      "     ▸ batch     0-31    — kept 92 boxes\n",
      "         GPU mem: 22.5 GB / 25.3 GB used\n",
      "         GPU mem: 22.5 GB / 25.3 GB used\n",
      "  ⏱  Finished video in 3.0s (≈26.2 ms per frame)\n",
      "  🎞  Video [v_Archery_g06_c03] — 87 frames\n",
      "     ▸ batch     0-31    — kept 122 boxes\n",
      "         GPU mem: 22.5 GB / 25.3 GB used\n",
      "  ⏱  Finished video in 2.2s (≈25.5 ms per frame)\n",
      "  🎞  Video [v_Archery_g06_c04] — 104 frames\n",
      "     ▸ batch     0-31    — kept 71 boxes\n",
      "         GPU mem: 22.5 GB / 25.3 GB used\n",
      "         GPU mem: 22.5 GB / 25.3 GB used\n",
      "  ⏱  Finished video in 2.4s (≈23.5 ms per frame)\n",
      "  🎞  Video [v_Archery_g06_c05] — 130 frames\n",
      "     ▸ batch     0-31    — kept 97 boxes\n",
      "         GPU mem: 22.5 GB / 25.3 GB used\n",
      "         GPU mem: 22.5 GB / 25.3 GB used\n",
      "  ⏱  Finished video in 3.1s (≈23.8 ms per frame)\n",
      "  🎞  Video [v_Archery_g06_c06] — 132 frames\n",
      "     ▸ batch     0-31    — kept 113 boxes\n",
      "         GPU mem: 22.5 GB / 25.3 GB used\n",
      "         GPU mem: 22.5 GB / 25.3 GB used\n",
      "  ⏱  Finished video in 3.4s (≈25.5 ms per frame)\n",
      "  🎞  Video [v_Archery_g07_c01] — 92 frames\n",
      "     ▸ batch     0-31    — kept 14 boxes\n",
      "         GPU mem: 22.5 GB / 25.3 GB used\n",
      "  ⏱  Finished video in 2.2s (≈23.7 ms per frame)\n",
      "  🎞  Video [v_Archery_g07_c02] — 73 frames\n",
      "     ▸ batch     0-31    — kept 23 boxes\n",
      "         GPU mem: 22.5 GB / 25.3 GB used\n",
      "  ⏱  Finished video in 1.7s (≈23.5 ms per frame)\n",
      "  🎞  Video [v_Archery_g07_c03] — 52 frames\n",
      "     ▸ batch     0-31    — kept 20 boxes\n",
      "         GPU mem: 22.5 GB / 25.3 GB used\n",
      "  ⏱  Finished video in 1.2s (≈23.2 ms per frame)\n",
      "  🎞  Video [v_Archery_g07_c04] — 52 frames\n",
      "     ▸ batch     0-31    — kept 31 boxes\n",
      "         GPU mem: 22.5 GB / 25.3 GB used\n",
      "  ⏱  Finished video in 1.2s (≈23.7 ms per frame)\n",
      "  🎞  Video [v_Archery_g07_c05] — 65 frames\n",
      "     ▸ batch     0-31    — kept 20 boxes\n",
      "         GPU mem: 22.5 GB / 25.3 GB used\n",
      "  ⏱  Finished video in 1.5s (≈23.5 ms per frame)\n",
      "  🎞  Video [v_Archery_g07_c06] — 68 frames\n",
      "     ▸ batch     0-31    — kept 24 boxes\n",
      "         GPU mem: 22.5 GB / 25.3 GB used\n",
      "  ⏱  Finished video in 1.7s (≈24.5 ms per frame)\n",
      "  🎞  Video [v_Archery_g08_c01] — 363 frames\n",
      "     ▸ batch     0-31    — kept 79 boxes\n",
      "         GPU mem: 22.5 GB / 25.3 GB used\n",
      "         GPU mem: 22.5 GB / 25.3 GB used\n",
      "         GPU mem: 22.5 GB / 25.3 GB used\n",
      "     ▸ batch   160-191   — kept 90 boxes\n",
      "         GPU mem: 22.5 GB / 25.3 GB used\n",
      "         GPU mem: 22.5 GB / 25.3 GB used\n",
      "         GPU mem: 22.5 GB / 25.3 GB used\n",
      "     ▸ batch   320-351   — kept 118 boxes\n",
      "         GPU mem: 22.5 GB / 25.3 GB used\n",
      "  ⏱  Finished video in 9.5s (≈26.2 ms per frame)\n",
      "  🎞  Video [v_Archery_g08_c02] — 116 frames\n",
      "     ▸ batch     0-31    — kept 120 boxes\n",
      "         GPU mem: 22.5 GB / 25.3 GB used\n",
      "         GPU mem: 22.5 GB / 25.3 GB used\n",
      "  ⏱  Finished video in 3.0s (≈26.2 ms per frame)\n",
      "  🎞  Video [v_Archery_g08_c03] — 326 frames\n",
      "     ▸ batch     0-31    — kept 100 boxes\n",
      "         GPU mem: 22.5 GB / 25.3 GB used\n",
      "         GPU mem: 22.5 GB / 25.3 GB used\n",
      "         GPU mem: 22.5 GB / 25.3 GB used\n",
      "     ▸ batch   160-191   — kept 107 boxes\n",
      "         GPU mem: 22.5 GB / 25.3 GB used\n",
      "         GPU mem: 22.5 GB / 25.3 GB used\n",
      "         GPU mem: 22.5 GB / 25.3 GB used\n",
      "     ▸ batch   320-325   — kept 19 boxes\n",
      "  ⏱  Finished video in 8.5s (≈26.1 ms per frame)\n",
      "  🎞  Video [v_Archery_g08_c04] — 343 frames\n",
      "     ▸ batch     0-31    — kept 86 boxes\n",
      "         GPU mem: 22.5 GB / 25.3 GB used\n",
      "         GPU mem: 22.5 GB / 25.3 GB used\n",
      "         GPU mem: 22.5 GB / 25.3 GB used\n",
      "     ▸ batch   160-191   — kept 108 boxes\n",
      "         GPU mem: 22.5 GB / 25.3 GB used\n",
      "         GPU mem: 22.5 GB / 25.3 GB used\n",
      "         GPU mem: 22.5 GB / 25.3 GB used\n",
      "     ▸ batch   320-342   — kept 83 boxes\n",
      "  ⏱  Finished video in 8.9s (≈25.9 ms per frame)\n",
      "  🎞  Video [v_Archery_g08_c05] — 367 frames\n",
      "     ▸ batch     0-31    — kept 69 boxes\n",
      "         GPU mem: 22.5 GB / 25.3 GB used\n",
      "         GPU mem: 22.5 GB / 25.3 GB used\n",
      "         GPU mem: 22.5 GB / 25.3 GB used\n",
      "     ▸ batch   160-191   — kept 106 boxes\n",
      "         GPU mem: 22.5 GB / 25.3 GB used\n",
      "         GPU mem: 22.5 GB / 25.3 GB used\n",
      "         GPU mem: 22.5 GB / 25.3 GB used\n",
      "     ▸ batch   320-351   — kept 99 boxes\n",
      "         GPU mem: 22.5 GB / 25.3 GB used\n",
      "  ⏱  Finished video in 9.7s (≈26.5 ms per frame)\n",
      "  🎞  Video [v_Archery_g09_c01] — 100 frames\n",
      "     ▸ batch     0-31    — kept 62 boxes\n",
      "         GPU mem: 22.5 GB / 25.3 GB used\n",
      "         GPU mem: 22.5 GB / 25.3 GB used\n",
      "  ⏱  Finished video in 2.8s (≈28.3 ms per frame)\n",
      "  🎞  Video [v_Archery_g09_c02] — 84 frames\n",
      "     ▸ batch     0-31    — kept 49 boxes\n",
      "         GPU mem: 22.5 GB / 25.3 GB used\n",
      "  ⏱  Finished video in 2.3s (≈27.0 ms per frame)\n",
      "  🎞  Video [v_Archery_g09_c03] — 83 frames\n",
      "     ▸ batch     0-31    — kept 43 boxes\n",
      "         GPU mem: 22.5 GB / 25.3 GB used\n",
      "  ⏱  Finished video in 2.3s (≈28.2 ms per frame)\n",
      "  🎞  Video [v_Archery_g09_c04] — 96 frames\n",
      "     ▸ batch     0-31    — kept 39 boxes\n",
      "         GPU mem: 22.5 GB / 25.3 GB used\n",
      "  ⏱  Finished video in 2.3s (≈24.1 ms per frame)\n",
      "  🎞  Video [v_Archery_g09_c05] — 97 frames\n",
      "     ▸ batch     0-31    — kept 19 boxes\n",
      "         GPU mem: 22.5 GB / 25.3 GB used\n",
      "  ⏱  Finished video in 2.4s (≈24.9 ms per frame)\n",
      "  🎞  Video [v_Archery_g09_c06] — 86 frames\n",
      "     ▸ batch     0-31    — kept 18 boxes\n",
      "         GPU mem: 22.5 GB / 25.3 GB used\n",
      "  ⏱  Finished video in 2.2s (≈25.4 ms per frame)\n",
      "  🎞  Video [v_Archery_g09_c07] — 108 frames\n",
      "     ▸ batch     0-31    — kept 36 boxes\n",
      "         GPU mem: 22.5 GB / 25.3 GB used\n",
      "         GPU mem: 22.5 GB / 25.3 GB used\n",
      "  ⏱  Finished video in 2.7s (≈25.0 ms per frame)\n",
      "  🎞  Video [v_Archery_g10_c01] — 111 frames\n",
      "     ▸ batch     0-31    — kept 50 boxes\n",
      "         GPU mem: 22.5 GB / 25.3 GB used\n",
      "         GPU mem: 22.5 GB / 25.3 GB used\n",
      "  ⏱  Finished video in 2.8s (≈25.1 ms per frame)\n",
      "  🎞  Video [v_Archery_g10_c02] — 140 frames\n",
      "     ▸ batch     0-31    — kept 49 boxes\n",
      "         GPU mem: 22.5 GB / 25.3 GB used\n",
      "         GPU mem: 22.5 GB / 25.3 GB used\n",
      "  ⏱  Finished video in 3.5s (≈24.7 ms per frame)\n",
      "  🎞  Video [v_Archery_g10_c03] — 203 frames\n",
      "     ▸ batch     0-31    — kept 120 boxes\n",
      "         GPU mem: 22.5 GB / 25.3 GB used\n",
      "         GPU mem: 22.5 GB / 25.3 GB used\n",
      "         GPU mem: 22.5 GB / 25.3 GB used\n",
      "     ▸ batch   160-191   — kept 53 boxes\n",
      "         GPU mem: 22.5 GB / 25.3 GB used\n",
      "  ⏱  Finished video in 5.1s (≈25.2 ms per frame)\n",
      "  🎞  Video [v_Archery_g10_c04] — 208 frames\n",
      "     ▸ batch     0-31    — kept 90 boxes\n",
      "         GPU mem: 22.5 GB / 25.3 GB used\n",
      "         GPU mem: 22.5 GB / 25.3 GB used\n",
      "         GPU mem: 22.5 GB / 25.3 GB used\n",
      "     ▸ batch   160-191   — kept 35 boxes\n",
      "         GPU mem: 22.5 GB / 25.3 GB used\n",
      "  ⏱  Finished video in 5.1s (≈24.7 ms per frame)\n",
      "  🎞  Video [v_Archery_g10_c05] — 188 frames\n",
      "     ▸ batch     0-31    — kept 67 boxes\n",
      "         GPU mem: 22.5 GB / 25.3 GB used\n",
      "         GPU mem: 22.5 GB / 25.3 GB used\n",
      "         GPU mem: 22.5 GB / 25.3 GB used\n",
      "     ▸ batch   160-187   — kept 67 boxes\n",
      "  ⏱  Finished video in 4.7s (≈24.8 ms per frame)\n",
      "  🎞  Video [v_Archery_g10_c06] — 176 frames\n",
      "     ▸ batch     0-31    — kept 92 boxes\n",
      "         GPU mem: 22.5 GB / 25.3 GB used\n",
      "         GPU mem: 22.5 GB / 25.3 GB used\n",
      "         GPU mem: 22.5 GB / 25.3 GB used\n",
      "     ▸ batch   160-175   — kept 20 boxes\n",
      "  ⏱  Finished video in 4.3s (≈24.2 ms per frame)\n",
      "  🎞  Video [v_Archery_g10_c07] — 126 frames\n",
      "     ▸ batch     0-31    — kept 103 boxes\n",
      "         GPU mem: 22.5 GB / 25.3 GB used\n",
      "         GPU mem: 22.5 GB / 25.3 GB used\n",
      "  ⏱  Finished video in 3.1s (≈24.9 ms per frame)\n",
      "  🎞  Video [v_Archery_g11_c01] — 194 frames\n",
      "     ▸ batch     0-31    — kept 136 boxes\n",
      "         GPU mem: 22.5 GB / 25.3 GB used\n",
      "         GPU mem: 22.5 GB / 25.3 GB used\n",
      "         GPU mem: 22.5 GB / 25.3 GB used\n",
      "     ▸ batch   160-191   — kept 102 boxes\n",
      "  ⏱  Finished video in 5.1s (≈26.2 ms per frame)\n",
      "  🎞  Video [v_Archery_g11_c02] — 303 frames\n",
      "     ▸ batch     0-31    — kept 125 boxes\n",
      "         GPU mem: 22.5 GB / 25.3 GB used\n",
      "         GPU mem: 22.5 GB / 25.3 GB used\n",
      "         GPU mem: 22.5 GB / 25.3 GB used\n",
      "     ▸ batch   160-191   — kept 219 boxes\n",
      "         GPU mem: 22.5 GB / 25.3 GB used\n",
      "         GPU mem: 22.5 GB / 25.3 GB used\n",
      "         GPU mem: 22.5 GB / 25.3 GB used\n",
      "  ⏱  Finished video in 7.8s (≈25.7 ms per frame)\n",
      "  🎞  Video [v_Archery_g11_c03] — 296 frames\n",
      "     ▸ batch     0-31    — kept 154 boxes\n",
      "         GPU mem: 22.5 GB / 25.3 GB used\n",
      "         GPU mem: 22.5 GB / 25.3 GB used\n",
      "         GPU mem: 22.5 GB / 25.3 GB used\n",
      "     ▸ batch   160-191   — kept 223 boxes\n",
      "         GPU mem: 22.5 GB / 25.3 GB used\n",
      "         GPU mem: 22.5 GB / 25.3 GB used\n",
      "  ⏱  Finished video in 7.6s (≈25.8 ms per frame)\n",
      "  🎞  Video [v_Archery_g11_c04] — 259 frames\n",
      "     ▸ batch     0-31    — kept 152 boxes\n",
      "         GPU mem: 22.5 GB / 25.3 GB used\n",
      "         GPU mem: 22.5 GB / 25.3 GB used\n",
      "         GPU mem: 22.5 GB / 25.3 GB used\n",
      "     ▸ batch   160-191   — kept 155 boxes\n",
      "         GPU mem: 22.5 GB / 25.3 GB used\n",
      "         GPU mem: 22.5 GB / 25.3 GB used\n",
      "  ⏱  Finished video in 6.5s (≈25.1 ms per frame)\n",
      "  🎞  Video [v_Archery_g11_c05] — 211 frames\n",
      "     ▸ batch     0-31    — kept 49 boxes\n",
      "         GPU mem: 22.5 GB / 25.3 GB used\n",
      "         GPU mem: 22.5 GB / 25.3 GB used\n",
      "         GPU mem: 22.5 GB / 25.3 GB used\n",
      "     ▸ batch   160-191   — kept 22 boxes\n",
      "         GPU mem: 22.5 GB / 25.3 GB used\n",
      "  ⏱  Finished video in 4.9s (≈23.5 ms per frame)\n",
      "  🎞  Video [v_Archery_g11_c06] — 244 frames\n",
      "     ▸ batch     0-31    — kept 35 boxes\n",
      "         GPU mem: 22.5 GB / 25.3 GB used\n",
      "         GPU mem: 22.5 GB / 25.3 GB used\n",
      "         GPU mem: 22.5 GB / 25.3 GB used\n",
      "     ▸ batch   160-191   — kept 32 boxes\n",
      "         GPU mem: 22.5 GB / 25.3 GB used\n",
      "  ⏱  Finished video in 6.1s (≈25.1 ms per frame)\n",
      "  🎞  Video [v_Archery_g11_c07] — 265 frames\n",
      "     ▸ batch     0-31    — kept 135 boxes\n",
      "         GPU mem: 22.5 GB / 25.3 GB used\n",
      "         GPU mem: 22.5 GB / 25.3 GB used\n",
      "         GPU mem: 22.5 GB / 25.3 GB used\n",
      "     ▸ batch   160-191   — kept 42 boxes\n",
      "         GPU mem: 22.5 GB / 25.3 GB used\n",
      "         GPU mem: 22.5 GB / 25.3 GB used\n",
      "  ⏱  Finished video in 6.9s (≈26.1 ms per frame)\n",
      "  🎞  Video [v_Archery_g12_c01] — 355 frames\n",
      "     ▸ batch     0-31    — kept 152 boxes\n",
      "         GPU mem: 22.5 GB / 25.3 GB used\n",
      "         GPU mem: 22.5 GB / 25.3 GB used\n",
      "         GPU mem: 22.5 GB / 25.3 GB used\n",
      "     ▸ batch   160-191   — kept 140 boxes\n",
      "         GPU mem: 22.5 GB / 25.3 GB used\n",
      "         GPU mem: 22.5 GB / 25.3 GB used\n",
      "         GPU mem: 22.5 GB / 25.3 GB used\n",
      "     ▸ batch   320-351   — kept 87 boxes\n",
      "         GPU mem: 22.5 GB / 25.3 GB used\n",
      "  ⏱  Finished video in 9.8s (≈27.5 ms per frame)\n",
      "  🎞  Video [v_Archery_g12_c02] — 398 frames\n",
      "     ▸ batch     0-31    — kept 117 boxes\n",
      "         GPU mem: 22.5 GB / 25.3 GB used\n",
      "         GPU mem: 22.5 GB / 25.3 GB used\n",
      "         GPU mem: 22.5 GB / 25.3 GB used\n",
      "     ▸ batch   160-191   — kept 177 boxes\n",
      "         GPU mem: 22.5 GB / 25.3 GB used\n",
      "         GPU mem: 22.5 GB / 25.3 GB used\n",
      "         GPU mem: 22.5 GB / 25.3 GB used\n",
      "     ▸ batch   320-351   — kept 123 boxes\n",
      "         GPU mem: 22.5 GB / 25.3 GB used\n",
      "  ⏱  Finished video in 10.7s (≈26.9 ms per frame)\n",
      "  🎞  Video [v_Archery_g12_c03] — 436 frames\n",
      "     ▸ batch     0-31    — kept 135 boxes\n",
      "         GPU mem: 22.5 GB / 25.3 GB used\n",
      "         GPU mem: 22.5 GB / 25.3 GB used\n",
      "         GPU mem: 22.5 GB / 25.3 GB used\n",
      "     ▸ batch   160-191   — kept 95 boxes\n",
      "         GPU mem: 22.5 GB / 25.3 GB used\n",
      "         GPU mem: 22.5 GB / 25.3 GB used\n",
      "         GPU mem: 22.5 GB / 25.3 GB used\n",
      "     ▸ batch   320-351   — kept 114 boxes\n",
      "         GPU mem: 22.5 GB / 25.3 GB used\n",
      "         GPU mem: 22.5 GB / 25.3 GB used\n",
      "  ⏱  Finished video in 11.6s (≈26.6 ms per frame)\n",
      "  🎞  Video [v_Archery_g12_c04] — 195 frames\n",
      "     ▸ batch     0-31    — kept 128 boxes\n",
      "         GPU mem: 22.5 GB / 25.3 GB used\n",
      "         GPU mem: 22.5 GB / 25.3 GB used\n",
      "         GPU mem: 22.5 GB / 25.3 GB used\n",
      "     ▸ batch   160-191   — kept 155 boxes\n",
      "  ⏱  Finished video in 5.2s (≈26.6 ms per frame)\n",
      "  🎞  Video [v_Archery_g13_c01] — 150 frames\n",
      "     ▸ batch     0-31    — kept 76 boxes\n",
      "         GPU mem: 22.5 GB / 25.3 GB used\n",
      "         GPU mem: 22.5 GB / 25.3 GB used\n",
      "         GPU mem: 22.5 GB / 25.3 GB used\n",
      "  ⏱  Finished video in 3.7s (≈24.3 ms per frame)\n",
      "  🎞  Video [v_Archery_g13_c02] — 148 frames\n",
      "     ▸ batch     0-31    — kept 80 boxes\n",
      "         GPU mem: 22.5 GB / 25.3 GB used\n",
      "         GPU mem: 22.5 GB / 25.3 GB used\n",
      "  ⏱  Finished video in 3.5s (≈23.7 ms per frame)\n",
      "  🎞  Video [v_Archery_g13_c03] — 161 frames\n",
      "     ▸ batch     0-31    — kept 41 boxes\n",
      "         GPU mem: 22.5 GB / 25.3 GB used\n",
      "         GPU mem: 22.5 GB / 25.3 GB used\n",
      "         GPU mem: 22.5 GB / 25.3 GB used\n",
      "     ▸ batch   160-160   — kept 2 boxes\n",
      "  ⏱  Finished video in 3.7s (≈22.7 ms per frame)\n",
      "  🎞  Video [v_Archery_g13_c04] — 167 frames\n",
      "     ▸ batch     0-31    — kept 47 boxes\n",
      "         GPU mem: 22.5 GB / 25.3 GB used\n",
      "         GPU mem: 22.5 GB / 25.3 GB used\n",
      "         GPU mem: 22.5 GB / 25.3 GB used\n",
      "     ▸ batch   160-166   — kept 19 boxes\n",
      "  ⏱  Finished video in 4.2s (≈25.4 ms per frame)\n",
      "  🎞  Video [v_Archery_g13_c05] — 186 frames\n",
      "     ▸ batch     0-31    — kept 40 boxes\n",
      "         GPU mem: 22.5 GB / 25.3 GB used\n",
      "         GPU mem: 22.5 GB / 25.3 GB used\n",
      "         GPU mem: 22.5 GB / 25.3 GB used\n",
      "     ▸ batch   160-185   — kept 74 boxes\n",
      "  ⏱  Finished video in 4.7s (≈25.2 ms per frame)\n",
      "  🎞  Video [v_Archery_g13_c06] — 165 frames\n",
      "     ▸ batch     0-31    — kept 101 boxes\n",
      "         GPU mem: 22.5 GB / 25.3 GB used\n",
      "         GPU mem: 22.5 GB / 25.3 GB used\n",
      "         GPU mem: 22.5 GB / 25.3 GB used\n",
      "     ▸ batch   160-164   — kept 18 boxes\n",
      "  ⏱  Finished video in 4.4s (≈26.6 ms per frame)\n",
      "  🎞  Video [v_Archery_g13_c07] — 191 frames\n",
      "     ▸ batch     0-31    — kept 53 boxes\n",
      "         GPU mem: 22.5 GB / 25.3 GB used\n",
      "         GPU mem: 22.5 GB / 25.3 GB used\n",
      "         GPU mem: 22.5 GB / 25.3 GB used\n",
      "     ▸ batch   160-190   — kept 37 boxes\n",
      "  ⏱  Finished video in 4.4s (≈23.0 ms per frame)\n",
      "  🎞  Video [v_Archery_g14_c01] — 208 frames\n",
      "     ▸ batch     0-31    — kept 24 boxes\n",
      "         GPU mem: 22.5 GB / 25.3 GB used\n",
      "         GPU mem: 22.5 GB / 25.3 GB used\n",
      "         GPU mem: 22.5 GB / 25.3 GB used\n",
      "     ▸ batch   160-191   — kept 34 boxes\n",
      "         GPU mem: 22.5 GB / 25.3 GB used\n",
      "  ⏱  Finished video in 4.7s (≈22.7 ms per frame)\n",
      "  🎞  Video [v_Archery_g14_c02] — 221 frames\n",
      "     ▸ batch     0-31    — kept 41 boxes\n",
      "         GPU mem: 22.5 GB / 25.3 GB used\n",
      "         GPU mem: 22.5 GB / 25.3 GB used\n",
      "         GPU mem: 22.5 GB / 25.3 GB used\n",
      "     ▸ batch   160-191   — kept 32 boxes\n",
      "         GPU mem: 22.5 GB / 25.3 GB used\n",
      "  ⏱  Finished video in 5.3s (≈24.0 ms per frame)\n",
      "  🎞  Video [v_Archery_g14_c03] — 170 frames\n",
      "     ▸ batch     0-31    — kept 40 boxes\n",
      "         GPU mem: 22.5 GB / 25.3 GB used\n",
      "         GPU mem: 22.5 GB / 25.3 GB used\n",
      "         GPU mem: 22.5 GB / 25.3 GB used\n",
      "     ▸ batch   160-169   — kept 14 boxes\n",
      "  ⏱  Finished video in 3.9s (≈22.7 ms per frame)\n",
      "  🎞  Video [v_Archery_g14_c04] — 245 frames\n",
      "     ▸ batch     0-31    — kept 39 boxes\n",
      "         GPU mem: 22.5 GB / 25.3 GB used\n",
      "         GPU mem: 22.5 GB / 25.3 GB used\n",
      "         GPU mem: 22.5 GB / 25.3 GB used\n",
      "     ▸ batch   160-191   — kept 68 boxes\n",
      "         GPU mem: 22.5 GB / 25.3 GB used\n",
      "  ⏱  Finished video in 5.7s (≈23.3 ms per frame)\n",
      "  🎞  Video [v_Archery_g15_c01] — 111 frames\n",
      "     ▸ batch     0-31    — kept 112 boxes\n",
      "         GPU mem: 22.5 GB / 25.3 GB used\n",
      "         GPU mem: 22.5 GB / 25.3 GB used\n",
      "  ⏱  Finished video in 2.8s (≈25.0 ms per frame)\n",
      "  🎞  Video [v_Archery_g15_c02] — 185 frames\n",
      "     ▸ batch     0-31    — kept 105 boxes\n",
      "         GPU mem: 22.5 GB / 25.3 GB used\n",
      "         GPU mem: 22.5 GB / 25.3 GB used\n",
      "         GPU mem: 22.5 GB / 25.3 GB used\n",
      "     ▸ batch   160-184   — kept 67 boxes\n",
      "  ⏱  Finished video in 4.6s (≈25.0 ms per frame)\n",
      "  🎞  Video [v_Archery_g15_c03] — 186 frames\n",
      "     ▸ batch     0-31    — kept 93 boxes\n",
      "         GPU mem: 22.5 GB / 25.3 GB used\n",
      "         GPU mem: 22.5 GB / 25.3 GB used\n",
      "         GPU mem: 22.5 GB / 25.3 GB used\n",
      "     ▸ batch   160-185   — kept 49 boxes\n",
      "  ⏱  Finished video in 4.7s (≈25.1 ms per frame)\n",
      "  🎞  Video [v_Archery_g15_c04] — 204 frames\n",
      "     ▸ batch     0-31    — kept 109 boxes\n",
      "         GPU mem: 22.5 GB / 25.3 GB used\n",
      "         GPU mem: 22.5 GB / 25.3 GB used\n",
      "         GPU mem: 22.5 GB / 25.3 GB used\n",
      "     ▸ batch   160-191   — kept 70 boxes\n",
      "         GPU mem: 22.5 GB / 25.3 GB used\n",
      "  ⏱  Finished video in 5.1s (≈25.0 ms per frame)\n",
      "  🎞  Video [v_Archery_g15_c05] — 176 frames\n",
      "     ▸ batch     0-31    — kept 106 boxes\n",
      "         GPU mem: 22.5 GB / 25.3 GB used\n",
      "         GPU mem: 22.5 GB / 25.3 GB used\n",
      "         GPU mem: 22.5 GB / 25.3 GB used\n",
      "     ▸ batch   160-175   — kept 35 boxes\n",
      "  ⏱  Finished video in 4.4s (≈25.2 ms per frame)\n",
      "  🎞  Video [v_Archery_g15_c06] — 175 frames\n",
      "     ▸ batch     0-31    — kept 135 boxes\n",
      "         GPU mem: 22.5 GB / 25.3 GB used\n",
      "         GPU mem: 22.5 GB / 25.3 GB used\n",
      "         GPU mem: 22.5 GB / 25.3 GB used\n",
      "     ▸ batch   160-174   — kept 46 boxes\n",
      "  ⏱  Finished video in 4.5s (≈25.9 ms per frame)\n",
      "  🎞  Video [v_Archery_g15_c07] — 176 frames\n",
      "     ▸ batch     0-31    — kept 141 boxes\n",
      "         GPU mem: 22.5 GB / 25.3 GB used\n",
      "         GPU mem: 22.5 GB / 25.3 GB used\n",
      "         GPU mem: 22.5 GB / 25.3 GB used\n",
      "     ▸ batch   160-175   — kept 84 boxes\n",
      "  ⏱  Finished video in 4.5s (≈25.5 ms per frame)\n",
      "  🎞  Video [v_Archery_g16_c01] — 152 frames\n",
      "     ▸ batch     0-31    — kept 68 boxes\n",
      "         GPU mem: 22.5 GB / 25.3 GB used\n",
      "         GPU mem: 22.5 GB / 25.3 GB used\n",
      "         GPU mem: 22.5 GB / 25.3 GB used\n",
      "  ⏱  Finished video in 4.0s (≈26.1 ms per frame)\n",
      "  🎞  Video [v_Archery_g16_c02] — 226 frames\n",
      "     ▸ batch     0-31    — kept 72 boxes\n",
      "         GPU mem: 22.5 GB / 25.3 GB used\n",
      "         GPU mem: 22.5 GB / 25.3 GB used\n",
      "         GPU mem: 22.5 GB / 25.3 GB used\n",
      "     ▸ batch   160-191   — kept 87 boxes\n",
      "         GPU mem: 22.5 GB / 25.3 GB used\n",
      "  ⏱  Finished video in 5.7s (≈25.3 ms per frame)\n",
      "  🎞  Video [v_Archery_g16_c03] — 207 frames\n",
      "     ▸ batch     0-31    — kept 70 boxes\n",
      "         GPU mem: 22.5 GB / 25.3 GB used\n",
      "         GPU mem: 22.5 GB / 25.3 GB used\n",
      "         GPU mem: 22.5 GB / 25.3 GB used\n",
      "     ▸ batch   160-191   — kept 83 boxes\n",
      "         GPU mem: 22.5 GB / 25.3 GB used\n",
      "  ⏱  Finished video in 5.4s (≈25.9 ms per frame)\n",
      "  🎞  Video [v_Archery_g16_c04] — 119 frames\n",
      "     ▸ batch     0-31    — kept 74 boxes\n",
      "         GPU mem: 22.5 GB / 25.3 GB used\n",
      "         GPU mem: 22.5 GB / 25.3 GB used\n",
      "  ⏱  Finished video in 3.0s (≈25.1 ms per frame)\n",
      "  🎞  Video [v_Archery_g16_c05] — 263 frames\n",
      "     ▸ batch     0-31    — kept 113 boxes\n",
      "         GPU mem: 22.5 GB / 25.3 GB used\n",
      "         GPU mem: 22.5 GB / 25.3 GB used\n",
      "         GPU mem: 22.5 GB / 25.3 GB used\n",
      "     ▸ batch   160-191   — kept 137 boxes\n",
      "         GPU mem: 22.5 GB / 25.3 GB used\n",
      "         GPU mem: 22.5 GB / 25.3 GB used\n",
      "  ⏱  Finished video in 6.8s (≈25.7 ms per frame)\n",
      "  🎞  Video [v_Archery_g17_c01] — 147 frames\n",
      "     ▸ batch     0-31    — kept 34 boxes\n",
      "         GPU mem: 22.5 GB / 25.3 GB used\n",
      "         GPU mem: 22.5 GB / 25.3 GB used\n",
      "  ⏱  Finished video in 3.9s (≈26.8 ms per frame)\n",
      "  🎞  Video [v_Archery_g17_c02] — 95 frames\n",
      "     ▸ batch     0-31    — kept 35 boxes\n",
      "         GPU mem: 22.5 GB / 25.3 GB used\n",
      "  ⏱  Finished video in 2.3s (≈24.5 ms per frame)\n",
      "  🎞  Video [v_Archery_g17_c03] — 97 frames\n",
      "     ▸ batch     0-31    — kept 57 boxes\n",
      "         GPU mem: 22.5 GB / 25.3 GB used\n",
      "  ⏱  Finished video in 2.5s (≈26.2 ms per frame)\n",
      "  🎞  Video [v_Archery_g17_c04] — 67 frames\n",
      "     ▸ batch     0-31    — kept 29 boxes\n",
      "         GPU mem: 22.5 GB / 25.3 GB used\n",
      "  ⏱  Finished video in 1.6s (≈23.9 ms per frame)\n",
      "  🎞  Video [v_Archery_g18_c01] — 168 frames\n",
      "     ▸ batch     0-31    — kept 57 boxes\n",
      "         GPU mem: 22.5 GB / 25.3 GB used\n",
      "         GPU mem: 22.5 GB / 25.3 GB used\n",
      "         GPU mem: 22.5 GB / 25.3 GB used\n",
      "     ▸ batch   160-167   — kept 10 boxes\n",
      "  ⏱  Finished video in 4.2s (≈25.1 ms per frame)\n",
      "  🎞  Video [v_Archery_g18_c02] — 292 frames\n",
      "     ▸ batch     0-31    — kept 47 boxes\n",
      "         GPU mem: 22.5 GB / 25.3 GB used\n",
      "         GPU mem: 22.5 GB / 25.3 GB used\n",
      "         GPU mem: 22.5 GB / 25.3 GB used\n",
      "     ▸ batch   160-191   — kept 8 boxes\n",
      "         GPU mem: 22.5 GB / 25.3 GB used\n",
      "         GPU mem: 22.5 GB / 25.3 GB used\n",
      "  ⏱  Finished video in 7.2s (≈24.7 ms per frame)\n",
      "  🎞  Video [v_Archery_g18_c03] — 200 frames\n",
      "     ▸ batch     0-31    — kept 53 boxes\n",
      "         GPU mem: 22.5 GB / 25.3 GB used\n",
      "         GPU mem: 22.5 GB / 25.3 GB used\n",
      "         GPU mem: 22.5 GB / 25.3 GB used\n",
      "     ▸ batch   160-191   — kept 3 boxes\n",
      "         GPU mem: 22.5 GB / 25.3 GB used\n",
      "  ⏱  Finished video in 5.0s (≈24.9 ms per frame)\n",
      "  🎞  Video [v_Archery_g18_c04] — 169 frames\n",
      "     ▸ batch     0-31    — kept 59 boxes\n",
      "         GPU mem: 22.5 GB / 25.3 GB used\n",
      "         GPU mem: 22.5 GB / 25.3 GB used\n",
      "         GPU mem: 22.5 GB / 25.3 GB used\n",
      "     ▸ batch   160-168   — kept 8 boxes\n",
      "  ⏱  Finished video in 4.1s (≈24.3 ms per frame)\n",
      "  🎞  Video [v_Archery_g18_c05] — 153 frames\n",
      "     ▸ batch     0-31    — kept 81 boxes\n",
      "         GPU mem: 22.5 GB / 25.3 GB used\n",
      "         GPU mem: 22.5 GB / 25.3 GB used\n",
      "         GPU mem: 22.5 GB / 25.3 GB used\n",
      "  ⏱  Finished video in 3.6s (≈23.4 ms per frame)\n",
      "  🎞  Video [v_Archery_g18_c06] — 161 frames\n",
      "     ▸ batch     0-31    — kept 111 boxes\n",
      "         GPU mem: 22.5 GB / 25.3 GB used\n",
      "         GPU mem: 22.5 GB / 25.3 GB used\n",
      "         GPU mem: 22.5 GB / 25.3 GB used\n",
      "     ▸ batch   160-160   — kept 1 boxes\n",
      "  ⏱  Finished video in 4.1s (≈25.5 ms per frame)\n",
      "  🎞  Video [v_Archery_g18_c07] — 141 frames\n",
      "     ▸ batch     0-31    — kept 75 boxes\n",
      "         GPU mem: 22.5 GB / 25.3 GB used\n",
      "         GPU mem: 22.5 GB / 25.3 GB used\n",
      "  ⏱  Finished video in 3.6s (≈25.6 ms per frame)\n",
      "  🎞  Video [v_Archery_g19_c01] — 131 frames\n",
      "     ▸ batch     0-31    — kept 60 boxes\n",
      "         GPU mem: 22.5 GB / 25.3 GB used\n",
      "         GPU mem: 22.5 GB / 25.3 GB used\n",
      "  ⏱  Finished video in 3.2s (≈24.1 ms per frame)\n",
      "  🎞  Video [v_Archery_g19_c02] — 91 frames\n",
      "     ▸ batch     0-31    — kept 78 boxes\n",
      "         GPU mem: 22.5 GB / 25.3 GB used\n",
      "  ⏱  Finished video in 2.4s (≈26.3 ms per frame)\n",
      "  🎞  Video [v_Archery_g19_c03] — 160 frames\n",
      "     ▸ batch     0-31    — kept 95 boxes\n",
      "         GPU mem: 22.5 GB / 25.3 GB used\n",
      "         GPU mem: 22.5 GB / 25.3 GB used\n",
      "         GPU mem: 22.5 GB / 25.3 GB used\n",
      "  ⏱  Finished video in 4.1s (≈25.5 ms per frame)\n",
      "  🎞  Video [v_Archery_g19_c04] — 93 frames\n",
      "     ▸ batch     0-31    — kept 76 boxes\n",
      "         GPU mem: 22.5 GB / 25.3 GB used\n",
      "  ⏱  Finished video in 2.4s (≈25.6 ms per frame)\n",
      "  🎞  Video [v_Archery_g20_c01] — 92 frames\n",
      "     ▸ batch     0-31    — kept 105 boxes\n",
      "         GPU mem: 22.5 GB / 25.3 GB used\n",
      "  ⏱  Finished video in 2.4s (≈26.6 ms per frame)\n",
      "  🎞  Video [v_Archery_g20_c02] — 86 frames\n",
      "     ▸ batch     0-31    — kept 129 boxes\n",
      "         GPU mem: 22.5 GB / 25.3 GB used\n",
      "  ⏱  Finished video in 2.3s (≈26.9 ms per frame)\n",
      "  🎞  Video [v_Archery_g20_c03] — 95 frames\n",
      "     ▸ batch     0-31    — kept 81 boxes\n",
      "         GPU mem: 22.5 GB / 25.3 GB used\n",
      "  ⏱  Finished video in 2.5s (≈26.1 ms per frame)\n",
      "  🎞  Video [v_Archery_g20_c04] — 100 frames\n",
      "     ▸ batch     0-31    — kept 72 boxes\n",
      "         GPU mem: 22.5 GB / 25.3 GB used\n",
      "         GPU mem: 22.5 GB / 25.3 GB used\n",
      "  ⏱  Finished video in 2.8s (≈27.9 ms per frame)\n",
      "  🎞  Video [v_Archery_g20_c05] — 121 frames\n",
      "     ▸ batch     0-31    — kept 131 boxes\n",
      "         GPU mem: 22.5 GB / 25.3 GB used\n",
      "         GPU mem: 22.5 GB / 25.3 GB used\n",
      "  ⏱  Finished video in 3.2s (≈26.2 ms per frame)\n",
      "  🎞  Video [v_Archery_g20_c06] — 117 frames\n",
      "     ▸ batch     0-31    — kept 151 boxes\n",
      "         GPU mem: 22.5 GB / 25.3 GB used\n",
      "         GPU mem: 22.5 GB / 25.3 GB used\n",
      "  ⏱  Finished video in 3.1s (≈26.8 ms per frame)\n",
      "  🎞  Video [v_Archery_g20_c07] — 99 frames\n",
      "     ▸ batch     0-31    — kept 101 boxes\n",
      "         GPU mem: 22.5 GB / 25.3 GB used\n",
      "  ⏱  Finished video in 3.5s (≈35.4 ms per frame)\n",
      "  🎞  Video [v_Archery_g21_c01] — 102 frames\n",
      "     ▸ batch     0-31    — kept 61 boxes\n",
      "         GPU mem: 22.5 GB / 25.3 GB used\n",
      "         GPU mem: 22.5 GB / 25.3 GB used\n",
      "  ⏱  Finished video in 2.5s (≈24.3 ms per frame)\n",
      "  🎞  Video [v_Archery_g21_c02] — 176 frames\n",
      "     ▸ batch     0-31    — kept 60 boxes\n",
      "         GPU mem: 22.5 GB / 25.3 GB used\n",
      "         GPU mem: 22.5 GB / 25.3 GB used\n",
      "         GPU mem: 22.5 GB / 25.3 GB used\n",
      "     ▸ batch   160-175   — kept 13 boxes\n",
      "  ⏱  Finished video in 4.4s (≈24.8 ms per frame)\n",
      "  🎞  Video [v_Archery_g21_c03] — 219 frames\n",
      "     ▸ batch     0-31    — kept 62 boxes\n",
      "         GPU mem: 22.5 GB / 25.3 GB used\n",
      "         GPU mem: 22.5 GB / 25.3 GB used\n",
      "         GPU mem: 22.5 GB / 25.3 GB used\n",
      "     ▸ batch   160-191   — kept 49 boxes\n",
      "         GPU mem: 22.5 GB / 25.3 GB used\n",
      "  ⏱  Finished video in 5.4s (≈24.8 ms per frame)\n",
      "  🎞  Video [v_Archery_g21_c04] — 206 frames\n",
      "     ▸ batch     0-31    — kept 54 boxes\n",
      "         GPU mem: 22.5 GB / 25.3 GB used\n",
      "         GPU mem: 22.5 GB / 25.3 GB used\n",
      "         GPU mem: 22.5 GB / 25.3 GB used\n",
      "     ▸ batch   160-191   — kept 42 boxes\n",
      "         GPU mem: 22.5 GB / 25.3 GB used\n",
      "  ⏱  Finished video in 5.0s (≈24.4 ms per frame)\n",
      "  🎞  Video [v_Archery_g22_c01] — 66 frames\n",
      "     ▸ batch     0-31    — kept 22 boxes\n",
      "         GPU mem: 22.5 GB / 25.3 GB used\n",
      "  ⏱  Finished video in 1.7s (≈25.9 ms per frame)\n",
      "  🎞  Video [v_Archery_g22_c02] — 71 frames\n",
      "     ▸ batch     0-31    — kept 35 boxes\n",
      "         GPU mem: 22.5 GB / 25.3 GB used\n",
      "  ⏱  Finished video in 1.9s (≈26.1 ms per frame)\n",
      "  🎞  Video [v_Archery_g22_c03] — 92 frames\n",
      "     ▸ batch     0-31    — kept 31 boxes\n",
      "         GPU mem: 22.5 GB / 25.3 GB used\n",
      "  ⏱  Finished video in 2.3s (≈25.5 ms per frame)\n",
      "  🎞  Video [v_Archery_g22_c04] — 74 frames\n",
      "     ▸ batch     0-31    — kept 42 boxes\n",
      "         GPU mem: 22.5 GB / 25.3 GB used\n",
      "  ⏱  Finished video in 1.9s (≈25.6 ms per frame)\n",
      "  🎞  Video [v_Archery_g22_c05] — 69 frames\n",
      "     ▸ batch     0-31    — kept 57 boxes\n",
      "         GPU mem: 22.5 GB / 25.3 GB used\n",
      "  ⏱  Finished video in 1.8s (≈26.2 ms per frame)\n",
      "  🎞  Video [v_Archery_g23_c01] — 124 frames\n",
      "     ▸ batch     0-31    — kept 15 boxes\n",
      "         GPU mem: 22.5 GB / 25.3 GB used\n",
      "         GPU mem: 22.5 GB / 25.3 GB used\n",
      "  ⏱  Finished video in 2.8s (≈22.8 ms per frame)\n",
      "  🎞  Video [v_Archery_g23_c02] — 116 frames\n",
      "     ▸ batch     0-31    — kept 23 boxes\n",
      "         GPU mem: 22.5 GB / 25.3 GB used\n",
      "         GPU mem: 22.5 GB / 25.3 GB used\n",
      "  ⏱  Finished video in 2.7s (≈23.0 ms per frame)\n",
      "  🎞  Video [v_Archery_g23_c03] — 112 frames\n",
      "     ▸ batch     0-31    — kept 18 boxes\n",
      "         GPU mem: 22.5 GB / 25.3 GB used\n",
      "         GPU mem: 22.5 GB / 25.3 GB used\n",
      "  ⏱  Finished video in 2.6s (≈22.8 ms per frame)\n",
      "  🎞  Video [v_Archery_g23_c04] — 106 frames\n",
      "     ▸ batch     0-31    — kept 19 boxes\n",
      "         GPU mem: 22.5 GB / 25.3 GB used\n",
      "         GPU mem: 22.5 GB / 25.3 GB used\n",
      "  ⏱  Finished video in 2.5s (≈23.6 ms per frame)\n",
      "  🎞  Video [v_Archery_g23_c05] — 92 frames\n",
      "     ▸ batch     0-31    — kept 23 boxes\n",
      "         GPU mem: 22.5 GB / 25.3 GB used\n",
      "  ⏱  Finished video in 2.2s (≈23.9 ms per frame)\n",
      "  🎞  Video [v_Archery_g23_c06] — 87 frames\n",
      "     ▸ batch     0-31    — kept 18 boxes\n",
      "         GPU mem: 22.5 GB / 25.3 GB used\n",
      "  ⏱  Finished video in 2.0s (≈23.1 ms per frame)\n",
      "  🎞  Video [v_Archery_g23_c07] — 85 frames\n",
      "     ▸ batch     0-31    — kept 32 boxes\n",
      "         GPU mem: 22.5 GB / 25.3 GB used\n",
      "  ⏱  Finished video in 2.0s (≈23.1 ms per frame)\n",
      "  🎞  Video [v_Archery_g24_c01] — 92 frames\n",
      "     ▸ batch     0-31    — kept 47 boxes\n",
      "         GPU mem: 22.5 GB / 25.3 GB used\n",
      "  ⏱  Finished video in 2.1s (≈22.6 ms per frame)\n",
      "  🎞  Video [v_Archery_g24_c02] — 242 frames\n",
      "     ▸ batch     0-31    — kept 48 boxes\n",
      "         GPU mem: 22.5 GB / 25.3 GB used\n",
      "         GPU mem: 22.5 GB / 25.3 GB used\n",
      "         GPU mem: 22.5 GB / 25.3 GB used\n",
      "     ▸ batch   160-191   — kept 7 boxes\n",
      "         GPU mem: 22.5 GB / 25.3 GB used\n",
      "  ⏱  Finished video in 5.7s (≈23.7 ms per frame)\n",
      "  🎞  Video [v_Archery_g24_c03] — 111 frames\n",
      "     ▸ batch     0-31    — kept 28 boxes\n",
      "         GPU mem: 22.5 GB / 25.3 GB used\n",
      "         GPU mem: 22.5 GB / 25.3 GB used\n",
      "  ⏱  Finished video in 2.5s (≈22.9 ms per frame)\n",
      "  🎞  Video [v_Archery_g24_c04] — 122 frames\n",
      "     ▸ batch     0-31    — kept 59 boxes\n",
      "         GPU mem: 22.5 GB / 25.3 GB used\n",
      "         GPU mem: 22.5 GB / 25.3 GB used\n",
      "  ⏱  Finished video in 2.7s (≈22.4 ms per frame)\n",
      "  🎞  Video [v_Archery_g24_c05] — 128 frames\n",
      "     ▸ batch     0-31    — kept 33 boxes\n",
      "         GPU mem: 22.5 GB / 25.3 GB used\n",
      "         GPU mem: 22.5 GB / 25.3 GB used\n",
      "  ⏱  Finished video in 2.9s (≈23.0 ms per frame)\n",
      "  🎞  Video [v_Archery_g24_c06] — 123 frames\n",
      "     ▸ batch     0-31    — kept 46 boxes\n",
      "         GPU mem: 22.5 GB / 25.3 GB used\n",
      "         GPU mem: 22.5 GB / 25.3 GB used\n",
      "  ⏱  Finished video in 2.8s (≈22.6 ms per frame)\n",
      "  🎞  Video [v_Archery_g25_c01] — 209 frames\n",
      "     ▸ batch     0-31    — kept 66 boxes\n",
      "         GPU mem: 22.5 GB / 25.3 GB used\n",
      "         GPU mem: 22.5 GB / 25.3 GB used\n",
      "         GPU mem: 22.5 GB / 25.3 GB used\n",
      "     ▸ batch   160-191   — kept 58 boxes\n",
      "         GPU mem: 22.5 GB / 25.3 GB used\n",
      "  ⏱  Finished video in 5.2s (≈25.1 ms per frame)\n",
      "  🎞  Video [v_Archery_g25_c02] — 190 frames\n",
      "     ▸ batch     0-31    — kept 70 boxes\n",
      "         GPU mem: 22.5 GB / 25.3 GB used\n",
      "         GPU mem: 22.5 GB / 25.3 GB used\n",
      "         GPU mem: 22.5 GB / 25.3 GB used\n",
      "     ▸ batch   160-189   — kept 65 boxes\n",
      "  ⏱  Finished video in 4.5s (≈23.9 ms per frame)\n",
      "  🎞  Video [v_Archery_g25_c03] — 204 frames\n",
      "     ▸ batch     0-31    — kept 89 boxes\n",
      "         GPU mem: 22.5 GB / 25.3 GB used\n",
      "         GPU mem: 22.5 GB / 25.3 GB used\n",
      "         GPU mem: 22.5 GB / 25.3 GB used\n",
      "     ▸ batch   160-191   — kept 78 boxes\n",
      "         GPU mem: 22.5 GB / 25.3 GB used\n",
      "  ⏱  Finished video in 4.7s (≈23.0 ms per frame)\n",
      "  🎞  Video [v_Archery_g25_c04] — 260 frames\n",
      "     ▸ batch     0-31    — kept 90 boxes\n",
      "         GPU mem: 22.5 GB / 25.3 GB used\n",
      "         GPU mem: 22.5 GB / 25.3 GB used\n",
      "         GPU mem: 22.5 GB / 25.3 GB used\n",
      "     ▸ batch   160-191   — kept 72 boxes\n",
      "         GPU mem: 22.5 GB / 25.3 GB used\n",
      "         GPU mem: 22.5 GB / 25.3 GB used\n",
      "  ⏱  Finished video in 6.1s (≈23.3 ms per frame)\n",
      "  🎞  Video [v_Archery_g25_c05] — 205 frames\n",
      "     ▸ batch     0-31    — kept 49 boxes\n",
      "         GPU mem: 22.5 GB / 25.3 GB used\n",
      "         GPU mem: 22.5 GB / 25.3 GB used\n",
      "         GPU mem: 22.5 GB / 25.3 GB used\n",
      "     ▸ batch   160-191   — kept 103 boxes\n",
      "         GPU mem: 22.5 GB / 25.3 GB used\n",
      "  ⏱  Finished video in 4.8s (≈23.4 ms per frame)\n",
      "  🎞  Video [v_Archery_g25_c06] — 236 frames\n",
      "     ▸ batch     0-31    — kept 63 boxes\n",
      "         GPU mem: 22.5 GB / 25.3 GB used\n",
      "         GPU mem: 22.5 GB / 25.3 GB used\n",
      "         GPU mem: 22.5 GB / 25.3 GB used\n",
      "     ▸ batch   160-191   — kept 80 boxes\n",
      "         GPU mem: 22.5 GB / 25.3 GB used\n",
      "  ⏱  Finished video in 5.5s (≈23.3 ms per frame)\n",
      "  🎞  Video [v_Archery_g25_c07] — 134 frames\n",
      "     ▸ batch     0-31    — kept 44 boxes\n",
      "         GPU mem: 22.5 GB / 25.3 GB used\n",
      "         GPU mem: 22.5 GB / 25.3 GB used\n",
      "  ⏱  Finished video in 3.4s (≈25.2 ms per frame)\n",
      "\n",
      "────────────────────────────────────────────────────────\n",
      "✅  wrote detections for 1 classes, 145 videos, 23794 frames\n",
      "📁  Output: debug_nets.npy\n",
      "🕒  Total runtime: 10.0 min\n"
     ]
    }
   ],
   "source": [
    "# %%\n",
    "\"\"\"\n",
    "Human-detector preprocessing with debug prints\n",
    "────────────────────────────────────────────────────────\n",
    "• Traverses UCF-101-JPG   class/video/frame.jpg tree\n",
    "• Saves one nested dict in a .npy file\n",
    "• Debug flags let you (1) restrict the tree depth and\n",
    "  (2) see live feedback on progress & detections.\n",
    "\"\"\"\n",
    "\n",
    "# ─── imports ──────────────────────────────────────────\n",
    "import time\n",
    "import torch, torchvision, numpy as np\n",
    "from torchvision.io import read_image\n",
    "from pathlib import Path\n",
    "from tqdm.auto import tqdm\n",
    "\n",
    "# ─── config ───────────────────────────────────────────\n",
    "video_root   = Path(\"datasets/UCF-101-JPG\")            # class/video/frame.jpg tree\n",
    "out_file     = Path(\"detection_train_merged_rearranged_2.0.npy\")\n",
    "score_thr    = 0.2\n",
    "batch_size   = 32\n",
    "device       = \"cuda\" if torch.cuda.is_available() else \"cpu\"\n",
    "\n",
    "# ─── debug / filter switches ──────────────────────────\n",
    "DEBUG_ONE_CLASS = False        # True → stop after first class directory\n",
    "DEBUG_ONE_VIDEO = False        # True → stop after first video directory\n",
    "KEEP_CLASS      = None         # e.g. \"ApplyEyeMakeup\"\n",
    "KEEP_VIDEO      = None         # e.g. \"ApplyEyeMakeup_v01\"\n",
    "\n",
    "# Debug output verbosity\n",
    "VERBOSE                 = False       # master switch\n",
    "PRINT_EVERY_BATCH       = False       # print info for every Nth batch\n",
    "PRINT_BATCH_EVERY_N     = 5          # change N as needed\n",
    "PRINT_GPU_MEM_EVERY_N   = 50         # also prints GPU memory every N frames\n",
    "\n",
    "# ─── helper: debug print ──────────────────────────────\n",
    "def dprint(msg):\n",
    "    if VERBOSE:\n",
    "        print(msg, flush=True)\n",
    "\n",
    "# ─── detector ─────────────────────────────────────────\n",
    "dprint(f\"🔧  Initialising Mask R-CNN on {device!r}\")\n",
    "model = torchvision.models.detection.maskrcnn_resnet50_fpn(weights=\"DEFAULT\")\n",
    "model.to(device).eval()\n",
    "\n",
    "@torch.inference_mode()\n",
    "def detect_batch(imgs):\n",
    "    with torch.cuda.amp.autocast(dtype=torch.float16):\n",
    "        return model(imgs)\n",
    "\n",
    "# ─── counters for a final summary ─────────────────────\n",
    "n_classes = n_videos = n_frames_total = 0\n",
    "t_start_overall = time.time()\n",
    "\n",
    "# ─── build nested dict {class}{vid11}{frame}{'human_boxes'} ────────────────\n",
    "all_dets = {}\n",
    "\n",
    "for c_idx, class_dir in enumerate(tqdm(sorted(video_root.iterdir()), desc=\"class\")):\n",
    "    if not class_dir.is_dir():\n",
    "        continue\n",
    "    if KEEP_CLASS and class_dir.name != KEEP_CLASS:\n",
    "        continue\n",
    "    if DEBUG_ONE_CLASS and c_idx > 0:\n",
    "        break\n",
    "\n",
    "    cls_name = class_dir.name\n",
    "    n_classes += 1\n",
    "    all_dets[cls_name] = {}\n",
    "\n",
    "    video_dirs = [d for d in sorted(class_dir.iterdir()) if d.is_dir()]\n",
    "    dprint(f\"\\n📂  Class [{cls_name}] — {len(video_dirs)} video folders\")\n",
    "\n",
    "    for v_idx, vid_dir in enumerate(tqdm(video_dirs, leave=False, desc=cls_name)):\n",
    "        if KEEP_VIDEO and vid_dir.name != KEEP_VIDEO:\n",
    "            continue\n",
    "        if DEBUG_ONE_VIDEO and v_idx > 0:\n",
    "            break\n",
    "\n",
    "        vid11   = vid_dir.name                    # first 11 chars\n",
    "        frames  = sorted(vid_dir.glob(\"*.jpg\"))\n",
    "        T       = len(frames)\n",
    "        n_videos += 1\n",
    "        all_dets[cls_name][vid11] = {}\n",
    "\n",
    "        dprint(f\"  🎞  Video [{vid_dir.name}] — {T} frames\")\n",
    "\n",
    "        # mini-batch inference for speed\n",
    "        t_vid = time.time()\n",
    "        for i in range(0, T, batch_size):\n",
    "            batch_paths = frames[i:i+batch_size]\n",
    "            imgs_cpu    = [read_image(str(p)).float()/255 for p in batch_paths]\n",
    "            imgs_gpu    = torch.stack(imgs_cpu).to(device).half()\n",
    "            outs        = detect_batch(imgs_gpu)\n",
    "\n",
    "            # debug: how many human detections in this batch?\n",
    "            if PRINT_EVERY_BATCH and (i//batch_size) % PRINT_BATCH_EVERY_N == 0:\n",
    "                kept_sum = int(sum(((o[\"labels\"] == 1) & (o[\"scores\"] > score_thr)).sum() for o in outs))\n",
    "                dprint(f\"     ▸ batch {i:5d}-{i+len(batch_paths)-1:<5d} — kept {kept_sum} boxes\")\n",
    "\n",
    "            for j, out in enumerate(outs, start=i):\n",
    "                keep = (out[\"labels\"] == 1) & (out[\"scores\"] > score_thr)\n",
    "                if keep.sum() == 0:\n",
    "                    boxes = np.zeros((0, 5), dtype=np.float32)\n",
    "                else:\n",
    "                    b = out[\"boxes\"][keep].float().cpu().numpy()        # (N,4)\n",
    "                    s = out[\"scores\"][keep].float().cpu().numpy()[:, None]\n",
    "                    boxes = np.hstack([b, s]).astype(np.float32)        # (N,5)\n",
    "\n",
    "                frame_idx = j + 1                                       # 1-based\n",
    "                all_dets[cls_name][vid11][frame_idx] = {\"human_boxes\": boxes}\n",
    "\n",
    "                # optional GPU memory read-out\n",
    "                if device == \"cuda\" and frame_idx % PRINT_GPU_MEM_EVERY_N == 0:\n",
    "                    free_mem, total_mem = torch.cuda.mem_get_info()\n",
    "                    dprint(f\"         GPU mem: {(total_mem-free_mem)/1e9:4.1f} GB / {total_mem/1e9:.1f} GB used\")\n",
    "\n",
    "        t_vid = time.time() - t_vid\n",
    "        n_frames_total += T\n",
    "        dprint(f\"  ⏱  Finished video in {t_vid:.1f}s \"\n",
    "               f\"(≈{1000*t_vid/max(T,1):.1f} ms per frame)\")\n",
    "\n",
    "# ─── save one pickled .npy file ────────────────────────────────────────────\n",
    "np.save(out_file, all_dets, allow_pickle=True)\n",
    "t_total = time.time() - t_start_overall\n",
    "\n",
    "dprint(\"\\n────────────────────────────────────────────────────────\")\n",
    "dprint(f\"✅  wrote detections for {n_classes} classes, \"\n",
    "       f\"{n_videos} videos, {n_frames_total} frames\")\n",
    "dprint(f\"📁  Output: {out_file}\")\n",
    "dprint(f\"🕒  Total runtime: {t_total/60:.1f} min\")\n"
   ]
  },
  {
   "cell_type": "code",
   "execution_count": 3,
   "id": "adbaa196-daf1-4d06-9708-e6a85a035d2f",
   "metadata": {},
   "outputs": [
    {
     "name": "stdout",
     "output_type": "stream",
     "text": [
      "classes  : 1\n",
      "one class : Archery\n",
      "one video : v_Archery_g01_c01\n",
      "frame 1 boxes shape : (3, 5)\n"
     ]
    }
   ],
   "source": [
    "dets = np.load(\"debug_nets.npy\", allow_pickle=True).item()\n",
    "print(\"classes  :\", len(dets))\n",
    "print(\"one class :\", next(iter(dets)))\n",
    "print(\"one video :\", next(iter(dets[next(iter(dets))])))\n",
    "print(\"frame 1 boxes shape :\", \n",
    "      dets[next(iter(dets))][next(iter(dets[next(iter(dets))]))][1]['human_boxes'].shape)\n"
   ]
  },
  {
   "cell_type": "code",
   "execution_count": 4,
   "id": "9a17b5f0-8c34-4263-9c02-1eb910652a81",
   "metadata": {},
   "outputs": [
    {
     "name": "stdout",
     "output_type": "stream",
     "text": [
      "class : ApplyEyeMakeup\n",
      "video : v_ApplyEyeM\n",
      "frame : 1\n",
      "boxes : (0, 5)\n"
     ]
    }
   ],
   "source": [
    "dets = np.load(\"detection_train_merged_rearranged.npy\", allow_pickle=True).item()\n",
    "\n",
    "# grab first class that actually contains videos\n",
    "cls = next(k for k,v in dets.items() if len(v))\n",
    "vid = next(iter(dets[cls]))\n",
    "f   = next(iter(dets[cls][vid]))\n",
    "\n",
    "print(\"class :\", cls)\n",
    "print(\"video :\", vid)\n",
    "print(\"frame :\", f)\n",
    "print(\"boxes :\", dets[cls][vid][f]['human_boxes'].shape)"
   ]
  },
  {
   "cell_type": "markdown",
   "id": "a8c3cdc5-03fb-483f-a8c7-c285b1bda98e",
   "metadata": {
    "jp-MarkdownHeadingCollapsed": true
   },
   "source": [
    "## Clean numpy file"
   ]
  },
  {
   "cell_type": "code",
   "execution_count": 9,
   "id": "84fa5150-8e09-4074-b517-b5e59f875cf8",
   "metadata": {},
   "outputs": [
    {
     "name": "stdout",
     "output_type": "stream",
     "text": [
      "removing class key: .ipynb_checkpoints\n",
      "✅ cleaned file saved: detection_train_merged_rearranged.npy\n",
      "n_classes (after clean): 101\n"
     ]
    }
   ],
   "source": [
    "import numpy as np\n",
    "from pathlib import Path\n",
    "\n",
    "npy_path = Path(\"detection_train_merged_rearranged.npy\")   # <-- your file\n",
    "backup   = npy_path.with_suffix(\".bak.npy\")                # safety copy\n",
    "\n",
    "# 1) load the nested-dict detections\n",
    "dets = np.load(npy_path, allow_pickle=True).item()\n",
    "\n",
    "# 2) remove hidden “class” keys (like \".ipynb_checkpoints\")\n",
    "for cls in [c for c in dets if c.startswith('.')]:\n",
    "    print(\"removing class key:\", cls)\n",
    "    dets.pop(cls, None)\n",
    "\n",
    "# 3) remove hidden “video” keys inside each class, if any\n",
    "for cls, vids in dets.items():\n",
    "    for vid in [v for v in vids if v.startswith('.')]:\n",
    "        print(f\"removing video key: {cls}/{vid}\")\n",
    "        vids.pop(vid, None)\n",
    "\n",
    "# 4) back-up original, then save the cleaned dict\n",
    "npy_path.rename(backup)                       # keep the old file\n",
    "np.save(npy_path, dets, allow_pickle=True)\n",
    "print(\"✅ cleaned file saved:\", npy_path)\n",
    "\n",
    "# quick sanity check\n",
    "clean = np.load(npy_path, allow_pickle=True).item()\n",
    "print(\"n_classes (after clean):\", len(clean))\n"
   ]
  },
  {
   "cell_type": "markdown",
   "id": "ab333a5c-d39d-48ff-82eb-ab3ded42d81b",
   "metadata": {},
   "source": [
    "## Verify"
   ]
  },
  {
   "cell_type": "code",
   "execution_count": 5,
   "id": "82b8e584-4d45-475d-84ff-65261accbd67",
   "metadata": {},
   "outputs": [
    {
     "data": {
      "text/html": [
       "<div>\n",
       "<style scoped>\n",
       "    .dataframe tbody tr th:only-of-type {\n",
       "        vertical-align: middle;\n",
       "    }\n",
       "\n",
       "    .dataframe tbody tr th {\n",
       "        vertical-align: top;\n",
       "    }\n",
       "\n",
       "    .dataframe thead th {\n",
       "        text-align: right;\n",
       "    }\n",
       "</style>\n",
       "<table border=\"1\" class=\"dataframe\">\n",
       "  <thead>\n",
       "    <tr style=\"text-align: right;\">\n",
       "      <th></th>\n",
       "      <th>class</th>\n",
       "      <th># videos</th>\n",
       "      <th># frames/sample video</th>\n",
       "    </tr>\n",
       "  </thead>\n",
       "  <tbody>\n",
       "    <tr>\n",
       "      <th>0</th>\n",
       "      <td>Archery</td>\n",
       "      <td>145</td>\n",
       "      <td>131</td>\n",
       "    </tr>\n",
       "  </tbody>\n",
       "</table>\n",
       "</div>"
      ],
      "text/plain": [
       "     class  # videos  # frames/sample video\n",
       "0  Archery       145                    131"
      ]
     },
     "metadata": {},
     "output_type": "display_data"
    }
   ],
   "source": [
    "import numpy as np\n",
    "import pandas as pd\n",
    "from pathlib import Path\n",
    "from IPython.display import display  # built-in in Jupyter\n",
    "\n",
    "DETS_PATH = Path(\"debug_nets.npy\")   # ← adjust\n",
    "dets = np.load(DETS_PATH, allow_pickle=True).item()\n",
    "\n",
    "rows = []\n",
    "for cls, videos in dets.items():\n",
    "    n_vids = len(videos)\n",
    "    # get a sample video to peek at its frame count (skip empties)\n",
    "    sample_vid = next((v for v in videos.values() if v), None)\n",
    "    n_frames = len(sample_vid) if sample_vid else 0\n",
    "    rows.append({\"class\": cls, \"# videos\": n_vids, \"# frames/sample video\": n_frames})\n",
    "\n",
    "summary_df = pd.DataFrame(rows).sort_values(\"class\").reset_index(drop=True)\n",
    "display(summary_df)               # shows an interactive table in Jupyter\n"
   ]
  },
  {
   "cell_type": "code",
   "execution_count": 6,
   "id": "ecb5ab24-f1a5-4bc8-b6e9-74cc68e5fef3",
   "metadata": {},
   "outputs": [
    {
     "name": "stdout",
     "output_type": "stream",
     "text": [
      "class : Archery\n",
      "video : v_Archery_g01_c01\n",
      "frame : 1  –  3 boxes\n",
      "[[  4.497153    60.138065   197.67921    235.66194      0.99582845]\n",
      " [  0.9276359   64.22532     50.254356   130.32469      0.71084064]\n",
      " [  1.031959    42.796402    62.945526   231.5536       0.5505657 ]]\n"
     ]
    }
   ],
   "source": [
    "def show_video_boxes(dets, cls, vid_key, frame_idx=1, max_boxes=5):\n",
    "    \"\"\"\n",
    "    Pretty-print the first few boxes for a chosen frame.\n",
    "    - cls       : class name (string)\n",
    "    - vid_key   : the 11-char video key, e.g. 'v_ApplyEyeM'\n",
    "    - frame_idx : 1-based frame index (as stored in the dict)\n",
    "    \"\"\"\n",
    "    boxes = dets[cls][vid_key][frame_idx]['human_boxes']\n",
    "    print(f\"class : {cls}\")\n",
    "    print(f\"video : {vid_key}\")\n",
    "    print(f\"frame : {frame_idx}  –  {boxes.shape[0]} boxes\")\n",
    "    print(boxes[:max_boxes])\n",
    "\n",
    "# example usage ------------------------------------------------------------\n",
    "cls_name = summary_df.loc[0, \"class\"]          # first class in the table\n",
    "vid_key  = next(iter(dets[cls_name]))          # first video under that class\n",
    "show_video_boxes(dets, cls_name, vid_key, frame_idx=1)\n"
   ]
  },
  {
   "cell_type": "code",
   "execution_count": 7,
   "id": "b6c04538-4b75-49bd-a21a-99746ac9f534",
   "metadata": {},
   "outputs": [
    {
     "data": {
      "image/jpeg": "[encoded data removed]",
      "image/png": "[encoded data removed]",
      "text/plain": [
       "<PIL.Image.Image image mode=RGB size=320x240>"
      ]
     },
     "metadata": {},
     "output_type": "display_data"
    }
   ],
   "source": [
    "from PIL import Image, ImageDraw\n",
    "\n",
    "def overlay_boxes(img_path, boxes, score_thr=0.0):\n",
    "    img = Image.open(img_path).convert(\"RGB\")\n",
    "    draw = ImageDraw.Draw(img)\n",
    "    for x1, y1, x2, y2, s in boxes:\n",
    "        if s < score_thr:   # optional confidence filter\n",
    "            continue\n",
    "        draw.rectangle([x1, y1, x2, y2], outline=\"red\", width=2)\n",
    "    display(img)\n",
    "\n",
    "cls_name = \"Archery\"\n",
    "vid_key = \"v_Archery_g01_c06\"\n",
    "\n",
    "# pick one frame file that matches the video & frame index you just inspected\n",
    "img_path = (\n",
    "    Path(\"datasets/UCF-101-JPG\")        # root\n",
    "    / cls_name                          # class folder\n",
    "    / f\"{vid_key}\"                  # video folder (string → Path via /)\n",
    "    / \"image_00001.jpg\"                 # frame file\n",
    ")\n",
    "overlay_boxes(img_path, dets[cls_name][vid_key][1]['human_boxes'])\n"
   ]
  },
  {
   "cell_type": "markdown",
   "id": "d3497653-25b6-4b2d-80e1-7de79ed99d39",
   "metadata": {},
   "source": [
    "##### "
   ]
  }
 ],
 "metadata": {
  "kernelspec": {
   "display_name": "Python 3 (ipykernel)",
   "language": "python",
   "name": "python3"
  },
  "language_info": {
   "codemirror_mode": {
    "name": "ipython",
    "version": 3
   },
   "file_extension": ".py",
   "mimetype": "text/x-python",
   "name": "python",
   "nbconvert_exporter": "python",
   "pygments_lexer": "ipython3",
   "version": "3.10.8"
  }
 },
 "nbformat": 4,
 "nbformat_minor": 5
}
