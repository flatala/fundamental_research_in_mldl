{
 "cells": [
  {
   "cell_type": "code",
   "execution_count": 1,
   "id": "803dfc49",
   "metadata": {},
   "outputs": [],
   "source": [
    "import torch, torchvision\n",
    "from torchvision.transforms import functional as TF\n",
    "from PIL import Image\n",
    "import numpy as np\n",
    "import cv2, os\n",
    "from pathlib import Path\n",
    "from tqdm import tqdm\n",
    "import shutil, itertools\n",
    "\n",
    "device = \"cuda\" if torch.cuda.is_available() else \"cpu\""
   ]
  },
  {
   "cell_type": "markdown",
   "id": "7d1db543-bd39-404c-b277-8c2fb0a2b3ba",
   "metadata": {},
   "source": [
    "## Human Masking Images"
   ]
  },
  {
   "cell_type": "code",
   "execution_count": 2,
   "id": "6d64fa52",
   "metadata": {},
   "outputs": [
    {
     "name": "stderr",
     "output_type": "stream",
     "text": [
      "Downloading: \"https://download.pytorch.org/models/maskrcnn_resnet50_fpn_coco-bf2d0c1e.pth\" to /root/.cache/torch/hub/checkpoints/maskrcnn_resnet50_fpn_coco-bf2d0c1e.pth\n"
     ]
    },
    {
     "data": {
      "application/vnd.jupyter.widget-view+json": {
       "model_id": "8ff97ffa0b14407abd9f49a0e96eac07",
       "version_major": 2,
       "version_minor": 0
      },
      "text/plain": [
       "  0%|          | 0.00/170M [00:00<?, ?B/s]"
      ]
     },
     "metadata": {},
     "output_type": "display_data"
    },
    {
     "data": {
      "text/plain": [
       "MaskRCNN(\n",
       "  (transform): GeneralizedRCNNTransform(\n",
       "      Normalize(mean=[0.485, 0.456, 0.406], std=[0.229, 0.224, 0.225])\n",
       "      Resize(min_size=(800,), max_size=1333, mode='bilinear')\n",
       "  )\n",
       "  (backbone): BackboneWithFPN(\n",
       "    (body): IntermediateLayerGetter(\n",
       "      (conv1): Conv2d(3, 64, kernel_size=(7, 7), stride=(2, 2), padding=(3, 3), bias=False)\n",
       "      (bn1): FrozenBatchNorm2d(64, eps=0.0)\n",
       "      (relu): ReLU(inplace=True)\n",
       "      (maxpool): MaxPool2d(kernel_size=3, stride=2, padding=1, dilation=1, ceil_mode=False)\n",
       "      (layer1): Sequential(\n",
       "        (0): Bottleneck(\n",
       "          (conv1): Conv2d(64, 64, kernel_size=(1, 1), stride=(1, 1), bias=False)\n",
       "          (bn1): FrozenBatchNorm2d(64, eps=0.0)\n",
       "          (conv2): Conv2d(64, 64, kernel_size=(3, 3), stride=(1, 1), padding=(1, 1), bias=False)\n",
       "          (bn2): FrozenBatchNorm2d(64, eps=0.0)\n",
       "          (conv3): Conv2d(64, 256, kernel_size=(1, 1), stride=(1, 1), bias=False)\n",
       "          (bn3): FrozenBatchNorm2d(256, eps=0.0)\n",
       "          (relu): ReLU(inplace=True)\n",
       "          (downsample): Sequential(\n",
       "            (0): Conv2d(64, 256, kernel_size=(1, 1), stride=(1, 1), bias=False)\n",
       "            (1): FrozenBatchNorm2d(256, eps=0.0)\n",
       "          )\n",
       "        )\n",
       "        (1): Bottleneck(\n",
       "          (conv1): Conv2d(256, 64, kernel_size=(1, 1), stride=(1, 1), bias=False)\n",
       "          (bn1): FrozenBatchNorm2d(64, eps=0.0)\n",
       "          (conv2): Conv2d(64, 64, kernel_size=(3, 3), stride=(1, 1), padding=(1, 1), bias=False)\n",
       "          (bn2): FrozenBatchNorm2d(64, eps=0.0)\n",
       "          (conv3): Conv2d(64, 256, kernel_size=(1, 1), stride=(1, 1), bias=False)\n",
       "          (bn3): FrozenBatchNorm2d(256, eps=0.0)\n",
       "          (relu): ReLU(inplace=True)\n",
       "        )\n",
       "        (2): Bottleneck(\n",
       "          (conv1): Conv2d(256, 64, kernel_size=(1, 1), stride=(1, 1), bias=False)\n",
       "          (bn1): FrozenBatchNorm2d(64, eps=0.0)\n",
       "          (conv2): Conv2d(64, 64, kernel_size=(3, 3), stride=(1, 1), padding=(1, 1), bias=False)\n",
       "          (bn2): FrozenBatchNorm2d(64, eps=0.0)\n",
       "          (conv3): Conv2d(64, 256, kernel_size=(1, 1), stride=(1, 1), bias=False)\n",
       "          (bn3): FrozenBatchNorm2d(256, eps=0.0)\n",
       "          (relu): ReLU(inplace=True)\n",
       "        )\n",
       "      )\n",
       "      (layer2): Sequential(\n",
       "        (0): Bottleneck(\n",
       "          (conv1): Conv2d(256, 128, kernel_size=(1, 1), stride=(1, 1), bias=False)\n",
       "          (bn1): FrozenBatchNorm2d(128, eps=0.0)\n",
       "          (conv2): Conv2d(128, 128, kernel_size=(3, 3), stride=(2, 2), padding=(1, 1), bias=False)\n",
       "          (bn2): FrozenBatchNorm2d(128, eps=0.0)\n",
       "          (conv3): Conv2d(128, 512, kernel_size=(1, 1), stride=(1, 1), bias=False)\n",
       "          (bn3): FrozenBatchNorm2d(512, eps=0.0)\n",
       "          (relu): ReLU(inplace=True)\n",
       "          (downsample): Sequential(\n",
       "            (0): Conv2d(256, 512, kernel_size=(1, 1), stride=(2, 2), bias=False)\n",
       "            (1): FrozenBatchNorm2d(512, eps=0.0)\n",
       "          )\n",
       "        )\n",
       "        (1): Bottleneck(\n",
       "          (conv1): Conv2d(512, 128, kernel_size=(1, 1), stride=(1, 1), bias=False)\n",
       "          (bn1): FrozenBatchNorm2d(128, eps=0.0)\n",
       "          (conv2): Conv2d(128, 128, kernel_size=(3, 3), stride=(1, 1), padding=(1, 1), bias=False)\n",
       "          (bn2): FrozenBatchNorm2d(128, eps=0.0)\n",
       "          (conv3): Conv2d(128, 512, kernel_size=(1, 1), stride=(1, 1), bias=False)\n",
       "          (bn3): FrozenBatchNorm2d(512, eps=0.0)\n",
       "          (relu): ReLU(inplace=True)\n",
       "        )\n",
       "        (2): Bottleneck(\n",
       "          (conv1): Conv2d(512, 128, kernel_size=(1, 1), stride=(1, 1), bias=False)\n",
       "          (bn1): FrozenBatchNorm2d(128, eps=0.0)\n",
       "          (conv2): Conv2d(128, 128, kernel_size=(3, 3), stride=(1, 1), padding=(1, 1), bias=False)\n",
       "          (bn2): FrozenBatchNorm2d(128, eps=0.0)\n",
       "          (conv3): Conv2d(128, 512, kernel_size=(1, 1), stride=(1, 1), bias=False)\n",
       "          (bn3): FrozenBatchNorm2d(512, eps=0.0)\n",
       "          (relu): ReLU(inplace=True)\n",
       "        )\n",
       "        (3): Bottleneck(\n",
       "          (conv1): Conv2d(512, 128, kernel_size=(1, 1), stride=(1, 1), bias=False)\n",
       "          (bn1): FrozenBatchNorm2d(128, eps=0.0)\n",
       "          (conv2): Conv2d(128, 128, kernel_size=(3, 3), stride=(1, 1), padding=(1, 1), bias=False)\n",
       "          (bn2): FrozenBatchNorm2d(128, eps=0.0)\n",
       "          (conv3): Conv2d(128, 512, kernel_size=(1, 1), stride=(1, 1), bias=False)\n",
       "          (bn3): FrozenBatchNorm2d(512, eps=0.0)\n",
       "          (relu): ReLU(inplace=True)\n",
       "        )\n",
       "      )\n",
       "      (layer3): Sequential(\n",
       "        (0): Bottleneck(\n",
       "          (conv1): Conv2d(512, 256, kernel_size=(1, 1), stride=(1, 1), bias=False)\n",
       "          (bn1): FrozenBatchNorm2d(256, eps=0.0)\n",
       "          (conv2): Conv2d(256, 256, kernel_size=(3, 3), stride=(2, 2), padding=(1, 1), bias=False)\n",
       "          (bn2): FrozenBatchNorm2d(256, eps=0.0)\n",
       "          (conv3): Conv2d(256, 1024, kernel_size=(1, 1), stride=(1, 1), bias=False)\n",
       "          (bn3): FrozenBatchNorm2d(1024, eps=0.0)\n",
       "          (relu): ReLU(inplace=True)\n",
       "          (downsample): Sequential(\n",
       "            (0): Conv2d(512, 1024, kernel_size=(1, 1), stride=(2, 2), bias=False)\n",
       "            (1): FrozenBatchNorm2d(1024, eps=0.0)\n",
       "          )\n",
       "        )\n",
       "        (1): Bottleneck(\n",
       "          (conv1): Conv2d(1024, 256, kernel_size=(1, 1), stride=(1, 1), bias=False)\n",
       "          (bn1): FrozenBatchNorm2d(256, eps=0.0)\n",
       "          (conv2): Conv2d(256, 256, kernel_size=(3, 3), stride=(1, 1), padding=(1, 1), bias=False)\n",
       "          (bn2): FrozenBatchNorm2d(256, eps=0.0)\n",
       "          (conv3): Conv2d(256, 1024, kernel_size=(1, 1), stride=(1, 1), bias=False)\n",
       "          (bn3): FrozenBatchNorm2d(1024, eps=0.0)\n",
       "          (relu): ReLU(inplace=True)\n",
       "        )\n",
       "        (2): Bottleneck(\n",
       "          (conv1): Conv2d(1024, 256, kernel_size=(1, 1), stride=(1, 1), bias=False)\n",
       "          (bn1): FrozenBatchNorm2d(256, eps=0.0)\n",
       "          (conv2): Conv2d(256, 256, kernel_size=(3, 3), stride=(1, 1), padding=(1, 1), bias=False)\n",
       "          (bn2): FrozenBatchNorm2d(256, eps=0.0)\n",
       "          (conv3): Conv2d(256, 1024, kernel_size=(1, 1), stride=(1, 1), bias=False)\n",
       "          (bn3): FrozenBatchNorm2d(1024, eps=0.0)\n",
       "          (relu): ReLU(inplace=True)\n",
       "        )\n",
       "        (3): Bottleneck(\n",
       "          (conv1): Conv2d(1024, 256, kernel_size=(1, 1), stride=(1, 1), bias=False)\n",
       "          (bn1): FrozenBatchNorm2d(256, eps=0.0)\n",
       "          (conv2): Conv2d(256, 256, kernel_size=(3, 3), stride=(1, 1), padding=(1, 1), bias=False)\n",
       "          (bn2): FrozenBatchNorm2d(256, eps=0.0)\n",
       "          (conv3): Conv2d(256, 1024, kernel_size=(1, 1), stride=(1, 1), bias=False)\n",
       "          (bn3): FrozenBatchNorm2d(1024, eps=0.0)\n",
       "          (relu): ReLU(inplace=True)\n",
       "        )\n",
       "        (4): Bottleneck(\n",
       "          (conv1): Conv2d(1024, 256, kernel_size=(1, 1), stride=(1, 1), bias=False)\n",
       "          (bn1): FrozenBatchNorm2d(256, eps=0.0)\n",
       "          (conv2): Conv2d(256, 256, kernel_size=(3, 3), stride=(1, 1), padding=(1, 1), bias=False)\n",
       "          (bn2): FrozenBatchNorm2d(256, eps=0.0)\n",
       "          (conv3): Conv2d(256, 1024, kernel_size=(1, 1), stride=(1, 1), bias=False)\n",
       "          (bn3): FrozenBatchNorm2d(1024, eps=0.0)\n",
       "          (relu): ReLU(inplace=True)\n",
       "        )\n",
       "        (5): Bottleneck(\n",
       "          (conv1): Conv2d(1024, 256, kernel_size=(1, 1), stride=(1, 1), bias=False)\n",
       "          (bn1): FrozenBatchNorm2d(256, eps=0.0)\n",
       "          (conv2): Conv2d(256, 256, kernel_size=(3, 3), stride=(1, 1), padding=(1, 1), bias=False)\n",
       "          (bn2): FrozenBatchNorm2d(256, eps=0.0)\n",
       "          (conv3): Conv2d(256, 1024, kernel_size=(1, 1), stride=(1, 1), bias=False)\n",
       "          (bn3): FrozenBatchNorm2d(1024, eps=0.0)\n",
       "          (relu): ReLU(inplace=True)\n",
       "        )\n",
       "      )\n",
       "      (layer4): Sequential(\n",
       "        (0): Bottleneck(\n",
       "          (conv1): Conv2d(1024, 512, kernel_size=(1, 1), stride=(1, 1), bias=False)\n",
       "          (bn1): FrozenBatchNorm2d(512, eps=0.0)\n",
       "          (conv2): Conv2d(512, 512, kernel_size=(3, 3), stride=(2, 2), padding=(1, 1), bias=False)\n",
       "          (bn2): FrozenBatchNorm2d(512, eps=0.0)\n",
       "          (conv3): Conv2d(512, 2048, kernel_size=(1, 1), stride=(1, 1), bias=False)\n",
       "          (bn3): FrozenBatchNorm2d(2048, eps=0.0)\n",
       "          (relu): ReLU(inplace=True)\n",
       "          (downsample): Sequential(\n",
       "            (0): Conv2d(1024, 2048, kernel_size=(1, 1), stride=(2, 2), bias=False)\n",
       "            (1): FrozenBatchNorm2d(2048, eps=0.0)\n",
       "          )\n",
       "        )\n",
       "        (1): Bottleneck(\n",
       "          (conv1): Conv2d(2048, 512, kernel_size=(1, 1), stride=(1, 1), bias=False)\n",
       "          (bn1): FrozenBatchNorm2d(512, eps=0.0)\n",
       "          (conv2): Conv2d(512, 512, kernel_size=(3, 3), stride=(1, 1), padding=(1, 1), bias=False)\n",
       "          (bn2): FrozenBatchNorm2d(512, eps=0.0)\n",
       "          (conv3): Conv2d(512, 2048, kernel_size=(1, 1), stride=(1, 1), bias=False)\n",
       "          (bn3): FrozenBatchNorm2d(2048, eps=0.0)\n",
       "          (relu): ReLU(inplace=True)\n",
       "        )\n",
       "        (2): Bottleneck(\n",
       "          (conv1): Conv2d(2048, 512, kernel_size=(1, 1), stride=(1, 1), bias=False)\n",
       "          (bn1): FrozenBatchNorm2d(512, eps=0.0)\n",
       "          (conv2): Conv2d(512, 512, kernel_size=(3, 3), stride=(1, 1), padding=(1, 1), bias=False)\n",
       "          (bn2): FrozenBatchNorm2d(512, eps=0.0)\n",
       "          (conv3): Conv2d(512, 2048, kernel_size=(1, 1), stride=(1, 1), bias=False)\n",
       "          (bn3): FrozenBatchNorm2d(2048, eps=0.0)\n",
       "          (relu): ReLU(inplace=True)\n",
       "        )\n",
       "      )\n",
       "    )\n",
       "    (fpn): FeaturePyramidNetwork(\n",
       "      (inner_blocks): ModuleList(\n",
       "        (0): Conv2dNormActivation(\n",
       "          (0): Conv2d(256, 256, kernel_size=(1, 1), stride=(1, 1))\n",
       "        )\n",
       "        (1): Conv2dNormActivation(\n",
       "          (0): Conv2d(512, 256, kernel_size=(1, 1), stride=(1, 1))\n",
       "        )\n",
       "        (2): Conv2dNormActivation(\n",
       "          (0): Conv2d(1024, 256, kernel_size=(1, 1), stride=(1, 1))\n",
       "        )\n",
       "        (3): Conv2dNormActivation(\n",
       "          (0): Conv2d(2048, 256, kernel_size=(1, 1), stride=(1, 1))\n",
       "        )\n",
       "      )\n",
       "      (layer_blocks): ModuleList(\n",
       "        (0): Conv2dNormActivation(\n",
       "          (0): Conv2d(256, 256, kernel_size=(3, 3), stride=(1, 1), padding=(1, 1))\n",
       "        )\n",
       "        (1): Conv2dNormActivation(\n",
       "          (0): Conv2d(256, 256, kernel_size=(3, 3), stride=(1, 1), padding=(1, 1))\n",
       "        )\n",
       "        (2): Conv2dNormActivation(\n",
       "          (0): Conv2d(256, 256, kernel_size=(3, 3), stride=(1, 1), padding=(1, 1))\n",
       "        )\n",
       "        (3): Conv2dNormActivation(\n",
       "          (0): Conv2d(256, 256, kernel_size=(3, 3), stride=(1, 1), padding=(1, 1))\n",
       "        )\n",
       "      )\n",
       "      (extra_blocks): LastLevelMaxPool()\n",
       "    )\n",
       "  )\n",
       "  (rpn): RegionProposalNetwork(\n",
       "    (anchor_generator): AnchorGenerator()\n",
       "    (head): RPNHead(\n",
       "      (conv): Sequential(\n",
       "        (0): Conv2dNormActivation(\n",
       "          (0): Conv2d(256, 256, kernel_size=(3, 3), stride=(1, 1), padding=(1, 1))\n",
       "          (1): ReLU(inplace=True)\n",
       "        )\n",
       "      )\n",
       "      (cls_logits): Conv2d(256, 3, kernel_size=(1, 1), stride=(1, 1))\n",
       "      (bbox_pred): Conv2d(256, 12, kernel_size=(1, 1), stride=(1, 1))\n",
       "    )\n",
       "  )\n",
       "  (roi_heads): RoIHeads(\n",
       "    (box_roi_pool): MultiScaleRoIAlign(featmap_names=['0', '1', '2', '3'], output_size=(7, 7), sampling_ratio=2)\n",
       "    (box_head): TwoMLPHead(\n",
       "      (fc6): Linear(in_features=12544, out_features=1024, bias=True)\n",
       "      (fc7): Linear(in_features=1024, out_features=1024, bias=True)\n",
       "    )\n",
       "    (box_predictor): FastRCNNPredictor(\n",
       "      (cls_score): Linear(in_features=1024, out_features=91, bias=True)\n",
       "      (bbox_pred): Linear(in_features=1024, out_features=364, bias=True)\n",
       "    )\n",
       "    (mask_roi_pool): MultiScaleRoIAlign(featmap_names=['0', '1', '2', '3'], output_size=(14, 14), sampling_ratio=2)\n",
       "    (mask_head): MaskRCNNHeads(\n",
       "      (0): Conv2dNormActivation(\n",
       "        (0): Conv2d(256, 256, kernel_size=(3, 3), stride=(1, 1), padding=(1, 1))\n",
       "        (1): ReLU(inplace=True)\n",
       "      )\n",
       "      (1): Conv2dNormActivation(\n",
       "        (0): Conv2d(256, 256, kernel_size=(3, 3), stride=(1, 1), padding=(1, 1))\n",
       "        (1): ReLU(inplace=True)\n",
       "      )\n",
       "      (2): Conv2dNormActivation(\n",
       "        (0): Conv2d(256, 256, kernel_size=(3, 3), stride=(1, 1), padding=(1, 1))\n",
       "        (1): ReLU(inplace=True)\n",
       "      )\n",
       "      (3): Conv2dNormActivation(\n",
       "        (0): Conv2d(256, 256, kernel_size=(3, 3), stride=(1, 1), padding=(1, 1))\n",
       "        (1): ReLU(inplace=True)\n",
       "      )\n",
       "    )\n",
       "    (mask_predictor): MaskRCNNPredictor(\n",
       "      (conv5_mask): ConvTranspose2d(256, 256, kernel_size=(2, 2), stride=(2, 2))\n",
       "      (relu): ReLU(inplace=True)\n",
       "      (mask_fcn_logits): Conv2d(256, 91, kernel_size=(1, 1), stride=(1, 1))\n",
       "    )\n",
       "  )\n",
       ")"
      ]
     },
     "execution_count": 2,
     "metadata": {},
     "output_type": "execute_result"
    }
   ],
   "source": [
    "# Load COCO-pre-trained Mask R-CNN\n",
    "model = torchvision.models.detection.maskrcnn_resnet50_fpn(weights=\"DEFAULT\")\n",
    "model.to(device).eval()"
   ]
  },
  {
   "cell_type": "code",
   "execution_count": 3,
   "id": "ddfe582d",
   "metadata": {},
   "outputs": [],
   "source": [
    "@torch.inference_mode()\n",
    "def mask_humans_pil(\n",
    "    img: Image.Image,\n",
    "    score_thresh: float = 0.5,\n",
    "    fill_mode: str = \"mean\",   # \"mean\" | \"black\" | \"gray\"\n",
    "):\n",
    "    \"\"\"\n",
    "    Return a copy of `img` where every pixel inside a detected person\n",
    "    is replaced by the frame average (paper-style) or a solid colour.\n",
    "    \"\"\"\n",
    "    tensor = TF.to_tensor(img).to(device).unsqueeze(0)        # 1×3×H×W\n",
    "    out = model(tensor)[0]                                    # dict\n",
    "\n",
    "    keep = (out[\"labels\"] == 1) & (out[\"scores\"] > score_thresh)\n",
    "    if keep.sum() == 0:\n",
    "        return img.copy()                                     # no humans\n",
    "\n",
    "    # Union of all person masks\n",
    "    masks = (out[\"masks\"][keep, 0].sigmoid() > 0.5).any(0)    # H×W bool\n",
    "    mask_np = masks.cpu().numpy()\n",
    "\n",
    "    arr = np.array(img)\n",
    "    if fill_mode == \"mean\":\n",
    "        fill_value = arr.mean(axis=(0, 1), keepdims=True).astype(arr.dtype)\n",
    "    elif fill_mode == \"gray\":\n",
    "        fill_value = np.array([127, 127, 127], dtype=arr.dtype)\n",
    "    else:  # \"black\"\n",
    "        fill_value = 0\n",
    "    arr[mask_np] = fill_value\n",
    "    return Image.fromarray(arr)\n"
   ]
  },
  {
   "cell_type": "code",
   "execution_count": 38,
   "id": "d177b14b",
   "metadata": {},
   "outputs": [],
   "source": [
    "from itertools import islice\n",
    "\n",
    "def chunks(iterable, n):\n",
    "    \"Yield successive n-sized lists from iterable\"\n",
    "    it = iter(iterable)\n",
    "    while True:\n",
    "        batch = list(islice(it, n))\n",
    "        if not batch:\n",
    "            break\n",
    "        yield batch\n",
    "\n",
    "def mask_folder_batch(\n",
    "    in_root: str | Path,\n",
    "    out_root: str | Path,\n",
    "    *,\n",
    "    ext=\".jpg\",\n",
    "    score_thresh=0.5,\n",
    "    batch_size=4,\n",
    "    recursive=True,\n",
    "    clear_out=True,\n",
    "    fill_mode=\"mean\",           # mean / black / gray\n",
    "):\n",
    "    \"\"\"\n",
    "    Same API as mask_folder, but runs Mask R-CNN on <batch_size> frames\n",
    "    at once for higher throughput.\n",
    "    \"\"\"\n",
    "    in_root, out_root = Path(in_root), Path(out_root)\n",
    "    if clear_out and out_root.exists():\n",
    "        shutil.rmtree(out_root)\n",
    "\n",
    "    pattern = f\"**/*{ext}\" if recursive else f\"*{ext}\"\n",
    "    files = sorted(in_root.glob(pattern))\n",
    "    print(f\"{len(files)} frame(s) found → processing in batches of {batch_size}\")\n",
    "\n",
    "    for batch_paths in tqdm(list(chunks(files, batch_size))):\n",
    "        # -------- 1. load & stack tensors ------------------------------------\n",
    "        imgs_pil   = [Image.open(p).convert(\"RGB\") for p in batch_paths]\n",
    "        tensors    = [TF.to_tensor(im) for im in imgs_pil]\n",
    "        tensor_cat = torch.stack(tensors).to(device)          # B×3×H×W\n",
    "\n",
    "        # -------- 2. forward pass -------------------------------------------\n",
    "        with torch.inference_mode():\n",
    "            outs = model(tensor_cat)\n",
    "\n",
    "        # -------- 3. post-process each frame in the batch -------------------\n",
    "        for src_path, img, out in zip(batch_paths, imgs_pil, outs):\n",
    "            keep = (out[\"labels\"] == 1) & (out[\"scores\"] > score_thresh)\n",
    "            if keep.sum() == 0:\n",
    "                img_masked = img\n",
    "            else:\n",
    "                masks = (out[\"masks\"][keep, 0].sigmoid() > 0.5).any(0).cpu().numpy()\n",
    "                arr = np.array(img)\n",
    "                if fill_mode == \"mean\":\n",
    "                    fill_val = arr.mean(axis=(0, 1), keepdims=True).astype(arr.dtype)\n",
    "                elif fill_mode == \"gray\":\n",
    "                    fill_val = np.array([127, 127, 127], dtype=arr.dtype)\n",
    "                else:  # black\n",
    "                    fill_val = 0\n",
    "                arr[masks] = fill_val\n",
    "                img_masked = Image.fromarray(arr)\n",
    "\n",
    "            dst = out_root / src_path.relative_to(in_root)\n",
    "            dst.parent.mkdir(parents=True, exist_ok=True)\n",
    "            img_masked.save(dst)\n"
   ]
  },
  {
   "cell_type": "code",
   "execution_count": 39,
   "id": "7e0ba2e7-2c2b-47a0-a524-d7c51315b1e4",
   "metadata": {},
   "outputs": [
    {
     "name": "stdout",
     "output_type": "stream",
     "text": [
      "23795 frame(s) found → processing in batches of 8\n"
     ]
    },
    {
     "data": {
      "application/vnd.jupyter.widget-view+json": {
       "model_id": "e3205246a6e24388adb4444300bd313d",
       "version_major": 2,
       "version_minor": 0
      },
      "text/plain": [
       "  0%|          | 0/2975 [00:00<?, ?it/s]"
      ]
     },
     "metadata": {},
     "output_type": "display_data"
    },
    {
     "ename": "KeyboardInterrupt",
     "evalue": "",
     "output_type": "error",
     "traceback": [
      "\u001b[0;31m---------------------------------------------------------------------------\u001b[0m",
      "\u001b[0;31mKeyboardInterrupt\u001b[0m                         Traceback (most recent call last)",
      "Cell \u001b[0;32mIn[39], line 4\u001b[0m\n\u001b[1;32m      1\u001b[0m in_root  \u001b[38;5;241m=\u001b[39m \u001b[38;5;124m\"\u001b[39m\u001b[38;5;124mdatasets/UCF-101-JPG/Archery/\u001b[39m\u001b[38;5;124m\"\u001b[39m            \u001b[38;5;66;03m# e.g. \".../train_frames\"\u001b[39;00m\n\u001b[1;32m      2\u001b[0m out_root \u001b[38;5;241m=\u001b[39m \u001b[38;5;124m\"\u001b[39m\u001b[38;5;124mmasking/\u001b[39m\u001b[38;5;124m\"\u001b[39m          \u001b[38;5;66;03m# e.g. \".../train_frames_masked\"\u001b[39;00m\n\u001b[0;32m----> 4\u001b[0m \u001b[43mmask_folder_batch\u001b[49m\u001b[43m(\u001b[49m\n\u001b[1;32m      5\u001b[0m \u001b[43m    \u001b[49m\u001b[43min_root\u001b[49m\u001b[43m,\u001b[49m\n\u001b[1;32m      6\u001b[0m \u001b[43m    \u001b[49m\u001b[43mout_root\u001b[49m\u001b[43m,\u001b[49m\n\u001b[1;32m      7\u001b[0m \u001b[43m    \u001b[49m\u001b[43mbatch_size\u001b[49m\u001b[43m \u001b[49m\u001b[38;5;241;43m=\u001b[39;49m\u001b[43m \u001b[49m\u001b[38;5;241;43m8\u001b[39;49m\u001b[43m,\u001b[49m\u001b[43m     \u001b[49m\u001b[38;5;66;43;03m# tune for your GPU\u001b[39;49;00m\n\u001b[1;32m      8\u001b[0m \u001b[43m    \u001b[49m\u001b[43mscore_thresh\u001b[49m\u001b[43m \u001b[49m\u001b[38;5;241;43m=\u001b[39;49m\u001b[43m \u001b[49m\u001b[38;5;241;43m0.55\u001b[39;49m\n\u001b[1;32m      9\u001b[0m \u001b[43m)\u001b[49m\n",
      "Cell \u001b[0;32mIn[38], line 43\u001b[0m, in \u001b[0;36mmask_folder_batch\u001b[0;34m(in_root, out_root, ext, score_thresh, batch_size, recursive, clear_out, fill_mode)\u001b[0m\n\u001b[1;32m     41\u001b[0m \u001b[38;5;66;03m# -------- 2. forward pass -------------------------------------------\u001b[39;00m\n\u001b[1;32m     42\u001b[0m \u001b[38;5;28;01mwith\u001b[39;00m torch\u001b[38;5;241m.\u001b[39minference_mode():\n\u001b[0;32m---> 43\u001b[0m     outs \u001b[38;5;241m=\u001b[39m \u001b[43mmodel\u001b[49m\u001b[43m(\u001b[49m\u001b[43mtensor_cat\u001b[49m\u001b[43m)\u001b[49m\n\u001b[1;32m     45\u001b[0m \u001b[38;5;66;03m# -------- 3. post-process each frame in the batch -------------------\u001b[39;00m\n\u001b[1;32m     46\u001b[0m \u001b[38;5;28;01mfor\u001b[39;00m src_path, img, out \u001b[38;5;129;01min\u001b[39;00m \u001b[38;5;28mzip\u001b[39m(batch_paths, imgs_pil, outs):\n",
      "File \u001b[0;32m/opt/conda/lib/python3.10/site-packages/torch/nn/modules/module.py:1194\u001b[0m, in \u001b[0;36mModule._call_impl\u001b[0;34m(self, *input, **kwargs)\u001b[0m\n\u001b[1;32m   1190\u001b[0m \u001b[38;5;66;03m# If we don't have any hooks, we want to skip the rest of the logic in\u001b[39;00m\n\u001b[1;32m   1191\u001b[0m \u001b[38;5;66;03m# this function, and just call forward.\u001b[39;00m\n\u001b[1;32m   1192\u001b[0m \u001b[38;5;28;01mif\u001b[39;00m \u001b[38;5;129;01mnot\u001b[39;00m (\u001b[38;5;28mself\u001b[39m\u001b[38;5;241m.\u001b[39m_backward_hooks \u001b[38;5;129;01mor\u001b[39;00m \u001b[38;5;28mself\u001b[39m\u001b[38;5;241m.\u001b[39m_forward_hooks \u001b[38;5;129;01mor\u001b[39;00m \u001b[38;5;28mself\u001b[39m\u001b[38;5;241m.\u001b[39m_forward_pre_hooks \u001b[38;5;129;01mor\u001b[39;00m _global_backward_hooks\n\u001b[1;32m   1193\u001b[0m         \u001b[38;5;129;01mor\u001b[39;00m _global_forward_hooks \u001b[38;5;129;01mor\u001b[39;00m _global_forward_pre_hooks):\n\u001b[0;32m-> 1194\u001b[0m     \u001b[38;5;28;01mreturn\u001b[39;00m \u001b[43mforward_call\u001b[49m\u001b[43m(\u001b[49m\u001b[38;5;241;43m*\u001b[39;49m\u001b[38;5;28;43minput\u001b[39;49m\u001b[43m,\u001b[49m\u001b[43m \u001b[49m\u001b[38;5;241;43m*\u001b[39;49m\u001b[38;5;241;43m*\u001b[39;49m\u001b[43mkwargs\u001b[49m\u001b[43m)\u001b[49m\n\u001b[1;32m   1195\u001b[0m \u001b[38;5;66;03m# Do not call functions when jit is used\u001b[39;00m\n\u001b[1;32m   1196\u001b[0m full_backward_hooks, non_full_backward_hooks \u001b[38;5;241m=\u001b[39m [], []\n",
      "File \u001b[0;32m/opt/conda/lib/python3.10/site-packages/torchvision/models/detection/generalized_rcnn.py:104\u001b[0m, in \u001b[0;36mGeneralizedRCNN.forward\u001b[0;34m(self, images, targets)\u001b[0m\n\u001b[1;32m    102\u001b[0m \u001b[38;5;28;01mif\u001b[39;00m \u001b[38;5;28misinstance\u001b[39m(features, torch\u001b[38;5;241m.\u001b[39mTensor):\n\u001b[1;32m    103\u001b[0m     features \u001b[38;5;241m=\u001b[39m OrderedDict([(\u001b[38;5;124m\"\u001b[39m\u001b[38;5;124m0\u001b[39m\u001b[38;5;124m\"\u001b[39m, features)])\n\u001b[0;32m--> 104\u001b[0m proposals, proposal_losses \u001b[38;5;241m=\u001b[39m \u001b[38;5;28;43mself\u001b[39;49m\u001b[38;5;241;43m.\u001b[39;49m\u001b[43mrpn\u001b[49m\u001b[43m(\u001b[49m\u001b[43mimages\u001b[49m\u001b[43m,\u001b[49m\u001b[43m \u001b[49m\u001b[43mfeatures\u001b[49m\u001b[43m,\u001b[49m\u001b[43m \u001b[49m\u001b[43mtargets\u001b[49m\u001b[43m)\u001b[49m\n\u001b[1;32m    105\u001b[0m detections, detector_losses \u001b[38;5;241m=\u001b[39m \u001b[38;5;28mself\u001b[39m\u001b[38;5;241m.\u001b[39mroi_heads(features, proposals, images\u001b[38;5;241m.\u001b[39mimage_sizes, targets)\n\u001b[1;32m    106\u001b[0m detections \u001b[38;5;241m=\u001b[39m \u001b[38;5;28mself\u001b[39m\u001b[38;5;241m.\u001b[39mtransform\u001b[38;5;241m.\u001b[39mpostprocess(detections, images\u001b[38;5;241m.\u001b[39mimage_sizes, original_image_sizes)  \u001b[38;5;66;03m# type: ignore[operator]\u001b[39;00m\n",
      "File \u001b[0;32m/opt/conda/lib/python3.10/site-packages/torch/nn/modules/module.py:1194\u001b[0m, in \u001b[0;36mModule._call_impl\u001b[0;34m(self, *input, **kwargs)\u001b[0m\n\u001b[1;32m   1190\u001b[0m \u001b[38;5;66;03m# If we don't have any hooks, we want to skip the rest of the logic in\u001b[39;00m\n\u001b[1;32m   1191\u001b[0m \u001b[38;5;66;03m# this function, and just call forward.\u001b[39;00m\n\u001b[1;32m   1192\u001b[0m \u001b[38;5;28;01mif\u001b[39;00m \u001b[38;5;129;01mnot\u001b[39;00m (\u001b[38;5;28mself\u001b[39m\u001b[38;5;241m.\u001b[39m_backward_hooks \u001b[38;5;129;01mor\u001b[39;00m \u001b[38;5;28mself\u001b[39m\u001b[38;5;241m.\u001b[39m_forward_hooks \u001b[38;5;129;01mor\u001b[39;00m \u001b[38;5;28mself\u001b[39m\u001b[38;5;241m.\u001b[39m_forward_pre_hooks \u001b[38;5;129;01mor\u001b[39;00m _global_backward_hooks\n\u001b[1;32m   1193\u001b[0m         \u001b[38;5;129;01mor\u001b[39;00m _global_forward_hooks \u001b[38;5;129;01mor\u001b[39;00m _global_forward_pre_hooks):\n\u001b[0;32m-> 1194\u001b[0m     \u001b[38;5;28;01mreturn\u001b[39;00m \u001b[43mforward_call\u001b[49m\u001b[43m(\u001b[49m\u001b[38;5;241;43m*\u001b[39;49m\u001b[38;5;28;43minput\u001b[39;49m\u001b[43m,\u001b[49m\u001b[43m \u001b[49m\u001b[38;5;241;43m*\u001b[39;49m\u001b[38;5;241;43m*\u001b[39;49m\u001b[43mkwargs\u001b[49m\u001b[43m)\u001b[49m\n\u001b[1;32m   1195\u001b[0m \u001b[38;5;66;03m# Do not call functions when jit is used\u001b[39;00m\n\u001b[1;32m   1196\u001b[0m full_backward_hooks, non_full_backward_hooks \u001b[38;5;241m=\u001b[39m [], []\n",
      "File \u001b[0;32m/opt/conda/lib/python3.10/site-packages/torchvision/models/detection/rpn.py:370\u001b[0m, in \u001b[0;36mRegionProposalNetwork.forward\u001b[0;34m(self, images, features, targets)\u001b[0m\n\u001b[1;32m    366\u001b[0m objectness, pred_bbox_deltas \u001b[38;5;241m=\u001b[39m concat_box_prediction_layers(objectness, pred_bbox_deltas)\n\u001b[1;32m    367\u001b[0m \u001b[38;5;66;03m# apply pred_bbox_deltas to anchors to obtain the decoded proposals\u001b[39;00m\n\u001b[1;32m    368\u001b[0m \u001b[38;5;66;03m# note that we detach the deltas because Faster R-CNN do not backprop through\u001b[39;00m\n\u001b[1;32m    369\u001b[0m \u001b[38;5;66;03m# the proposals\u001b[39;00m\n\u001b[0;32m--> 370\u001b[0m proposals \u001b[38;5;241m=\u001b[39m \u001b[38;5;28;43mself\u001b[39;49m\u001b[38;5;241;43m.\u001b[39;49m\u001b[43mbox_coder\u001b[49m\u001b[38;5;241;43m.\u001b[39;49m\u001b[43mdecode\u001b[49m\u001b[43m(\u001b[49m\u001b[43mpred_bbox_deltas\u001b[49m\u001b[38;5;241;43m.\u001b[39;49m\u001b[43mdetach\u001b[49m\u001b[43m(\u001b[49m\u001b[43m)\u001b[49m\u001b[43m,\u001b[49m\u001b[43m \u001b[49m\u001b[43manchors\u001b[49m\u001b[43m)\u001b[49m\n\u001b[1;32m    371\u001b[0m proposals \u001b[38;5;241m=\u001b[39m proposals\u001b[38;5;241m.\u001b[39mview(num_images, \u001b[38;5;241m-\u001b[39m\u001b[38;5;241m1\u001b[39m, \u001b[38;5;241m4\u001b[39m)\n\u001b[1;32m    372\u001b[0m boxes, scores \u001b[38;5;241m=\u001b[39m \u001b[38;5;28mself\u001b[39m\u001b[38;5;241m.\u001b[39mfilter_proposals(proposals, objectness, images\u001b[38;5;241m.\u001b[39mimage_sizes, num_anchors_per_level)\n",
      "File \u001b[0;32m/opt/conda/lib/python3.10/site-packages/torchvision/models/detection/_utils.py:178\u001b[0m, in \u001b[0;36mBoxCoder.decode\u001b[0;34m(self, rel_codes, boxes)\u001b[0m\n\u001b[1;32m    176\u001b[0m \u001b[38;5;28;01mif\u001b[39;00m box_sum \u001b[38;5;241m>\u001b[39m \u001b[38;5;241m0\u001b[39m:\n\u001b[1;32m    177\u001b[0m     rel_codes \u001b[38;5;241m=\u001b[39m rel_codes\u001b[38;5;241m.\u001b[39mreshape(box_sum, \u001b[38;5;241m-\u001b[39m\u001b[38;5;241m1\u001b[39m)\n\u001b[0;32m--> 178\u001b[0m pred_boxes \u001b[38;5;241m=\u001b[39m \u001b[38;5;28;43mself\u001b[39;49m\u001b[38;5;241;43m.\u001b[39;49m\u001b[43mdecode_single\u001b[49m\u001b[43m(\u001b[49m\u001b[43mrel_codes\u001b[49m\u001b[43m,\u001b[49m\u001b[43m \u001b[49m\u001b[43mconcat_boxes\u001b[49m\u001b[43m)\u001b[49m\n\u001b[1;32m    179\u001b[0m \u001b[38;5;28;01mif\u001b[39;00m box_sum \u001b[38;5;241m>\u001b[39m \u001b[38;5;241m0\u001b[39m:\n\u001b[1;32m    180\u001b[0m     pred_boxes \u001b[38;5;241m=\u001b[39m pred_boxes\u001b[38;5;241m.\u001b[39mreshape(box_sum, \u001b[38;5;241m-\u001b[39m\u001b[38;5;241m1\u001b[39m, \u001b[38;5;241m4\u001b[39m)\n",
      "File \u001b[0;32m/opt/conda/lib/python3.10/site-packages/torchvision/models/detection/_utils.py:216\u001b[0m, in \u001b[0;36mBoxCoder.decode_single\u001b[0;34m(self, rel_codes, boxes)\u001b[0m\n\u001b[1;32m    213\u001b[0m pred_h \u001b[38;5;241m=\u001b[39m torch\u001b[38;5;241m.\u001b[39mexp(dh) \u001b[38;5;241m*\u001b[39m heights[:, \u001b[38;5;28;01mNone\u001b[39;00m]\n\u001b[1;32m    215\u001b[0m \u001b[38;5;66;03m# Distance from center to box's corner.\u001b[39;00m\n\u001b[0;32m--> 216\u001b[0m c_to_c_h \u001b[38;5;241m=\u001b[39m \u001b[43mtorch\u001b[49m\u001b[38;5;241;43m.\u001b[39;49m\u001b[43mtensor\u001b[49m\u001b[43m(\u001b[49m\u001b[38;5;241;43m0.5\u001b[39;49m\u001b[43m,\u001b[49m\u001b[43m \u001b[49m\u001b[43mdtype\u001b[49m\u001b[38;5;241;43m=\u001b[39;49m\u001b[43mpred_ctr_y\u001b[49m\u001b[38;5;241;43m.\u001b[39;49m\u001b[43mdtype\u001b[49m\u001b[43m,\u001b[49m\u001b[43m \u001b[49m\u001b[43mdevice\u001b[49m\u001b[38;5;241;43m=\u001b[39;49m\u001b[43mpred_h\u001b[49m\u001b[38;5;241;43m.\u001b[39;49m\u001b[43mdevice\u001b[49m\u001b[43m)\u001b[49m \u001b[38;5;241m*\u001b[39m pred_h\n\u001b[1;32m    217\u001b[0m c_to_c_w \u001b[38;5;241m=\u001b[39m torch\u001b[38;5;241m.\u001b[39mtensor(\u001b[38;5;241m0.5\u001b[39m, dtype\u001b[38;5;241m=\u001b[39mpred_ctr_x\u001b[38;5;241m.\u001b[39mdtype, device\u001b[38;5;241m=\u001b[39mpred_w\u001b[38;5;241m.\u001b[39mdevice) \u001b[38;5;241m*\u001b[39m pred_w\n\u001b[1;32m    219\u001b[0m pred_boxes1 \u001b[38;5;241m=\u001b[39m pred_ctr_x \u001b[38;5;241m-\u001b[39m c_to_c_w\n",
      "\u001b[0;31mKeyboardInterrupt\u001b[0m: "
     ]
    }
   ],
   "source": [
    "in_root  = \"datasets/UCF-101-JPG/Archery/\"            # e.g. \".../train_frames\"\n",
    "out_root = \"masking/\"          # e.g. \".../train_frames_masked\"\n",
    "\n",
    "mask_folder_batch(\n",
    "    in_root,\n",
    "    out_root,\n",
    "    batch_size = 8,     # tune for your GPU\n",
    "    score_thresh = 0.55\n",
    ")"
   ]
  },
  {
   "cell_type": "code",
   "execution_count": 3,
   "id": "9d8ca6ab-5570-4c56-a404-2b72289f48e7",
   "metadata": {},
   "outputs": [],
   "source": [
    "# ── 0. Setup ────────────────────────────────────────────────────────────────\n",
    "import torch, torchvision, time, shutil, queue, threading\n",
    "from torchvision.io import read_file, decode_jpeg, write_jpeg\n",
    "from pathlib import Path\n",
    "from torch.utils.data import Dataset, DataLoader\n",
    "from tqdm.auto import tqdm\n",
    "\n",
    "device = \"cuda\" if torch.cuda.is_available() else \"cpu\"\n",
    "\n",
    "# ── 1. Fast JPEG -> Tensor on the GPU (nvJPEG) ──────────────────────────────\n",
    "class FrameDS(Dataset):\n",
    "    def __init__(self, root, ext=\".jpg\"):\n",
    "        self.paths = sorted(Path(root).rglob(f\"*{ext}\"))\n",
    "    def __len__(self): return len(self.paths)\n",
    "    def __getitem__(self, idx):\n",
    "        p   = self.paths[idx]\n",
    "        buf = read_file(str(p))                                   # raw bytes\n",
    "        img = decode_jpeg(buf, device=device).float() / 255       # C×H×W\n",
    "        return img, str(p)\n",
    "\n",
    "# ── 2. Mask-R-CNN (person only) in half precision ──────────────────────────\n",
    "model = torchvision.models.detection.maskrcnn_resnet50_fpn(weights=\"DEFAULT\")\n",
    "model.to(device).eval()\n",
    "\n",
    "@torch.inference_mode()\n",
    "def mask_batch(batch_imgs, score=0.5):\n",
    "    with torch.cuda.amp.autocast(dtype=torch.float16):\n",
    "        outs = model(batch_imgs)\n",
    "\n",
    "    rect_masks = []\n",
    "    for out, im in zip(outs, batch_imgs):\n",
    "        keep = (out[\"labels\"] == 1) & (out[\"scores\"] > score)\n",
    "        if keep.sum() == 0:\n",
    "            rect_masks.append(None)\n",
    "            continue\n",
    "\n",
    "        H, W = im.shape[-2:]\n",
    "        m = torch.zeros((H, W), dtype=torch.bool, device=im.device)\n",
    "        for box in out[\"boxes\"][keep]:\n",
    "            x1, y1, x2, y2 = box.round().to(torch.long)\n",
    "            x1, y1 = x1.clamp(0, W - 1), y1.clamp(0, H - 1)\n",
    "            x2, y2 = x2.clamp(0, W - 1), y2.clamp(0, H - 1)\n",
    "            m[y1:y2 + 1, x1:x2 + 1] = True\n",
    "        rect_masks.append(m)\n",
    "    return rect_masks\n",
    "\n",
    "# ── 3. Async disk writer (so saving doesn’t block the GPU) ─────────────────\n",
    "def writer_thread(q, out_root):\n",
    "    while True:\n",
    "        item = q.get()\n",
    "        if item is None: break\n",
    "        img, src_path = item\n",
    "        dst = out_root / Path(src_path).relative_to(in_root)\n",
    "        dst.parent.mkdir(parents=True, exist_ok=True)\n",
    "        # uint8 tensor expected by write_jpeg\n",
    "        write_jpeg((img.clamp(0,1)*255).byte().cpu(), str(dst), quality=95)\n",
    "        q.task_done()\n",
    "\n",
    "# ── 4. One-liner “train-loop” that ties it all together ────────────────────\n",
    "def mask_folder_gpu(in_root, out_root,\n",
    "                    batch_size=8, workers=4, score=0.5):\n",
    "\n",
    "    ds  = FrameDS(in_root)\n",
    "    dl  = DataLoader(ds, batch_size=batch_size, num_workers=workers,\n",
    "                     pin_memory=False, shuffle=False, drop_last=False)\n",
    "\n",
    "    if out_root.exists(): shutil.rmtree(out_root)\n",
    "    q = queue.Queue(maxsize=32)\n",
    "    th = threading.Thread(target=writer_thread, args=(q, out_root), daemon=True)\n",
    "    th.start()\n",
    "\n",
    "    t0 = time.time()\n",
    "    for imgs, paths in tqdm(dl, total=len(dl)):\n",
    "        imgs = imgs.to(device, non_blocking=True)\n",
    "        masks = mask_batch(list(imgs), score)\n",
    "\n",
    "        # fill on GPU\n",
    "        for i, m in enumerate(masks):\n",
    "            if m is not None:\n",
    "                mean        = imgs[i].mean(dim=(1, 2), keepdim=True)   # (3,1,1)\n",
    "                mean_pixel  = mean.view(3)        # (3,)\n",
    "                mean_pixel  = mean_pixel[:, None] # (3,1)  ← add axis so (3,1) → (3,N)\n",
    "                imgs[i][:, m] = mean_pixel        # OK\n",
    "        # enqueue for compression + write\n",
    "        for im, p in zip(imgs, paths): q.put((im, p))\n",
    "\n",
    "    q.join(); q.put(None); th.join()\n",
    "    print(f\"Done in {(time.time()-t0):.1f}s → {len(ds)/(time.time()-t0):.1f} fps\")"
   ]
  },
  {
   "cell_type": "code",
   "execution_count": 5,
   "id": "c527cc3e-7eb1-42c6-88fe-d8d78b97858a",
   "metadata": {},
   "outputs": [
    {
     "data": {
      "application/vnd.jupyter.widget-view+json": {
       "model_id": "419a9d865ed549f6acb0dd4853c8cb57",
       "version_major": 2,
       "version_minor": 0
      },
      "text/plain": [
       "  0%|          | 0/2975 [00:00<?, ?it/s]"
      ]
     },
     "metadata": {},
     "output_type": "display_data"
    },
    {
     "name": "stdout",
     "output_type": "stream",
     "text": [
      "Done in 647.5s → 36.8 fps\n"
     ]
    }
   ],
   "source": [
    "# ── 5. Run it ───────────────────────────────────────────────────────────────\n",
    "in_root  = Path(\"datasets/UCF-101-JPG/Archery/\")            # e.g. \".../train_frames\"\n",
    "out_root = Path(\"masking/\")          # e.g. \".../train_frames_masked\"\n",
    "\n",
    "mask_folder_gpu(in_root, \n",
    "                out_root,\n",
    "                batch_size=8,   # ↑ until you hit ~90 % GPU util or OOM\n",
    "                workers=0,      # CPU threads that prefetch & decode bytes\n",
    "                score=0.2)"
   ]
  },
  {
   "cell_type": "markdown",
   "id": "50f7ab05-279f-4ce9-b898-ff06cb518f82",
   "metadata": {},
   "source": [
    "## Dummy Numpy Mask"
   ]
  },
  {
   "cell_type": "code",
   "execution_count": 104,
   "id": "62330211-3934-4a0b-873e-68d63ecb8c59",
   "metadata": {},
   "outputs": [
    {
     "data": {
      "application/vnd.jupyter.widget-view+json": {
       "model_id": "4efe2280f2454ec8a4a0b3bcea42dbf4",
       "version_major": 2,
       "version_minor": 0
      },
      "text/plain": [
       "class:   0%|          | 0/102 [00:00<?, ?it/s]"
      ]
     },
     "metadata": {},
     "output_type": "display_data"
    },
    {
     "data": {
      "application/vnd.jupyter.widget-view+json": {
       "model_id": "91b741dad2d64521bfda52819cae7bec",
       "version_major": 2,
       "version_minor": 0
      },
      "text/plain": [
       "ApplyEyeMakeup:   0%|          | 0/145 [00:00<?, ?it/s]"
      ]
     },
     "metadata": {},
     "output_type": "display_data"
    },
    {
     "data": {
      "application/vnd.jupyter.widget-view+json": {
       "model_id": "c746985e1b9d4e73a1c1d6abf23fa6b4",
       "version_major": 2,
       "version_minor": 0
      },
      "text/plain": [
       "ApplyLipstick:   0%|          | 0/114 [00:00<?, ?it/s]"
      ]
     },
     "metadata": {},
     "output_type": "display_data"
    },
    {
     "data": {
      "application/vnd.jupyter.widget-view+json": {
       "model_id": "76b84a9577b24e3b8b392813d8dc53de",
       "version_major": 2,
       "version_minor": 0
      },
      "text/plain": [
       "Archery:   0%|          | 0/145 [00:00<?, ?it/s]"
      ]
     },
     "metadata": {},
     "output_type": "display_data"
    },
    {
     "data": {
      "application/vnd.jupyter.widget-view+json": {
       "model_id": "07ee667dd5df42a7837dfe5b94a167d5",
       "version_major": 2,
       "version_minor": 0
      },
      "text/plain": [
       "BabyCrawling:   0%|          | 0/132 [00:00<?, ?it/s]"
      ]
     },
     "metadata": {},
     "output_type": "display_data"
    },
    {
     "data": {
      "application/vnd.jupyter.widget-view+json": {
       "model_id": "be26767b14704914a1b1c515aba875a3",
       "version_major": 2,
       "version_minor": 0
      },
      "text/plain": [
       "BalanceBeam:   0%|          | 0/108 [00:00<?, ?it/s]"
      ]
     },
     "metadata": {},
     "output_type": "display_data"
    },
    {
     "data": {
      "application/vnd.jupyter.widget-view+json": {
       "model_id": "c2cb9657ad024397b01b19a340ba81bb",
       "version_major": 2,
       "version_minor": 0
      },
      "text/plain": [
       "BandMarching:   0%|          | 0/155 [00:00<?, ?it/s]"
      ]
     },
     "metadata": {},
     "output_type": "display_data"
    },
    {
     "data": {
      "application/vnd.jupyter.widget-view+json": {
       "model_id": "c97f3633327548458723dcf8878361a2",
       "version_major": 2,
       "version_minor": 0
      },
      "text/plain": [
       "BaseballPitch:   0%|          | 0/150 [00:00<?, ?it/s]"
      ]
     },
     "metadata": {},
     "output_type": "display_data"
    },
    {
     "data": {
      "application/vnd.jupyter.widget-view+json": {
       "model_id": "81b49ba2e6354302b9512e9f418125d8",
       "version_major": 2,
       "version_minor": 0
      },
      "text/plain": [
       "Basketball:   0%|          | 0/134 [00:00<?, ?it/s]"
      ]
     },
     "metadata": {},
     "output_type": "display_data"
    },
    {
     "data": {
      "application/vnd.jupyter.widget-view+json": {
       "model_id": "d6b5c949c531418693daace4ce7660a8",
       "version_major": 2,
       "version_minor": 0
      },
      "text/plain": [
       "BasketballDunk:   0%|          | 0/131 [00:00<?, ?it/s]"
      ]
     },
     "metadata": {},
     "output_type": "display_data"
    },
    {
     "data": {
      "application/vnd.jupyter.widget-view+json": {
       "model_id": "c6f04601c8904ba79c8ab8ce31ef4830",
       "version_major": 2,
       "version_minor": 0
      },
      "text/plain": [
       "BenchPress:   0%|          | 0/160 [00:00<?, ?it/s]"
      ]
     },
     "metadata": {},
     "output_type": "display_data"
    },
    {
     "data": {
      "application/vnd.jupyter.widget-view+json": {
       "model_id": "df9dc930c77449c1a347ee4b1dc1f5f8",
       "version_major": 2,
       "version_minor": 0
      },
      "text/plain": [
       "Biking:   0%|          | 0/134 [00:00<?, ?it/s]"
      ]
     },
     "metadata": {},
     "output_type": "display_data"
    },
    {
     "data": {
      "application/vnd.jupyter.widget-view+json": {
       "model_id": "fc3d2e2a17bd4aa7bd3f97d7bafedcf8",
       "version_major": 2,
       "version_minor": 0
      },
      "text/plain": [
       "Billiards:   0%|          | 0/150 [00:00<?, ?it/s]"
      ]
     },
     "metadata": {},
     "output_type": "display_data"
    },
    {
     "data": {
      "application/vnd.jupyter.widget-view+json": {
       "model_id": "a3a3eae5ef7f448181389e2921f5514c",
       "version_major": 2,
       "version_minor": 0
      },
      "text/plain": [
       "BlowDryHair:   0%|          | 0/131 [00:00<?, ?it/s]"
      ]
     },
     "metadata": {},
     "output_type": "display_data"
    },
    {
     "data": {
      "application/vnd.jupyter.widget-view+json": {
       "model_id": "249dccea09114c49a306d8cec8e7121d",
       "version_major": 2,
       "version_minor": 0
      },
      "text/plain": [
       "BlowingCandles:   0%|          | 0/109 [00:00<?, ?it/s]"
      ]
     },
     "metadata": {},
     "output_type": "display_data"
    },
    {
     "data": {
      "application/vnd.jupyter.widget-view+json": {
       "model_id": "f5abe0a17bec42b0b47d68cdc2ad9186",
       "version_major": 2,
       "version_minor": 0
      },
      "text/plain": [
       "BodyWeightSquats:   0%|          | 0/112 [00:00<?, ?it/s]"
      ]
     },
     "metadata": {},
     "output_type": "display_data"
    },
    {
     "data": {
      "application/vnd.jupyter.widget-view+json": {
       "model_id": "660c3e555a6f452f947c0e0f26c124b5",
       "version_major": 2,
       "version_minor": 0
      },
      "text/plain": [
       "Bowling:   0%|          | 0/155 [00:00<?, ?it/s]"
      ]
     },
     "metadata": {},
     "output_type": "display_data"
    },
    {
     "data": {
      "application/vnd.jupyter.widget-view+json": {
       "model_id": "e880208837da4b8193982c180fe5a45e",
       "version_major": 2,
       "version_minor": 0
      },
      "text/plain": [
       "BoxingPunchingBag:   0%|          | 0/163 [00:00<?, ?it/s]"
      ]
     },
     "metadata": {},
     "output_type": "display_data"
    },
    {
     "data": {
      "application/vnd.jupyter.widget-view+json": {
       "model_id": "3e0fae2211a2419688564a1af5cfbc00",
       "version_major": 2,
       "version_minor": 0
      },
      "text/plain": [
       "BoxingSpeedBag:   0%|          | 0/134 [00:00<?, ?it/s]"
      ]
     },
     "metadata": {},
     "output_type": "display_data"
    },
    {
     "data": {
      "application/vnd.jupyter.widget-view+json": {
       "model_id": "e70b72e08d26419e9407c121955ac089",
       "version_major": 2,
       "version_minor": 0
      },
      "text/plain": [
       "BreastStroke:   0%|          | 0/101 [00:00<?, ?it/s]"
      ]
     },
     "metadata": {},
     "output_type": "display_data"
    },
    {
     "data": {
      "application/vnd.jupyter.widget-view+json": {
       "model_id": "2618c86ca4164670a1e623542125e094",
       "version_major": 2,
       "version_minor": 0
      },
      "text/plain": [
       "BrushingTeeth:   0%|          | 0/131 [00:00<?, ?it/s]"
      ]
     },
     "metadata": {},
     "output_type": "display_data"
    },
    {
     "data": {
      "application/vnd.jupyter.widget-view+json": {
       "model_id": "5605df6de20e4165926ad9ebea9f15e4",
       "version_major": 2,
       "version_minor": 0
      },
      "text/plain": [
       "CleanAndJerk:   0%|          | 0/112 [00:00<?, ?it/s]"
      ]
     },
     "metadata": {},
     "output_type": "display_data"
    },
    {
     "data": {
      "application/vnd.jupyter.widget-view+json": {
       "model_id": "45b0aa8985db4c039572275967725855",
       "version_major": 2,
       "version_minor": 0
      },
      "text/plain": [
       "CliffDiving:   0%|          | 0/138 [00:00<?, ?it/s]"
      ]
     },
     "metadata": {},
     "output_type": "display_data"
    },
    {
     "data": {
      "application/vnd.jupyter.widget-view+json": {
       "model_id": "8ce94bbf1cbb444a857031156c3cad32",
       "version_major": 2,
       "version_minor": 0
      },
      "text/plain": [
       "CricketBowling:   0%|          | 0/139 [00:00<?, ?it/s]"
      ]
     },
     "metadata": {},
     "output_type": "display_data"
    },
    {
     "data": {
      "application/vnd.jupyter.widget-view+json": {
       "model_id": "f3b53ad7919a408ebd565db72cdfba00",
       "version_major": 2,
       "version_minor": 0
      },
      "text/plain": [
       "CricketShot:   0%|          | 0/167 [00:00<?, ?it/s]"
      ]
     },
     "metadata": {},
     "output_type": "display_data"
    },
    {
     "data": {
      "application/vnd.jupyter.widget-view+json": {
       "model_id": "afdd74a7ed9c433a83f6c23b52d6cabe",
       "version_major": 2,
       "version_minor": 0
      },
      "text/plain": [
       "CuttingInKitchen:   0%|          | 0/110 [00:00<?, ?it/s]"
      ]
     },
     "metadata": {},
     "output_type": "display_data"
    },
    {
     "data": {
      "application/vnd.jupyter.widget-view+json": {
       "model_id": "f0277fcc7fc545f6b12aa2f8aec5a8ec",
       "version_major": 2,
       "version_minor": 0
      },
      "text/plain": [
       "Diving:   0%|          | 0/150 [00:00<?, ?it/s]"
      ]
     },
     "metadata": {},
     "output_type": "display_data"
    },
    {
     "data": {
      "application/vnd.jupyter.widget-view+json": {
       "model_id": "a5c134e9e3c2440686483c37d68e6e3c",
       "version_major": 2,
       "version_minor": 0
      },
      "text/plain": [
       "Drumming:   0%|          | 0/161 [00:00<?, ?it/s]"
      ]
     },
     "metadata": {},
     "output_type": "display_data"
    },
    {
     "data": {
      "application/vnd.jupyter.widget-view+json": {
       "model_id": "937f42dd61a54df8bb9f4669d73a7956",
       "version_major": 2,
       "version_minor": 0
      },
      "text/plain": [
       "Fencing:   0%|          | 0/111 [00:00<?, ?it/s]"
      ]
     },
     "metadata": {},
     "output_type": "display_data"
    },
    {
     "data": {
      "application/vnd.jupyter.widget-view+json": {
       "model_id": "51743ca17f9e47c28f5486db6303e3ac",
       "version_major": 2,
       "version_minor": 0
      },
      "text/plain": [
       "FieldHockeyPenalty:   0%|          | 0/126 [00:00<?, ?it/s]"
      ]
     },
     "metadata": {},
     "output_type": "display_data"
    },
    {
     "data": {
      "application/vnd.jupyter.widget-view+json": {
       "model_id": "8a505b99a354407685670384381fdb29",
       "version_major": 2,
       "version_minor": 0
      },
      "text/plain": [
       "FloorGymnastics:   0%|          | 0/125 [00:00<?, ?it/s]"
      ]
     },
     "metadata": {},
     "output_type": "display_data"
    },
    {
     "data": {
      "application/vnd.jupyter.widget-view+json": {
       "model_id": "19b087c54eb04edbb09f94f7759dbb2e",
       "version_major": 2,
       "version_minor": 0
      },
      "text/plain": [
       "FrisbeeCatch:   0%|          | 0/126 [00:00<?, ?it/s]"
      ]
     },
     "metadata": {},
     "output_type": "display_data"
    },
    {
     "data": {
      "application/vnd.jupyter.widget-view+json": {
       "model_id": "2c303593bbf844678f58dee3fca0cf40",
       "version_major": 2,
       "version_minor": 0
      },
      "text/plain": [
       "FrontCrawl:   0%|          | 0/137 [00:00<?, ?it/s]"
      ]
     },
     "metadata": {},
     "output_type": "display_data"
    },
    {
     "data": {
      "application/vnd.jupyter.widget-view+json": {
       "model_id": "2fbbddc889a8462e940ab33460b38f32",
       "version_major": 2,
       "version_minor": 0
      },
      "text/plain": [
       "GolfSwing:   0%|          | 0/139 [00:00<?, ?it/s]"
      ]
     },
     "metadata": {},
     "output_type": "display_data"
    },
    {
     "data": {
      "application/vnd.jupyter.widget-view+json": {
       "model_id": "5230dc84345a4276a7ea63a3ce470577",
       "version_major": 2,
       "version_minor": 0
      },
      "text/plain": [
       "Haircut:   0%|          | 0/130 [00:00<?, ?it/s]"
      ]
     },
     "metadata": {},
     "output_type": "display_data"
    },
    {
     "data": {
      "application/vnd.jupyter.widget-view+json": {
       "model_id": "c2e4a32fdcc74394b2fc1e489fa1d36d",
       "version_major": 2,
       "version_minor": 0
      },
      "text/plain": [
       "HammerThrow:   0%|          | 0/150 [00:00<?, ?it/s]"
      ]
     },
     "metadata": {},
     "output_type": "display_data"
    },
    {
     "data": {
      "application/vnd.jupyter.widget-view+json": {
       "model_id": "c2f032f8e4ab4ca586dedd0009f1eec7",
       "version_major": 2,
       "version_minor": 0
      },
      "text/plain": [
       "Hammering:   0%|          | 0/140 [00:00<?, ?it/s]"
      ]
     },
     "metadata": {},
     "output_type": "display_data"
    },
    {
     "data": {
      "application/vnd.jupyter.widget-view+json": {
       "model_id": "ea194559794547839cade023a1e38ab5",
       "version_major": 2,
       "version_minor": 0
      },
      "text/plain": [
       "HandstandPushups:   0%|          | 0/128 [00:00<?, ?it/s]"
      ]
     },
     "metadata": {},
     "output_type": "display_data"
    },
    {
     "data": {
      "application/vnd.jupyter.widget-view+json": {
       "model_id": "7bda766e6fc04e13a451283d19fb9ae2",
       "version_major": 2,
       "version_minor": 0
      },
      "text/plain": [
       "HandstandWalking:   0%|          | 0/111 [00:00<?, ?it/s]"
      ]
     },
     "metadata": {},
     "output_type": "display_data"
    },
    {
     "data": {
      "application/vnd.jupyter.widget-view+json": {
       "model_id": "a5204f103a1e495598d194c228f059ec",
       "version_major": 2,
       "version_minor": 0
      },
      "text/plain": [
       "HeadMassage:   0%|          | 0/147 [00:00<?, ?it/s]"
      ]
     },
     "metadata": {},
     "output_type": "display_data"
    },
    {
     "data": {
      "application/vnd.jupyter.widget-view+json": {
       "model_id": "8481cb9093c149938047834e8b7581b4",
       "version_major": 2,
       "version_minor": 0
      },
      "text/plain": [
       "HighJump:   0%|          | 0/123 [00:00<?, ?it/s]"
      ]
     },
     "metadata": {},
     "output_type": "display_data"
    },
    {
     "data": {
      "application/vnd.jupyter.widget-view+json": {
       "model_id": "cd92be0a207249e28cd87ef573761625",
       "version_major": 2,
       "version_minor": 0
      },
      "text/plain": [
       "HorseRace:   0%|          | 0/124 [00:00<?, ?it/s]"
      ]
     },
     "metadata": {},
     "output_type": "display_data"
    },
    {
     "data": {
      "application/vnd.jupyter.widget-view+json": {
       "model_id": "d10d3b4b8398416688f19b70ccbae6a9",
       "version_major": 2,
       "version_minor": 0
      },
      "text/plain": [
       "HorseRiding:   0%|          | 0/164 [00:00<?, ?it/s]"
      ]
     },
     "metadata": {},
     "output_type": "display_data"
    },
    {
     "data": {
      "application/vnd.jupyter.widget-view+json": {
       "model_id": "b3622b586ad74583b1f295148707cc7e",
       "version_major": 2,
       "version_minor": 0
      },
      "text/plain": [
       "HulaHoop:   0%|          | 0/125 [00:00<?, ?it/s]"
      ]
     },
     "metadata": {},
     "output_type": "display_data"
    },
    {
     "data": {
      "application/vnd.jupyter.widget-view+json": {
       "model_id": "39e654ef9e3e48b2b5600636a0abb85d",
       "version_major": 2,
       "version_minor": 0
      },
      "text/plain": [
       "IceDancing:   0%|          | 0/158 [00:00<?, ?it/s]"
      ]
     },
     "metadata": {},
     "output_type": "display_data"
    },
    {
     "data": {
      "application/vnd.jupyter.widget-view+json": {
       "model_id": "4310a1a887ea4ea1ab9a85977c6da4ba",
       "version_major": 2,
       "version_minor": 0
      },
      "text/plain": [
       "JavelinThrow:   0%|          | 0/117 [00:00<?, ?it/s]"
      ]
     },
     "metadata": {},
     "output_type": "display_data"
    },
    {
     "data": {
      "application/vnd.jupyter.widget-view+json": {
       "model_id": "9d98ca31e80e4d1386c5f2ea33c44aed",
       "version_major": 2,
       "version_minor": 0
      },
      "text/plain": [
       "JugglingBalls:   0%|          | 0/121 [00:00<?, ?it/s]"
      ]
     },
     "metadata": {},
     "output_type": "display_data"
    },
    {
     "data": {
      "application/vnd.jupyter.widget-view+json": {
       "model_id": "11fd4ed8a92e453e8a3620bbb7f2741c",
       "version_major": 2,
       "version_minor": 0
      },
      "text/plain": [
       "JumpRope:   0%|          | 0/144 [00:00<?, ?it/s]"
      ]
     },
     "metadata": {},
     "output_type": "display_data"
    },
    {
     "data": {
      "application/vnd.jupyter.widget-view+json": {
       "model_id": "87c5770b261f4bb593c2752faf3d4ed3",
       "version_major": 2,
       "version_minor": 0
      },
      "text/plain": [
       "JumpingJack:   0%|          | 0/123 [00:00<?, ?it/s]"
      ]
     },
     "metadata": {},
     "output_type": "display_data"
    },
    {
     "data": {
      "application/vnd.jupyter.widget-view+json": {
       "model_id": "7f7e6c620c07442c831e98fbc7457843",
       "version_major": 2,
       "version_minor": 0
      },
      "text/plain": [
       "Kayaking:   0%|          | 0/141 [00:00<?, ?it/s]"
      ]
     },
     "metadata": {},
     "output_type": "display_data"
    },
    {
     "data": {
      "application/vnd.jupyter.widget-view+json": {
       "model_id": "627ba28aed4b4d0e90fee30aa070ecb5",
       "version_major": 2,
       "version_minor": 0
      },
      "text/plain": [
       "Knitting:   0%|          | 0/123 [00:00<?, ?it/s]"
      ]
     },
     "metadata": {},
     "output_type": "display_data"
    },
    {
     "data": {
      "application/vnd.jupyter.widget-view+json": {
       "model_id": "9ac3880ef71e4279b521fa8d68a75f2a",
       "version_major": 2,
       "version_minor": 0
      },
      "text/plain": [
       "LongJump:   0%|          | 0/131 [00:00<?, ?it/s]"
      ]
     },
     "metadata": {},
     "output_type": "display_data"
    },
    {
     "data": {
      "application/vnd.jupyter.widget-view+json": {
       "model_id": "9e6edfa46ba64a80996071bc6db7e03d",
       "version_major": 2,
       "version_minor": 0
      },
      "text/plain": [
       "Lunges:   0%|          | 0/127 [00:00<?, ?it/s]"
      ]
     },
     "metadata": {},
     "output_type": "display_data"
    },
    {
     "data": {
      "application/vnd.jupyter.widget-view+json": {
       "model_id": "483024c373064030b55981e1504839bb",
       "version_major": 2,
       "version_minor": 0
      },
      "text/plain": [
       "MilitaryParade:   0%|          | 0/125 [00:00<?, ?it/s]"
      ]
     },
     "metadata": {},
     "output_type": "display_data"
    },
    {
     "data": {
      "application/vnd.jupyter.widget-view+json": {
       "model_id": "7a58aa7dda3641a8a60775381b6dcc7d",
       "version_major": 2,
       "version_minor": 0
      },
      "text/plain": [
       "Mixing:   0%|          | 0/136 [00:00<?, ?it/s]"
      ]
     },
     "metadata": {},
     "output_type": "display_data"
    },
    {
     "data": {
      "application/vnd.jupyter.widget-view+json": {
       "model_id": "ab171ff5a4e14a5caa2574fa81429032",
       "version_major": 2,
       "version_minor": 0
      },
      "text/plain": [
       "MoppingFloor:   0%|          | 0/110 [00:00<?, ?it/s]"
      ]
     },
     "metadata": {},
     "output_type": "display_data"
    },
    {
     "data": {
      "application/vnd.jupyter.widget-view+json": {
       "model_id": "53ef02608813462183888e4db4071179",
       "version_major": 2,
       "version_minor": 0
      },
      "text/plain": [
       "Nunchucks:   0%|          | 0/132 [00:00<?, ?it/s]"
      ]
     },
     "metadata": {},
     "output_type": "display_data"
    },
    {
     "data": {
      "application/vnd.jupyter.widget-view+json": {
       "model_id": "d1e042c07d434ed9a8ed7d80c0f70031",
       "version_major": 2,
       "version_minor": 0
      },
      "text/plain": [
       "ParallelBars:   0%|          | 0/114 [00:00<?, ?it/s]"
      ]
     },
     "metadata": {},
     "output_type": "display_data"
    },
    {
     "data": {
      "application/vnd.jupyter.widget-view+json": {
       "model_id": "93b50449b3554a1180314da74f4e8018",
       "version_major": 2,
       "version_minor": 0
      },
      "text/plain": [
       "PizzaTossing:   0%|          | 0/113 [00:00<?, ?it/s]"
      ]
     },
     "metadata": {},
     "output_type": "display_data"
    },
    {
     "data": {
      "application/vnd.jupyter.widget-view+json": {
       "model_id": "939802d0691d4b378d0d0a4d917343ae",
       "version_major": 2,
       "version_minor": 0
      },
      "text/plain": [
       "PlayingCello:   0%|          | 0/164 [00:00<?, ?it/s]"
      ]
     },
     "metadata": {},
     "output_type": "display_data"
    },
    {
     "data": {
      "application/vnd.jupyter.widget-view+json": {
       "model_id": "a0ae63c8d8f44a79b9fd7a010edf7134",
       "version_major": 2,
       "version_minor": 0
      },
      "text/plain": [
       "PlayingDaf:   0%|          | 0/151 [00:00<?, ?it/s]"
      ]
     },
     "metadata": {},
     "output_type": "display_data"
    },
    {
     "data": {
      "application/vnd.jupyter.widget-view+json": {
       "model_id": "239347d94d8343b9bd1002099418086a",
       "version_major": 2,
       "version_minor": 0
      },
      "text/plain": [
       "PlayingDhol:   0%|          | 0/164 [00:00<?, ?it/s]"
      ]
     },
     "metadata": {},
     "output_type": "display_data"
    },
    {
     "data": {
      "application/vnd.jupyter.widget-view+json": {
       "model_id": "3b114de5e4124bbfb5b3a8be1e823dce",
       "version_major": 2,
       "version_minor": 0
      },
      "text/plain": [
       "PlayingFlute:   0%|          | 0/155 [00:00<?, ?it/s]"
      ]
     },
     "metadata": {},
     "output_type": "display_data"
    },
    {
     "data": {
      "application/vnd.jupyter.widget-view+json": {
       "model_id": "10c6e9009bfc478d9176ed7ad424cb6c",
       "version_major": 2,
       "version_minor": 0
      },
      "text/plain": [
       "PlayingGuitar:   0%|          | 0/160 [00:00<?, ?it/s]"
      ]
     },
     "metadata": {},
     "output_type": "display_data"
    },
    {
     "data": {
      "application/vnd.jupyter.widget-view+json": {
       "model_id": "47e6187218964bef9562dc449f8f9b47",
       "version_major": 2,
       "version_minor": 0
      },
      "text/plain": [
       "PlayingPiano:   0%|          | 0/105 [00:00<?, ?it/s]"
      ]
     },
     "metadata": {},
     "output_type": "display_data"
    },
    {
     "data": {
      "application/vnd.jupyter.widget-view+json": {
       "model_id": "3079679da71940c5bd2e9f8a0a4c71d2",
       "version_major": 2,
       "version_minor": 0
      },
      "text/plain": [
       "PlayingSitar:   0%|          | 0/157 [00:00<?, ?it/s]"
      ]
     },
     "metadata": {},
     "output_type": "display_data"
    },
    {
     "data": {
      "application/vnd.jupyter.widget-view+json": {
       "model_id": "78c8fdc6a80d485293e48bcf092941c2",
       "version_major": 2,
       "version_minor": 0
      },
      "text/plain": [
       "PlayingTabla:   0%|          | 0/111 [00:00<?, ?it/s]"
      ]
     },
     "metadata": {},
     "output_type": "display_data"
    },
    {
     "data": {
      "application/vnd.jupyter.widget-view+json": {
       "model_id": "f1dcb4ea206649a69dd2da83c376ebb8",
       "version_major": 2,
       "version_minor": 0
      },
      "text/plain": [
       "PlayingViolin:   0%|          | 0/100 [00:00<?, ?it/s]"
      ]
     },
     "metadata": {},
     "output_type": "display_data"
    },
    {
     "data": {
      "application/vnd.jupyter.widget-view+json": {
       "model_id": "2963bb19afa3482da2d6a61655ba79e5",
       "version_major": 2,
       "version_minor": 0
      },
      "text/plain": [
       "PoleVault:   0%|          | 0/149 [00:00<?, ?it/s]"
      ]
     },
     "metadata": {},
     "output_type": "display_data"
    },
    {
     "data": {
      "application/vnd.jupyter.widget-view+json": {
       "model_id": "20c9b7f2759349d0ba834a0368cf7596",
       "version_major": 2,
       "version_minor": 0
      },
      "text/plain": [
       "PommelHorse:   0%|          | 0/123 [00:00<?, ?it/s]"
      ]
     },
     "metadata": {},
     "output_type": "display_data"
    },
    {
     "data": {
      "application/vnd.jupyter.widget-view+json": {
       "model_id": "5368de5178b94ec98bb0ea75aff88d41",
       "version_major": 2,
       "version_minor": 0
      },
      "text/plain": [
       "PullUps:   0%|          | 0/100 [00:00<?, ?it/s]"
      ]
     },
     "metadata": {},
     "output_type": "display_data"
    },
    {
     "data": {
      "application/vnd.jupyter.widget-view+json": {
       "model_id": "129ced620a72452791ddcff791638801",
       "version_major": 2,
       "version_minor": 0
      },
      "text/plain": [
       "Punch:   0%|          | 0/160 [00:00<?, ?it/s]"
      ]
     },
     "metadata": {},
     "output_type": "display_data"
    },
    {
     "data": {
      "application/vnd.jupyter.widget-view+json": {
       "model_id": "b59287ced8d24b1a902f277146e03a24",
       "version_major": 2,
       "version_minor": 0
      },
      "text/plain": [
       "PushUps:   0%|          | 0/102 [00:00<?, ?it/s]"
      ]
     },
     "metadata": {},
     "output_type": "display_data"
    },
    {
     "data": {
      "application/vnd.jupyter.widget-view+json": {
       "model_id": "482a54fabc7746559ca60e4df8405f21",
       "version_major": 2,
       "version_minor": 0
      },
      "text/plain": [
       "Rafting:   0%|          | 0/111 [00:00<?, ?it/s]"
      ]
     },
     "metadata": {},
     "output_type": "display_data"
    },
    {
     "data": {
      "application/vnd.jupyter.widget-view+json": {
       "model_id": "8156c23128bf46ba97246215cc6839c1",
       "version_major": 2,
       "version_minor": 0
      },
      "text/plain": [
       "RockClimbingIndoor:   0%|          | 0/144 [00:00<?, ?it/s]"
      ]
     },
     "metadata": {},
     "output_type": "display_data"
    },
    {
     "data": {
      "application/vnd.jupyter.widget-view+json": {
       "model_id": "778912cb13c549668900ec9b9307282e",
       "version_major": 2,
       "version_minor": 0
      },
      "text/plain": [
       "RopeClimbing:   0%|          | 0/119 [00:00<?, ?it/s]"
      ]
     },
     "metadata": {},
     "output_type": "display_data"
    },
    {
     "data": {
      "application/vnd.jupyter.widget-view+json": {
       "model_id": "042dacdb7b134de1bd1acb2bbf7f13f7",
       "version_major": 2,
       "version_minor": 0
      },
      "text/plain": [
       "Rowing:   0%|          | 0/137 [00:00<?, ?it/s]"
      ]
     },
     "metadata": {},
     "output_type": "display_data"
    },
    {
     "data": {
      "application/vnd.jupyter.widget-view+json": {
       "model_id": "3790949938cb429593fdc391608facee",
       "version_major": 2,
       "version_minor": 0
      },
      "text/plain": [
       "SalsaSpin:   0%|          | 0/133 [00:00<?, ?it/s]"
      ]
     },
     "metadata": {},
     "output_type": "display_data"
    },
    {
     "data": {
      "application/vnd.jupyter.widget-view+json": {
       "model_id": "51d11f674b2a418cb29e6adcb20edef1",
       "version_major": 2,
       "version_minor": 0
      },
      "text/plain": [
       "ShavingBeard:   0%|          | 0/161 [00:00<?, ?it/s]"
      ]
     },
     "metadata": {},
     "output_type": "display_data"
    },
    {
     "data": {
      "application/vnd.jupyter.widget-view+json": {
       "model_id": "80bfeea5f7c54319a583a032c5f62f62",
       "version_major": 2,
       "version_minor": 0
      },
      "text/plain": [
       "Shotput:   0%|          | 0/144 [00:00<?, ?it/s]"
      ]
     },
     "metadata": {},
     "output_type": "display_data"
    },
    {
     "data": {
      "application/vnd.jupyter.widget-view+json": {
       "model_id": "60658d0f241442f38e018b3c4348fea4",
       "version_major": 2,
       "version_minor": 0
      },
      "text/plain": [
       "SkateBoarding:   0%|          | 0/120 [00:00<?, ?it/s]"
      ]
     },
     "metadata": {},
     "output_type": "display_data"
    },
    {
     "data": {
      "application/vnd.jupyter.widget-view+json": {
       "model_id": "a9f38272af5f4bcb80cd7caae17a5711",
       "version_major": 2,
       "version_minor": 0
      },
      "text/plain": [
       "Skiing:   0%|          | 0/135 [00:00<?, ?it/s]"
      ]
     },
     "metadata": {},
     "output_type": "display_data"
    },
    {
     "data": {
      "application/vnd.jupyter.widget-view+json": {
       "model_id": "e26aca51cdfa4f2d92904165799007a4",
       "version_major": 2,
       "version_minor": 0
      },
      "text/plain": [
       "Skijet:   0%|          | 0/100 [00:00<?, ?it/s]"
      ]
     },
     "metadata": {},
     "output_type": "display_data"
    },
    {
     "data": {
      "application/vnd.jupyter.widget-view+json": {
       "model_id": "aea27d9d777f47dc85aa52cefd166325",
       "version_major": 2,
       "version_minor": 0
      },
      "text/plain": [
       "SkyDiving:   0%|          | 0/110 [00:00<?, ?it/s]"
      ]
     },
     "metadata": {},
     "output_type": "display_data"
    },
    {
     "data": {
      "application/vnd.jupyter.widget-view+json": {
       "model_id": "7436a851532b46fdbe9e80e0c57a75c0",
       "version_major": 2,
       "version_minor": 0
      },
      "text/plain": [
       "SoccerJuggling:   0%|          | 0/147 [00:00<?, ?it/s]"
      ]
     },
     "metadata": {},
     "output_type": "display_data"
    },
    {
     "data": {
      "application/vnd.jupyter.widget-view+json": {
       "model_id": "8bc8ce5341884471961eda0e0e706ac6",
       "version_major": 2,
       "version_minor": 0
      },
      "text/plain": [
       "SoccerPenalty:   0%|          | 0/137 [00:00<?, ?it/s]"
      ]
     },
     "metadata": {},
     "output_type": "display_data"
    },
    {
     "data": {
      "application/vnd.jupyter.widget-view+json": {
       "model_id": "675cdd5ea94149dbbe03351186bdedce",
       "version_major": 2,
       "version_minor": 0
      },
      "text/plain": [
       "StillRings:   0%|          | 0/112 [00:00<?, ?it/s]"
      ]
     },
     "metadata": {},
     "output_type": "display_data"
    },
    {
     "data": {
      "application/vnd.jupyter.widget-view+json": {
       "model_id": "749761359b6746cbb3ee3433e12e1457",
       "version_major": 2,
       "version_minor": 0
      },
      "text/plain": [
       "SumoWrestling:   0%|          | 0/116 [00:00<?, ?it/s]"
      ]
     },
     "metadata": {},
     "output_type": "display_data"
    },
    {
     "data": {
      "application/vnd.jupyter.widget-view+json": {
       "model_id": "41200815b3fa424b9906140731127b0a",
       "version_major": 2,
       "version_minor": 0
      },
      "text/plain": [
       "Surfing:   0%|          | 0/126 [00:00<?, ?it/s]"
      ]
     },
     "metadata": {},
     "output_type": "display_data"
    },
    {
     "data": {
      "application/vnd.jupyter.widget-view+json": {
       "model_id": "6e30fbb698ea49759da139294d401320",
       "version_major": 2,
       "version_minor": 0
      },
      "text/plain": [
       "Swing:   0%|          | 0/131 [00:00<?, ?it/s]"
      ]
     },
     "metadata": {},
     "output_type": "display_data"
    },
    {
     "data": {
      "application/vnd.jupyter.widget-view+json": {
       "model_id": "fa74ec41568f4ed9b94aaf511a48bab7",
       "version_major": 2,
       "version_minor": 0
      },
      "text/plain": [
       "TableTennisShot:   0%|          | 0/140 [00:00<?, ?it/s]"
      ]
     },
     "metadata": {},
     "output_type": "display_data"
    },
    {
     "data": {
      "application/vnd.jupyter.widget-view+json": {
       "model_id": "0e65b6ac0fd1467eb4915287c7c9d345",
       "version_major": 2,
       "version_minor": 0
      },
      "text/plain": [
       "TaiChi:   0%|          | 0/100 [00:00<?, ?it/s]"
      ]
     },
     "metadata": {},
     "output_type": "display_data"
    },
    {
     "data": {
      "application/vnd.jupyter.widget-view+json": {
       "model_id": "4a4467df954b4c46a0422518d56ea0d6",
       "version_major": 2,
       "version_minor": 0
      },
      "text/plain": [
       "TennisSwing:   0%|          | 0/166 [00:00<?, ?it/s]"
      ]
     },
     "metadata": {},
     "output_type": "display_data"
    },
    {
     "data": {
      "application/vnd.jupyter.widget-view+json": {
       "model_id": "4fe41dbe704049488cf177fd74abdbcc",
       "version_major": 2,
       "version_minor": 0
      },
      "text/plain": [
       "ThrowDiscus:   0%|          | 0/130 [00:00<?, ?it/s]"
      ]
     },
     "metadata": {},
     "output_type": "display_data"
    },
    {
     "data": {
      "application/vnd.jupyter.widget-view+json": {
       "model_id": "efbf4131c7964c2b9aca9525e85394bf",
       "version_major": 2,
       "version_minor": 0
      },
      "text/plain": [
       "TrampolineJumping:   0%|          | 0/119 [00:00<?, ?it/s]"
      ]
     },
     "metadata": {},
     "output_type": "display_data"
    },
    {
     "data": {
      "application/vnd.jupyter.widget-view+json": {
       "model_id": "57d2184f8af047e2a767b3b9ef8d26b0",
       "version_major": 2,
       "version_minor": 0
      },
      "text/plain": [
       "Typing:   0%|          | 0/136 [00:00<?, ?it/s]"
      ]
     },
     "metadata": {},
     "output_type": "display_data"
    },
    {
     "data": {
      "application/vnd.jupyter.widget-view+json": {
       "model_id": "ec2ddcd5cddc405eacdb06fea9aef465",
       "version_major": 2,
       "version_minor": 0
      },
      "text/plain": [
       "UnevenBars:   0%|          | 0/104 [00:00<?, ?it/s]"
      ]
     },
     "metadata": {},
     "output_type": "display_data"
    },
    {
     "data": {
      "application/vnd.jupyter.widget-view+json": {
       "model_id": "90e199aa8091468090e2879dd8733692",
       "version_major": 2,
       "version_minor": 0
      },
      "text/plain": [
       "VolleyballSpiking:   0%|          | 0/116 [00:00<?, ?it/s]"
      ]
     },
     "metadata": {},
     "output_type": "display_data"
    },
    {
     "data": {
      "application/vnd.jupyter.widget-view+json": {
       "model_id": "94b287a3bf4f4e0d93ad4bf6eb9aa1d8",
       "version_major": 2,
       "version_minor": 0
      },
      "text/plain": [
       "WalkingWithDog:   0%|          | 0/123 [00:00<?, ?it/s]"
      ]
     },
     "metadata": {},
     "output_type": "display_data"
    },
    {
     "data": {
      "application/vnd.jupyter.widget-view+json": {
       "model_id": "e42a3383f6c4426e8f4df506539b03cd",
       "version_major": 2,
       "version_minor": 0
      },
      "text/plain": [
       "WallPushups:   0%|          | 0/130 [00:00<?, ?it/s]"
      ]
     },
     "metadata": {},
     "output_type": "display_data"
    },
    {
     "data": {
      "application/vnd.jupyter.widget-view+json": {
       "model_id": "98e5eb3368364675a095dc68b3b1f81c",
       "version_major": 2,
       "version_minor": 0
      },
      "text/plain": [
       "WritingOnBoard:   0%|          | 0/152 [00:00<?, ?it/s]"
      ]
     },
     "metadata": {},
     "output_type": "display_data"
    },
    {
     "data": {
      "application/vnd.jupyter.widget-view+json": {
       "model_id": "31307bdc61dd4839babaec6b4f73275e",
       "version_major": 2,
       "version_minor": 0
      },
      "text/plain": [
       "YoYo:   0%|          | 0/128 [00:00<?, ?it/s]"
      ]
     },
     "metadata": {},
     "output_type": "display_data"
    },
    {
     "name": "stdout",
     "output_type": "stream",
     "text": [
      "✅  Dummy detection file written → dummy_detections.npy\n"
     ]
    }
   ],
   "source": [
    "# %%\n",
    "\"\"\"\n",
    "Generate a dummy detection .npy file that mirrors the real directory tree,\n",
    "ignoring hidden folders, but this time using *larger* random bounding boxes.\n",
    "\"\"\"\n",
    "\n",
    "import numpy as np\n",
    "from pathlib import Path\n",
    "from tqdm.auto import tqdm\n",
    "\n",
    "# ─── config ───────────────────────────────────────────\n",
    "video_root   = Path(\"datasets/UCF-101-JPG\")          # class/video/frame.jpg tree\n",
    "out_file     = Path(\"dummy_detections.npy\")          # output file\n",
    "seed         = 42\n",
    "max_boxes    = 3\n",
    "\n",
    "# If you know your real resolution, set it here.\n",
    "# (Purely for generating boxes; the file structure is independent of this.)\n",
    "img_w, img_h = 320, 240\n",
    "\n",
    "# Size range for boxes *relative to* frame size\n",
    "BOX_MIN_FRAC = 0.10          # 10 % of width/height\n",
    "BOX_MAX_FRAC = 0.50          # 50 % of width/height  ← bigger than before\n",
    "\n",
    "np.random.seed(seed)\n",
    "\n",
    "# ─── helper ───────────────────────────────────────────\n",
    "def is_hidden(p: Path) -> bool:\n",
    "    return p.name.startswith('.') or 'ipynb_checkpoints' in p.name\n",
    "\n",
    "def random_boxes(n: int) -> np.ndarray:\n",
    "    \"\"\"\n",
    "    Return (n,5) float32 array of random boxes:\n",
    "    (x1, y1, x2, y2, score) clipped to image bounds.\n",
    "\n",
    "    Box width/height ∈ [BOX_MIN_FRAC, BOX_MAX_FRAC] × image_(w|h)\n",
    "    \"\"\"\n",
    "    if n == 0:\n",
    "        return np.zeros((0, 5), dtype=np.float32)\n",
    "\n",
    "    # random top-left corner\n",
    "    x1 = np.random.uniform(0, img_w * (1 - BOX_MIN_FRAC), size=n)\n",
    "    y1 = np.random.uniform(0, img_h * (1 - BOX_MIN_FRAC), size=n)\n",
    "\n",
    "    # random width / height (now wider range → bigger boxes)\n",
    "    widths  = np.random.uniform(img_w * BOX_MIN_FRAC, img_w * BOX_MAX_FRAC, size=n)\n",
    "    heights = np.random.uniform(img_h * BOX_MIN_FRAC, img_h * BOX_MAX_FRAC, size=n)\n",
    "\n",
    "    # ensure boxes stay inside frame\n",
    "    x2 = np.clip(x1 + widths,  0, img_w)\n",
    "    y2 = np.clip(y1 + heights, 0, img_h)\n",
    "\n",
    "    scores = np.random.uniform(0.3, 1.0, size=n)      # plausible confidence\n",
    "    return np.stack([x1, y1, x2, y2, scores], axis=1).astype(np.float32)\n",
    "\n",
    "# ─── build nested dict ───────────────────────────────\n",
    "all_dets = {}\n",
    "\n",
    "for class_dir in tqdm(sorted(video_root.iterdir()), desc=\"class\"):\n",
    "    if not class_dir.is_dir() or is_hidden(class_dir):\n",
    "        continue\n",
    "    cls_name = class_dir.name\n",
    "    all_dets[cls_name] = {}\n",
    "\n",
    "    for vid_dir in tqdm(sorted(class_dir.iterdir()), leave=False, desc=cls_name):\n",
    "        if not vid_dir.is_dir() or is_hidden(vid_dir):\n",
    "            continue\n",
    "        vid11 = vid_dir.name\n",
    "        all_dets[cls_name][vid11] = {}\n",
    "\n",
    "        frames = sorted(vid_dir.glob(\"*.jpg\"))\n",
    "        for idx, _ in enumerate(frames, start=1):          # frame indices are 1-based\n",
    "            n = np.random.randint(0, max_boxes + 1)        # 0…max_boxes boxes\n",
    "            all_dets[cls_name][vid11][idx] = {\"human_boxes\": random_boxes(n)}\n",
    "\n",
    "# ─── save ────────────────────────────────────────────\n",
    "np.save(out_file, all_dets, allow_pickle=True)\n",
    "print(f\"✅  Dummy detection file written → {out_file}\")\n"
   ]
  },
  {
   "cell_type": "markdown",
   "id": "9fd75842-879d-45ae-87fa-55fd59dc880e",
   "metadata": {},
   "source": [
    "## Numpy mask"
   ]
  },
  {
   "cell_type": "code",
   "execution_count": 8,
   "id": "b161fbe7-f432-4e4f-94a1-4fb2ff043351",
   "metadata": {},
   "outputs": [
    {
     "data": {
      "application/vnd.jupyter.widget-view+json": {
       "model_id": "6064cdc5631c4edaa2e4c228620a7306",
       "version_major": 2,
       "version_minor": 0
      },
      "text/plain": [
       "class:   0%|          | 0/102 [00:00<?, ?it/s]"
      ]
     },
     "metadata": {},
     "output_type": "display_data"
    },
    {
     "data": {
      "application/vnd.jupyter.widget-view+json": {
       "model_id": "a9e7a333beb849b4916d019f18994e2a",
       "version_major": 2,
       "version_minor": 0
      },
      "text/plain": [
       ".ipynb_checkpoints: 0it [00:00, ?it/s]"
      ]
     },
     "metadata": {},
     "output_type": "display_data"
    },
    {
     "data": {
      "application/vnd.jupyter.widget-view+json": {
       "model_id": "ad18e23156ec4bbd8abfedf065333047",
       "version_major": 2,
       "version_minor": 0
      },
      "text/plain": [
       "ApplyEyeMakeup:   0%|          | 0/145 [00:00<?, ?it/s]"
      ]
     },
     "metadata": {},
     "output_type": "display_data"
    },
    {
     "data": {
      "application/vnd.jupyter.widget-view+json": {
       "model_id": "9df9ddd4d56a430988bde8d63c3ce3fe",
       "version_major": 2,
       "version_minor": 0
      },
      "text/plain": [
       "ApplyLipstick:   0%|          | 0/114 [00:00<?, ?it/s]"
      ]
     },
     "metadata": {},
     "output_type": "display_data"
    },
    {
     "data": {
      "application/vnd.jupyter.widget-view+json": {
       "model_id": "6764baf0d0fe4808a00adbe36a85ee08",
       "version_major": 2,
       "version_minor": 0
      },
      "text/plain": [
       "Archery:   0%|          | 0/145 [00:00<?, ?it/s]"
      ]
     },
     "metadata": {},
     "output_type": "display_data"
    },
    {
     "data": {
      "application/vnd.jupyter.widget-view+json": {
       "model_id": "a4aaa3499750457f96a08ab2dae18f6c",
       "version_major": 2,
       "version_minor": 0
      },
      "text/plain": [
       "BabyCrawling:   0%|          | 0/132 [00:00<?, ?it/s]"
      ]
     },
     "metadata": {},
     "output_type": "display_data"
    },
    {
     "data": {
      "application/vnd.jupyter.widget-view+json": {
       "model_id": "c1f33df0463f4b4691cbebab10d0a601",
       "version_major": 2,
       "version_minor": 0
      },
      "text/plain": [
       "BalanceBeam:   0%|          | 0/108 [00:00<?, ?it/s]"
      ]
     },
     "metadata": {},
     "output_type": "display_data"
    },
    {
     "data": {
      "application/vnd.jupyter.widget-view+json": {
       "model_id": "d2932a42d6144ed384f102a0dd7a95ea",
       "version_major": 2,
       "version_minor": 0
      },
      "text/plain": [
       "BandMarching:   0%|          | 0/155 [00:00<?, ?it/s]"
      ]
     },
     "metadata": {},
     "output_type": "display_data"
    },
    {
     "data": {
      "application/vnd.jupyter.widget-view+json": {
       "model_id": "251d6d7c9faa4fcba6d0b54c7231dbdc",
       "version_major": 2,
       "version_minor": 0
      },
      "text/plain": [
       "BaseballPitch:   0%|          | 0/150 [00:00<?, ?it/s]"
      ]
     },
     "metadata": {},
     "output_type": "display_data"
    },
    {
     "data": {
      "application/vnd.jupyter.widget-view+json": {
       "model_id": "0f326c2872fd4c0b87f479730e4812b2",
       "version_major": 2,
       "version_minor": 0
      },
      "text/plain": [
       "Basketball:   0%|          | 0/134 [00:00<?, ?it/s]"
      ]
     },
     "metadata": {},
     "output_type": "display_data"
    },
    {
     "data": {
      "application/vnd.jupyter.widget-view+json": {
       "model_id": "7ab6eda2af0d46f19711e8fadb55d523",
       "version_major": 2,
       "version_minor": 0
      },
      "text/plain": [
       "BasketballDunk:   0%|          | 0/131 [00:00<?, ?it/s]"
      ]
     },
     "metadata": {},
     "output_type": "display_data"
    },
    {
     "data": {
      "application/vnd.jupyter.widget-view+json": {
       "model_id": "4bf73c5f2bc948e1a9256c5fc0f18add",
       "version_major": 2,
       "version_minor": 0
      },
      "text/plain": [
       "BenchPress:   0%|          | 0/160 [00:00<?, ?it/s]"
      ]
     },
     "metadata": {},
     "output_type": "display_data"
    },
    {
     "data": {
      "application/vnd.jupyter.widget-view+json": {
       "model_id": "bfeb1f8a817d424ea902107633930073",
       "version_major": 2,
       "version_minor": 0
      },
      "text/plain": [
       "Biking:   0%|          | 0/134 [00:00<?, ?it/s]"
      ]
     },
     "metadata": {},
     "output_type": "display_data"
    },
    {
     "data": {
      "application/vnd.jupyter.widget-view+json": {
       "model_id": "7463719bfc9548de88d8fec799bc726d",
       "version_major": 2,
       "version_minor": 0
      },
      "text/plain": [
       "Billiards:   0%|          | 0/150 [00:00<?, ?it/s]"
      ]
     },
     "metadata": {},
     "output_type": "display_data"
    },
    {
     "data": {
      "application/vnd.jupyter.widget-view+json": {
       "model_id": "8c2ee36fc1ae4a4ea23e5bd867082548",
       "version_major": 2,
       "version_minor": 0
      },
      "text/plain": [
       "BlowDryHair:   0%|          | 0/131 [00:00<?, ?it/s]"
      ]
     },
     "metadata": {},
     "output_type": "display_data"
    },
    {
     "data": {
      "application/vnd.jupyter.widget-view+json": {
       "model_id": "7f2c17bbcbb34dd6aed5511b1a8d51ba",
       "version_major": 2,
       "version_minor": 0
      },
      "text/plain": [
       "BlowingCandles:   0%|          | 0/109 [00:00<?, ?it/s]"
      ]
     },
     "metadata": {},
     "output_type": "display_data"
    },
    {
     "data": {
      "application/vnd.jupyter.widget-view+json": {
       "model_id": "5fb87c48653b4c3d873f13d6a38bd74d",
       "version_major": 2,
       "version_minor": 0
      },
      "text/plain": [
       "BodyWeightSquats:   0%|          | 0/112 [00:00<?, ?it/s]"
      ]
     },
     "metadata": {},
     "output_type": "display_data"
    },
    {
     "data": {
      "application/vnd.jupyter.widget-view+json": {
       "model_id": "8c3da31c391947cd89377eb2c186885b",
       "version_major": 2,
       "version_minor": 0
      },
      "text/plain": [
       "Bowling:   0%|          | 0/155 [00:00<?, ?it/s]"
      ]
     },
     "metadata": {},
     "output_type": "display_data"
    },
    {
     "data": {
      "application/vnd.jupyter.widget-view+json": {
       "model_id": "8a04319f1ef341499e9c067a20512563",
       "version_major": 2,
       "version_minor": 0
      },
      "text/plain": [
       "BoxingPunchingBag:   0%|          | 0/163 [00:00<?, ?it/s]"
      ]
     },
     "metadata": {},
     "output_type": "display_data"
    },
    {
     "data": {
      "application/vnd.jupyter.widget-view+json": {
       "model_id": "e55aa00aa4ee4bc8b4f12d950665113c",
       "version_major": 2,
       "version_minor": 0
      },
      "text/plain": [
       "BoxingSpeedBag:   0%|          | 0/134 [00:00<?, ?it/s]"
      ]
     },
     "metadata": {},
     "output_type": "display_data"
    },
    {
     "data": {
      "application/vnd.jupyter.widget-view+json": {
       "model_id": "b09955f540ac4ad894bb0af86a0a54bb",
       "version_major": 2,
       "version_minor": 0
      },
      "text/plain": [
       "BreastStroke:   0%|          | 0/101 [00:00<?, ?it/s]"
      ]
     },
     "metadata": {},
     "output_type": "display_data"
    },
    {
     "data": {
      "application/vnd.jupyter.widget-view+json": {
       "model_id": "5447b89959494e6492fb7c899ad4dee4",
       "version_major": 2,
       "version_minor": 0
      },
      "text/plain": [
       "BrushingTeeth:   0%|          | 0/131 [00:00<?, ?it/s]"
      ]
     },
     "metadata": {},
     "output_type": "display_data"
    },
    {
     "data": {
      "application/vnd.jupyter.widget-view+json": {
       "model_id": "694133978d334387bf36a61b18ddd184",
       "version_major": 2,
       "version_minor": 0
      },
      "text/plain": [
       "CleanAndJerk:   0%|          | 0/112 [00:00<?, ?it/s]"
      ]
     },
     "metadata": {},
     "output_type": "display_data"
    },
    {
     "data": {
      "application/vnd.jupyter.widget-view+json": {
       "model_id": "5fcd9c25ace24bbfaadde5033b7b62da",
       "version_major": 2,
       "version_minor": 0
      },
      "text/plain": [
       "CliffDiving:   0%|          | 0/138 [00:00<?, ?it/s]"
      ]
     },
     "metadata": {},
     "output_type": "display_data"
    },
    {
     "data": {
      "application/vnd.jupyter.widget-view+json": {
       "model_id": "173d058c2b6b4eb087bce4af034b47a0",
       "version_major": 2,
       "version_minor": 0
      },
      "text/plain": [
       "CricketBowling:   0%|          | 0/139 [00:00<?, ?it/s]"
      ]
     },
     "metadata": {},
     "output_type": "display_data"
    },
    {
     "data": {
      "application/vnd.jupyter.widget-view+json": {
       "model_id": "b2a3d19d90d6485bafd9ae83a9da71e7",
       "version_major": 2,
       "version_minor": 0
      },
      "text/plain": [
       "CricketShot:   0%|          | 0/167 [00:00<?, ?it/s]"
      ]
     },
     "metadata": {},
     "output_type": "display_data"
    },
    {
     "data": {
      "application/vnd.jupyter.widget-view+json": {
       "model_id": "ae2ff333ac854f8c8cd818de0c76d04c",
       "version_major": 2,
       "version_minor": 0
      },
      "text/plain": [
       "CuttingInKitchen:   0%|          | 0/110 [00:00<?, ?it/s]"
      ]
     },
     "metadata": {},
     "output_type": "display_data"
    },
    {
     "data": {
      "application/vnd.jupyter.widget-view+json": {
       "model_id": "8ae1c24aba7f4df8bf21e7fcfc69b8a9",
       "version_major": 2,
       "version_minor": 0
      },
      "text/plain": [
       "Diving:   0%|          | 0/150 [00:00<?, ?it/s]"
      ]
     },
     "metadata": {},
     "output_type": "display_data"
    },
    {
     "data": {
      "application/vnd.jupyter.widget-view+json": {
       "model_id": "008185d0c8214522802ebe30ff28c648",
       "version_major": 2,
       "version_minor": 0
      },
      "text/plain": [
       "Drumming:   0%|          | 0/161 [00:00<?, ?it/s]"
      ]
     },
     "metadata": {},
     "output_type": "display_data"
    },
    {
     "data": {
      "application/vnd.jupyter.widget-view+json": {
       "model_id": "fb5fc3bf185a47e4a6dc9c6586ede67c",
       "version_major": 2,
       "version_minor": 0
      },
      "text/plain": [
       "Fencing:   0%|          | 0/111 [00:00<?, ?it/s]"
      ]
     },
     "metadata": {},
     "output_type": "display_data"
    },
    {
     "data": {
      "application/vnd.jupyter.widget-view+json": {
       "model_id": "a0cea32e37e046ff8bba3d4c8ab07077",
       "version_major": 2,
       "version_minor": 0
      },
      "text/plain": [
       "FieldHockeyPenalty:   0%|          | 0/126 [00:00<?, ?it/s]"
      ]
     },
     "metadata": {},
     "output_type": "display_data"
    },
    {
     "data": {
      "application/vnd.jupyter.widget-view+json": {
       "model_id": "4c6535d5fffb407eacf1ebf1f73f6d3c",
       "version_major": 2,
       "version_minor": 0
      },
      "text/plain": [
       "FloorGymnastics:   0%|          | 0/125 [00:00<?, ?it/s]"
      ]
     },
     "metadata": {},
     "output_type": "display_data"
    },
    {
     "data": {
      "application/vnd.jupyter.widget-view+json": {
       "model_id": "2fe2ab9191aa48d79f6446e7b4679d93",
       "version_major": 2,
       "version_minor": 0
      },
      "text/plain": [
       "FrisbeeCatch:   0%|          | 0/126 [00:00<?, ?it/s]"
      ]
     },
     "metadata": {},
     "output_type": "display_data"
    },
    {
     "data": {
      "application/vnd.jupyter.widget-view+json": {
       "model_id": "31b10dbde22c4995bcccd4b1d28a903c",
       "version_major": 2,
       "version_minor": 0
      },
      "text/plain": [
       "FrontCrawl:   0%|          | 0/137 [00:00<?, ?it/s]"
      ]
     },
     "metadata": {},
     "output_type": "display_data"
    },
    {
     "data": {
      "application/vnd.jupyter.widget-view+json": {
       "model_id": "96e644f68e824c8199e4696a52420c64",
       "version_major": 2,
       "version_minor": 0
      },
      "text/plain": [
       "GolfSwing:   0%|          | 0/139 [00:00<?, ?it/s]"
      ]
     },
     "metadata": {},
     "output_type": "display_data"
    },
    {
     "data": {
      "application/vnd.jupyter.widget-view+json": {
       "model_id": "261c67cc86554eaeab63e16725777e75",
       "version_major": 2,
       "version_minor": 0
      },
      "text/plain": [
       "Haircut:   0%|          | 0/130 [00:00<?, ?it/s]"
      ]
     },
     "metadata": {},
     "output_type": "display_data"
    },
    {
     "data": {
      "application/vnd.jupyter.widget-view+json": {
       "model_id": "512ae7e8e9874f919d355b490895b2da",
       "version_major": 2,
       "version_minor": 0
      },
      "text/plain": [
       "HammerThrow:   0%|          | 0/150 [00:00<?, ?it/s]"
      ]
     },
     "metadata": {},
     "output_type": "display_data"
    },
    {
     "data": {
      "application/vnd.jupyter.widget-view+json": {
       "model_id": "e86bcdaaf39b4a1f82983413de002bd5",
       "version_major": 2,
       "version_minor": 0
      },
      "text/plain": [
       "Hammering:   0%|          | 0/140 [00:00<?, ?it/s]"
      ]
     },
     "metadata": {},
     "output_type": "display_data"
    },
    {
     "data": {
      "application/vnd.jupyter.widget-view+json": {
       "model_id": "fa52ab0f65cb4436bc2f278546fdba93",
       "version_major": 2,
       "version_minor": 0
      },
      "text/plain": [
       "HandstandPushups:   0%|          | 0/128 [00:00<?, ?it/s]"
      ]
     },
     "metadata": {},
     "output_type": "display_data"
    },
    {
     "data": {
      "application/vnd.jupyter.widget-view+json": {
       "model_id": "2a40b19012fe4ecebbff0c792b982be1",
       "version_major": 2,
       "version_minor": 0
      },
      "text/plain": [
       "HandstandWalking:   0%|          | 0/111 [00:00<?, ?it/s]"
      ]
     },
     "metadata": {},
     "output_type": "display_data"
    },
    {
     "data": {
      "application/vnd.jupyter.widget-view+json": {
       "model_id": "95f28b0b7d704f88bb5ec28800a7a9a2",
       "version_major": 2,
       "version_minor": 0
      },
      "text/plain": [
       "HeadMassage:   0%|          | 0/147 [00:00<?, ?it/s]"
      ]
     },
     "metadata": {},
     "output_type": "display_data"
    },
    {
     "data": {
      "application/vnd.jupyter.widget-view+json": {
       "model_id": "29edf3a1bc3b49fcb7b7efd04e6c53df",
       "version_major": 2,
       "version_minor": 0
      },
      "text/plain": [
       "HighJump:   0%|          | 0/123 [00:00<?, ?it/s]"
      ]
     },
     "metadata": {},
     "output_type": "display_data"
    },
    {
     "data": {
      "application/vnd.jupyter.widget-view+json": {
       "model_id": "db3c6be7de95413d81d8b66a9af8ea36",
       "version_major": 2,
       "version_minor": 0
      },
      "text/plain": [
       "HorseRace:   0%|          | 0/124 [00:00<?, ?it/s]"
      ]
     },
     "metadata": {},
     "output_type": "display_data"
    },
    {
     "data": {
      "application/vnd.jupyter.widget-view+json": {
       "model_id": "cade054bfe6e421e8175cd18576f0876",
       "version_major": 2,
       "version_minor": 0
      },
      "text/plain": [
       "HorseRiding:   0%|          | 0/164 [00:00<?, ?it/s]"
      ]
     },
     "metadata": {},
     "output_type": "display_data"
    },
    {
     "data": {
      "application/vnd.jupyter.widget-view+json": {
       "model_id": "cfa7e28c7bce47488b712b917cd246ad",
       "version_major": 2,
       "version_minor": 0
      },
      "text/plain": [
       "HulaHoop:   0%|          | 0/125 [00:00<?, ?it/s]"
      ]
     },
     "metadata": {},
     "output_type": "display_data"
    },
    {
     "data": {
      "application/vnd.jupyter.widget-view+json": {
       "model_id": "f9374e58b8624355805e1e34aebc6517",
       "version_major": 2,
       "version_minor": 0
      },
      "text/plain": [
       "IceDancing:   0%|          | 0/158 [00:00<?, ?it/s]"
      ]
     },
     "metadata": {},
     "output_type": "display_data"
    },
    {
     "data": {
      "application/vnd.jupyter.widget-view+json": {
       "model_id": "635eabad677744288fcfcf524a44dba0",
       "version_major": 2,
       "version_minor": 0
      },
      "text/plain": [
       "JavelinThrow:   0%|          | 0/117 [00:00<?, ?it/s]"
      ]
     },
     "metadata": {},
     "output_type": "display_data"
    },
    {
     "data": {
      "application/vnd.jupyter.widget-view+json": {
       "model_id": "a31a26be0b204ac38264bfc4f1dbb4e6",
       "version_major": 2,
       "version_minor": 0
      },
      "text/plain": [
       "JugglingBalls:   0%|          | 0/121 [00:00<?, ?it/s]"
      ]
     },
     "metadata": {},
     "output_type": "display_data"
    },
    {
     "data": {
      "application/vnd.jupyter.widget-view+json": {
       "model_id": "7abcac81c0664a99985b404b4b8c57dd",
       "version_major": 2,
       "version_minor": 0
      },
      "text/plain": [
       "JumpRope:   0%|          | 0/144 [00:00<?, ?it/s]"
      ]
     },
     "metadata": {},
     "output_type": "display_data"
    },
    {
     "data": {
      "application/vnd.jupyter.widget-view+json": {
       "model_id": "c25b0436ba574423a4c13af451e3edeb",
       "version_major": 2,
       "version_minor": 0
      },
      "text/plain": [
       "JumpingJack:   0%|          | 0/123 [00:00<?, ?it/s]"
      ]
     },
     "metadata": {},
     "output_type": "display_data"
    },
    {
     "data": {
      "application/vnd.jupyter.widget-view+json": {
       "model_id": "a5e1de2704804337b399e216baecf31d",
       "version_major": 2,
       "version_minor": 0
      },
      "text/plain": [
       "Kayaking:   0%|          | 0/141 [00:00<?, ?it/s]"
      ]
     },
     "metadata": {},
     "output_type": "display_data"
    },
    {
     "data": {
      "application/vnd.jupyter.widget-view+json": {
       "model_id": "d53b743247e34217961251a970e02cfd",
       "version_major": 2,
       "version_minor": 0
      },
      "text/plain": [
       "Knitting:   0%|          | 0/123 [00:00<?, ?it/s]"
      ]
     },
     "metadata": {},
     "output_type": "display_data"
    },
    {
     "data": {
      "application/vnd.jupyter.widget-view+json": {
       "model_id": "d05c259598674cf9a0b0679c3e69c147",
       "version_major": 2,
       "version_minor": 0
      },
      "text/plain": [
       "LongJump:   0%|          | 0/131 [00:00<?, ?it/s]"
      ]
     },
     "metadata": {},
     "output_type": "display_data"
    },
    {
     "data": {
      "application/vnd.jupyter.widget-view+json": {
       "model_id": "be516ddfca954bbd838a6a77b433f7e6",
       "version_major": 2,
       "version_minor": 0
      },
      "text/plain": [
       "Lunges:   0%|          | 0/127 [00:00<?, ?it/s]"
      ]
     },
     "metadata": {},
     "output_type": "display_data"
    },
    {
     "data": {
      "application/vnd.jupyter.widget-view+json": {
       "model_id": "651ac42d4acc4dbe9d3876b36dbe7445",
       "version_major": 2,
       "version_minor": 0
      },
      "text/plain": [
       "MilitaryParade:   0%|          | 0/125 [00:00<?, ?it/s]"
      ]
     },
     "metadata": {},
     "output_type": "display_data"
    },
    {
     "data": {
      "application/vnd.jupyter.widget-view+json": {
       "model_id": "034ebeb4d24c4efab903cf384b41ea0b",
       "version_major": 2,
       "version_minor": 0
      },
      "text/plain": [
       "Mixing:   0%|          | 0/136 [00:00<?, ?it/s]"
      ]
     },
     "metadata": {},
     "output_type": "display_data"
    },
    {
     "data": {
      "application/vnd.jupyter.widget-view+json": {
       "model_id": "04a0f4f4e9be40fdab4475136f9d592b",
       "version_major": 2,
       "version_minor": 0
      },
      "text/plain": [
       "MoppingFloor:   0%|          | 0/110 [00:00<?, ?it/s]"
      ]
     },
     "metadata": {},
     "output_type": "display_data"
    },
    {
     "data": {
      "application/vnd.jupyter.widget-view+json": {
       "model_id": "29c766922d4343c8944079f9cc07c68a",
       "version_major": 2,
       "version_minor": 0
      },
      "text/plain": [
       "Nunchucks:   0%|          | 0/132 [00:00<?, ?it/s]"
      ]
     },
     "metadata": {},
     "output_type": "display_data"
    },
    {
     "data": {
      "application/vnd.jupyter.widget-view+json": {
       "model_id": "a89a6d3880e14e0691c020fd9828d0f4",
       "version_major": 2,
       "version_minor": 0
      },
      "text/plain": [
       "ParallelBars:   0%|          | 0/114 [00:00<?, ?it/s]"
      ]
     },
     "metadata": {},
     "output_type": "display_data"
    },
    {
     "data": {
      "application/vnd.jupyter.widget-view+json": {
       "model_id": "06186f9bbe2f4f788306171be2fc5d36",
       "version_major": 2,
       "version_minor": 0
      },
      "text/plain": [
       "PizzaTossing:   0%|          | 0/113 [00:00<?, ?it/s]"
      ]
     },
     "metadata": {},
     "output_type": "display_data"
    },
    {
     "data": {
      "application/vnd.jupyter.widget-view+json": {
       "model_id": "4d93afce83944288bac0ef0840e7efbf",
       "version_major": 2,
       "version_minor": 0
      },
      "text/plain": [
       "PlayingCello:   0%|          | 0/164 [00:00<?, ?it/s]"
      ]
     },
     "metadata": {},
     "output_type": "display_data"
    },
    {
     "data": {
      "application/vnd.jupyter.widget-view+json": {
       "model_id": "22d9ed7ce3f2408f8ca2db1849ab7b3a",
       "version_major": 2,
       "version_minor": 0
      },
      "text/plain": [
       "PlayingDaf:   0%|          | 0/151 [00:00<?, ?it/s]"
      ]
     },
     "metadata": {},
     "output_type": "display_data"
    },
    {
     "data": {
      "application/vnd.jupyter.widget-view+json": {
       "model_id": "11e49a8612134c86a30eee6f68275bc2",
       "version_major": 2,
       "version_minor": 0
      },
      "text/plain": [
       "PlayingDhol:   0%|          | 0/164 [00:00<?, ?it/s]"
      ]
     },
     "metadata": {},
     "output_type": "display_data"
    },
    {
     "data": {
      "application/vnd.jupyter.widget-view+json": {
       "model_id": "da70e8cb44594b3983dd331d77c769fb",
       "version_major": 2,
       "version_minor": 0
      },
      "text/plain": [
       "PlayingFlute:   0%|          | 0/155 [00:00<?, ?it/s]"
      ]
     },
     "metadata": {},
     "output_type": "display_data"
    },
    {
     "data": {
      "application/vnd.jupyter.widget-view+json": {
       "model_id": "2fcec215a6534c35973c3c0f151ee437",
       "version_major": 2,
       "version_minor": 0
      },
      "text/plain": [
       "PlayingGuitar:   0%|          | 0/160 [00:00<?, ?it/s]"
      ]
     },
     "metadata": {},
     "output_type": "display_data"
    },
    {
     "data": {
      "application/vnd.jupyter.widget-view+json": {
       "model_id": "3614562e52f34d5e812668b015b68ff5",
       "version_major": 2,
       "version_minor": 0
      },
      "text/plain": [
       "PlayingPiano:   0%|          | 0/105 [00:00<?, ?it/s]"
      ]
     },
     "metadata": {},
     "output_type": "display_data"
    },
    {
     "data": {
      "application/vnd.jupyter.widget-view+json": {
       "model_id": "ce9ceb4308f04d8abe1f077a81c9ae1f",
       "version_major": 2,
       "version_minor": 0
      },
      "text/plain": [
       "PlayingSitar:   0%|          | 0/157 [00:00<?, ?it/s]"
      ]
     },
     "metadata": {},
     "output_type": "display_data"
    },
    {
     "data": {
      "application/vnd.jupyter.widget-view+json": {
       "model_id": "6a03b043137f476cbcb6c09bfe09921c",
       "version_major": 2,
       "version_minor": 0
      },
      "text/plain": [
       "PlayingTabla:   0%|          | 0/111 [00:00<?, ?it/s]"
      ]
     },
     "metadata": {},
     "output_type": "display_data"
    },
    {
     "data": {
      "application/vnd.jupyter.widget-view+json": {
       "model_id": "06afd022c3ef4c9d87017880960efd86",
       "version_major": 2,
       "version_minor": 0
      },
      "text/plain": [
       "PlayingViolin:   0%|          | 0/100 [00:00<?, ?it/s]"
      ]
     },
     "metadata": {},
     "output_type": "display_data"
    },
    {
     "data": {
      "application/vnd.jupyter.widget-view+json": {
       "model_id": "38166e8b380e4badaba80d5db605c556",
       "version_major": 2,
       "version_minor": 0
      },
      "text/plain": [
       "PoleVault:   0%|          | 0/149 [00:00<?, ?it/s]"
      ]
     },
     "metadata": {},
     "output_type": "display_data"
    },
    {
     "data": {
      "application/vnd.jupyter.widget-view+json": {
       "model_id": "c443e4c19663446da28d8edb34194991",
       "version_major": 2,
       "version_minor": 0
      },
      "text/plain": [
       "PommelHorse:   0%|          | 0/123 [00:00<?, ?it/s]"
      ]
     },
     "metadata": {},
     "output_type": "display_data"
    },
    {
     "data": {
      "application/vnd.jupyter.widget-view+json": {
       "model_id": "545ff5c24723491e80402a5e22e52b20",
       "version_major": 2,
       "version_minor": 0
      },
      "text/plain": [
       "PullUps:   0%|          | 0/100 [00:00<?, ?it/s]"
      ]
     },
     "metadata": {},
     "output_type": "display_data"
    },
    {
     "data": {
      "application/vnd.jupyter.widget-view+json": {
       "model_id": "6b8089ed684f4704acc2fe1bb7235e91",
       "version_major": 2,
       "version_minor": 0
      },
      "text/plain": [
       "Punch:   0%|          | 0/160 [00:00<?, ?it/s]"
      ]
     },
     "metadata": {},
     "output_type": "display_data"
    },
    {
     "data": {
      "application/vnd.jupyter.widget-view+json": {
       "model_id": "de4d23b78d724b0c885532f59aa6df7e",
       "version_major": 2,
       "version_minor": 0
      },
      "text/plain": [
       "PushUps:   0%|          | 0/102 [00:00<?, ?it/s]"
      ]
     },
     "metadata": {},
     "output_type": "display_data"
    },
    {
     "data": {
      "application/vnd.jupyter.widget-view+json": {
       "model_id": "a8223a79d30b48b78aae78fd49f47501",
       "version_major": 2,
       "version_minor": 0
      },
      "text/plain": [
       "Rafting:   0%|          | 0/111 [00:00<?, ?it/s]"
      ]
     },
     "metadata": {},
     "output_type": "display_data"
    },
    {
     "data": {
      "application/vnd.jupyter.widget-view+json": {
       "model_id": "2a086c77d0374b8a81a0c906d6c5eee1",
       "version_major": 2,
       "version_minor": 0
      },
      "text/plain": [
       "RockClimbingIndoor:   0%|          | 0/144 [00:00<?, ?it/s]"
      ]
     },
     "metadata": {},
     "output_type": "display_data"
    },
    {
     "data": {
      "application/vnd.jupyter.widget-view+json": {
       "model_id": "c3cf3c18ce1b4247900864cc57c302cf",
       "version_major": 2,
       "version_minor": 0
      },
      "text/plain": [
       "RopeClimbing:   0%|          | 0/119 [00:00<?, ?it/s]"
      ]
     },
     "metadata": {},
     "output_type": "display_data"
    },
    {
     "data": {
      "application/vnd.jupyter.widget-view+json": {
       "model_id": "2f6f6d0d930c4cc1a7ee932720dbdf86",
       "version_major": 2,
       "version_minor": 0
      },
      "text/plain": [
       "Rowing:   0%|          | 0/137 [00:00<?, ?it/s]"
      ]
     },
     "metadata": {},
     "output_type": "display_data"
    },
    {
     "data": {
      "application/vnd.jupyter.widget-view+json": {
       "model_id": "f79a038d071949a2938d60d7b733f743",
       "version_major": 2,
       "version_minor": 0
      },
      "text/plain": [
       "SalsaSpin:   0%|          | 0/133 [00:00<?, ?it/s]"
      ]
     },
     "metadata": {},
     "output_type": "display_data"
    },
    {
     "data": {
      "application/vnd.jupyter.widget-view+json": {
       "model_id": "153b903b0b6344f19bfe3fad8833b2c9",
       "version_major": 2,
       "version_minor": 0
      },
      "text/plain": [
       "ShavingBeard:   0%|          | 0/161 [00:00<?, ?it/s]"
      ]
     },
     "metadata": {},
     "output_type": "display_data"
    },
    {
     "data": {
      "application/vnd.jupyter.widget-view+json": {
       "model_id": "185a40909bf847bf94c7b06fd1d26c00",
       "version_major": 2,
       "version_minor": 0
      },
      "text/plain": [
       "Shotput:   0%|          | 0/144 [00:00<?, ?it/s]"
      ]
     },
     "metadata": {},
     "output_type": "display_data"
    },
    {
     "data": {
      "application/vnd.jupyter.widget-view+json": {
       "model_id": "fdaa117ea6744cb8acbe0719bae6b7aa",
       "version_major": 2,
       "version_minor": 0
      },
      "text/plain": [
       "SkateBoarding:   0%|          | 0/120 [00:00<?, ?it/s]"
      ]
     },
     "metadata": {},
     "output_type": "display_data"
    },
    {
     "data": {
      "application/vnd.jupyter.widget-view+json": {
       "model_id": "e098ec0e8f0b419480a4a13a4f298f14",
       "version_major": 2,
       "version_minor": 0
      },
      "text/plain": [
       "Skiing:   0%|          | 0/135 [00:00<?, ?it/s]"
      ]
     },
     "metadata": {},
     "output_type": "display_data"
    },
    {
     "data": {
      "application/vnd.jupyter.widget-view+json": {
       "model_id": "6d583fafdede4e73badb64279cfa11d5",
       "version_major": 2,
       "version_minor": 0
      },
      "text/plain": [
       "Skijet:   0%|          | 0/100 [00:00<?, ?it/s]"
      ]
     },
     "metadata": {},
     "output_type": "display_data"
    },
    {
     "data": {
      "application/vnd.jupyter.widget-view+json": {
       "model_id": "144fd874789f4dbf92ba4e131887a554",
       "version_major": 2,
       "version_minor": 0
      },
      "text/plain": [
       "SkyDiving:   0%|          | 0/110 [00:00<?, ?it/s]"
      ]
     },
     "metadata": {},
     "output_type": "display_data"
    },
    {
     "data": {
      "application/vnd.jupyter.widget-view+json": {
       "model_id": "6ed0cbd7d7924f7a9476b7e18f041c9c",
       "version_major": 2,
       "version_minor": 0
      },
      "text/plain": [
       "SoccerJuggling:   0%|          | 0/147 [00:00<?, ?it/s]"
      ]
     },
     "metadata": {},
     "output_type": "display_data"
    },
    {
     "name": "stderr",
     "output_type": "stream",
     "text": [
      "IOPub message rate exceeded.\n",
      "The Jupyter server will temporarily stop sending output\n",
      "to the client in order to avoid crashing it.\n",
      "To change this limit, set the config variable\n",
      "`--ServerApp.iopub_msg_rate_limit`.\n",
      "\n",
      "Current values:\n",
      "ServerApp.iopub_msg_rate_limit=1000.0 (msgs/sec)\n",
      "ServerApp.rate_limit_window=3.0 (secs)\n",
      "\n"
     ]
    }
   ],
   "source": [
    "# %%\n",
    "\"\"\"\n",
    "Human-detector preprocessing with debug prints\n",
    "────────────────────────────────────────────────────────\n",
    "• Traverses UCF-101-JPG   class/video/frame.jpg tree\n",
    "• Saves one nested dict in a .npy file\n",
    "• Debug flags let you (1) restrict the tree depth and\n",
    "  (2) see live feedback on progress & detections.\n",
    "\"\"\"\n",
    "\n",
    "# ─── imports ──────────────────────────────────────────\n",
    "import time\n",
    "import torch, torchvision, numpy as np\n",
    "from torchvision.io import read_image\n",
    "from pathlib import Path\n",
    "from tqdm.auto import tqdm\n",
    "\n",
    "# ─── config ───────────────────────────────────────────\n",
    "video_root   = Path(\"datasets/UCF-101-JPG\")            # class/video/frame.jpg tree\n",
    "out_file     = Path(\"detection_train_merged_rearranged_2.0.npy\")\n",
    "score_thr    = 0.2\n",
    "batch_size   = 32\n",
    "device       = \"cuda\" if torch.cuda.is_available() else \"cpu\"\n",
    "\n",
    "# ─── debug / filter switches ──────────────────────────\n",
    "DEBUG_ONE_CLASS = False        # True → stop after first class directory\n",
    "DEBUG_ONE_VIDEO = False        # True → stop after first video directory\n",
    "KEEP_CLASS      = None         # e.g. \"ApplyEyeMakeup\"\n",
    "KEEP_VIDEO      = None         # e.g. \"ApplyEyeMakeup_v01\"\n",
    "\n",
    "# Debug output verbosity\n",
    "VERBOSE                 = False       # master switch\n",
    "PRINT_EVERY_BATCH       = False       # print info for every Nth batch\n",
    "PRINT_BATCH_EVERY_N     = 5          # change N as needed\n",
    "PRINT_GPU_MEM_EVERY_N   = 50         # also prints GPU memory every N frames\n",
    "\n",
    "# ─── helper: debug print ──────────────────────────────\n",
    "def dprint(msg):\n",
    "    if VERBOSE:\n",
    "        print(msg, flush=True)\n",
    "\n",
    "# ─── detector ─────────────────────────────────────────\n",
    "dprint(f\"🔧  Initialising Mask R-CNN on {device!r}\")\n",
    "model = torchvision.models.detection.maskrcnn_resnet50_fpn(weights=\"DEFAULT\")\n",
    "model.to(device).eval()\n",
    "\n",
    "@torch.inference_mode()\n",
    "def detect_batch(imgs):\n",
    "    with torch.cuda.amp.autocast(dtype=torch.float16):\n",
    "        return model(imgs)\n",
    "\n",
    "# ─── counters for a final summary ─────────────────────\n",
    "n_classes = n_videos = n_frames_total = 0\n",
    "t_start_overall = time.time()\n",
    "\n",
    "# ─── build nested dict {class}{vid11}{frame}{'human_boxes'} ────────────────\n",
    "all_dets = {}\n",
    "\n",
    "for c_idx, class_dir in enumerate(tqdm(sorted(video_root.iterdir()), desc=\"class\")):\n",
    "    if not class_dir.is_dir():\n",
    "        continue\n",
    "    if KEEP_CLASS and class_dir.name != KEEP_CLASS:\n",
    "        continue\n",
    "    if DEBUG_ONE_CLASS and c_idx > 0:\n",
    "        break\n",
    "\n",
    "    cls_name = class_dir.name\n",
    "    n_classes += 1\n",
    "    all_dets[cls_name] = {}\n",
    "\n",
    "    video_dirs = [d for d in sorted(class_dir.iterdir()) if d.is_dir()]\n",
    "    dprint(f\"\\n📂  Class [{cls_name}] — {len(video_dirs)} video folders\")\n",
    "\n",
    "    for v_idx, vid_dir in enumerate(tqdm(video_dirs, leave=False, desc=cls_name)):\n",
    "        if KEEP_VIDEO and vid_dir.name != KEEP_VIDEO:\n",
    "            continue\n",
    "        if DEBUG_ONE_VIDEO and v_idx > 0:\n",
    "            break\n",
    "\n",
    "        vid11   = vid_dir.name                    # first 11 chars\n",
    "        frames  = sorted(vid_dir.glob(\"*.jpg\"))\n",
    "        T       = len(frames)\n",
    "        n_videos += 1\n",
    "        all_dets[cls_name][vid11] = {}\n",
    "\n",
    "        dprint(f\"  🎞  Video [{vid_dir.name}] — {T} frames\")\n",
    "\n",
    "        # mini-batch inference for speed\n",
    "        t_vid = time.time()\n",
    "        for i in range(0, T, batch_size):\n",
    "            batch_paths = frames[i:i+batch_size]\n",
    "            imgs_cpu    = [read_image(str(p)).float()/255 for p in batch_paths]\n",
    "            imgs_gpu    = torch.stack(imgs_cpu).to(device).half()\n",
    "            outs        = detect_batch(imgs_gpu)\n",
    "\n",
    "            # debug: how many human detections in this batch?\n",
    "            if PRINT_EVERY_BATCH and (i//batch_size) % PRINT_BATCH_EVERY_N == 0:\n",
    "                kept_sum = int(sum(((o[\"labels\"] == 1) & (o[\"scores\"] > score_thr)).sum() for o in outs))\n",
    "                dprint(f\"     ▸ batch {i:5d}-{i+len(batch_paths)-1:<5d} — kept {kept_sum} boxes\")\n",
    "\n",
    "            for j, out in enumerate(outs, start=i):\n",
    "                keep = (out[\"labels\"] == 1) & (out[\"scores\"] > score_thr)\n",
    "                if keep.sum() == 0:\n",
    "                    boxes = np.zeros((0, 5), dtype=np.float32)\n",
    "                else:\n",
    "                    b = out[\"boxes\"][keep].float().cpu().numpy()        # (N,4)\n",
    "                    s = out[\"scores\"][keep].float().cpu().numpy()[:, None]\n",
    "                    boxes = np.hstack([b, s]).astype(np.float32)        # (N,5)\n",
    "\n",
    "                frame_idx = j + 1                                       # 1-based\n",
    "                all_dets[cls_name][vid11][frame_idx] = {\"human_boxes\": boxes}\n",
    "\n",
    "                # optional GPU memory read-out\n",
    "                if device == \"cuda\" and frame_idx % PRINT_GPU_MEM_EVERY_N == 0:\n",
    "                    free_mem, total_mem = torch.cuda.mem_get_info()\n",
    "                    dprint(f\"         GPU mem: {(total_mem-free_mem)/1e9:4.1f} GB / {total_mem/1e9:.1f} GB used\")\n",
    "\n",
    "        t_vid = time.time() - t_vid\n",
    "        n_frames_total += T\n",
    "        dprint(f\"  ⏱  Finished video in {t_vid:.1f}s \"\n",
    "               f\"(≈{1000*t_vid/max(T,1):.1f} ms per frame)\")\n",
    "\n",
    "# ─── save one pickled .npy file ────────────────────────────────────────────\n",
    "np.save(out_file, all_dets, allow_pickle=True)\n",
    "t_total = time.time() - t_start_overall\n",
    "\n",
    "dprint(\"\\n────────────────────────────────────────────────────────\")\n",
    "dprint(f\"✅  wrote detections for {n_classes} classes, \"\n",
    "       f\"{n_videos} videos, {n_frames_total} frames\")\n",
    "dprint(f\"📁  Output: {out_file}\")\n",
    "dprint(f\"🕒  Total runtime: {t_total/60:.1f} min\")\n"
   ]
  },
  {
   "cell_type": "code",
   "execution_count": 14,
   "id": "adbaa196-daf1-4d06-9708-e6a85a035d2f",
   "metadata": {},
   "outputs": [
    {
     "name": "stdout",
     "output_type": "stream",
     "text": [
      "classes  : 101\n",
      "one class : ApplyEyeMakeup\n",
      "one video : v_ApplyEyeMakeup_g01_c01\n",
      "frame 1 boxes shape : (6, 5)\n"
     ]
    }
   ],
   "source": [
    "dets = np.load(\"detection_train_merged_rearranged_2.0.npy\", allow_pickle=True).item()\n",
    "print(\"classes  :\", len(dets))\n",
    "print(\"one class :\", next(iter(dets)))\n",
    "print(\"one video :\", next(iter(dets[next(iter(dets))])))\n",
    "print(\"frame 1 boxes shape :\", \n",
    "      dets[next(iter(dets))][next(iter(dets[next(iter(dets))]))][1]['human_boxes'].shape)\n"
   ]
  },
  {
   "cell_type": "code",
   "execution_count": 11,
   "id": "9a17b5f0-8c34-4263-9c02-1eb910652a81",
   "metadata": {},
   "outputs": [
    {
     "name": "stdout",
     "output_type": "stream",
     "text": [
      "class : ApplyEyeMakeup\n",
      "video : v_ApplyEyeM\n",
      "frame : 1\n",
      "boxes : (0, 5)\n"
     ]
    }
   ],
   "source": [
    "dets = np.load(\"detection_train_merged_rearranged.npy\", allow_pickle=True).item()\n",
    "\n",
    "# grab first class that actually contains videos\n",
    "cls = next(k for k,v in dets.items() if len(v))\n",
    "vid = next(iter(dets[cls]))\n",
    "f   = next(iter(dets[cls][vid]))\n",
    "\n",
    "print(\"class :\", cls)\n",
    "print(\"video :\", vid)\n",
    "print(\"frame :\", f)\n",
    "print(\"boxes :\", dets[cls][vid][f]['human_boxes'].shape)"
   ]
  },
  {
   "cell_type": "markdown",
   "id": "a8c3cdc5-03fb-483f-a8c7-c285b1bda98e",
   "metadata": {},
   "source": [
    "## Clean numpy file"
   ]
  },
  {
   "cell_type": "code",
   "execution_count": 13,
   "id": "84fa5150-8e09-4074-b517-b5e59f875cf8",
   "metadata": {},
   "outputs": [
    {
     "name": "stdout",
     "output_type": "stream",
     "text": [
      "removing class key: .ipynb_checkpoints\n",
      "✅ cleaned file saved: detection_train_merged_rearranged_2.0.npy\n",
      "n_classes (after clean): 101\n"
     ]
    }
   ],
   "source": [
    "import numpy as np\n",
    "from pathlib import Path\n",
    "\n",
    "npy_path = Path(\"detection_train_merged_rearranged_2.0.npy\")   # <-- your file\n",
    "backup   = npy_path.with_suffix(\".bak.npy\")                # safety copy\n",
    "\n",
    "# 1) load the nested-dict detections\n",
    "dets = np.load(npy_path, allow_pickle=True).item()\n",
    "\n",
    "# 2) remove hidden “class” keys (like \".ipynb_checkpoints\")\n",
    "for cls in [c for c in dets if c.startswith('.')]:\n",
    "    print(\"removing class key:\", cls)\n",
    "    dets.pop(cls, None)\n",
    "\n",
    "# 3) remove hidden “video” keys inside each class, if any\n",
    "for cls, vids in dets.items():\n",
    "    for vid in [v for v in vids if v.startswith('.')]:\n",
    "        print(f\"removing video key: {cls}/{vid}\")\n",
    "        vids.pop(vid, None)\n",
    "\n",
    "# 4) back-up original, then save the cleaned dict\n",
    "npy_path.rename(backup)                       # keep the old file\n",
    "np.save(npy_path, dets, allow_pickle=True)\n",
    "print(\"✅ cleaned file saved:\", npy_path)\n",
    "\n",
    "# quick sanity check\n",
    "clean = np.load(npy_path, allow_pickle=True).item()\n",
    "print(\"n_classes (after clean):\", len(clean))\n"
   ]
  },
  {
   "cell_type": "markdown",
   "id": "ab333a5c-d39d-48ff-82eb-ab3ded42d81b",
   "metadata": {},
   "source": [
    "## Verify"
   ]
  },
  {
   "cell_type": "code",
   "execution_count": 20,
   "id": "82b8e584-4d45-475d-84ff-65261accbd67",
   "metadata": {},
   "outputs": [
    {
     "data": {
      "text/html": [
       "<div>\n",
       "<style scoped>\n",
       "    .dataframe tbody tr th:only-of-type {\n",
       "        vertical-align: middle;\n",
       "    }\n",
       "\n",
       "    .dataframe tbody tr th {\n",
       "        vertical-align: top;\n",
       "    }\n",
       "\n",
       "    .dataframe thead th {\n",
       "        text-align: right;\n",
       "    }\n",
       "</style>\n",
       "<table border=\"1\" class=\"dataframe\">\n",
       "  <thead>\n",
       "    <tr style=\"text-align: right;\">\n",
       "      <th></th>\n",
       "      <th>class</th>\n",
       "      <th># videos</th>\n",
       "      <th># frames/sample video</th>\n",
       "    </tr>\n",
       "  </thead>\n",
       "  <tbody>\n",
       "    <tr>\n",
       "      <th>0</th>\n",
       "      <td>ApplyEyeMakeup</td>\n",
       "      <td>145</td>\n",
       "      <td>165</td>\n",
       "    </tr>\n",
       "    <tr>\n",
       "      <th>1</th>\n",
       "      <td>ApplyLipstick</td>\n",
       "      <td>114</td>\n",
       "      <td>149</td>\n",
       "    </tr>\n",
       "    <tr>\n",
       "      <th>2</th>\n",
       "      <td>Archery</td>\n",
       "      <td>145</td>\n",
       "      <td>131</td>\n",
       "    </tr>\n",
       "    <tr>\n",
       "      <th>3</th>\n",
       "      <td>BabyCrawling</td>\n",
       "      <td>132</td>\n",
       "      <td>165</td>\n",
       "    </tr>\n",
       "    <tr>\n",
       "      <th>4</th>\n",
       "      <td>BalanceBeam</td>\n",
       "      <td>108</td>\n",
       "      <td>126</td>\n",
       "    </tr>\n",
       "    <tr>\n",
       "      <th>...</th>\n",
       "      <td>...</td>\n",
       "      <td>...</td>\n",
       "      <td>...</td>\n",
       "    </tr>\n",
       "    <tr>\n",
       "      <th>96</th>\n",
       "      <td>VolleyballSpiking</td>\n",
       "      <td>116</td>\n",
       "      <td>93</td>\n",
       "    </tr>\n",
       "    <tr>\n",
       "      <th>97</th>\n",
       "      <td>WalkingWithDog</td>\n",
       "      <td>123</td>\n",
       "      <td>240</td>\n",
       "    </tr>\n",
       "    <tr>\n",
       "      <th>98</th>\n",
       "      <td>WallPushups</td>\n",
       "      <td>130</td>\n",
       "      <td>90</td>\n",
       "    </tr>\n",
       "    <tr>\n",
       "      <th>99</th>\n",
       "      <td>WritingOnBoard</td>\n",
       "      <td>152</td>\n",
       "      <td>153</td>\n",
       "    </tr>\n",
       "    <tr>\n",
       "      <th>100</th>\n",
       "      <td>YoYo</td>\n",
       "      <td>128</td>\n",
       "      <td>187</td>\n",
       "    </tr>\n",
       "  </tbody>\n",
       "</table>\n",
       "<p>101 rows × 3 columns</p>\n",
       "</div>"
      ],
      "text/plain": [
       "                 class  # videos  # frames/sample video\n",
       "0       ApplyEyeMakeup       145                    165\n",
       "1        ApplyLipstick       114                    149\n",
       "2              Archery       145                    131\n",
       "3         BabyCrawling       132                    165\n",
       "4          BalanceBeam       108                    126\n",
       "..                 ...       ...                    ...\n",
       "96   VolleyballSpiking       116                     93\n",
       "97      WalkingWithDog       123                    240\n",
       "98         WallPushups       130                     90\n",
       "99      WritingOnBoard       152                    153\n",
       "100               YoYo       128                    187\n",
       "\n",
       "[101 rows x 3 columns]"
      ]
     },
     "metadata": {},
     "output_type": "display_data"
    }
   ],
   "source": [
    "import numpy as np\n",
    "import pandas as pd\n",
    "from pathlib import Path\n",
    "from IPython.display import display  # built-in in Jupyter\n",
    "\n",
    "DETS_PATH = Path(\"detection_train_merged_rearranged_2.0_plus_dummy.npy\")   # ← adjust\n",
    "dets = np.load(DETS_PATH, allow_pickle=True).item()\n",
    "\n",
    "rows = []\n",
    "for cls, videos in dets.items():\n",
    "    n_vids = len(videos)\n",
    "    # get a sample video to peek at its frame count (skip empties)\n",
    "    sample_vid = next((v for v in videos.values() if v), None)\n",
    "    n_frames = len(sample_vid) if sample_vid else 0\n",
    "    rows.append({\"class\": cls, \"# videos\": n_vids, \"# frames/sample video\": n_frames})\n",
    "\n",
    "summary_df = pd.DataFrame(rows).sort_values(\"class\").reset_index(drop=True)\n",
    "display(summary_df)               # shows an interactive table in Jupyter\n"
   ]
  },
  {
   "cell_type": "code",
   "execution_count": 21,
   "id": "ecb5ab24-f1a5-4bc8-b6e9-74cc68e5fef3",
   "metadata": {},
   "outputs": [
    {
     "name": "stdout",
     "output_type": "stream",
     "text": [
      "class : ApplyEyeMakeup\n",
      "video : v_ApplyEyeMakeup_g01_c01\n",
      "frame : 1  –  8 boxes\n",
      "[[101.6214       0.         319.54184    240.00002      0.9887396 ]\n",
      " [251.04007      5.6460757  319.6166     235.10393      0.8439361 ]\n",
      " [ 95.60457    153.25749    184.92076    240.00002      0.7952221 ]\n",
      " [ 81.92451     40.500706   233.27249    231.8993       0.6396938 ]\n",
      " [ 82.10901    101.947655   193.16304    236.45236      0.56542087]]\n"
     ]
    }
   ],
   "source": [
    "def show_video_boxes(dets, cls, vid_key, frame_idx=1, max_boxes=5):\n",
    "    \"\"\"\n",
    "    Pretty-print the first few boxes for a chosen frame.\n",
    "    - cls       : class name (string)\n",
    "    - vid_key   : the 11-char video key, e.g. 'v_ApplyEyeM'\n",
    "    - frame_idx : 1-based frame index (as stored in the dict)\n",
    "    \"\"\"\n",
    "    boxes = dets[cls][vid_key][frame_idx]['human_boxes']\n",
    "    print(f\"class : {cls}\")\n",
    "    print(f\"video : {vid_key}\")\n",
    "    print(f\"frame : {frame_idx}  –  {boxes.shape[0]} boxes\")\n",
    "    print(boxes[:max_boxes])\n",
    "\n",
    "# example usage ------------------------------------------------------------\n",
    "cls_name = summary_df.loc[0, \"class\"]          # first class in the table\n",
    "vid_key  = next(iter(dets[cls_name]))          # first video under that class\n",
    "show_video_boxes(dets, cls_name, vid_key, frame_idx=1)\n"
   ]
  },
  {
   "cell_type": "code",
   "execution_count": 22,
   "id": "b6c04538-4b75-49bd-a21a-99746ac9f534",
   "metadata": {},
   "outputs": [
    {
     "data": {
      "image/jpeg": "[encoded data removed]",
      "image/png": "[encoded data removed]",
      "text/plain": [
       "<PIL.Image.Image image mode=RGB size=320x240>"
      ]
     },
     "metadata": {},
     "output_type": "display_data"
    }
   ],
   "source": [
    "from PIL import Image, ImageDraw\n",
    "\n",
    "def overlay_boxes(img_path, boxes, score_thr=0.0):\n",
    "    img = Image.open(img_path).convert(\"RGB\")\n",
    "    draw = ImageDraw.Draw(img)\n",
    "    for x1, y1, x2, y2, s in boxes:\n",
    "        if s < score_thr:   # optional confidence filter\n",
    "            continue\n",
    "        draw.rectangle([x1, y1, x2, y2], outline=\"red\", width=2)\n",
    "    display(img)\n",
    "\n",
    "cls_name = \"Archery\"\n",
    "vid_key = \"v_Archery_g01_c06\"\n",
    "\n",
    "# pick one frame file that matches the video & frame index you just inspected\n",
    "img_path = (\n",
    "    Path(\"datasets/UCF-101-JPG\")        # root\n",
    "    / cls_name                          # class folder\n",
    "    / f\"{vid_key}\"                  # video folder (string → Path via /)\n",
    "    / \"image_00001.jpg\"                 # frame file\n",
    ")\n",
    "overlay_boxes(img_path, dets[cls_name][vid_key][1]['human_boxes'])\n"
   ]
  },
  {
   "cell_type": "markdown",
   "id": "d3497653-25b6-4b2d-80e1-7de79ed99d39",
   "metadata": {},
   "source": [
    "##### "
   ]
  },
  {
   "cell_type": "markdown",
   "id": "09776842-d749-4556-b9dd-07904116170d",
   "metadata": {},
   "source": [
    "## Add random detections to real detections"
   ]
  },
  {
   "cell_type": "code",
   "execution_count": 19,
   "id": "44a1f800-8f31-4429-a8e3-97e290adab5f",
   "metadata": {},
   "outputs": [
    {
     "name": "stdout",
     "output_type": "stream",
     "text": [
      "🔍 Loading detection_train_merged_rearranged_2.0.npy …\n"
     ]
    },
    {
     "data": {
      "application/vnd.jupyter.widget-view+json": {
       "model_id": "0ae10102d01d46fd9b4dfb92359df389",
       "version_major": 2,
       "version_minor": 0
      },
      "text/plain": [
       "class:   0%|          | 0/101 [00:00<?, ?it/s]"
      ]
     },
     "metadata": {},
     "output_type": "display_data"
    },
    {
     "data": {
      "application/vnd.jupyter.widget-view+json": {
       "model_id": "ecf663f2b8c54c909ff9ae070b641574",
       "version_major": 2,
       "version_minor": 0
      },
      "text/plain": [
       "ApplyEyeMakeup:   0%|          | 0/145 [00:00<?, ?it/s]"
      ]
     },
     "metadata": {},
     "output_type": "display_data"
    },
    {
     "data": {
      "application/vnd.jupyter.widget-view+json": {
       "model_id": "cf08b70fbc984477ac33b144963d0f88",
       "version_major": 2,
       "version_minor": 0
      },
      "text/plain": [
       "ApplyLipstick:   0%|          | 0/114 [00:00<?, ?it/s]"
      ]
     },
     "metadata": {},
     "output_type": "display_data"
    },
    {
     "data": {
      "application/vnd.jupyter.widget-view+json": {
       "model_id": "2970da78d1dc46b78ac39d0d80119ae0",
       "version_major": 2,
       "version_minor": 0
      },
      "text/plain": [
       "Archery:   0%|          | 0/145 [00:00<?, ?it/s]"
      ]
     },
     "metadata": {},
     "output_type": "display_data"
    },
    {
     "data": {
      "application/vnd.jupyter.widget-view+json": {
       "model_id": "48a23ebfb08d492f8720566f5f95d8a7",
       "version_major": 2,
       "version_minor": 0
      },
      "text/plain": [
       "BabyCrawling:   0%|          | 0/132 [00:00<?, ?it/s]"
      ]
     },
     "metadata": {},
     "output_type": "display_data"
    },
    {
     "data": {
      "application/vnd.jupyter.widget-view+json": {
       "model_id": "e319190100644d519239834477ee72d7",
       "version_major": 2,
       "version_minor": 0
      },
      "text/plain": [
       "BalanceBeam:   0%|          | 0/108 [00:00<?, ?it/s]"
      ]
     },
     "metadata": {},
     "output_type": "display_data"
    },
    {
     "data": {
      "application/vnd.jupyter.widget-view+json": {
       "model_id": "6226ec90451b4388908a916debaf4729",
       "version_major": 2,
       "version_minor": 0
      },
      "text/plain": [
       "BandMarching:   0%|          | 0/155 [00:00<?, ?it/s]"
      ]
     },
     "metadata": {},
     "output_type": "display_data"
    },
    {
     "data": {
      "application/vnd.jupyter.widget-view+json": {
       "model_id": "5af38898daab4783a8fa64e0dd437639",
       "version_major": 2,
       "version_minor": 0
      },
      "text/plain": [
       "BaseballPitch:   0%|          | 0/150 [00:00<?, ?it/s]"
      ]
     },
     "metadata": {},
     "output_type": "display_data"
    },
    {
     "data": {
      "application/vnd.jupyter.widget-view+json": {
       "model_id": "f36a89d810164784ae7855136b0956e9",
       "version_major": 2,
       "version_minor": 0
      },
      "text/plain": [
       "Basketball:   0%|          | 0/134 [00:00<?, ?it/s]"
      ]
     },
     "metadata": {},
     "output_type": "display_data"
    },
    {
     "data": {
      "application/vnd.jupyter.widget-view+json": {
       "model_id": "e66f0ccdd9a3499286db92ef21ec4712",
       "version_major": 2,
       "version_minor": 0
      },
      "text/plain": [
       "BasketballDunk:   0%|          | 0/131 [00:00<?, ?it/s]"
      ]
     },
     "metadata": {},
     "output_type": "display_data"
    },
    {
     "data": {
      "application/vnd.jupyter.widget-view+json": {
       "model_id": "90dec59fa9804ce79b5dde604dc43b2f",
       "version_major": 2,
       "version_minor": 0
      },
      "text/plain": [
       "BenchPress:   0%|          | 0/160 [00:00<?, ?it/s]"
      ]
     },
     "metadata": {},
     "output_type": "display_data"
    },
    {
     "data": {
      "application/vnd.jupyter.widget-view+json": {
       "model_id": "19e4feb1cb9f407ea0c166c0445db700",
       "version_major": 2,
       "version_minor": 0
      },
      "text/plain": [
       "Biking:   0%|          | 0/134 [00:00<?, ?it/s]"
      ]
     },
     "metadata": {},
     "output_type": "display_data"
    },
    {
     "data": {
      "application/vnd.jupyter.widget-view+json": {
       "model_id": "508885e5f1974d669d88dc0e77f6ef2f",
       "version_major": 2,
       "version_minor": 0
      },
      "text/plain": [
       "Billiards:   0%|          | 0/150 [00:00<?, ?it/s]"
      ]
     },
     "metadata": {},
     "output_type": "display_data"
    },
    {
     "data": {
      "application/vnd.jupyter.widget-view+json": {
       "model_id": "9ed009b1041b48bb8be37de662e4c7b8",
       "version_major": 2,
       "version_minor": 0
      },
      "text/plain": [
       "BlowDryHair:   0%|          | 0/131 [00:00<?, ?it/s]"
      ]
     },
     "metadata": {},
     "output_type": "display_data"
    },
    {
     "data": {
      "application/vnd.jupyter.widget-view+json": {
       "model_id": "ea93abcf6d904e17a6436e2b88c9f025",
       "version_major": 2,
       "version_minor": 0
      },
      "text/plain": [
       "BlowingCandles:   0%|          | 0/109 [00:00<?, ?it/s]"
      ]
     },
     "metadata": {},
     "output_type": "display_data"
    },
    {
     "data": {
      "application/vnd.jupyter.widget-view+json": {
       "model_id": "45c63afc036841b9a3402272335ebebe",
       "version_major": 2,
       "version_minor": 0
      },
      "text/plain": [
       "BodyWeightSquats:   0%|          | 0/112 [00:00<?, ?it/s]"
      ]
     },
     "metadata": {},
     "output_type": "display_data"
    },
    {
     "data": {
      "application/vnd.jupyter.widget-view+json": {
       "model_id": "074e074315674fd59aed4b6402658dca",
       "version_major": 2,
       "version_minor": 0
      },
      "text/plain": [
       "Bowling:   0%|          | 0/155 [00:00<?, ?it/s]"
      ]
     },
     "metadata": {},
     "output_type": "display_data"
    },
    {
     "data": {
      "application/vnd.jupyter.widget-view+json": {
       "model_id": "57a02faf8b6b45a8a7310b5d53e0870f",
       "version_major": 2,
       "version_minor": 0
      },
      "text/plain": [
       "BoxingPunchingBag:   0%|          | 0/163 [00:00<?, ?it/s]"
      ]
     },
     "metadata": {},
     "output_type": "display_data"
    },
    {
     "data": {
      "application/vnd.jupyter.widget-view+json": {
       "model_id": "19cf3c928a594b018ac85c41de8f2f84",
       "version_major": 2,
       "version_minor": 0
      },
      "text/plain": [
       "BoxingSpeedBag:   0%|          | 0/134 [00:00<?, ?it/s]"
      ]
     },
     "metadata": {},
     "output_type": "display_data"
    },
    {
     "data": {
      "application/vnd.jupyter.widget-view+json": {
       "model_id": "78a4eb97bad14e7e8b063b07328d350f",
       "version_major": 2,
       "version_minor": 0
      },
      "text/plain": [
       "BreastStroke:   0%|          | 0/101 [00:00<?, ?it/s]"
      ]
     },
     "metadata": {},
     "output_type": "display_data"
    },
    {
     "data": {
      "application/vnd.jupyter.widget-view+json": {
       "model_id": "64bdd7b6aac54244bed56352acfff205",
       "version_major": 2,
       "version_minor": 0
      },
      "text/plain": [
       "BrushingTeeth:   0%|          | 0/131 [00:00<?, ?it/s]"
      ]
     },
     "metadata": {},
     "output_type": "display_data"
    },
    {
     "data": {
      "application/vnd.jupyter.widget-view+json": {
       "model_id": "18faa878f4c142cabda1e9d97e76e96c",
       "version_major": 2,
       "version_minor": 0
      },
      "text/plain": [
       "CleanAndJerk:   0%|          | 0/112 [00:00<?, ?it/s]"
      ]
     },
     "metadata": {},
     "output_type": "display_data"
    },
    {
     "data": {
      "application/vnd.jupyter.widget-view+json": {
       "model_id": "08d14d82a04d4acfa3a208abbac76b9c",
       "version_major": 2,
       "version_minor": 0
      },
      "text/plain": [
       "CliffDiving:   0%|          | 0/138 [00:00<?, ?it/s]"
      ]
     },
     "metadata": {},
     "output_type": "display_data"
    },
    {
     "data": {
      "application/vnd.jupyter.widget-view+json": {
       "model_id": "a6e7bbd0600448109e03d118680b35e5",
       "version_major": 2,
       "version_minor": 0
      },
      "text/plain": [
       "CricketBowling:   0%|          | 0/139 [00:00<?, ?it/s]"
      ]
     },
     "metadata": {},
     "output_type": "display_data"
    },
    {
     "data": {
      "application/vnd.jupyter.widget-view+json": {
       "model_id": "90a40071139f4345988d6e56f176c31e",
       "version_major": 2,
       "version_minor": 0
      },
      "text/plain": [
       "CricketShot:   0%|          | 0/167 [00:00<?, ?it/s]"
      ]
     },
     "metadata": {},
     "output_type": "display_data"
    },
    {
     "data": {
      "application/vnd.jupyter.widget-view+json": {
       "model_id": "bb26bf62dca7452c9bd572f9850a175c",
       "version_major": 2,
       "version_minor": 0
      },
      "text/plain": [
       "CuttingInKitchen:   0%|          | 0/110 [00:00<?, ?it/s]"
      ]
     },
     "metadata": {},
     "output_type": "display_data"
    },
    {
     "data": {
      "application/vnd.jupyter.widget-view+json": {
       "model_id": "7266ecd7639c480ba318fdea4ccdeedd",
       "version_major": 2,
       "version_minor": 0
      },
      "text/plain": [
       "Diving:   0%|          | 0/150 [00:00<?, ?it/s]"
      ]
     },
     "metadata": {},
     "output_type": "display_data"
    },
    {
     "data": {
      "application/vnd.jupyter.widget-view+json": {
       "model_id": "9e1fdc3d663945a9a2dbfba2a8ab4aad",
       "version_major": 2,
       "version_minor": 0
      },
      "text/plain": [
       "Drumming:   0%|          | 0/161 [00:00<?, ?it/s]"
      ]
     },
     "metadata": {},
     "output_type": "display_data"
    },
    {
     "data": {
      "application/vnd.jupyter.widget-view+json": {
       "model_id": "a3665360275043f88fdfe4a0db0b13f7",
       "version_major": 2,
       "version_minor": 0
      },
      "text/plain": [
       "Fencing:   0%|          | 0/111 [00:00<?, ?it/s]"
      ]
     },
     "metadata": {},
     "output_type": "display_data"
    },
    {
     "data": {
      "application/vnd.jupyter.widget-view+json": {
       "model_id": "a6ed5489df914a3389e8d9b8d5b2ddd7",
       "version_major": 2,
       "version_minor": 0
      },
      "text/plain": [
       "FieldHockeyPenalty:   0%|          | 0/126 [00:00<?, ?it/s]"
      ]
     },
     "metadata": {},
     "output_type": "display_data"
    },
    {
     "data": {
      "application/vnd.jupyter.widget-view+json": {
       "model_id": "b9723ee917a84c6c8485ea86572f68e2",
       "version_major": 2,
       "version_minor": 0
      },
      "text/plain": [
       "FloorGymnastics:   0%|          | 0/125 [00:00<?, ?it/s]"
      ]
     },
     "metadata": {},
     "output_type": "display_data"
    },
    {
     "data": {
      "application/vnd.jupyter.widget-view+json": {
       "model_id": "7203814471024041823406e57d07277a",
       "version_major": 2,
       "version_minor": 0
      },
      "text/plain": [
       "FrisbeeCatch:   0%|          | 0/126 [00:00<?, ?it/s]"
      ]
     },
     "metadata": {},
     "output_type": "display_data"
    },
    {
     "data": {
      "application/vnd.jupyter.widget-view+json": {
       "model_id": "f19130f391db4f37839f7d1ed68c97af",
       "version_major": 2,
       "version_minor": 0
      },
      "text/plain": [
       "FrontCrawl:   0%|          | 0/137 [00:00<?, ?it/s]"
      ]
     },
     "metadata": {},
     "output_type": "display_data"
    },
    {
     "data": {
      "application/vnd.jupyter.widget-view+json": {
       "model_id": "24e4e5c912754fbca88487aaaf9c5364",
       "version_major": 2,
       "version_minor": 0
      },
      "text/plain": [
       "GolfSwing:   0%|          | 0/139 [00:00<?, ?it/s]"
      ]
     },
     "metadata": {},
     "output_type": "display_data"
    },
    {
     "data": {
      "application/vnd.jupyter.widget-view+json": {
       "model_id": "28fdfa87ac2f4ebe96f8051f28aae2eb",
       "version_major": 2,
       "version_minor": 0
      },
      "text/plain": [
       "Haircut:   0%|          | 0/130 [00:00<?, ?it/s]"
      ]
     },
     "metadata": {},
     "output_type": "display_data"
    },
    {
     "data": {
      "application/vnd.jupyter.widget-view+json": {
       "model_id": "896c71a27d0a4cc09bada9bd1c38e21e",
       "version_major": 2,
       "version_minor": 0
      },
      "text/plain": [
       "HammerThrow:   0%|          | 0/150 [00:00<?, ?it/s]"
      ]
     },
     "metadata": {},
     "output_type": "display_data"
    },
    {
     "data": {
      "application/vnd.jupyter.widget-view+json": {
       "model_id": "4646c48d26414912aae750c168b5ba7d",
       "version_major": 2,
       "version_minor": 0
      },
      "text/plain": [
       "Hammering:   0%|          | 0/140 [00:00<?, ?it/s]"
      ]
     },
     "metadata": {},
     "output_type": "display_data"
    },
    {
     "data": {
      "application/vnd.jupyter.widget-view+json": {
       "model_id": "1a1ec544a212471784a6b962c7cb4a58",
       "version_major": 2,
       "version_minor": 0
      },
      "text/plain": [
       "HandstandPushups:   0%|          | 0/128 [00:00<?, ?it/s]"
      ]
     },
     "metadata": {},
     "output_type": "display_data"
    },
    {
     "data": {
      "application/vnd.jupyter.widget-view+json": {
       "model_id": "7a3e46d5852c4bbf81e0429178668fb0",
       "version_major": 2,
       "version_minor": 0
      },
      "text/plain": [
       "HandstandWalking:   0%|          | 0/111 [00:00<?, ?it/s]"
      ]
     },
     "metadata": {},
     "output_type": "display_data"
    },
    {
     "data": {
      "application/vnd.jupyter.widget-view+json": {
       "model_id": "c9071a002b584600bf88c81ef1e6fdcd",
       "version_major": 2,
       "version_minor": 0
      },
      "text/plain": [
       "HeadMassage:   0%|          | 0/147 [00:00<?, ?it/s]"
      ]
     },
     "metadata": {},
     "output_type": "display_data"
    },
    {
     "data": {
      "application/vnd.jupyter.widget-view+json": {
       "model_id": "48e8d509f89e4bc6a1cd77ec5bfde2b5",
       "version_major": 2,
       "version_minor": 0
      },
      "text/plain": [
       "HighJump:   0%|          | 0/123 [00:00<?, ?it/s]"
      ]
     },
     "metadata": {},
     "output_type": "display_data"
    },
    {
     "data": {
      "application/vnd.jupyter.widget-view+json": {
       "model_id": "d09620b9fb354aae9fcde31c1d70e594",
       "version_major": 2,
       "version_minor": 0
      },
      "text/plain": [
       "HorseRace:   0%|          | 0/124 [00:00<?, ?it/s]"
      ]
     },
     "metadata": {},
     "output_type": "display_data"
    },
    {
     "data": {
      "application/vnd.jupyter.widget-view+json": {
       "model_id": "e76b7f05e22c4cc583a2fb8cc4494958",
       "version_major": 2,
       "version_minor": 0
      },
      "text/plain": [
       "HorseRiding:   0%|          | 0/164 [00:00<?, ?it/s]"
      ]
     },
     "metadata": {},
     "output_type": "display_data"
    },
    {
     "data": {
      "application/vnd.jupyter.widget-view+json": {
       "model_id": "06cacdf5a72b41de9ca27d8fcc17df7e",
       "version_major": 2,
       "version_minor": 0
      },
      "text/plain": [
       "HulaHoop:   0%|          | 0/125 [00:00<?, ?it/s]"
      ]
     },
     "metadata": {},
     "output_type": "display_data"
    },
    {
     "data": {
      "application/vnd.jupyter.widget-view+json": {
       "model_id": "8ad3bea20b6140418351b106bfe80a99",
       "version_major": 2,
       "version_minor": 0
      },
      "text/plain": [
       "IceDancing:   0%|          | 0/158 [00:00<?, ?it/s]"
      ]
     },
     "metadata": {},
     "output_type": "display_data"
    },
    {
     "data": {
      "application/vnd.jupyter.widget-view+json": {
       "model_id": "6bb884c2b0be4881bfc4a16235e88e89",
       "version_major": 2,
       "version_minor": 0
      },
      "text/plain": [
       "JavelinThrow:   0%|          | 0/117 [00:00<?, ?it/s]"
      ]
     },
     "metadata": {},
     "output_type": "display_data"
    },
    {
     "data": {
      "application/vnd.jupyter.widget-view+json": {
       "model_id": "3b5cc5af0b2b447a85bd2e574d269070",
       "version_major": 2,
       "version_minor": 0
      },
      "text/plain": [
       "JugglingBalls:   0%|          | 0/121 [00:00<?, ?it/s]"
      ]
     },
     "metadata": {},
     "output_type": "display_data"
    },
    {
     "data": {
      "application/vnd.jupyter.widget-view+json": {
       "model_id": "1ebd7f332f6a4e27871c1f3b9f6c6f85",
       "version_major": 2,
       "version_minor": 0
      },
      "text/plain": [
       "JumpRope:   0%|          | 0/144 [00:00<?, ?it/s]"
      ]
     },
     "metadata": {},
     "output_type": "display_data"
    },
    {
     "data": {
      "application/vnd.jupyter.widget-view+json": {
       "model_id": "5d87d860804d48669eaa13e9289ec4a0",
       "version_major": 2,
       "version_minor": 0
      },
      "text/plain": [
       "JumpingJack:   0%|          | 0/123 [00:00<?, ?it/s]"
      ]
     },
     "metadata": {},
     "output_type": "display_data"
    },
    {
     "data": {
      "application/vnd.jupyter.widget-view+json": {
       "model_id": "c0bc486374454211ac78e9768eb0a38a",
       "version_major": 2,
       "version_minor": 0
      },
      "text/plain": [
       "Kayaking:   0%|          | 0/141 [00:00<?, ?it/s]"
      ]
     },
     "metadata": {},
     "output_type": "display_data"
    },
    {
     "data": {
      "application/vnd.jupyter.widget-view+json": {
       "model_id": "2f8616097fa04cfa8ac89e2ce2ac779f",
       "version_major": 2,
       "version_minor": 0
      },
      "text/plain": [
       "Knitting:   0%|          | 0/123 [00:00<?, ?it/s]"
      ]
     },
     "metadata": {},
     "output_type": "display_data"
    },
    {
     "data": {
      "application/vnd.jupyter.widget-view+json": {
       "model_id": "39235a0ecbf74239b4d206197a9aeed4",
       "version_major": 2,
       "version_minor": 0
      },
      "text/plain": [
       "LongJump:   0%|          | 0/131 [00:00<?, ?it/s]"
      ]
     },
     "metadata": {},
     "output_type": "display_data"
    },
    {
     "data": {
      "application/vnd.jupyter.widget-view+json": {
       "model_id": "3f96261ccb6642cfae9b6da45689e4c2",
       "version_major": 2,
       "version_minor": 0
      },
      "text/plain": [
       "Lunges:   0%|          | 0/127 [00:00<?, ?it/s]"
      ]
     },
     "metadata": {},
     "output_type": "display_data"
    },
    {
     "data": {
      "application/vnd.jupyter.widget-view+json": {
       "model_id": "a103058f912449b9b5dc546dbdca43a9",
       "version_major": 2,
       "version_minor": 0
      },
      "text/plain": [
       "MilitaryParade:   0%|          | 0/125 [00:00<?, ?it/s]"
      ]
     },
     "metadata": {},
     "output_type": "display_data"
    },
    {
     "data": {
      "application/vnd.jupyter.widget-view+json": {
       "model_id": "b98115b802664d01ad257e49e89a87c7",
       "version_major": 2,
       "version_minor": 0
      },
      "text/plain": [
       "Mixing:   0%|          | 0/136 [00:00<?, ?it/s]"
      ]
     },
     "metadata": {},
     "output_type": "display_data"
    },
    {
     "data": {
      "application/vnd.jupyter.widget-view+json": {
       "model_id": "b205596922cc4a7e89a9f114115c5379",
       "version_major": 2,
       "version_minor": 0
      },
      "text/plain": [
       "MoppingFloor:   0%|          | 0/110 [00:00<?, ?it/s]"
      ]
     },
     "metadata": {},
     "output_type": "display_data"
    },
    {
     "data": {
      "application/vnd.jupyter.widget-view+json": {
       "model_id": "83649ab479554684b200256310a32d87",
       "version_major": 2,
       "version_minor": 0
      },
      "text/plain": [
       "Nunchucks:   0%|          | 0/132 [00:00<?, ?it/s]"
      ]
     },
     "metadata": {},
     "output_type": "display_data"
    },
    {
     "data": {
      "application/vnd.jupyter.widget-view+json": {
       "model_id": "3915e0cba9674e9b908c27abb786b72e",
       "version_major": 2,
       "version_minor": 0
      },
      "text/plain": [
       "ParallelBars:   0%|          | 0/114 [00:00<?, ?it/s]"
      ]
     },
     "metadata": {},
     "output_type": "display_data"
    },
    {
     "data": {
      "application/vnd.jupyter.widget-view+json": {
       "model_id": "8e8801ac14584fdd8525ee0e485e410b",
       "version_major": 2,
       "version_minor": 0
      },
      "text/plain": [
       "PizzaTossing:   0%|          | 0/113 [00:00<?, ?it/s]"
      ]
     },
     "metadata": {},
     "output_type": "display_data"
    },
    {
     "data": {
      "application/vnd.jupyter.widget-view+json": {
       "model_id": "cb8ddefec2804af1a401b61101ff7484",
       "version_major": 2,
       "version_minor": 0
      },
      "text/plain": [
       "PlayingCello:   0%|          | 0/164 [00:00<?, ?it/s]"
      ]
     },
     "metadata": {},
     "output_type": "display_data"
    },
    {
     "data": {
      "application/vnd.jupyter.widget-view+json": {
       "model_id": "b7776ff6ed9e4620ac932ab0483836b5",
       "version_major": 2,
       "version_minor": 0
      },
      "text/plain": [
       "PlayingDaf:   0%|          | 0/151 [00:00<?, ?it/s]"
      ]
     },
     "metadata": {},
     "output_type": "display_data"
    },
    {
     "data": {
      "application/vnd.jupyter.widget-view+json": {
       "model_id": "c89c06963f0d4e05abb3baff20a12fd2",
       "version_major": 2,
       "version_minor": 0
      },
      "text/plain": [
       "PlayingDhol:   0%|          | 0/164 [00:00<?, ?it/s]"
      ]
     },
     "metadata": {},
     "output_type": "display_data"
    },
    {
     "data": {
      "application/vnd.jupyter.widget-view+json": {
       "model_id": "3e6cd2e08889402f8ccd325304b30b93",
       "version_major": 2,
       "version_minor": 0
      },
      "text/plain": [
       "PlayingFlute:   0%|          | 0/155 [00:00<?, ?it/s]"
      ]
     },
     "metadata": {},
     "output_type": "display_data"
    },
    {
     "data": {
      "application/vnd.jupyter.widget-view+json": {
       "model_id": "47df712974b4486a956e8ad0c9508a0a",
       "version_major": 2,
       "version_minor": 0
      },
      "text/plain": [
       "PlayingGuitar:   0%|          | 0/160 [00:00<?, ?it/s]"
      ]
     },
     "metadata": {},
     "output_type": "display_data"
    },
    {
     "data": {
      "application/vnd.jupyter.widget-view+json": {
       "model_id": "6c5c65934e4d4ce28ec8e6120ddf4ecf",
       "version_major": 2,
       "version_minor": 0
      },
      "text/plain": [
       "PlayingPiano:   0%|          | 0/105 [00:00<?, ?it/s]"
      ]
     },
     "metadata": {},
     "output_type": "display_data"
    },
    {
     "data": {
      "application/vnd.jupyter.widget-view+json": {
       "model_id": "2363ed45f02c458285a4d6cea10ba42e",
       "version_major": 2,
       "version_minor": 0
      },
      "text/plain": [
       "PlayingSitar:   0%|          | 0/157 [00:00<?, ?it/s]"
      ]
     },
     "metadata": {},
     "output_type": "display_data"
    },
    {
     "data": {
      "application/vnd.jupyter.widget-view+json": {
       "model_id": "53235d5af1664f7cab2a4f59f6529968",
       "version_major": 2,
       "version_minor": 0
      },
      "text/plain": [
       "PlayingTabla:   0%|          | 0/111 [00:00<?, ?it/s]"
      ]
     },
     "metadata": {},
     "output_type": "display_data"
    },
    {
     "data": {
      "application/vnd.jupyter.widget-view+json": {
       "model_id": "7a51d16c7f194858a692623769600856",
       "version_major": 2,
       "version_minor": 0
      },
      "text/plain": [
       "PlayingViolin:   0%|          | 0/100 [00:00<?, ?it/s]"
      ]
     },
     "metadata": {},
     "output_type": "display_data"
    },
    {
     "data": {
      "application/vnd.jupyter.widget-view+json": {
       "model_id": "e3843a58ba784cda822bfdf1ece08359",
       "version_major": 2,
       "version_minor": 0
      },
      "text/plain": [
       "PoleVault:   0%|          | 0/149 [00:00<?, ?it/s]"
      ]
     },
     "metadata": {},
     "output_type": "display_data"
    },
    {
     "data": {
      "application/vnd.jupyter.widget-view+json": {
       "model_id": "9e4ac4f0eb4340078b15beccf06a1576",
       "version_major": 2,
       "version_minor": 0
      },
      "text/plain": [
       "PommelHorse:   0%|          | 0/123 [00:00<?, ?it/s]"
      ]
     },
     "metadata": {},
     "output_type": "display_data"
    },
    {
     "data": {
      "application/vnd.jupyter.widget-view+json": {
       "model_id": "293ec248af844431961589a671cbe9b9",
       "version_major": 2,
       "version_minor": 0
      },
      "text/plain": [
       "PullUps:   0%|          | 0/100 [00:00<?, ?it/s]"
      ]
     },
     "metadata": {},
     "output_type": "display_data"
    },
    {
     "data": {
      "application/vnd.jupyter.widget-view+json": {
       "model_id": "92fe777c6f464cf28108cd44606d6c47",
       "version_major": 2,
       "version_minor": 0
      },
      "text/plain": [
       "Punch:   0%|          | 0/160 [00:00<?, ?it/s]"
      ]
     },
     "metadata": {},
     "output_type": "display_data"
    },
    {
     "data": {
      "application/vnd.jupyter.widget-view+json": {
       "model_id": "4bc96c5e4dd9464b982889f3565ac3ec",
       "version_major": 2,
       "version_minor": 0
      },
      "text/plain": [
       "PushUps:   0%|          | 0/102 [00:00<?, ?it/s]"
      ]
     },
     "metadata": {},
     "output_type": "display_data"
    },
    {
     "data": {
      "application/vnd.jupyter.widget-view+json": {
       "model_id": "843d8c44377b4b01b7d5adb69e5f6459",
       "version_major": 2,
       "version_minor": 0
      },
      "text/plain": [
       "Rafting:   0%|          | 0/111 [00:00<?, ?it/s]"
      ]
     },
     "metadata": {},
     "output_type": "display_data"
    },
    {
     "data": {
      "application/vnd.jupyter.widget-view+json": {
       "model_id": "9c480e710b0a43ceb2387447c3cfd7af",
       "version_major": 2,
       "version_minor": 0
      },
      "text/plain": [
       "RockClimbingIndoor:   0%|          | 0/144 [00:00<?, ?it/s]"
      ]
     },
     "metadata": {},
     "output_type": "display_data"
    },
    {
     "data": {
      "application/vnd.jupyter.widget-view+json": {
       "model_id": "dad0039ff38f4f9695d681d9e55173c6",
       "version_major": 2,
       "version_minor": 0
      },
      "text/plain": [
       "RopeClimbing:   0%|          | 0/119 [00:00<?, ?it/s]"
      ]
     },
     "metadata": {},
     "output_type": "display_data"
    },
    {
     "data": {
      "application/vnd.jupyter.widget-view+json": {
       "model_id": "3d12e6f952334c7bbfeeaeee5f114360",
       "version_major": 2,
       "version_minor": 0
      },
      "text/plain": [
       "Rowing:   0%|          | 0/137 [00:00<?, ?it/s]"
      ]
     },
     "metadata": {},
     "output_type": "display_data"
    },
    {
     "data": {
      "application/vnd.jupyter.widget-view+json": {
       "model_id": "43b36b3f864246d68eda0a455ad9ff9a",
       "version_major": 2,
       "version_minor": 0
      },
      "text/plain": [
       "SalsaSpin:   0%|          | 0/133 [00:00<?, ?it/s]"
      ]
     },
     "metadata": {},
     "output_type": "display_data"
    },
    {
     "data": {
      "application/vnd.jupyter.widget-view+json": {
       "model_id": "efabffb184aa4335ac68b15bda49767a",
       "version_major": 2,
       "version_minor": 0
      },
      "text/plain": [
       "ShavingBeard:   0%|          | 0/161 [00:00<?, ?it/s]"
      ]
     },
     "metadata": {},
     "output_type": "display_data"
    },
    {
     "data": {
      "application/vnd.jupyter.widget-view+json": {
       "model_id": "1f535c10bab34ff792ec77c60c525584",
       "version_major": 2,
       "version_minor": 0
      },
      "text/plain": [
       "Shotput:   0%|          | 0/144 [00:00<?, ?it/s]"
      ]
     },
     "metadata": {},
     "output_type": "display_data"
    },
    {
     "data": {
      "application/vnd.jupyter.widget-view+json": {
       "model_id": "f1de7deaf42249b4a6e98364344a70b8",
       "version_major": 2,
       "version_minor": 0
      },
      "text/plain": [
       "SkateBoarding:   0%|          | 0/120 [00:00<?, ?it/s]"
      ]
     },
     "metadata": {},
     "output_type": "display_data"
    },
    {
     "data": {
      "application/vnd.jupyter.widget-view+json": {
       "model_id": "b7750c59a34444ba95a19de08700e941",
       "version_major": 2,
       "version_minor": 0
      },
      "text/plain": [
       "Skiing:   0%|          | 0/135 [00:00<?, ?it/s]"
      ]
     },
     "metadata": {},
     "output_type": "display_data"
    },
    {
     "data": {
      "application/vnd.jupyter.widget-view+json": {
       "model_id": "0130830e11bf4bb688b5367dbce4225e",
       "version_major": 2,
       "version_minor": 0
      },
      "text/plain": [
       "Skijet:   0%|          | 0/100 [00:00<?, ?it/s]"
      ]
     },
     "metadata": {},
     "output_type": "display_data"
    },
    {
     "data": {
      "application/vnd.jupyter.widget-view+json": {
       "model_id": "7a45e08aac284dd7b9f60da1a6a88f39",
       "version_major": 2,
       "version_minor": 0
      },
      "text/plain": [
       "SkyDiving:   0%|          | 0/110 [00:00<?, ?it/s]"
      ]
     },
     "metadata": {},
     "output_type": "display_data"
    },
    {
     "data": {
      "application/vnd.jupyter.widget-view+json": {
       "model_id": "224aa419baee41a79239f03329141cd5",
       "version_major": 2,
       "version_minor": 0
      },
      "text/plain": [
       "SoccerJuggling:   0%|          | 0/147 [00:00<?, ?it/s]"
      ]
     },
     "metadata": {},
     "output_type": "display_data"
    },
    {
     "data": {
      "application/vnd.jupyter.widget-view+json": {
       "model_id": "fa9ee1c76b784f02b65bce977cc937e3",
       "version_major": 2,
       "version_minor": 0
      },
      "text/plain": [
       "SoccerPenalty:   0%|          | 0/137 [00:00<?, ?it/s]"
      ]
     },
     "metadata": {},
     "output_type": "display_data"
    },
    {
     "data": {
      "application/vnd.jupyter.widget-view+json": {
       "model_id": "e19f316edd9c47beb149708f821e5fdf",
       "version_major": 2,
       "version_minor": 0
      },
      "text/plain": [
       "StillRings:   0%|          | 0/112 [00:00<?, ?it/s]"
      ]
     },
     "metadata": {},
     "output_type": "display_data"
    },
    {
     "data": {
      "application/vnd.jupyter.widget-view+json": {
       "model_id": "f3de49e846ef4608baebfc0589af951b",
       "version_major": 2,
       "version_minor": 0
      },
      "text/plain": [
       "SumoWrestling:   0%|          | 0/116 [00:00<?, ?it/s]"
      ]
     },
     "metadata": {},
     "output_type": "display_data"
    },
    {
     "data": {
      "application/vnd.jupyter.widget-view+json": {
       "model_id": "62cfae067df04019b18154a1098d3212",
       "version_major": 2,
       "version_minor": 0
      },
      "text/plain": [
       "Surfing:   0%|          | 0/126 [00:00<?, ?it/s]"
      ]
     },
     "metadata": {},
     "output_type": "display_data"
    },
    {
     "data": {
      "application/vnd.jupyter.widget-view+json": {
       "model_id": "28e86be8ea5e463d9f3e96e5353b7f93",
       "version_major": 2,
       "version_minor": 0
      },
      "text/plain": [
       "Swing:   0%|          | 0/131 [00:00<?, ?it/s]"
      ]
     },
     "metadata": {},
     "output_type": "display_data"
    },
    {
     "data": {
      "application/vnd.jupyter.widget-view+json": {
       "model_id": "9c13491fbeb14a38ada8565bb2d39dda",
       "version_major": 2,
       "version_minor": 0
      },
      "text/plain": [
       "TableTennisShot:   0%|          | 0/140 [00:00<?, ?it/s]"
      ]
     },
     "metadata": {},
     "output_type": "display_data"
    },
    {
     "data": {
      "application/vnd.jupyter.widget-view+json": {
       "model_id": "d7f01d47e88c4a1f86394ef7d5d1e68f",
       "version_major": 2,
       "version_minor": 0
      },
      "text/plain": [
       "TaiChi:   0%|          | 0/100 [00:00<?, ?it/s]"
      ]
     },
     "metadata": {},
     "output_type": "display_data"
    },
    {
     "data": {
      "application/vnd.jupyter.widget-view+json": {
       "model_id": "de59248853c046f69ff2562ddad08040",
       "version_major": 2,
       "version_minor": 0
      },
      "text/plain": [
       "TennisSwing:   0%|          | 0/166 [00:00<?, ?it/s]"
      ]
     },
     "metadata": {},
     "output_type": "display_data"
    },
    {
     "data": {
      "application/vnd.jupyter.widget-view+json": {
       "model_id": "09332ddcf3fd4e59b5612449960503d4",
       "version_major": 2,
       "version_minor": 0
      },
      "text/plain": [
       "ThrowDiscus:   0%|          | 0/130 [00:00<?, ?it/s]"
      ]
     },
     "metadata": {},
     "output_type": "display_data"
    },
    {
     "data": {
      "application/vnd.jupyter.widget-view+json": {
       "model_id": "b81e29c8e96c4968b5eb876878e2aece",
       "version_major": 2,
       "version_minor": 0
      },
      "text/plain": [
       "TrampolineJumping:   0%|          | 0/119 [00:00<?, ?it/s]"
      ]
     },
     "metadata": {},
     "output_type": "display_data"
    },
    {
     "data": {
      "application/vnd.jupyter.widget-view+json": {
       "model_id": "56a606de2a734d4a980ed4f88d36ccc7",
       "version_major": 2,
       "version_minor": 0
      },
      "text/plain": [
       "Typing:   0%|          | 0/136 [00:00<?, ?it/s]"
      ]
     },
     "metadata": {},
     "output_type": "display_data"
    },
    {
     "data": {
      "application/vnd.jupyter.widget-view+json": {
       "model_id": "0c90d8d990f2429290ee5a68aaa93f0f",
       "version_major": 2,
       "version_minor": 0
      },
      "text/plain": [
       "UnevenBars:   0%|          | 0/104 [00:00<?, ?it/s]"
      ]
     },
     "metadata": {},
     "output_type": "display_data"
    },
    {
     "data": {
      "application/vnd.jupyter.widget-view+json": {
       "model_id": "c69974b69f584733a064a47deb299fbe",
       "version_major": 2,
       "version_minor": 0
      },
      "text/plain": [
       "VolleyballSpiking:   0%|          | 0/116 [00:00<?, ?it/s]"
      ]
     },
     "metadata": {},
     "output_type": "display_data"
    },
    {
     "data": {
      "application/vnd.jupyter.widget-view+json": {
       "model_id": "8cf42cb88806490c96e29fa5f904398a",
       "version_major": 2,
       "version_minor": 0
      },
      "text/plain": [
       "WalkingWithDog:   0%|          | 0/123 [00:00<?, ?it/s]"
      ]
     },
     "metadata": {},
     "output_type": "display_data"
    },
    {
     "data": {
      "application/vnd.jupyter.widget-view+json": {
       "model_id": "bbb1de2c2c5a42ffbecfe5c2c5df29bc",
       "version_major": 2,
       "version_minor": 0
      },
      "text/plain": [
       "WallPushups:   0%|          | 0/130 [00:00<?, ?it/s]"
      ]
     },
     "metadata": {},
     "output_type": "display_data"
    },
    {
     "data": {
      "application/vnd.jupyter.widget-view+json": {
       "model_id": "60fb3ea2c81946448fe8f6e521d13fa8",
       "version_major": 2,
       "version_minor": 0
      },
      "text/plain": [
       "WritingOnBoard:   0%|          | 0/152 [00:00<?, ?it/s]"
      ]
     },
     "metadata": {},
     "output_type": "display_data"
    },
    {
     "data": {
      "application/vnd.jupyter.widget-view+json": {
       "model_id": "2806ee4a6f92488f95d8398685925653",
       "version_major": 2,
       "version_minor": 0
      },
      "text/plain": [
       "YoYo:   0%|          | 0/128 [00:00<?, ?it/s]"
      ]
     },
     "metadata": {},
     "output_type": "display_data"
    },
    {
     "name": "stdout",
     "output_type": "stream",
     "text": [
      "✅  Dummy boxes added!\n",
      "💾  Augmented detections written → detection_train_merged_rearranged_2.0_plus_dummy.npy\n"
     ]
    }
   ],
   "source": [
    "# %% [markdown]\n",
    "# # Add dummy detections to an existing file\n",
    "# This cell:\n",
    "# 1. Loads a nested-dict detection file saved with `np.save(..., allow_pickle=True)`.\n",
    "# 2. Appends 0–`max_new` random boxes per frame.\n",
    "# 3. Writes the augmented structure back to disk.\n",
    "#\n",
    "# ▸ Adjust the CONFIG block and run.\n",
    "\n",
    "# %% [code]  ------------------------------------------------ CONFIG\n",
    "from pathlib import Path\n",
    "import numpy as np\n",
    "from tqdm.auto import tqdm\n",
    "\n",
    "in_file   = Path(\"detection_train_merged_rearranged_2.0.npy\")          # ← existing file\n",
    "out_file  = Path(\"detection_train_merged_rearranged_2.0_plus_dummy.npy\")\n",
    "max_new   = 3                               # max *additional* boxes / frame\n",
    "seed      = 42                              # set -1 for nondeterministic\n",
    "img_w, img_h = 320, 240                     # frame resolution (pixels)\n",
    "\n",
    "BOX_MIN_FRAC = 0.10   # 10 % of w/h\n",
    "BOX_MAX_FRAC = 0.50   # 50 %\n",
    "\n",
    "# %% [code]  ------------------------------------------------ SETUP\n",
    "if seed >= 0:\n",
    "    np.random.seed(seed)\n",
    "\n",
    "def random_boxes(n: int) -> np.ndarray:\n",
    "    \"\"\"Return (n,5) float32 array: x1,y1,x2,y2,score (clipped to frame).\"\"\"\n",
    "    if n == 0:\n",
    "        return np.zeros((0, 5), dtype=np.float32)\n",
    "\n",
    "    x1 = np.random.uniform(0, img_w * (1 - BOX_MIN_FRAC), size=n)\n",
    "    y1 = np.random.uniform(0, img_h * (1 - BOX_MIN_FRAC), size=n)\n",
    "    w  = np.random.uniform(img_w * BOX_MIN_FRAC, img_w * BOX_MAX_FRAC, size=n)\n",
    "    h  = np.random.uniform(img_h * BOX_MIN_FRAC, img_h * BOX_MAX_FRAC, size=n)\n",
    "\n",
    "    x2 = np.clip(x1 + w,  0, img_w)\n",
    "    y2 = np.clip(y1 + h,  0, img_h)\n",
    "    scores = np.random.uniform(0.3, 1.0, size=n)\n",
    "\n",
    "    return np.stack([x1, y1, x2, y2, scores], axis=1).astype(np.float32)\n",
    "\n",
    "# %% [code]  ------------------------------------------------ LOAD\n",
    "print(f\"🔍 Loading {in_file} …\")\n",
    "det_tree = np.load(in_file, allow_pickle=True).item()   # nested dict\n",
    "\n",
    "# %% [code]  ------------------------------------------------ AUGMENT\n",
    "for cls_name, vid_dict in tqdm(det_tree.items(), desc=\"class\"):\n",
    "    for vid_name, frame_dict in tqdm(vid_dict.items(), leave=False, desc=cls_name):\n",
    "        for frame_idx, ann in frame_dict.items():\n",
    "            old = ann.get(\"human_boxes\", np.zeros((0, 5), dtype=np.float32))\n",
    "            n_new = np.random.randint(0, max_new + 1)\n",
    "            new   = random_boxes(n_new)\n",
    "            if n_new:\n",
    "                ann[\"human_boxes\"] = np.concatenate([old, new], axis=0)\n",
    "\n",
    "print(\"✅  Dummy boxes added!\")\n",
    "\n",
    "# %% [code]  ------------------------------------------------ SAVE\n",
    "out_file.parent.mkdir(parents=True, exist_ok=True)\n",
    "np.save(out_file, det_tree, allow_pickle=True)\n",
    "print(f\"💾  Augmented detections written → {out_file}\")\n"
   ]
  },
  {
   "cell_type": "code",
   "execution_count": null,
   "id": "95c45d17-2475-4ab6-a669-8ef43124ad17",
   "metadata": {},
   "outputs": [],
   "source": []
  }
 ],
 "metadata": {
  "kernelspec": {
   "display_name": "Python 3 (ipykernel)",
   "language": "python",
   "name": "python3"
  },
  "language_info": {
   "codemirror_mode": {
    "name": "ipython",
    "version": 3
   },
   "file_extension": ".py",
   "mimetype": "text/x-python",
   "name": "python",
   "nbconvert_exporter": "python",
   "pygments_lexer": "ipython3",
   "version": "3.10.8"
  }
 },
 "nbformat": 4,
 "nbformat_minor": 5
}
