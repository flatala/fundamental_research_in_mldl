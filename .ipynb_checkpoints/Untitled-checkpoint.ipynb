{
 "cells": [
  {
   "cell_type": "code",
   "execution_count": 8,
   "id": "f5ae7e5a",
   "metadata": {},
   "outputs": [],
   "source": [
    "#!/usr/bin/env python3\n",
    "import os, subprocess\n",
    "\n",
    "\n",
    "def extract_all_rars(src_dir, dst_base):\n",
    "    for root, _, files in os.walk(src_dir):\n",
    "        for fname in files:\n",
    "            if fname.lower().endswith('.rar'):\n",
    "                rar_path = os.path.join(root, fname)\n",
    "                # Keep the directory structure under dst_base:\n",
    "                rel = os.path.relpath(root, src_dir)\n",
    "                out_dir = os.path.join(dst_base, rel)\n",
    "                os.makedirs(out_dir, exist_ok=True)\n",
    "                subprocess.run(\n",
    "                    ['unrar', 'x', '-kb', rar_path, out_dir],\n",
    "                    check=True\n",
    "                )"
   ]
  },
  {
   "cell_type": "code",
   "execution_count": 9,
   "id": "cb55ed12",
   "metadata": {},
   "outputs": [],
   "source": [
    "extract_all_rars('datasets/HMDB', 'datasets/HMDB-UNRARED')"
   ]
  }
 ],
 "metadata": {
  "kernelspec": {
   "display_name": "Python 3 (ipykernel)",
   "language": "python",
   "name": "python3"
  },
  "language_info": {
   "codemirror_mode": {
    "name": "ipython",
    "version": 3
   },
   "file_extension": ".py",
   "mimetype": "text/x-python",
   "name": "python",
   "nbconvert_exporter": "python",
   "pygments_lexer": "ipython3",
   "version": "3.10.12"
  }
 },
 "nbformat": 4,
 "nbformat_minor": 5
}
