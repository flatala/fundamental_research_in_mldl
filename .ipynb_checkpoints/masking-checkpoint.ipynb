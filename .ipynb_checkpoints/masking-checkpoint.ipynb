{
 "cells": [
  {
   "cell_type": "code",
   "execution_count": 1,
   "id": "803dfc49",
   "metadata": {},
   "outputs": [],
   "source": [
    "import torch, torchvision\n",
    "from torchvision.transforms import functional as TF\n",
    "from PIL import Image\n",
    "import numpy as np\n",
    "import cv2, os\n",
    "from pathlib import Path\n",
    "from tqdm import tqdm\n",
    "import shutil, itertools\n",
    "\n",
    "device = \"cuda\" if torch.cuda.is_available() else \"cpu\""
   ]
  },
  {
   "cell_type": "code",
   "execution_count": 2,
   "id": "6d64fa52",
   "metadata": {},
   "outputs": [
    {
     "name": "stderr",
     "output_type": "stream",
     "text": [
      "Downloading: \"https://download.pytorch.org/models/maskrcnn_resnet50_fpn_coco-bf2d0c1e.pth\" to /root/.cache/torch/hub/checkpoints/maskrcnn_resnet50_fpn_coco-bf2d0c1e.pth\n"
     ]
    },
    {
     "data": {
      "application/vnd.jupyter.widget-view+json": {
       "model_id": "8ff97ffa0b14407abd9f49a0e96eac07",
       "version_major": 2,
       "version_minor": 0
      },
      "text/plain": [
       "  0%|          | 0.00/170M [00:00<?, ?B/s]"
      ]
     },
     "metadata": {},
     "output_type": "display_data"
    },
    {
     "data": {
      "text/plain": [
       "MaskRCNN(\n",
       "  (transform): GeneralizedRCNNTransform(\n",
       "      Normalize(mean=[0.485, 0.456, 0.406], std=[0.229, 0.224, 0.225])\n",
       "      Resize(min_size=(800,), max_size=1333, mode='bilinear')\n",
       "  )\n",
       "  (backbone): BackboneWithFPN(\n",
       "    (body): IntermediateLayerGetter(\n",
       "      (conv1): Conv2d(3, 64, kernel_size=(7, 7), stride=(2, 2), padding=(3, 3), bias=False)\n",
       "      (bn1): FrozenBatchNorm2d(64, eps=0.0)\n",
       "      (relu): ReLU(inplace=True)\n",
       "      (maxpool): MaxPool2d(kernel_size=3, stride=2, padding=1, dilation=1, ceil_mode=False)\n",
       "      (layer1): Sequential(\n",
       "        (0): Bottleneck(\n",
       "          (conv1): Conv2d(64, 64, kernel_size=(1, 1), stride=(1, 1), bias=False)\n",
       "          (bn1): FrozenBatchNorm2d(64, eps=0.0)\n",
       "          (conv2): Conv2d(64, 64, kernel_size=(3, 3), stride=(1, 1), padding=(1, 1), bias=False)\n",
       "          (bn2): FrozenBatchNorm2d(64, eps=0.0)\n",
       "          (conv3): Conv2d(64, 256, kernel_size=(1, 1), stride=(1, 1), bias=False)\n",
       "          (bn3): FrozenBatchNorm2d(256, eps=0.0)\n",
       "          (relu): ReLU(inplace=True)\n",
       "          (downsample): Sequential(\n",
       "            (0): Conv2d(64, 256, kernel_size=(1, 1), stride=(1, 1), bias=False)\n",
       "            (1): FrozenBatchNorm2d(256, eps=0.0)\n",
       "          )\n",
       "        )\n",
       "        (1): Bottleneck(\n",
       "          (conv1): Conv2d(256, 64, kernel_size=(1, 1), stride=(1, 1), bias=False)\n",
       "          (bn1): FrozenBatchNorm2d(64, eps=0.0)\n",
       "          (conv2): Conv2d(64, 64, kernel_size=(3, 3), stride=(1, 1), padding=(1, 1), bias=False)\n",
       "          (bn2): FrozenBatchNorm2d(64, eps=0.0)\n",
       "          (conv3): Conv2d(64, 256, kernel_size=(1, 1), stride=(1, 1), bias=False)\n",
       "          (bn3): FrozenBatchNorm2d(256, eps=0.0)\n",
       "          (relu): ReLU(inplace=True)\n",
       "        )\n",
       "        (2): Bottleneck(\n",
       "          (conv1): Conv2d(256, 64, kernel_size=(1, 1), stride=(1, 1), bias=False)\n",
       "          (bn1): FrozenBatchNorm2d(64, eps=0.0)\n",
       "          (conv2): Conv2d(64, 64, kernel_size=(3, 3), stride=(1, 1), padding=(1, 1), bias=False)\n",
       "          (bn2): FrozenBatchNorm2d(64, eps=0.0)\n",
       "          (conv3): Conv2d(64, 256, kernel_size=(1, 1), stride=(1, 1), bias=False)\n",
       "          (bn3): FrozenBatchNorm2d(256, eps=0.0)\n",
       "          (relu): ReLU(inplace=True)\n",
       "        )\n",
       "      )\n",
       "      (layer2): Sequential(\n",
       "        (0): Bottleneck(\n",
       "          (conv1): Conv2d(256, 128, kernel_size=(1, 1), stride=(1, 1), bias=False)\n",
       "          (bn1): FrozenBatchNorm2d(128, eps=0.0)\n",
       "          (conv2): Conv2d(128, 128, kernel_size=(3, 3), stride=(2, 2), padding=(1, 1), bias=False)\n",
       "          (bn2): FrozenBatchNorm2d(128, eps=0.0)\n",
       "          (conv3): Conv2d(128, 512, kernel_size=(1, 1), stride=(1, 1), bias=False)\n",
       "          (bn3): FrozenBatchNorm2d(512, eps=0.0)\n",
       "          (relu): ReLU(inplace=True)\n",
       "          (downsample): Sequential(\n",
       "            (0): Conv2d(256, 512, kernel_size=(1, 1), stride=(2, 2), bias=False)\n",
       "            (1): FrozenBatchNorm2d(512, eps=0.0)\n",
       "          )\n",
       "        )\n",
       "        (1): Bottleneck(\n",
       "          (conv1): Conv2d(512, 128, kernel_size=(1, 1), stride=(1, 1), bias=False)\n",
       "          (bn1): FrozenBatchNorm2d(128, eps=0.0)\n",
       "          (conv2): Conv2d(128, 128, kernel_size=(3, 3), stride=(1, 1), padding=(1, 1), bias=False)\n",
       "          (bn2): FrozenBatchNorm2d(128, eps=0.0)\n",
       "          (conv3): Conv2d(128, 512, kernel_size=(1, 1), stride=(1, 1), bias=False)\n",
       "          (bn3): FrozenBatchNorm2d(512, eps=0.0)\n",
       "          (relu): ReLU(inplace=True)\n",
       "        )\n",
       "        (2): Bottleneck(\n",
       "          (conv1): Conv2d(512, 128, kernel_size=(1, 1), stride=(1, 1), bias=False)\n",
       "          (bn1): FrozenBatchNorm2d(128, eps=0.0)\n",
       "          (conv2): Conv2d(128, 128, kernel_size=(3, 3), stride=(1, 1), padding=(1, 1), bias=False)\n",
       "          (bn2): FrozenBatchNorm2d(128, eps=0.0)\n",
       "          (conv3): Conv2d(128, 512, kernel_size=(1, 1), stride=(1, 1), bias=False)\n",
       "          (bn3): FrozenBatchNorm2d(512, eps=0.0)\n",
       "          (relu): ReLU(inplace=True)\n",
       "        )\n",
       "        (3): Bottleneck(\n",
       "          (conv1): Conv2d(512, 128, kernel_size=(1, 1), stride=(1, 1), bias=False)\n",
       "          (bn1): FrozenBatchNorm2d(128, eps=0.0)\n",
       "          (conv2): Conv2d(128, 128, kernel_size=(3, 3), stride=(1, 1), padding=(1, 1), bias=False)\n",
       "          (bn2): FrozenBatchNorm2d(128, eps=0.0)\n",
       "          (conv3): Conv2d(128, 512, kernel_size=(1, 1), stride=(1, 1), bias=False)\n",
       "          (bn3): FrozenBatchNorm2d(512, eps=0.0)\n",
       "          (relu): ReLU(inplace=True)\n",
       "        )\n",
       "      )\n",
       "      (layer3): Sequential(\n",
       "        (0): Bottleneck(\n",
       "          (conv1): Conv2d(512, 256, kernel_size=(1, 1), stride=(1, 1), bias=False)\n",
       "          (bn1): FrozenBatchNorm2d(256, eps=0.0)\n",
       "          (conv2): Conv2d(256, 256, kernel_size=(3, 3), stride=(2, 2), padding=(1, 1), bias=False)\n",
       "          (bn2): FrozenBatchNorm2d(256, eps=0.0)\n",
       "          (conv3): Conv2d(256, 1024, kernel_size=(1, 1), stride=(1, 1), bias=False)\n",
       "          (bn3): FrozenBatchNorm2d(1024, eps=0.0)\n",
       "          (relu): ReLU(inplace=True)\n",
       "          (downsample): Sequential(\n",
       "            (0): Conv2d(512, 1024, kernel_size=(1, 1), stride=(2, 2), bias=False)\n",
       "            (1): FrozenBatchNorm2d(1024, eps=0.0)\n",
       "          )\n",
       "        )\n",
       "        (1): Bottleneck(\n",
       "          (conv1): Conv2d(1024, 256, kernel_size=(1, 1), stride=(1, 1), bias=False)\n",
       "          (bn1): FrozenBatchNorm2d(256, eps=0.0)\n",
       "          (conv2): Conv2d(256, 256, kernel_size=(3, 3), stride=(1, 1), padding=(1, 1), bias=False)\n",
       "          (bn2): FrozenBatchNorm2d(256, eps=0.0)\n",
       "          (conv3): Conv2d(256, 1024, kernel_size=(1, 1), stride=(1, 1), bias=False)\n",
       "          (bn3): FrozenBatchNorm2d(1024, eps=0.0)\n",
       "          (relu): ReLU(inplace=True)\n",
       "        )\n",
       "        (2): Bottleneck(\n",
       "          (conv1): Conv2d(1024, 256, kernel_size=(1, 1), stride=(1, 1), bias=False)\n",
       "          (bn1): FrozenBatchNorm2d(256, eps=0.0)\n",
       "          (conv2): Conv2d(256, 256, kernel_size=(3, 3), stride=(1, 1), padding=(1, 1), bias=False)\n",
       "          (bn2): FrozenBatchNorm2d(256, eps=0.0)\n",
       "          (conv3): Conv2d(256, 1024, kernel_size=(1, 1), stride=(1, 1), bias=False)\n",
       "          (bn3): FrozenBatchNorm2d(1024, eps=0.0)\n",
       "          (relu): ReLU(inplace=True)\n",
       "        )\n",
       "        (3): Bottleneck(\n",
       "          (conv1): Conv2d(1024, 256, kernel_size=(1, 1), stride=(1, 1), bias=False)\n",
       "          (bn1): FrozenBatchNorm2d(256, eps=0.0)\n",
       "          (conv2): Conv2d(256, 256, kernel_size=(3, 3), stride=(1, 1), padding=(1, 1), bias=False)\n",
       "          (bn2): FrozenBatchNorm2d(256, eps=0.0)\n",
       "          (conv3): Conv2d(256, 1024, kernel_size=(1, 1), stride=(1, 1), bias=False)\n",
       "          (bn3): FrozenBatchNorm2d(1024, eps=0.0)\n",
       "          (relu): ReLU(inplace=True)\n",
       "        )\n",
       "        (4): Bottleneck(\n",
       "          (conv1): Conv2d(1024, 256, kernel_size=(1, 1), stride=(1, 1), bias=False)\n",
       "          (bn1): FrozenBatchNorm2d(256, eps=0.0)\n",
       "          (conv2): Conv2d(256, 256, kernel_size=(3, 3), stride=(1, 1), padding=(1, 1), bias=False)\n",
       "          (bn2): FrozenBatchNorm2d(256, eps=0.0)\n",
       "          (conv3): Conv2d(256, 1024, kernel_size=(1, 1), stride=(1, 1), bias=False)\n",
       "          (bn3): FrozenBatchNorm2d(1024, eps=0.0)\n",
       "          (relu): ReLU(inplace=True)\n",
       "        )\n",
       "        (5): Bottleneck(\n",
       "          (conv1): Conv2d(1024, 256, kernel_size=(1, 1), stride=(1, 1), bias=False)\n",
       "          (bn1): FrozenBatchNorm2d(256, eps=0.0)\n",
       "          (conv2): Conv2d(256, 256, kernel_size=(3, 3), stride=(1, 1), padding=(1, 1), bias=False)\n",
       "          (bn2): FrozenBatchNorm2d(256, eps=0.0)\n",
       "          (conv3): Conv2d(256, 1024, kernel_size=(1, 1), stride=(1, 1), bias=False)\n",
       "          (bn3): FrozenBatchNorm2d(1024, eps=0.0)\n",
       "          (relu): ReLU(inplace=True)\n",
       "        )\n",
       "      )\n",
       "      (layer4): Sequential(\n",
       "        (0): Bottleneck(\n",
       "          (conv1): Conv2d(1024, 512, kernel_size=(1, 1), stride=(1, 1), bias=False)\n",
       "          (bn1): FrozenBatchNorm2d(512, eps=0.0)\n",
       "          (conv2): Conv2d(512, 512, kernel_size=(3, 3), stride=(2, 2), padding=(1, 1), bias=False)\n",
       "          (bn2): FrozenBatchNorm2d(512, eps=0.0)\n",
       "          (conv3): Conv2d(512, 2048, kernel_size=(1, 1), stride=(1, 1), bias=False)\n",
       "          (bn3): FrozenBatchNorm2d(2048, eps=0.0)\n",
       "          (relu): ReLU(inplace=True)\n",
       "          (downsample): Sequential(\n",
       "            (0): Conv2d(1024, 2048, kernel_size=(1, 1), stride=(2, 2), bias=False)\n",
       "            (1): FrozenBatchNorm2d(2048, eps=0.0)\n",
       "          )\n",
       "        )\n",
       "        (1): Bottleneck(\n",
       "          (conv1): Conv2d(2048, 512, kernel_size=(1, 1), stride=(1, 1), bias=False)\n",
       "          (bn1): FrozenBatchNorm2d(512, eps=0.0)\n",
       "          (conv2): Conv2d(512, 512, kernel_size=(3, 3), stride=(1, 1), padding=(1, 1), bias=False)\n",
       "          (bn2): FrozenBatchNorm2d(512, eps=0.0)\n",
       "          (conv3): Conv2d(512, 2048, kernel_size=(1, 1), stride=(1, 1), bias=False)\n",
       "          (bn3): FrozenBatchNorm2d(2048, eps=0.0)\n",
       "          (relu): ReLU(inplace=True)\n",
       "        )\n",
       "        (2): Bottleneck(\n",
       "          (conv1): Conv2d(2048, 512, kernel_size=(1, 1), stride=(1, 1), bias=False)\n",
       "          (bn1): FrozenBatchNorm2d(512, eps=0.0)\n",
       "          (conv2): Conv2d(512, 512, kernel_size=(3, 3), stride=(1, 1), padding=(1, 1), bias=False)\n",
       "          (bn2): FrozenBatchNorm2d(512, eps=0.0)\n",
       "          (conv3): Conv2d(512, 2048, kernel_size=(1, 1), stride=(1, 1), bias=False)\n",
       "          (bn3): FrozenBatchNorm2d(2048, eps=0.0)\n",
       "          (relu): ReLU(inplace=True)\n",
       "        )\n",
       "      )\n",
       "    )\n",
       "    (fpn): FeaturePyramidNetwork(\n",
       "      (inner_blocks): ModuleList(\n",
       "        (0): Conv2dNormActivation(\n",
       "          (0): Conv2d(256, 256, kernel_size=(1, 1), stride=(1, 1))\n",
       "        )\n",
       "        (1): Conv2dNormActivation(\n",
       "          (0): Conv2d(512, 256, kernel_size=(1, 1), stride=(1, 1))\n",
       "        )\n",
       "        (2): Conv2dNormActivation(\n",
       "          (0): Conv2d(1024, 256, kernel_size=(1, 1), stride=(1, 1))\n",
       "        )\n",
       "        (3): Conv2dNormActivation(\n",
       "          (0): Conv2d(2048, 256, kernel_size=(1, 1), stride=(1, 1))\n",
       "        )\n",
       "      )\n",
       "      (layer_blocks): ModuleList(\n",
       "        (0): Conv2dNormActivation(\n",
       "          (0): Conv2d(256, 256, kernel_size=(3, 3), stride=(1, 1), padding=(1, 1))\n",
       "        )\n",
       "        (1): Conv2dNormActivation(\n",
       "          (0): Conv2d(256, 256, kernel_size=(3, 3), stride=(1, 1), padding=(1, 1))\n",
       "        )\n",
       "        (2): Conv2dNormActivation(\n",
       "          (0): Conv2d(256, 256, kernel_size=(3, 3), stride=(1, 1), padding=(1, 1))\n",
       "        )\n",
       "        (3): Conv2dNormActivation(\n",
       "          (0): Conv2d(256, 256, kernel_size=(3, 3), stride=(1, 1), padding=(1, 1))\n",
       "        )\n",
       "      )\n",
       "      (extra_blocks): LastLevelMaxPool()\n",
       "    )\n",
       "  )\n",
       "  (rpn): RegionProposalNetwork(\n",
       "    (anchor_generator): AnchorGenerator()\n",
       "    (head): RPNHead(\n",
       "      (conv): Sequential(\n",
       "        (0): Conv2dNormActivation(\n",
       "          (0): Conv2d(256, 256, kernel_size=(3, 3), stride=(1, 1), padding=(1, 1))\n",
       "          (1): ReLU(inplace=True)\n",
       "        )\n",
       "      )\n",
       "      (cls_logits): Conv2d(256, 3, kernel_size=(1, 1), stride=(1, 1))\n",
       "      (bbox_pred): Conv2d(256, 12, kernel_size=(1, 1), stride=(1, 1))\n",
       "    )\n",
       "  )\n",
       "  (roi_heads): RoIHeads(\n",
       "    (box_roi_pool): MultiScaleRoIAlign(featmap_names=['0', '1', '2', '3'], output_size=(7, 7), sampling_ratio=2)\n",
       "    (box_head): TwoMLPHead(\n",
       "      (fc6): Linear(in_features=12544, out_features=1024, bias=True)\n",
       "      (fc7): Linear(in_features=1024, out_features=1024, bias=True)\n",
       "    )\n",
       "    (box_predictor): FastRCNNPredictor(\n",
       "      (cls_score): Linear(in_features=1024, out_features=91, bias=True)\n",
       "      (bbox_pred): Linear(in_features=1024, out_features=364, bias=True)\n",
       "    )\n",
       "    (mask_roi_pool): MultiScaleRoIAlign(featmap_names=['0', '1', '2', '3'], output_size=(14, 14), sampling_ratio=2)\n",
       "    (mask_head): MaskRCNNHeads(\n",
       "      (0): Conv2dNormActivation(\n",
       "        (0): Conv2d(256, 256, kernel_size=(3, 3), stride=(1, 1), padding=(1, 1))\n",
       "        (1): ReLU(inplace=True)\n",
       "      )\n",
       "      (1): Conv2dNormActivation(\n",
       "        (0): Conv2d(256, 256, kernel_size=(3, 3), stride=(1, 1), padding=(1, 1))\n",
       "        (1): ReLU(inplace=True)\n",
       "      )\n",
       "      (2): Conv2dNormActivation(\n",
       "        (0): Conv2d(256, 256, kernel_size=(3, 3), stride=(1, 1), padding=(1, 1))\n",
       "        (1): ReLU(inplace=True)\n",
       "      )\n",
       "      (3): Conv2dNormActivation(\n",
       "        (0): Conv2d(256, 256, kernel_size=(3, 3), stride=(1, 1), padding=(1, 1))\n",
       "        (1): ReLU(inplace=True)\n",
       "      )\n",
       "    )\n",
       "    (mask_predictor): MaskRCNNPredictor(\n",
       "      (conv5_mask): ConvTranspose2d(256, 256, kernel_size=(2, 2), stride=(2, 2))\n",
       "      (relu): ReLU(inplace=True)\n",
       "      (mask_fcn_logits): Conv2d(256, 91, kernel_size=(1, 1), stride=(1, 1))\n",
       "    )\n",
       "  )\n",
       ")"
      ]
     },
     "execution_count": 2,
     "metadata": {},
     "output_type": "execute_result"
    }
   ],
   "source": [
    "# Load COCO-pre-trained Mask R-CNN\n",
    "model = torchvision.models.detection.maskrcnn_resnet50_fpn(weights=\"DEFAULT\")\n",
    "model.to(device).eval()"
   ]
  },
  {
   "cell_type": "code",
   "execution_count": 3,
   "id": "ddfe582d",
   "metadata": {},
   "outputs": [],
   "source": [
    "@torch.inference_mode()\n",
    "def mask_humans_pil(\n",
    "    img: Image.Image,\n",
    "    score_thresh: float = 0.5,\n",
    "    fill_mode: str = \"mean\",   # \"mean\" | \"black\" | \"gray\"\n",
    "):\n",
    "    \"\"\"\n",
    "    Return a copy of `img` where every pixel inside a detected person\n",
    "    is replaced by the frame average (paper-style) or a solid colour.\n",
    "    \"\"\"\n",
    "    tensor = TF.to_tensor(img).to(device).unsqueeze(0)        # 1×3×H×W\n",
    "    out = model(tensor)[0]                                    # dict\n",
    "\n",
    "    keep = (out[\"labels\"] == 1) & (out[\"scores\"] > score_thresh)\n",
    "    if keep.sum() == 0:\n",
    "        return img.copy()                                     # no humans\n",
    "\n",
    "    # Union of all person masks\n",
    "    masks = (out[\"masks\"][keep, 0].sigmoid() > 0.5).any(0)    # H×W bool\n",
    "    mask_np = masks.cpu().numpy()\n",
    "\n",
    "    arr = np.array(img)\n",
    "    if fill_mode == \"mean\":\n",
    "        fill_value = arr.mean(axis=(0, 1), keepdims=True).astype(arr.dtype)\n",
    "    elif fill_mode == \"gray\":\n",
    "        fill_value = np.array([127, 127, 127], dtype=arr.dtype)\n",
    "    else:  # \"black\"\n",
    "        fill_value = 0\n",
    "    arr[mask_np] = fill_value\n",
    "    return Image.fromarray(arr)\n"
   ]
  },
  {
   "cell_type": "code",
   "execution_count": 38,
   "id": "d177b14b",
   "metadata": {},
   "outputs": [],
   "source": [
    "from itertools import islice\n",
    "\n",
    "def chunks(iterable, n):\n",
    "    \"Yield successive n-sized lists from iterable\"\n",
    "    it = iter(iterable)\n",
    "    while True:\n",
    "        batch = list(islice(it, n))\n",
    "        if not batch:\n",
    "            break\n",
    "        yield batch\n",
    "\n",
    "def mask_folder_batch(\n",
    "    in_root: str | Path,\n",
    "    out_root: str | Path,\n",
    "    *,\n",
    "    ext=\".jpg\",\n",
    "    score_thresh=0.5,\n",
    "    batch_size=4,\n",
    "    recursive=True,\n",
    "    clear_out=True,\n",
    "    fill_mode=\"mean\",           # mean / black / gray\n",
    "):\n",
    "    \"\"\"\n",
    "    Same API as mask_folder, but runs Mask R-CNN on <batch_size> frames\n",
    "    at once for higher throughput.\n",
    "    \"\"\"\n",
    "    in_root, out_root = Path(in_root), Path(out_root)\n",
    "    if clear_out and out_root.exists():\n",
    "        shutil.rmtree(out_root)\n",
    "\n",
    "    pattern = f\"**/*{ext}\" if recursive else f\"*{ext}\"\n",
    "    files = sorted(in_root.glob(pattern))\n",
    "    print(f\"{len(files)} frame(s) found → processing in batches of {batch_size}\")\n",
    "\n",
    "    for batch_paths in tqdm(list(chunks(files, batch_size))):\n",
    "        # -------- 1. load & stack tensors ------------------------------------\n",
    "        imgs_pil   = [Image.open(p).convert(\"RGB\") for p in batch_paths]\n",
    "        tensors    = [TF.to_tensor(im) for im in imgs_pil]\n",
    "        tensor_cat = torch.stack(tensors).to(device)          # B×3×H×W\n",
    "\n",
    "        # -------- 2. forward pass -------------------------------------------\n",
    "        with torch.inference_mode():\n",
    "            outs = model(tensor_cat)\n",
    "\n",
    "        # -------- 3. post-process each frame in the batch -------------------\n",
    "        for src_path, img, out in zip(batch_paths, imgs_pil, outs):\n",
    "            keep = (out[\"labels\"] == 1) & (out[\"scores\"] > score_thresh)\n",
    "            if keep.sum() == 0:\n",
    "                img_masked = img\n",
    "            else:\n",
    "                masks = (out[\"masks\"][keep, 0].sigmoid() > 0.5).any(0).cpu().numpy()\n",
    "                arr = np.array(img)\n",
    "                if fill_mode == \"mean\":\n",
    "                    fill_val = arr.mean(axis=(0, 1), keepdims=True).astype(arr.dtype)\n",
    "                elif fill_mode == \"gray\":\n",
    "                    fill_val = np.array([127, 127, 127], dtype=arr.dtype)\n",
    "                else:  # black\n",
    "                    fill_val = 0\n",
    "                arr[masks] = fill_val\n",
    "                img_masked = Image.fromarray(arr)\n",
    "\n",
    "            dst = out_root / src_path.relative_to(in_root)\n",
    "            dst.parent.mkdir(parents=True, exist_ok=True)\n",
    "            img_masked.save(dst)\n"
   ]
  },
  {
   "cell_type": "code",
   "execution_count": 39,
   "id": "7e0ba2e7-2c2b-47a0-a524-d7c51315b1e4",
   "metadata": {},
   "outputs": [
    {
     "name": "stdout",
     "output_type": "stream",
     "text": [
      "23795 frame(s) found → processing in batches of 8\n"
     ]
    },
    {
     "data": {
      "application/vnd.jupyter.widget-view+json": {
       "model_id": "e3205246a6e24388adb4444300bd313d",
       "version_major": 2,
       "version_minor": 0
      },
      "text/plain": [
       "  0%|          | 0/2975 [00:00<?, ?it/s]"
      ]
     },
     "metadata": {},
     "output_type": "display_data"
    },
    {
     "ename": "KeyboardInterrupt",
     "evalue": "",
     "output_type": "error",
     "traceback": [
      "\u001b[0;31m---------------------------------------------------------------------------\u001b[0m",
      "\u001b[0;31mKeyboardInterrupt\u001b[0m                         Traceback (most recent call last)",
      "Cell \u001b[0;32mIn[39], line 4\u001b[0m\n\u001b[1;32m      1\u001b[0m in_root  \u001b[38;5;241m=\u001b[39m \u001b[38;5;124m\"\u001b[39m\u001b[38;5;124mdatasets/UCF-101-JPG/Archery/\u001b[39m\u001b[38;5;124m\"\u001b[39m            \u001b[38;5;66;03m# e.g. \".../train_frames\"\u001b[39;00m\n\u001b[1;32m      2\u001b[0m out_root \u001b[38;5;241m=\u001b[39m \u001b[38;5;124m\"\u001b[39m\u001b[38;5;124mmasking/\u001b[39m\u001b[38;5;124m\"\u001b[39m          \u001b[38;5;66;03m# e.g. \".../train_frames_masked\"\u001b[39;00m\n\u001b[0;32m----> 4\u001b[0m \u001b[43mmask_folder_batch\u001b[49m\u001b[43m(\u001b[49m\n\u001b[1;32m      5\u001b[0m \u001b[43m    \u001b[49m\u001b[43min_root\u001b[49m\u001b[43m,\u001b[49m\n\u001b[1;32m      6\u001b[0m \u001b[43m    \u001b[49m\u001b[43mout_root\u001b[49m\u001b[43m,\u001b[49m\n\u001b[1;32m      7\u001b[0m \u001b[43m    \u001b[49m\u001b[43mbatch_size\u001b[49m\u001b[43m \u001b[49m\u001b[38;5;241;43m=\u001b[39;49m\u001b[43m \u001b[49m\u001b[38;5;241;43m8\u001b[39;49m\u001b[43m,\u001b[49m\u001b[43m     \u001b[49m\u001b[38;5;66;43;03m# tune for your GPU\u001b[39;49;00m\n\u001b[1;32m      8\u001b[0m \u001b[43m    \u001b[49m\u001b[43mscore_thresh\u001b[49m\u001b[43m \u001b[49m\u001b[38;5;241;43m=\u001b[39;49m\u001b[43m \u001b[49m\u001b[38;5;241;43m0.55\u001b[39;49m\n\u001b[1;32m      9\u001b[0m \u001b[43m)\u001b[49m\n",
      "Cell \u001b[0;32mIn[38], line 43\u001b[0m, in \u001b[0;36mmask_folder_batch\u001b[0;34m(in_root, out_root, ext, score_thresh, batch_size, recursive, clear_out, fill_mode)\u001b[0m\n\u001b[1;32m     41\u001b[0m \u001b[38;5;66;03m# -------- 2. forward pass -------------------------------------------\u001b[39;00m\n\u001b[1;32m     42\u001b[0m \u001b[38;5;28;01mwith\u001b[39;00m torch\u001b[38;5;241m.\u001b[39minference_mode():\n\u001b[0;32m---> 43\u001b[0m     outs \u001b[38;5;241m=\u001b[39m \u001b[43mmodel\u001b[49m\u001b[43m(\u001b[49m\u001b[43mtensor_cat\u001b[49m\u001b[43m)\u001b[49m\n\u001b[1;32m     45\u001b[0m \u001b[38;5;66;03m# -------- 3. post-process each frame in the batch -------------------\u001b[39;00m\n\u001b[1;32m     46\u001b[0m \u001b[38;5;28;01mfor\u001b[39;00m src_path, img, out \u001b[38;5;129;01min\u001b[39;00m \u001b[38;5;28mzip\u001b[39m(batch_paths, imgs_pil, outs):\n",
      "File \u001b[0;32m/opt/conda/lib/python3.10/site-packages/torch/nn/modules/module.py:1194\u001b[0m, in \u001b[0;36mModule._call_impl\u001b[0;34m(self, *input, **kwargs)\u001b[0m\n\u001b[1;32m   1190\u001b[0m \u001b[38;5;66;03m# If we don't have any hooks, we want to skip the rest of the logic in\u001b[39;00m\n\u001b[1;32m   1191\u001b[0m \u001b[38;5;66;03m# this function, and just call forward.\u001b[39;00m\n\u001b[1;32m   1192\u001b[0m \u001b[38;5;28;01mif\u001b[39;00m \u001b[38;5;129;01mnot\u001b[39;00m (\u001b[38;5;28mself\u001b[39m\u001b[38;5;241m.\u001b[39m_backward_hooks \u001b[38;5;129;01mor\u001b[39;00m \u001b[38;5;28mself\u001b[39m\u001b[38;5;241m.\u001b[39m_forward_hooks \u001b[38;5;129;01mor\u001b[39;00m \u001b[38;5;28mself\u001b[39m\u001b[38;5;241m.\u001b[39m_forward_pre_hooks \u001b[38;5;129;01mor\u001b[39;00m _global_backward_hooks\n\u001b[1;32m   1193\u001b[0m         \u001b[38;5;129;01mor\u001b[39;00m _global_forward_hooks \u001b[38;5;129;01mor\u001b[39;00m _global_forward_pre_hooks):\n\u001b[0;32m-> 1194\u001b[0m     \u001b[38;5;28;01mreturn\u001b[39;00m \u001b[43mforward_call\u001b[49m\u001b[43m(\u001b[49m\u001b[38;5;241;43m*\u001b[39;49m\u001b[38;5;28;43minput\u001b[39;49m\u001b[43m,\u001b[49m\u001b[43m \u001b[49m\u001b[38;5;241;43m*\u001b[39;49m\u001b[38;5;241;43m*\u001b[39;49m\u001b[43mkwargs\u001b[49m\u001b[43m)\u001b[49m\n\u001b[1;32m   1195\u001b[0m \u001b[38;5;66;03m# Do not call functions when jit is used\u001b[39;00m\n\u001b[1;32m   1196\u001b[0m full_backward_hooks, non_full_backward_hooks \u001b[38;5;241m=\u001b[39m [], []\n",
      "File \u001b[0;32m/opt/conda/lib/python3.10/site-packages/torchvision/models/detection/generalized_rcnn.py:104\u001b[0m, in \u001b[0;36mGeneralizedRCNN.forward\u001b[0;34m(self, images, targets)\u001b[0m\n\u001b[1;32m    102\u001b[0m \u001b[38;5;28;01mif\u001b[39;00m \u001b[38;5;28misinstance\u001b[39m(features, torch\u001b[38;5;241m.\u001b[39mTensor):\n\u001b[1;32m    103\u001b[0m     features \u001b[38;5;241m=\u001b[39m OrderedDict([(\u001b[38;5;124m\"\u001b[39m\u001b[38;5;124m0\u001b[39m\u001b[38;5;124m\"\u001b[39m, features)])\n\u001b[0;32m--> 104\u001b[0m proposals, proposal_losses \u001b[38;5;241m=\u001b[39m \u001b[38;5;28;43mself\u001b[39;49m\u001b[38;5;241;43m.\u001b[39;49m\u001b[43mrpn\u001b[49m\u001b[43m(\u001b[49m\u001b[43mimages\u001b[49m\u001b[43m,\u001b[49m\u001b[43m \u001b[49m\u001b[43mfeatures\u001b[49m\u001b[43m,\u001b[49m\u001b[43m \u001b[49m\u001b[43mtargets\u001b[49m\u001b[43m)\u001b[49m\n\u001b[1;32m    105\u001b[0m detections, detector_losses \u001b[38;5;241m=\u001b[39m \u001b[38;5;28mself\u001b[39m\u001b[38;5;241m.\u001b[39mroi_heads(features, proposals, images\u001b[38;5;241m.\u001b[39mimage_sizes, targets)\n\u001b[1;32m    106\u001b[0m detections \u001b[38;5;241m=\u001b[39m \u001b[38;5;28mself\u001b[39m\u001b[38;5;241m.\u001b[39mtransform\u001b[38;5;241m.\u001b[39mpostprocess(detections, images\u001b[38;5;241m.\u001b[39mimage_sizes, original_image_sizes)  \u001b[38;5;66;03m# type: ignore[operator]\u001b[39;00m\n",
      "File \u001b[0;32m/opt/conda/lib/python3.10/site-packages/torch/nn/modules/module.py:1194\u001b[0m, in \u001b[0;36mModule._call_impl\u001b[0;34m(self, *input, **kwargs)\u001b[0m\n\u001b[1;32m   1190\u001b[0m \u001b[38;5;66;03m# If we don't have any hooks, we want to skip the rest of the logic in\u001b[39;00m\n\u001b[1;32m   1191\u001b[0m \u001b[38;5;66;03m# this function, and just call forward.\u001b[39;00m\n\u001b[1;32m   1192\u001b[0m \u001b[38;5;28;01mif\u001b[39;00m \u001b[38;5;129;01mnot\u001b[39;00m (\u001b[38;5;28mself\u001b[39m\u001b[38;5;241m.\u001b[39m_backward_hooks \u001b[38;5;129;01mor\u001b[39;00m \u001b[38;5;28mself\u001b[39m\u001b[38;5;241m.\u001b[39m_forward_hooks \u001b[38;5;129;01mor\u001b[39;00m \u001b[38;5;28mself\u001b[39m\u001b[38;5;241m.\u001b[39m_forward_pre_hooks \u001b[38;5;129;01mor\u001b[39;00m _global_backward_hooks\n\u001b[1;32m   1193\u001b[0m         \u001b[38;5;129;01mor\u001b[39;00m _global_forward_hooks \u001b[38;5;129;01mor\u001b[39;00m _global_forward_pre_hooks):\n\u001b[0;32m-> 1194\u001b[0m     \u001b[38;5;28;01mreturn\u001b[39;00m \u001b[43mforward_call\u001b[49m\u001b[43m(\u001b[49m\u001b[38;5;241;43m*\u001b[39;49m\u001b[38;5;28;43minput\u001b[39;49m\u001b[43m,\u001b[49m\u001b[43m \u001b[49m\u001b[38;5;241;43m*\u001b[39;49m\u001b[38;5;241;43m*\u001b[39;49m\u001b[43mkwargs\u001b[49m\u001b[43m)\u001b[49m\n\u001b[1;32m   1195\u001b[0m \u001b[38;5;66;03m# Do not call functions when jit is used\u001b[39;00m\n\u001b[1;32m   1196\u001b[0m full_backward_hooks, non_full_backward_hooks \u001b[38;5;241m=\u001b[39m [], []\n",
      "File \u001b[0;32m/opt/conda/lib/python3.10/site-packages/torchvision/models/detection/rpn.py:370\u001b[0m, in \u001b[0;36mRegionProposalNetwork.forward\u001b[0;34m(self, images, features, targets)\u001b[0m\n\u001b[1;32m    366\u001b[0m objectness, pred_bbox_deltas \u001b[38;5;241m=\u001b[39m concat_box_prediction_layers(objectness, pred_bbox_deltas)\n\u001b[1;32m    367\u001b[0m \u001b[38;5;66;03m# apply pred_bbox_deltas to anchors to obtain the decoded proposals\u001b[39;00m\n\u001b[1;32m    368\u001b[0m \u001b[38;5;66;03m# note that we detach the deltas because Faster R-CNN do not backprop through\u001b[39;00m\n\u001b[1;32m    369\u001b[0m \u001b[38;5;66;03m# the proposals\u001b[39;00m\n\u001b[0;32m--> 370\u001b[0m proposals \u001b[38;5;241m=\u001b[39m \u001b[38;5;28;43mself\u001b[39;49m\u001b[38;5;241;43m.\u001b[39;49m\u001b[43mbox_coder\u001b[49m\u001b[38;5;241;43m.\u001b[39;49m\u001b[43mdecode\u001b[49m\u001b[43m(\u001b[49m\u001b[43mpred_bbox_deltas\u001b[49m\u001b[38;5;241;43m.\u001b[39;49m\u001b[43mdetach\u001b[49m\u001b[43m(\u001b[49m\u001b[43m)\u001b[49m\u001b[43m,\u001b[49m\u001b[43m \u001b[49m\u001b[43manchors\u001b[49m\u001b[43m)\u001b[49m\n\u001b[1;32m    371\u001b[0m proposals \u001b[38;5;241m=\u001b[39m proposals\u001b[38;5;241m.\u001b[39mview(num_images, \u001b[38;5;241m-\u001b[39m\u001b[38;5;241m1\u001b[39m, \u001b[38;5;241m4\u001b[39m)\n\u001b[1;32m    372\u001b[0m boxes, scores \u001b[38;5;241m=\u001b[39m \u001b[38;5;28mself\u001b[39m\u001b[38;5;241m.\u001b[39mfilter_proposals(proposals, objectness, images\u001b[38;5;241m.\u001b[39mimage_sizes, num_anchors_per_level)\n",
      "File \u001b[0;32m/opt/conda/lib/python3.10/site-packages/torchvision/models/detection/_utils.py:178\u001b[0m, in \u001b[0;36mBoxCoder.decode\u001b[0;34m(self, rel_codes, boxes)\u001b[0m\n\u001b[1;32m    176\u001b[0m \u001b[38;5;28;01mif\u001b[39;00m box_sum \u001b[38;5;241m>\u001b[39m \u001b[38;5;241m0\u001b[39m:\n\u001b[1;32m    177\u001b[0m     rel_codes \u001b[38;5;241m=\u001b[39m rel_codes\u001b[38;5;241m.\u001b[39mreshape(box_sum, \u001b[38;5;241m-\u001b[39m\u001b[38;5;241m1\u001b[39m)\n\u001b[0;32m--> 178\u001b[0m pred_boxes \u001b[38;5;241m=\u001b[39m \u001b[38;5;28;43mself\u001b[39;49m\u001b[38;5;241;43m.\u001b[39;49m\u001b[43mdecode_single\u001b[49m\u001b[43m(\u001b[49m\u001b[43mrel_codes\u001b[49m\u001b[43m,\u001b[49m\u001b[43m \u001b[49m\u001b[43mconcat_boxes\u001b[49m\u001b[43m)\u001b[49m\n\u001b[1;32m    179\u001b[0m \u001b[38;5;28;01mif\u001b[39;00m box_sum \u001b[38;5;241m>\u001b[39m \u001b[38;5;241m0\u001b[39m:\n\u001b[1;32m    180\u001b[0m     pred_boxes \u001b[38;5;241m=\u001b[39m pred_boxes\u001b[38;5;241m.\u001b[39mreshape(box_sum, \u001b[38;5;241m-\u001b[39m\u001b[38;5;241m1\u001b[39m, \u001b[38;5;241m4\u001b[39m)\n",
      "File \u001b[0;32m/opt/conda/lib/python3.10/site-packages/torchvision/models/detection/_utils.py:216\u001b[0m, in \u001b[0;36mBoxCoder.decode_single\u001b[0;34m(self, rel_codes, boxes)\u001b[0m\n\u001b[1;32m    213\u001b[0m pred_h \u001b[38;5;241m=\u001b[39m torch\u001b[38;5;241m.\u001b[39mexp(dh) \u001b[38;5;241m*\u001b[39m heights[:, \u001b[38;5;28;01mNone\u001b[39;00m]\n\u001b[1;32m    215\u001b[0m \u001b[38;5;66;03m# Distance from center to box's corner.\u001b[39;00m\n\u001b[0;32m--> 216\u001b[0m c_to_c_h \u001b[38;5;241m=\u001b[39m \u001b[43mtorch\u001b[49m\u001b[38;5;241;43m.\u001b[39;49m\u001b[43mtensor\u001b[49m\u001b[43m(\u001b[49m\u001b[38;5;241;43m0.5\u001b[39;49m\u001b[43m,\u001b[49m\u001b[43m \u001b[49m\u001b[43mdtype\u001b[49m\u001b[38;5;241;43m=\u001b[39;49m\u001b[43mpred_ctr_y\u001b[49m\u001b[38;5;241;43m.\u001b[39;49m\u001b[43mdtype\u001b[49m\u001b[43m,\u001b[49m\u001b[43m \u001b[49m\u001b[43mdevice\u001b[49m\u001b[38;5;241;43m=\u001b[39;49m\u001b[43mpred_h\u001b[49m\u001b[38;5;241;43m.\u001b[39;49m\u001b[43mdevice\u001b[49m\u001b[43m)\u001b[49m \u001b[38;5;241m*\u001b[39m pred_h\n\u001b[1;32m    217\u001b[0m c_to_c_w \u001b[38;5;241m=\u001b[39m torch\u001b[38;5;241m.\u001b[39mtensor(\u001b[38;5;241m0.5\u001b[39m, dtype\u001b[38;5;241m=\u001b[39mpred_ctr_x\u001b[38;5;241m.\u001b[39mdtype, device\u001b[38;5;241m=\u001b[39mpred_w\u001b[38;5;241m.\u001b[39mdevice) \u001b[38;5;241m*\u001b[39m pred_w\n\u001b[1;32m    219\u001b[0m pred_boxes1 \u001b[38;5;241m=\u001b[39m pred_ctr_x \u001b[38;5;241m-\u001b[39m c_to_c_w\n",
      "\u001b[0;31mKeyboardInterrupt\u001b[0m: "
     ]
    }
   ],
   "source": [
    "in_root  = \"datasets/UCF-101-JPG/Archery/\"            # e.g. \".../train_frames\"\n",
    "out_root = \"masking/\"          # e.g. \".../train_frames_masked\"\n",
    "\n",
    "mask_folder_batch(\n",
    "    in_root,\n",
    "    out_root,\n",
    "    batch_size = 8,     # tune for your GPU\n",
    "    score_thresh = 0.55\n",
    ")"
   ]
  },
  {
   "cell_type": "code",
   "execution_count": 3,
   "id": "9d8ca6ab-5570-4c56-a404-2b72289f48e7",
   "metadata": {},
   "outputs": [],
   "source": [
    "# ── 0. Setup ────────────────────────────────────────────────────────────────\n",
    "import torch, torchvision, time, shutil, queue, threading\n",
    "from torchvision.io import read_file, decode_jpeg, write_jpeg\n",
    "from pathlib import Path\n",
    "from torch.utils.data import Dataset, DataLoader\n",
    "from tqdm.auto import tqdm\n",
    "\n",
    "device = \"cuda\" if torch.cuda.is_available() else \"cpu\"\n",
    "\n",
    "# ── 1. Fast JPEG -> Tensor on the GPU (nvJPEG) ──────────────────────────────\n",
    "class FrameDS(Dataset):\n",
    "    def __init__(self, root, ext=\".jpg\"):\n",
    "        self.paths = sorted(Path(root).rglob(f\"*{ext}\"))\n",
    "    def __len__(self): return len(self.paths)\n",
    "    def __getitem__(self, idx):\n",
    "        p   = self.paths[idx]\n",
    "        buf = read_file(str(p))                                   # raw bytes\n",
    "        img = decode_jpeg(buf, device=device).float() / 255       # C×H×W\n",
    "        return img, str(p)\n",
    "\n",
    "# ── 2. Mask-R-CNN (person only) in half precision ──────────────────────────\n",
    "model = torchvision.models.detection.maskrcnn_resnet50_fpn(weights=\"DEFAULT\")\n",
    "model.to(device).eval()\n",
    "\n",
    "@torch.inference_mode()\n",
    "def mask_batch(batch_imgs, score=0.5):\n",
    "    with torch.cuda.amp.autocast(dtype=torch.float16):\n",
    "        outs = model(batch_imgs)\n",
    "\n",
    "    rect_masks = []\n",
    "    for out, im in zip(outs, batch_imgs):\n",
    "        keep = (out[\"labels\"] == 1) & (out[\"scores\"] > score)\n",
    "        if keep.sum() == 0:\n",
    "            rect_masks.append(None)\n",
    "            continue\n",
    "\n",
    "        H, W = im.shape[-2:]\n",
    "        m = torch.zeros((H, W), dtype=torch.bool, device=im.device)\n",
    "        for box in out[\"boxes\"][keep]:\n",
    "            x1, y1, x2, y2 = box.round().to(torch.long)\n",
    "            x1, y1 = x1.clamp(0, W - 1), y1.clamp(0, H - 1)\n",
    "            x2, y2 = x2.clamp(0, W - 1), y2.clamp(0, H - 1)\n",
    "            m[y1:y2 + 1, x1:x2 + 1] = True\n",
    "        rect_masks.append(m)\n",
    "    return rect_masks\n",
    "\n",
    "# ── 3. Async disk writer (so saving doesn’t block the GPU) ─────────────────\n",
    "def writer_thread(q, out_root):\n",
    "    while True:\n",
    "        item = q.get()\n",
    "        if item is None: break\n",
    "        img, src_path = item\n",
    "        dst = out_root / Path(src_path).relative_to(in_root)\n",
    "        dst.parent.mkdir(parents=True, exist_ok=True)\n",
    "        # uint8 tensor expected by write_jpeg\n",
    "        write_jpeg((img.clamp(0,1)*255).byte().cpu(), str(dst), quality=95)\n",
    "        q.task_done()\n",
    "\n",
    "# ── 4. One-liner “train-loop” that ties it all together ────────────────────\n",
    "def mask_folder_gpu(in_root, out_root,\n",
    "                    batch_size=8, workers=4, score=0.5):\n",
    "\n",
    "    ds  = FrameDS(in_root)\n",
    "    dl  = DataLoader(ds, batch_size=batch_size, num_workers=workers,\n",
    "                     pin_memory=False, shuffle=False, drop_last=False)\n",
    "\n",
    "    if out_root.exists(): shutil.rmtree(out_root)\n",
    "    q = queue.Queue(maxsize=32)\n",
    "    th = threading.Thread(target=writer_thread, args=(q, out_root), daemon=True)\n",
    "    th.start()\n",
    "\n",
    "    t0 = time.time()\n",
    "    for imgs, paths in tqdm(dl, total=len(dl)):\n",
    "        imgs = imgs.to(device, non_blocking=True)\n",
    "        masks = mask_batch(list(imgs), score)\n",
    "\n",
    "        # fill on GPU\n",
    "        for i, m in enumerate(masks):\n",
    "            if m is not None:\n",
    "                mean        = imgs[i].mean(dim=(1, 2), keepdim=True)   # (3,1,1)\n",
    "                mean_pixel  = mean.view(3)        # (3,)\n",
    "                mean_pixel  = mean_pixel[:, None] # (3,1)  ← add axis so (3,1) → (3,N)\n",
    "                imgs[i][:, m] = mean_pixel        # OK\n",
    "        # enqueue for compression + write\n",
    "        for im, p in zip(imgs, paths): q.put((im, p))\n",
    "\n",
    "    q.join(); q.put(None); th.join()\n",
    "    print(f\"Done in {(time.time()-t0):.1f}s → {len(ds)/(time.time()-t0):.1f} fps\")"
   ]
  },
  {
   "cell_type": "code",
   "execution_count": 5,
   "id": "c527cc3e-7eb1-42c6-88fe-d8d78b97858a",
   "metadata": {},
   "outputs": [
    {
     "data": {
      "application/vnd.jupyter.widget-view+json": {
       "model_id": "419a9d865ed549f6acb0dd4853c8cb57",
       "version_major": 2,
       "version_minor": 0
      },
      "text/plain": [
       "  0%|          | 0/2975 [00:00<?, ?it/s]"
      ]
     },
     "metadata": {},
     "output_type": "display_data"
    },
    {
     "name": "stdout",
     "output_type": "stream",
     "text": [
      "Done in 647.5s → 36.8 fps\n"
     ]
    }
   ],
   "source": [
    "# ── 5. Run it ───────────────────────────────────────────────────────────────\n",
    "in_root  = Path(\"datasets/UCF-101-JPG/Archery/\")            # e.g. \".../train_frames\"\n",
    "out_root = Path(\"masking/\")          # e.g. \".../train_frames_masked\"\n",
    "\n",
    "mask_folder_gpu(in_root, \n",
    "                out_root,\n",
    "                batch_size=8,   # ↑ until you hit ~90 % GPU util or OOM\n",
    "                workers=0,      # CPU threads that prefetch & decode bytes\n",
    "                score=0.2)"
   ]
  },
  {
   "cell_type": "markdown",
   "id": "9fd75842-879d-45ae-87fa-55fd59dc880e",
   "metadata": {},
   "source": [
    "## Numpy mask"
   ]
  },
  {
   "cell_type": "code",
   "execution_count": 1,
   "id": "b161fbe7-f432-4e4f-94a1-4fb2ff043351",
   "metadata": {},
   "outputs": [
    {
     "name": "stderr",
     "output_type": "stream",
     "text": [
      "Downloading: \"https://download.pytorch.org/models/maskrcnn_resnet50_fpn_coco-bf2d0c1e.pth\" to /root/.cache/torch/hub/checkpoints/maskrcnn_resnet50_fpn_coco-bf2d0c1e.pth\n"
     ]
    },
    {
     "data": {
      "application/vnd.jupyter.widget-view+json": {
       "model_id": "e1b69f4b31a04069bb572f185b4333ab",
       "version_major": 2,
       "version_minor": 0
      },
      "text/plain": [
       "  0%|          | 0.00/170M [00:00<?, ?B/s]"
      ]
     },
     "metadata": {},
     "output_type": "display_data"
    },
    {
     "data": {
      "application/vnd.jupyter.widget-view+json": {
       "model_id": "3f1fa33a8e3144d5a021f8c0a7a5ffb9",
       "version_major": 2,
       "version_minor": 0
      },
      "text/plain": [
       "class:   0%|          | 0/102 [00:00<?, ?it/s]"
      ]
     },
     "metadata": {},
     "output_type": "display_data"
    },
    {
     "data": {
      "application/vnd.jupyter.widget-view+json": {
       "model_id": "952b7fa20d6b46a6929f12cd75a6fe65",
       "version_major": 2,
       "version_minor": 0
      },
      "text/plain": [
       ".ipynb_checkpoints: 0it [00:00, ?it/s]"
      ]
     },
     "metadata": {},
     "output_type": "display_data"
    },
    {
     "data": {
      "application/vnd.jupyter.widget-view+json": {
       "model_id": "311867ec743640d4a4b1aaab3ce23df7",
       "version_major": 2,
       "version_minor": 0
      },
      "text/plain": [
       "ApplyEyeMakeup:   0%|          | 0/145 [00:00<?, ?it/s]"
      ]
     },
     "metadata": {},
     "output_type": "display_data"
    },
    {
     "data": {
      "application/vnd.jupyter.widget-view+json": {
       "model_id": "00fec2b72864426b8001e8475bd17bab",
       "version_major": 2,
       "version_minor": 0
      },
      "text/plain": [
       "ApplyLipstick:   0%|          | 0/114 [00:00<?, ?it/s]"
      ]
     },
     "metadata": {},
     "output_type": "display_data"
    },
    {
     "data": {
      "application/vnd.jupyter.widget-view+json": {
       "model_id": "b37a7f8d34204cb6b23bdd2baf0c82af",
       "version_major": 2,
       "version_minor": 0
      },
      "text/plain": [
       "Archery:   0%|          | 0/145 [00:00<?, ?it/s]"
      ]
     },
     "metadata": {},
     "output_type": "display_data"
    },
    {
     "data": {
      "application/vnd.jupyter.widget-view+json": {
       "model_id": "1b8ad983d91e40c4bf6cb5123d21d74a",
       "version_major": 2,
       "version_minor": 0
      },
      "text/plain": [
       "BabyCrawling:   0%|          | 0/132 [00:00<?, ?it/s]"
      ]
     },
     "metadata": {},
     "output_type": "display_data"
    },
    {
     "data": {
      "application/vnd.jupyter.widget-view+json": {
       "model_id": "d770769901544dc6a9df57fa17253086",
       "version_major": 2,
       "version_minor": 0
      },
      "text/plain": [
       "BalanceBeam:   0%|          | 0/108 [00:00<?, ?it/s]"
      ]
     },
     "metadata": {},
     "output_type": "display_data"
    },
    {
     "data": {
      "application/vnd.jupyter.widget-view+json": {
       "model_id": "50fc148b7eac4c5fa9edd4b27e49a6b2",
       "version_major": 2,
       "version_minor": 0
      },
      "text/plain": [
       "BandMarching:   0%|          | 0/155 [00:00<?, ?it/s]"
      ]
     },
     "metadata": {},
     "output_type": "display_data"
    },
    {
     "data": {
      "application/vnd.jupyter.widget-view+json": {
       "model_id": "b9edda24273a41609ba262557b3ccca0",
       "version_major": 2,
       "version_minor": 0
      },
      "text/plain": [
       "BaseballPitch:   0%|          | 0/150 [00:00<?, ?it/s]"
      ]
     },
     "metadata": {},
     "output_type": "display_data"
    },
    {
     "data": {
      "application/vnd.jupyter.widget-view+json": {
       "model_id": "6dc3325ac5604ee488477655332829ae",
       "version_major": 2,
       "version_minor": 0
      },
      "text/plain": [
       "Basketball:   0%|          | 0/134 [00:00<?, ?it/s]"
      ]
     },
     "metadata": {},
     "output_type": "display_data"
    },
    {
     "data": {
      "application/vnd.jupyter.widget-view+json": {
       "model_id": "4a1a26be0a7b4854af6b4a850f0b81f8",
       "version_major": 2,
       "version_minor": 0
      },
      "text/plain": [
       "BasketballDunk:   0%|          | 0/131 [00:00<?, ?it/s]"
      ]
     },
     "metadata": {},
     "output_type": "display_data"
    },
    {
     "data": {
      "application/vnd.jupyter.widget-view+json": {
       "model_id": "055f3628ad4849cdb6b94149fdb55610",
       "version_major": 2,
       "version_minor": 0
      },
      "text/plain": [
       "BenchPress:   0%|          | 0/160 [00:00<?, ?it/s]"
      ]
     },
     "metadata": {},
     "output_type": "display_data"
    },
    {
     "data": {
      "application/vnd.jupyter.widget-view+json": {
       "model_id": "7f95bd9d29874039ae5ba0a98f3c7cbf",
       "version_major": 2,
       "version_minor": 0
      },
      "text/plain": [
       "Biking:   0%|          | 0/134 [00:00<?, ?it/s]"
      ]
     },
     "metadata": {},
     "output_type": "display_data"
    },
    {
     "data": {
      "application/vnd.jupyter.widget-view+json": {
       "model_id": "9a103e129ed5485484e73dd35981e9b0",
       "version_major": 2,
       "version_minor": 0
      },
      "text/plain": [
       "Billiards:   0%|          | 0/150 [00:00<?, ?it/s]"
      ]
     },
     "metadata": {},
     "output_type": "display_data"
    },
    {
     "data": {
      "application/vnd.jupyter.widget-view+json": {
       "model_id": "c02cbd7066514ef8ab3622a423d4188b",
       "version_major": 2,
       "version_minor": 0
      },
      "text/plain": [
       "BlowDryHair:   0%|          | 0/131 [00:00<?, ?it/s]"
      ]
     },
     "metadata": {},
     "output_type": "display_data"
    },
    {
     "data": {
      "application/vnd.jupyter.widget-view+json": {
       "model_id": "dd552cc280204abaa8be29faec152985",
       "version_major": 2,
       "version_minor": 0
      },
      "text/plain": [
       "BlowingCandles:   0%|          | 0/109 [00:00<?, ?it/s]"
      ]
     },
     "metadata": {},
     "output_type": "display_data"
    },
    {
     "data": {
      "application/vnd.jupyter.widget-view+json": {
       "model_id": "5a99946d5cb441c08e2c2765c4f4df4f",
       "version_major": 2,
       "version_minor": 0
      },
      "text/plain": [
       "BodyWeightSquats:   0%|          | 0/112 [00:00<?, ?it/s]"
      ]
     },
     "metadata": {},
     "output_type": "display_data"
    },
    {
     "data": {
      "application/vnd.jupyter.widget-view+json": {
       "model_id": "d40b1b3f7280437aad8f2c9582e6abdd",
       "version_major": 2,
       "version_minor": 0
      },
      "text/plain": [
       "Bowling:   0%|          | 0/155 [00:00<?, ?it/s]"
      ]
     },
     "metadata": {},
     "output_type": "display_data"
    },
    {
     "data": {
      "application/vnd.jupyter.widget-view+json": {
       "model_id": "e32aa5b473e940b98d730c2a062c91cf",
       "version_major": 2,
       "version_minor": 0
      },
      "text/plain": [
       "BoxingPunchingBag:   0%|          | 0/163 [00:00<?, ?it/s]"
      ]
     },
     "metadata": {},
     "output_type": "display_data"
    },
    {
     "data": {
      "application/vnd.jupyter.widget-view+json": {
       "model_id": "5f979a13ada74b9982e62a16e25c7425",
       "version_major": 2,
       "version_minor": 0
      },
      "text/plain": [
       "BoxingSpeedBag:   0%|          | 0/134 [00:00<?, ?it/s]"
      ]
     },
     "metadata": {},
     "output_type": "display_data"
    },
    {
     "data": {
      "application/vnd.jupyter.widget-view+json": {
       "model_id": "fec2ff457c01442b934e2a3251401cc7",
       "version_major": 2,
       "version_minor": 0
      },
      "text/plain": [
       "BreastStroke:   0%|          | 0/101 [00:00<?, ?it/s]"
      ]
     },
     "metadata": {},
     "output_type": "display_data"
    },
    {
     "data": {
      "application/vnd.jupyter.widget-view+json": {
       "model_id": "47e4c6d24d8a468ca89b722da44d44bd",
       "version_major": 2,
       "version_minor": 0
      },
      "text/plain": [
       "BrushingTeeth:   0%|          | 0/131 [00:00<?, ?it/s]"
      ]
     },
     "metadata": {},
     "output_type": "display_data"
    },
    {
     "data": {
      "application/vnd.jupyter.widget-view+json": {
       "model_id": "3749bf17ced64aa09c30a3f3df66e36b",
       "version_major": 2,
       "version_minor": 0
      },
      "text/plain": [
       "CleanAndJerk:   0%|          | 0/112 [00:00<?, ?it/s]"
      ]
     },
     "metadata": {},
     "output_type": "display_data"
    },
    {
     "data": {
      "application/vnd.jupyter.widget-view+json": {
       "model_id": "234119e69a2c4b53b86f114ec5078619",
       "version_major": 2,
       "version_minor": 0
      },
      "text/plain": [
       "CliffDiving:   0%|          | 0/138 [00:00<?, ?it/s]"
      ]
     },
     "metadata": {},
     "output_type": "display_data"
    },
    {
     "data": {
      "application/vnd.jupyter.widget-view+json": {
       "model_id": "64822e00ff7d49788092fcfba22ea2d1",
       "version_major": 2,
       "version_minor": 0
      },
      "text/plain": [
       "CricketBowling:   0%|          | 0/139 [00:00<?, ?it/s]"
      ]
     },
     "metadata": {},
     "output_type": "display_data"
    },
    {
     "data": {
      "application/vnd.jupyter.widget-view+json": {
       "model_id": "d71e719b2f804a2289dcf9adb0307dc1",
       "version_major": 2,
       "version_minor": 0
      },
      "text/plain": [
       "CricketShot:   0%|          | 0/167 [00:00<?, ?it/s]"
      ]
     },
     "metadata": {},
     "output_type": "display_data"
    },
    {
     "data": {
      "application/vnd.jupyter.widget-view+json": {
       "model_id": "57831549309c492f83e88a680e0e3852",
       "version_major": 2,
       "version_minor": 0
      },
      "text/plain": [
       "CuttingInKitchen:   0%|          | 0/110 [00:00<?, ?it/s]"
      ]
     },
     "metadata": {},
     "output_type": "display_data"
    },
    {
     "data": {
      "application/vnd.jupyter.widget-view+json": {
       "model_id": "cc9abfce1ad8471fba12d6d65446a9a1",
       "version_major": 2,
       "version_minor": 0
      },
      "text/plain": [
       "Diving:   0%|          | 0/150 [00:00<?, ?it/s]"
      ]
     },
     "metadata": {},
     "output_type": "display_data"
    },
    {
     "data": {
      "application/vnd.jupyter.widget-view+json": {
       "model_id": "03e6bb49faf34fbb9803fab93fa3a954",
       "version_major": 2,
       "version_minor": 0
      },
      "text/plain": [
       "Drumming:   0%|          | 0/161 [00:00<?, ?it/s]"
      ]
     },
     "metadata": {},
     "output_type": "display_data"
    },
    {
     "data": {
      "application/vnd.jupyter.widget-view+json": {
       "model_id": "e05e92789f674760b0c2f07aa40cc7d9",
       "version_major": 2,
       "version_minor": 0
      },
      "text/plain": [
       "Fencing:   0%|          | 0/111 [00:00<?, ?it/s]"
      ]
     },
     "metadata": {},
     "output_type": "display_data"
    },
    {
     "data": {
      "application/vnd.jupyter.widget-view+json": {
       "model_id": "4cda86bb7ec5444e97e81ad319d93771",
       "version_major": 2,
       "version_minor": 0
      },
      "text/plain": [
       "FieldHockeyPenalty:   0%|          | 0/126 [00:00<?, ?it/s]"
      ]
     },
     "metadata": {},
     "output_type": "display_data"
    },
    {
     "data": {
      "application/vnd.jupyter.widget-view+json": {
       "model_id": "3010b357ed1a4ef09f7ef5b43a8b2380",
       "version_major": 2,
       "version_minor": 0
      },
      "text/plain": [
       "FloorGymnastics:   0%|          | 0/125 [00:00<?, ?it/s]"
      ]
     },
     "metadata": {},
     "output_type": "display_data"
    },
    {
     "data": {
      "application/vnd.jupyter.widget-view+json": {
       "model_id": "8d331894750a4dadb6e70fa00e6992bd",
       "version_major": 2,
       "version_minor": 0
      },
      "text/plain": [
       "FrisbeeCatch:   0%|          | 0/126 [00:00<?, ?it/s]"
      ]
     },
     "metadata": {},
     "output_type": "display_data"
    },
    {
     "data": {
      "application/vnd.jupyter.widget-view+json": {
       "model_id": "bf75a991a5624d2ebe940a7d9a9ae34a",
       "version_major": 2,
       "version_minor": 0
      },
      "text/plain": [
       "FrontCrawl:   0%|          | 0/137 [00:00<?, ?it/s]"
      ]
     },
     "metadata": {},
     "output_type": "display_data"
    },
    {
     "data": {
      "application/vnd.jupyter.widget-view+json": {
       "model_id": "9f877755ad54401aa8def172b399d1e9",
       "version_major": 2,
       "version_minor": 0
      },
      "text/plain": [
       "GolfSwing:   0%|          | 0/139 [00:00<?, ?it/s]"
      ]
     },
     "metadata": {},
     "output_type": "display_data"
    },
    {
     "data": {
      "application/vnd.jupyter.widget-view+json": {
       "model_id": "d15f0258041443fe943b567a5f9b5426",
       "version_major": 2,
       "version_minor": 0
      },
      "text/plain": [
       "Haircut:   0%|          | 0/130 [00:00<?, ?it/s]"
      ]
     },
     "metadata": {},
     "output_type": "display_data"
    },
    {
     "data": {
      "application/vnd.jupyter.widget-view+json": {
       "model_id": "948bfc4b99394667b4d381f87f0d46ef",
       "version_major": 2,
       "version_minor": 0
      },
      "text/plain": [
       "HammerThrow:   0%|          | 0/150 [00:00<?, ?it/s]"
      ]
     },
     "metadata": {},
     "output_type": "display_data"
    },
    {
     "data": {
      "application/vnd.jupyter.widget-view+json": {
       "model_id": "ad0fb0d025334b0686684dd3c70e667e",
       "version_major": 2,
       "version_minor": 0
      },
      "text/plain": [
       "Hammering:   0%|          | 0/140 [00:00<?, ?it/s]"
      ]
     },
     "metadata": {},
     "output_type": "display_data"
    },
    {
     "data": {
      "application/vnd.jupyter.widget-view+json": {
       "model_id": "ed1b087e82e14faba0d594d7cc0c8fa5",
       "version_major": 2,
       "version_minor": 0
      },
      "text/plain": [
       "HandstandPushups:   0%|          | 0/128 [00:00<?, ?it/s]"
      ]
     },
     "metadata": {},
     "output_type": "display_data"
    },
    {
     "data": {
      "application/vnd.jupyter.widget-view+json": {
       "model_id": "8f37147f78df4313a235c55baf10c7c6",
       "version_major": 2,
       "version_minor": 0
      },
      "text/plain": [
       "HandstandWalking:   0%|          | 0/111 [00:00<?, ?it/s]"
      ]
     },
     "metadata": {},
     "output_type": "display_data"
    },
    {
     "data": {
      "application/vnd.jupyter.widget-view+json": {
       "model_id": "e8906cada1b34fe89522b6e37a1c9a0a",
       "version_major": 2,
       "version_minor": 0
      },
      "text/plain": [
       "HeadMassage:   0%|          | 0/147 [00:00<?, ?it/s]"
      ]
     },
     "metadata": {},
     "output_type": "display_data"
    },
    {
     "data": {
      "application/vnd.jupyter.widget-view+json": {
       "model_id": "0f339bf75cbc4946a23a54e381d2cfc1",
       "version_major": 2,
       "version_minor": 0
      },
      "text/plain": [
       "HighJump:   0%|          | 0/123 [00:00<?, ?it/s]"
      ]
     },
     "metadata": {},
     "output_type": "display_data"
    },
    {
     "data": {
      "application/vnd.jupyter.widget-view+json": {
       "model_id": "f2d7be6df71f437fa6958d47a9f1d360",
       "version_major": 2,
       "version_minor": 0
      },
      "text/plain": [
       "HorseRace:   0%|          | 0/124 [00:00<?, ?it/s]"
      ]
     },
     "metadata": {},
     "output_type": "display_data"
    },
    {
     "data": {
      "application/vnd.jupyter.widget-view+json": {
       "model_id": "174b47c758f24483ae421f24a8768c66",
       "version_major": 2,
       "version_minor": 0
      },
      "text/plain": [
       "HorseRiding:   0%|          | 0/164 [00:00<?, ?it/s]"
      ]
     },
     "metadata": {},
     "output_type": "display_data"
    },
    {
     "data": {
      "application/vnd.jupyter.widget-view+json": {
       "model_id": "2bf14a403f4b41deb40c60a5b34ca001",
       "version_major": 2,
       "version_minor": 0
      },
      "text/plain": [
       "HulaHoop:   0%|          | 0/125 [00:00<?, ?it/s]"
      ]
     },
     "metadata": {},
     "output_type": "display_data"
    },
    {
     "data": {
      "application/vnd.jupyter.widget-view+json": {
       "model_id": "63319e50440d49768b097d0adcc7514f",
       "version_major": 2,
       "version_minor": 0
      },
      "text/plain": [
       "IceDancing:   0%|          | 0/158 [00:00<?, ?it/s]"
      ]
     },
     "metadata": {},
     "output_type": "display_data"
    },
    {
     "data": {
      "application/vnd.jupyter.widget-view+json": {
       "model_id": "ccfe5a58efd248629d340ac1ee4b851f",
       "version_major": 2,
       "version_minor": 0
      },
      "text/plain": [
       "JavelinThrow:   0%|          | 0/117 [00:00<?, ?it/s]"
      ]
     },
     "metadata": {},
     "output_type": "display_data"
    },
    {
     "data": {
      "application/vnd.jupyter.widget-view+json": {
       "model_id": "35f5392e72014293be373ea020740908",
       "version_major": 2,
       "version_minor": 0
      },
      "text/plain": [
       "JugglingBalls:   0%|          | 0/121 [00:00<?, ?it/s]"
      ]
     },
     "metadata": {},
     "output_type": "display_data"
    },
    {
     "data": {
      "application/vnd.jupyter.widget-view+json": {
       "model_id": "f9360aadcf704216b50af813a0286f3a",
       "version_major": 2,
       "version_minor": 0
      },
      "text/plain": [
       "JumpRope:   0%|          | 0/144 [00:00<?, ?it/s]"
      ]
     },
     "metadata": {},
     "output_type": "display_data"
    },
    {
     "data": {
      "application/vnd.jupyter.widget-view+json": {
       "model_id": "1707f6ca83464802a98a4e5c56ee0b43",
       "version_major": 2,
       "version_minor": 0
      },
      "text/plain": [
       "JumpingJack:   0%|          | 0/123 [00:00<?, ?it/s]"
      ]
     },
     "metadata": {},
     "output_type": "display_data"
    },
    {
     "data": {
      "application/vnd.jupyter.widget-view+json": {
       "model_id": "7e26297bba2f4da28caf2d60e4bdc633",
       "version_major": 2,
       "version_minor": 0
      },
      "text/plain": [
       "Kayaking:   0%|          | 0/141 [00:00<?, ?it/s]"
      ]
     },
     "metadata": {},
     "output_type": "display_data"
    },
    {
     "data": {
      "application/vnd.jupyter.widget-view+json": {
       "model_id": "8ed73ffcf8174e91a8da3c50341fb397",
       "version_major": 2,
       "version_minor": 0
      },
      "text/plain": [
       "Knitting:   0%|          | 0/123 [00:00<?, ?it/s]"
      ]
     },
     "metadata": {},
     "output_type": "display_data"
    },
    {
     "data": {
      "application/vnd.jupyter.widget-view+json": {
       "model_id": "ed55e228d07d4eaa82f04e62f23e1989",
       "version_major": 2,
       "version_minor": 0
      },
      "text/plain": [
       "LongJump:   0%|          | 0/131 [00:00<?, ?it/s]"
      ]
     },
     "metadata": {},
     "output_type": "display_data"
    },
    {
     "data": {
      "application/vnd.jupyter.widget-view+json": {
       "model_id": "c0a802179248491bbb74327a9cd7d996",
       "version_major": 2,
       "version_minor": 0
      },
      "text/plain": [
       "Lunges:   0%|          | 0/127 [00:00<?, ?it/s]"
      ]
     },
     "metadata": {},
     "output_type": "display_data"
    },
    {
     "data": {
      "application/vnd.jupyter.widget-view+json": {
       "model_id": "4314dac095ea46878d31712922f2b614",
       "version_major": 2,
       "version_minor": 0
      },
      "text/plain": [
       "MilitaryParade:   0%|          | 0/125 [00:00<?, ?it/s]"
      ]
     },
     "metadata": {},
     "output_type": "display_data"
    },
    {
     "data": {
      "application/vnd.jupyter.widget-view+json": {
       "model_id": "7418c1bd233b47f58b6f7551523a45d6",
       "version_major": 2,
       "version_minor": 0
      },
      "text/plain": [
       "Mixing:   0%|          | 0/136 [00:00<?, ?it/s]"
      ]
     },
     "metadata": {},
     "output_type": "display_data"
    },
    {
     "data": {
      "application/vnd.jupyter.widget-view+json": {
       "model_id": "75f32cdbfbaa49ef8a934d78300d1497",
       "version_major": 2,
       "version_minor": 0
      },
      "text/plain": [
       "MoppingFloor:   0%|          | 0/110 [00:00<?, ?it/s]"
      ]
     },
     "metadata": {},
     "output_type": "display_data"
    },
    {
     "data": {
      "application/vnd.jupyter.widget-view+json": {
       "model_id": "641dbf321b0b48be897ea3029c4e92be",
       "version_major": 2,
       "version_minor": 0
      },
      "text/plain": [
       "Nunchucks:   0%|          | 0/132 [00:00<?, ?it/s]"
      ]
     },
     "metadata": {},
     "output_type": "display_data"
    },
    {
     "data": {
      "application/vnd.jupyter.widget-view+json": {
       "model_id": "47d9b69503ca4a1f946caf0ae03edcbd",
       "version_major": 2,
       "version_minor": 0
      },
      "text/plain": [
       "ParallelBars:   0%|          | 0/114 [00:00<?, ?it/s]"
      ]
     },
     "metadata": {},
     "output_type": "display_data"
    },
    {
     "data": {
      "application/vnd.jupyter.widget-view+json": {
       "model_id": "fe9fc5d4d0aa4cdcaa945a59839bcbda",
       "version_major": 2,
       "version_minor": 0
      },
      "text/plain": [
       "PizzaTossing:   0%|          | 0/113 [00:00<?, ?it/s]"
      ]
     },
     "metadata": {},
     "output_type": "display_data"
    },
    {
     "data": {
      "application/vnd.jupyter.widget-view+json": {
       "model_id": "0dc662844de749068f867bba19870ace",
       "version_major": 2,
       "version_minor": 0
      },
      "text/plain": [
       "PlayingCello:   0%|          | 0/164 [00:00<?, ?it/s]"
      ]
     },
     "metadata": {},
     "output_type": "display_data"
    },
    {
     "data": {
      "application/vnd.jupyter.widget-view+json": {
       "model_id": "e0e15b7dcea345e297631d930d0d955f",
       "version_major": 2,
       "version_minor": 0
      },
      "text/plain": [
       "PlayingDaf:   0%|          | 0/151 [00:00<?, ?it/s]"
      ]
     },
     "metadata": {},
     "output_type": "display_data"
    },
    {
     "data": {
      "application/vnd.jupyter.widget-view+json": {
       "model_id": "0d14e1b0a5a64784b54d72e288bc1327",
       "version_major": 2,
       "version_minor": 0
      },
      "text/plain": [
       "PlayingDhol:   0%|          | 0/164 [00:00<?, ?it/s]"
      ]
     },
     "metadata": {},
     "output_type": "display_data"
    },
    {
     "data": {
      "application/vnd.jupyter.widget-view+json": {
       "model_id": "3676f239c88e44e4bbd1204e5601c49b",
       "version_major": 2,
       "version_minor": 0
      },
      "text/plain": [
       "PlayingFlute:   0%|          | 0/155 [00:00<?, ?it/s]"
      ]
     },
     "metadata": {},
     "output_type": "display_data"
    },
    {
     "data": {
      "application/vnd.jupyter.widget-view+json": {
       "model_id": "217848776245488ebe4833de57df753a",
       "version_major": 2,
       "version_minor": 0
      },
      "text/plain": [
       "PlayingGuitar:   0%|          | 0/160 [00:00<?, ?it/s]"
      ]
     },
     "metadata": {},
     "output_type": "display_data"
    },
    {
     "data": {
      "application/vnd.jupyter.widget-view+json": {
       "model_id": "8bff0d9885394b8dbccbdda396efde6b",
       "version_major": 2,
       "version_minor": 0
      },
      "text/plain": [
       "PlayingPiano:   0%|          | 0/105 [00:00<?, ?it/s]"
      ]
     },
     "metadata": {},
     "output_type": "display_data"
    },
    {
     "data": {
      "application/vnd.jupyter.widget-view+json": {
       "model_id": "1e68241144684911ba4eecf3c4da6af6",
       "version_major": 2,
       "version_minor": 0
      },
      "text/plain": [
       "PlayingSitar:   0%|          | 0/157 [00:00<?, ?it/s]"
      ]
     },
     "metadata": {},
     "output_type": "display_data"
    },
    {
     "data": {
      "application/vnd.jupyter.widget-view+json": {
       "model_id": "5e1b6f01ade5407fa351022ae54e8634",
       "version_major": 2,
       "version_minor": 0
      },
      "text/plain": [
       "PlayingTabla:   0%|          | 0/111 [00:00<?, ?it/s]"
      ]
     },
     "metadata": {},
     "output_type": "display_data"
    },
    {
     "data": {
      "application/vnd.jupyter.widget-view+json": {
       "model_id": "d07bf9a2e88343788b0f9e268722f620",
       "version_major": 2,
       "version_minor": 0
      },
      "text/plain": [
       "PlayingViolin:   0%|          | 0/100 [00:00<?, ?it/s]"
      ]
     },
     "metadata": {},
     "output_type": "display_data"
    },
    {
     "data": {
      "application/vnd.jupyter.widget-view+json": {
       "model_id": "7966d1622d8e4d379eb953a15dff89cc",
       "version_major": 2,
       "version_minor": 0
      },
      "text/plain": [
       "PoleVault:   0%|          | 0/149 [00:00<?, ?it/s]"
      ]
     },
     "metadata": {},
     "output_type": "display_data"
    },
    {
     "data": {
      "application/vnd.jupyter.widget-view+json": {
       "model_id": "3c8c9456f6a24a209002a09a41358e59",
       "version_major": 2,
       "version_minor": 0
      },
      "text/plain": [
       "PommelHorse:   0%|          | 0/123 [00:00<?, ?it/s]"
      ]
     },
     "metadata": {},
     "output_type": "display_data"
    },
    {
     "data": {
      "application/vnd.jupyter.widget-view+json": {
       "model_id": "4fd9fae698564d77898c14ee992b6ba6",
       "version_major": 2,
       "version_minor": 0
      },
      "text/plain": [
       "PullUps:   0%|          | 0/100 [00:00<?, ?it/s]"
      ]
     },
     "metadata": {},
     "output_type": "display_data"
    },
    {
     "data": {
      "application/vnd.jupyter.widget-view+json": {
       "model_id": "e760523671bb403fb4267bbb6bbad6aa",
       "version_major": 2,
       "version_minor": 0
      },
      "text/plain": [
       "Punch:   0%|          | 0/160 [00:00<?, ?it/s]"
      ]
     },
     "metadata": {},
     "output_type": "display_data"
    },
    {
     "data": {
      "application/vnd.jupyter.widget-view+json": {
       "model_id": "095e87085c614b3e8c0c7d677e2e3e23",
       "version_major": 2,
       "version_minor": 0
      },
      "text/plain": [
       "PushUps:   0%|          | 0/102 [00:00<?, ?it/s]"
      ]
     },
     "metadata": {},
     "output_type": "display_data"
    },
    {
     "data": {
      "application/vnd.jupyter.widget-view+json": {
       "model_id": "6e8f26d6d2b04bffa1c1326b3559ea91",
       "version_major": 2,
       "version_minor": 0
      },
      "text/plain": [
       "Rafting:   0%|          | 0/111 [00:00<?, ?it/s]"
      ]
     },
     "metadata": {},
     "output_type": "display_data"
    },
    {
     "data": {
      "application/vnd.jupyter.widget-view+json": {
       "model_id": "c55486c9f1a74a7db281f9c879a28afe",
       "version_major": 2,
       "version_minor": 0
      },
      "text/plain": [
       "RockClimbingIndoor:   0%|          | 0/144 [00:00<?, ?it/s]"
      ]
     },
     "metadata": {},
     "output_type": "display_data"
    },
    {
     "data": {
      "application/vnd.jupyter.widget-view+json": {
       "model_id": "9665746b820b4e7a9d3299c2a1516374",
       "version_major": 2,
       "version_minor": 0
      },
      "text/plain": [
       "RopeClimbing:   0%|          | 0/119 [00:00<?, ?it/s]"
      ]
     },
     "metadata": {},
     "output_type": "display_data"
    },
    {
     "data": {
      "application/vnd.jupyter.widget-view+json": {
       "model_id": "0851444a013e4a8bbacb00c476790ee1",
       "version_major": 2,
       "version_minor": 0
      },
      "text/plain": [
       "Rowing:   0%|          | 0/137 [00:00<?, ?it/s]"
      ]
     },
     "metadata": {},
     "output_type": "display_data"
    },
    {
     "data": {
      "application/vnd.jupyter.widget-view+json": {
       "model_id": "0d02bc4021114bc893e1a74993680f0b",
       "version_major": 2,
       "version_minor": 0
      },
      "text/plain": [
       "SalsaSpin:   0%|          | 0/133 [00:00<?, ?it/s]"
      ]
     },
     "metadata": {},
     "output_type": "display_data"
    },
    {
     "data": {
      "application/vnd.jupyter.widget-view+json": {
       "model_id": "e8ca70c0ed4649898747556c5db3697d",
       "version_major": 2,
       "version_minor": 0
      },
      "text/plain": [
       "ShavingBeard:   0%|          | 0/161 [00:00<?, ?it/s]"
      ]
     },
     "metadata": {},
     "output_type": "display_data"
    },
    {
     "data": {
      "application/vnd.jupyter.widget-view+json": {
       "model_id": "e3b86b90959a40d4a46ed23ab2916988",
       "version_major": 2,
       "version_minor": 0
      },
      "text/plain": [
       "Shotput:   0%|          | 0/144 [00:00<?, ?it/s]"
      ]
     },
     "metadata": {},
     "output_type": "display_data"
    },
    {
     "data": {
      "application/vnd.jupyter.widget-view+json": {
       "model_id": "0a104651ccd643f5957b2dda5b5cbb55",
       "version_major": 2,
       "version_minor": 0
      },
      "text/plain": [
       "SkateBoarding:   0%|          | 0/120 [00:00<?, ?it/s]"
      ]
     },
     "metadata": {},
     "output_type": "display_data"
    },
    {
     "data": {
      "application/vnd.jupyter.widget-view+json": {
       "model_id": "ef9012d634b24487b8be359f3cdc452a",
       "version_major": 2,
       "version_minor": 0
      },
      "text/plain": [
       "Skiing:   0%|          | 0/135 [00:00<?, ?it/s]"
      ]
     },
     "metadata": {},
     "output_type": "display_data"
    },
    {
     "data": {
      "application/vnd.jupyter.widget-view+json": {
       "model_id": "6ee6b1b509584ae9b4e8ac900cb8b6e0",
       "version_major": 2,
       "version_minor": 0
      },
      "text/plain": [
       "Skijet:   0%|          | 0/100 [00:00<?, ?it/s]"
      ]
     },
     "metadata": {},
     "output_type": "display_data"
    },
    {
     "data": {
      "application/vnd.jupyter.widget-view+json": {
       "model_id": "5dafabfb226f425ba5b7ca48220aae06",
       "version_major": 2,
       "version_minor": 0
      },
      "text/plain": [
       "SkyDiving:   0%|          | 0/110 [00:00<?, ?it/s]"
      ]
     },
     "metadata": {},
     "output_type": "display_data"
    },
    {
     "data": {
      "application/vnd.jupyter.widget-view+json": {
       "model_id": "032cbc9e12cc4bc8b05c8b1d4aa59e42",
       "version_major": 2,
       "version_minor": 0
      },
      "text/plain": [
       "SoccerJuggling:   0%|          | 0/147 [00:00<?, ?it/s]"
      ]
     },
     "metadata": {},
     "output_type": "display_data"
    },
    {
     "data": {
      "application/vnd.jupyter.widget-view+json": {
       "model_id": "6dc7d2efdd9944e4867a51c0ad0bb174",
       "version_major": 2,
       "version_minor": 0
      },
      "text/plain": [
       "SoccerPenalty:   0%|          | 0/137 [00:00<?, ?it/s]"
      ]
     },
     "metadata": {},
     "output_type": "display_data"
    },
    {
     "data": {
      "application/vnd.jupyter.widget-view+json": {
       "model_id": "ec3c363df679492cb4b0ca7154f17bf4",
       "version_major": 2,
       "version_minor": 0
      },
      "text/plain": [
       "StillRings:   0%|          | 0/112 [00:00<?, ?it/s]"
      ]
     },
     "metadata": {},
     "output_type": "display_data"
    },
    {
     "data": {
      "application/vnd.jupyter.widget-view+json": {
       "model_id": "4eaa229d804e40af8c58107e5a3bdeeb",
       "version_major": 2,
       "version_minor": 0
      },
      "text/plain": [
       "SumoWrestling:   0%|          | 0/116 [00:00<?, ?it/s]"
      ]
     },
     "metadata": {},
     "output_type": "display_data"
    },
    {
     "data": {
      "application/vnd.jupyter.widget-view+json": {
       "model_id": "ff0f162f72f542a6bff51f6bcac8295a",
       "version_major": 2,
       "version_minor": 0
      },
      "text/plain": [
       "Surfing:   0%|          | 0/126 [00:00<?, ?it/s]"
      ]
     },
     "metadata": {},
     "output_type": "display_data"
    },
    {
     "data": {
      "application/vnd.jupyter.widget-view+json": {
       "model_id": "629f435896864a1d9f76a35a7f265b66",
       "version_major": 2,
       "version_minor": 0
      },
      "text/plain": [
       "Swing:   0%|          | 0/131 [00:00<?, ?it/s]"
      ]
     },
     "metadata": {},
     "output_type": "display_data"
    },
    {
     "data": {
      "application/vnd.jupyter.widget-view+json": {
       "model_id": "631e000062fa48a683fc089ef19967d2",
       "version_major": 2,
       "version_minor": 0
      },
      "text/plain": [
       "TableTennisShot:   0%|          | 0/140 [00:00<?, ?it/s]"
      ]
     },
     "metadata": {},
     "output_type": "display_data"
    },
    {
     "data": {
      "application/vnd.jupyter.widget-view+json": {
       "model_id": "08176d6ebba44d018fff22868c244a07",
       "version_major": 2,
       "version_minor": 0
      },
      "text/plain": [
       "TaiChi:   0%|          | 0/100 [00:00<?, ?it/s]"
      ]
     },
     "metadata": {},
     "output_type": "display_data"
    },
    {
     "data": {
      "application/vnd.jupyter.widget-view+json": {
       "model_id": "d918755f2a10410c8327dc43c92b37f3",
       "version_major": 2,
       "version_minor": 0
      },
      "text/plain": [
       "TennisSwing:   0%|          | 0/166 [00:00<?, ?it/s]"
      ]
     },
     "metadata": {},
     "output_type": "display_data"
    },
    {
     "data": {
      "application/vnd.jupyter.widget-view+json": {
       "model_id": "d5dbf70e87b64795bcd4b236bea3f8fd",
       "version_major": 2,
       "version_minor": 0
      },
      "text/plain": [
       "ThrowDiscus:   0%|          | 0/130 [00:00<?, ?it/s]"
      ]
     },
     "metadata": {},
     "output_type": "display_data"
    },
    {
     "data": {
      "application/vnd.jupyter.widget-view+json": {
       "model_id": "cf9ab5ab28eb4c6a82087856ba9f600e",
       "version_major": 2,
       "version_minor": 0
      },
      "text/plain": [
       "TrampolineJumping:   0%|          | 0/119 [00:00<?, ?it/s]"
      ]
     },
     "metadata": {},
     "output_type": "display_data"
    },
    {
     "data": {
      "application/vnd.jupyter.widget-view+json": {
       "model_id": "eb2aea78f7f340abac31404bf67e6bfd",
       "version_major": 2,
       "version_minor": 0
      },
      "text/plain": [
       "Typing:   0%|          | 0/136 [00:00<?, ?it/s]"
      ]
     },
     "metadata": {},
     "output_type": "display_data"
    },
    {
     "data": {
      "application/vnd.jupyter.widget-view+json": {
       "model_id": "c7f4ecdeecd04794b1787862ee6197f5",
       "version_major": 2,
       "version_minor": 0
      },
      "text/plain": [
       "UnevenBars:   0%|          | 0/104 [00:00<?, ?it/s]"
      ]
     },
     "metadata": {},
     "output_type": "display_data"
    },
    {
     "data": {
      "application/vnd.jupyter.widget-view+json": {
       "model_id": "9ddc50e3e333441cbdf72ec3ef784cb3",
       "version_major": 2,
       "version_minor": 0
      },
      "text/plain": [
       "VolleyballSpiking:   0%|          | 0/116 [00:00<?, ?it/s]"
      ]
     },
     "metadata": {},
     "output_type": "display_data"
    },
    {
     "data": {
      "application/vnd.jupyter.widget-view+json": {
       "model_id": "890c627805364df881fc9d76c001793c",
       "version_major": 2,
       "version_minor": 0
      },
      "text/plain": [
       "WalkingWithDog:   0%|          | 0/123 [00:00<?, ?it/s]"
      ]
     },
     "metadata": {},
     "output_type": "display_data"
    },
    {
     "data": {
      "application/vnd.jupyter.widget-view+json": {
       "model_id": "28cc293ed7144b1fae6887d4405d1193",
       "version_major": 2,
       "version_minor": 0
      },
      "text/plain": [
       "WallPushups:   0%|          | 0/130 [00:00<?, ?it/s]"
      ]
     },
     "metadata": {},
     "output_type": "display_data"
    },
    {
     "data": {
      "application/vnd.jupyter.widget-view+json": {
       "model_id": "6647d083374541d093fff8b15a26f3af",
       "version_major": 2,
       "version_minor": 0
      },
      "text/plain": [
       "WritingOnBoard:   0%|          | 0/152 [00:00<?, ?it/s]"
      ]
     },
     "metadata": {},
     "output_type": "display_data"
    },
    {
     "data": {
      "application/vnd.jupyter.widget-view+json": {
       "model_id": "f340ca0158f14e7bbf6437238c4cc230",
       "version_major": 2,
       "version_minor": 0
      },
      "text/plain": [
       "YoYo:   0%|          | 0/128 [00:00<?, ?it/s]"
      ]
     },
     "metadata": {},
     "output_type": "display_data"
    },
    {
     "name": "stdout",
     "output_type": "stream",
     "text": [
      "✅  wrote detections for 102 classes → detection_train_merged_rearranged.npy\n"
     ]
    }
   ],
   "source": [
    "import torch, torchvision, numpy as np\n",
    "from torchvision.io import read_image\n",
    "from pathlib import Path\n",
    "from tqdm.auto import tqdm\n",
    "\n",
    "# ─── config ────────────────────────────────────────────────────────────────\n",
    "video_root   = Path(\"datasets/UCF-101-JPG\")          # class/video/frame.jpg tree\n",
    "out_file     = Path(\"detection_train_merged_rearranged.npy\")\n",
    "score_thr    = 0.2\n",
    "batch_size   = 8\n",
    "device       = \"cuda\" if torch.cuda.is_available() else \"cpu\"\n",
    "\n",
    "# ─── detector ──────────────────────────────────────────────────────────────\n",
    "model = torchvision.models.detection.maskrcnn_resnet50_fpn(weights=\"DEFAULT\")\n",
    "model.to(device).eval().half()\n",
    "\n",
    "@torch.inference_mode()\n",
    "def detect_batch(imgs):\n",
    "    with torch.cuda.amp.autocast(dtype=torch.float16):\n",
    "        return model(imgs)\n",
    "\n",
    "# ─── build nested dict  {class}{vid11}{frame}{'human_boxes'} ───────────────\n",
    "all_dets = {}\n",
    "\n",
    "for class_dir in tqdm(sorted(video_root.iterdir()), desc=\"class\"):\n",
    "    if not class_dir.is_dir():\n",
    "        continue\n",
    "    cls_name = class_dir.name\n",
    "    all_dets[cls_name] = {}\n",
    "\n",
    "    for vid_dir in tqdm(sorted(class_dir.iterdir()), leave=False, desc=cls_name):\n",
    "        if not vid_dir.is_dir():\n",
    "            continue\n",
    "        vid11 = vid_dir.name[:11]                   # first 11 chars\n",
    "        frames = sorted(vid_dir.glob(\"*.jpg\"))\n",
    "        T = len(frames)\n",
    "        all_dets[cls_name][vid11] = {}\n",
    "\n",
    "        # mini-batch for speed\n",
    "        for i in range(0, T, batch_size):\n",
    "            batch_paths = frames[i:i+batch_size]\n",
    "            imgs_cpu    = [read_image(str(p)).float()/255 for p in batch_paths]\n",
    "            imgs_gpu    = torch.stack(imgs_cpu).to(device).half()\n",
    "            outs = detect_batch(imgs_gpu)\n",
    "\n",
    "            for j, out in enumerate(outs, start=i):\n",
    "                keep = (out[\"labels\"] == 1) & (out[\"scores\"] > score_thr)\n",
    "                if keep.sum() == 0:\n",
    "                    boxes = np.zeros((0, 5), dtype=np.float32)\n",
    "                else:\n",
    "                    b = out[\"boxes\"][keep].float().cpu().numpy()       # (N,4)\n",
    "                    s = out[\"scores\"][keep].float().cpu().numpy()[:,None]\n",
    "                    boxes = np.hstack([b, s]).astype(np.float32)       # (N,5)\n",
    "                frame_idx = j + 1                                      # 1-based\n",
    "                all_dets[cls_name][vid11][frame_idx] = {\"human_boxes\": boxes}\n",
    "\n",
    "# ─── save one pickled .npy file ────────────────────────────────────────────\n",
    "np.save(out_file, all_dets, allow_pickle=True)\n",
    "print(f\"✅  wrote detections for {len(all_dets)} classes → {out_file}\")\n"
   ]
  },
  {
   "cell_type": "code",
   "execution_count": 5,
   "id": "adbaa196-daf1-4d06-9708-e6a85a035d2f",
   "metadata": {},
   "outputs": [
    {
     "ename": "StopIteration",
     "evalue": "",
     "output_type": "error",
     "traceback": [
      "\u001b[0;31m---------------------------------------------------------------------------\u001b[0m",
      "\u001b[0;31mStopIteration\u001b[0m                             Traceback (most recent call last)",
      "Cell \u001b[0;32mIn[5], line 3\u001b[0m\n\u001b[1;32m      1\u001b[0m d \u001b[38;5;241m=\u001b[39m np\u001b[38;5;241m.\u001b[39mload(out_file, allow_pickle\u001b[38;5;241m=\u001b[39m\u001b[38;5;28;01mTrue\u001b[39;00m)\u001b[38;5;241m.\u001b[39mitem()\n\u001b[1;32m      2\u001b[0m c  \u001b[38;5;241m=\u001b[39m \u001b[38;5;28mnext\u001b[39m(\u001b[38;5;28miter\u001b[39m(d))\n\u001b[0;32m----> 3\u001b[0m v  \u001b[38;5;241m=\u001b[39m \u001b[38;5;28;43mnext\u001b[39;49m\u001b[43m(\u001b[49m\u001b[38;5;28;43miter\u001b[39;49m\u001b[43m(\u001b[49m\u001b[43md\u001b[49m\u001b[43m[\u001b[49m\u001b[43mc\u001b[49m\u001b[43m]\u001b[49m\u001b[43m)\u001b[49m\u001b[43m)\u001b[49m\n\u001b[1;32m      4\u001b[0m f  \u001b[38;5;241m=\u001b[39m \u001b[38;5;28mnext\u001b[39m(\u001b[38;5;28miter\u001b[39m(d[c][v]))\n\u001b[1;32m      5\u001b[0m \u001b[38;5;28mprint\u001b[39m(\u001b[38;5;124m\"\u001b[39m\u001b[38;5;124msample keys:\u001b[39m\u001b[38;5;124m\"\u001b[39m, c, v, f)\n",
      "\u001b[0;31mStopIteration\u001b[0m: "
     ]
    }
   ],
   "source": [
    "d = np.load(out_file, allow_pickle=True).item()\n",
    "c  = next(iter(d))\n",
    "v  = next(iter(d[c]))\n",
    "f  = next(iter(d[c][v]))\n",
    "print(\"sample keys:\", c, v, f)\n",
    "print(\"boxes shape:\", d[c][v][f]['human_boxes'].shape)\n"
   ]
  },
  {
   "cell_type": "code",
   "execution_count": null,
   "id": "cb8b45fc-471a-4f22-a970-31e0c103153e",
   "metadata": {},
   "outputs": [],
   "source": []
  }
 ],
 "metadata": {
  "kernelspec": {
   "display_name": "Python 3 (ipykernel)",
   "language": "python",
   "name": "python3"
  },
  "language_info": {
   "codemirror_mode": {
    "name": "ipython",
    "version": 3
   },
   "file_extension": ".py",
   "mimetype": "text/x-python",
   "name": "python",
   "nbconvert_exporter": "python",
   "pygments_lexer": "ipython3",
   "version": "3.10.8"
  }
 },
 "nbformat": 4,
 "nbformat_minor": 5
}
