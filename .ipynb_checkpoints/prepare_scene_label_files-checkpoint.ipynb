{
 "cells": [
  {
   "cell_type": "code",
   "execution_count": 1,
   "id": "d362bc0f-8754-4d0b-a17d-6ec4ea7a8000",
   "metadata": {},
   "outputs": [],
   "source": [
    "import json\n",
    "import numpy as np\n",
    "import os"
   ]
  },
  {
   "cell_type": "code",
   "execution_count": 7,
   "id": "7ad30ca3-a135-4429-acc2-c5f7146162f4",
   "metadata": {},
   "outputs": [],
   "source": [
    "in_name = 'datasets/scene_classification_results_llm.json'\n",
    "out_name = 'datasets/scene_labels/scene_labels_train_val.npy'"
   ]
  },
  {
   "cell_type": "code",
   "execution_count": 8,
   "id": "8b489631-41c3-4334-8f46-fbd88a409629",
   "metadata": {},
   "outputs": [
    {
     "name": "stdout",
     "output_type": "stream",
     "text": [
      "Saved datasets/scene_labels/scene_labels_train_val.npy with 101 action_classes and total videos = 13320\n"
     ]
    }
   ],
   "source": [
    "with open(in_name, 'r') as f:\n",
    "    entries = json.load(f)\n",
    "\n",
    "\n",
    "scene_names = sorted({ e['scene_label'] for e in entries })\n",
    "scene_to_idx = { name: i for i, name in enumerate(scene_names) }\n",
    "\n",
    "place_pred = {}\n",
    "for e in entries:\n",
    "    action_class, vid = e['video_id'].split('/', 1)\n",
    "    label = e['scene_label']\n",
    "    idx = scene_to_idx[label]\n",
    "    probs = np.zeros(len(scene_names), dtype=float)\n",
    "    probs[idx] = 1.0\n",
    "\n",
    "    if action_class not in place_pred:\n",
    "        place_pred[action_class] = {}\n",
    "\n",
    "    place_pred[action_class][vid] = {\n",
    "        'pred_cls': idx,\n",
    "        'probs': probs\n",
    "    }\n",
    "\n",
    "parent_dir = os.path.dirname(out_name)\n",
    "os.makedirs(parent_dir, exist_ok=True)\n",
    "np.save(out_name, place_pred, allow_pickle=True)\n",
    "\n",
    "print(f\"Saved {out_name} with {len(place_pred)} action_classes and total videos = \"\n",
    "      f\"{sum(len(v) for v in place_pred.values())}\")"
   ]
  },
  {
   "cell_type": "code",
   "execution_count": null,
   "id": "7b578d19-3c24-4eaf-bfc2-874d698eb39d",
   "metadata": {},
   "outputs": [],
   "source": []
  }
 ],
 "metadata": {
  "kernelspec": {
   "display_name": "Python 3 (ipykernel)",
   "language": "python",
   "name": "python3"
  },
  "language_info": {
   "codemirror_mode": {
    "name": "ipython",
    "version": 3
   },
   "file_extension": ".py",
   "mimetype": "text/x-python",
   "name": "python",
   "nbconvert_exporter": "python",
   "pygments_lexer": "ipython3",
   "version": "3.10.8"
  }
 },
 "nbformat": 4,
 "nbformat_minor": 5
}
